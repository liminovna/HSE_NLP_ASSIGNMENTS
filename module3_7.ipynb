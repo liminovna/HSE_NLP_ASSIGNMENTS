{
  "cells": [
    {
      "cell_type": "markdown",
      "metadata": {
        "id": "view-in-github",
        "colab_type": "text"
      },
      "source": [
        "<a href=\"https://colab.research.google.com/github/liminovna/HSE_NLP_ASSIGNMENTS/blob/main/module3_7.ipynb\" target=\"_parent\"><img src=\"https://colab.research.google.com/assets/colab-badge.svg\" alt=\"Open In Colab\"/></a>"
      ]
    },
    {
      "cell_type": "markdown",
      "id": "1bf6f873",
      "metadata": {
        "id": "1bf6f873"
      },
      "source": [
        "# Домашнее задание № 8"
      ]
    },
    {
      "cell_type": "markdown",
      "id": "3b4bd487",
      "metadata": {
        "id": "3b4bd487"
      },
      "source": [
        "## Задание 1 (4 балла)\n",
        "\n",
        "Обучите 2 модели, похожие по архитектуре на модель из ULMFit для задачи классификации текста (датасет - lenta_40k )\n",
        "В моделях должно быть как минимум два рекуррентных слоя, а финальный вектор для классификации составляться из последнего состояния RNN (так делалось в семинаре), а также AveragePooling и MaxPooling из всех векторов последовательности (конкатенируйте последнее состояния и результаты пулинга). В первой модели используйте обычные слои, а во второй Bidirectional. Рассчитайте поклассовую точность/полноту/f-меру для каждой из модели (результаты не должны быть совсем близкие к нулю после обучения на хотя бы нескольких эпохах)."
      ]
    },
    {
      "cell_type": "code",
      "source": [
        "import os\n",
        "os.environ[\"KERAS_BACKEND\"] = \"torch\"\n",
        "\n",
        "import keras\n",
        "print(keras.__version__)"
      ],
      "metadata": {
        "colab": {
          "base_uri": "https://localhost:8080/"
        },
        "id": "dTtgYBYUXy3v",
        "outputId": "b3c374b3-8e44-4d1e-c80a-cb080d7d9e3e"
      },
      "id": "dTtgYBYUXy3v",
      "execution_count": null,
      "outputs": [
        {
          "output_type": "stream",
          "name": "stdout",
          "text": [
            "3.8.0\n"
          ]
        }
      ]
    },
    {
      "cell_type": "code",
      "source": [
        "! wget https://github.com/mannefedov/compling_nlp_hse_course/raw/master/data/lenta_40k.csv.zip\n",
        "! unzip -o lenta_40k.csv.zip"
      ],
      "metadata": {
        "colab": {
          "base_uri": "https://localhost:8080/"
        },
        "id": "mqaGgB3WX8UG",
        "outputId": "e0c1f877-84c6-4f39-bff2-87b214317b5e"
      },
      "id": "mqaGgB3WX8UG",
      "execution_count": null,
      "outputs": [
        {
          "output_type": "stream",
          "name": "stdout",
          "text": [
            "--2025-03-22 13:04:07--  https://github.com/mannefedov/compling_nlp_hse_course/raw/master/data/lenta_40k.csv.zip\n",
            "Resolving github.com (github.com)... 140.82.116.3\n",
            "Connecting to github.com (github.com)|140.82.116.3|:443... connected.\n",
            "HTTP request sent, awaiting response... 302 Found\n",
            "Location: https://raw.githubusercontent.com/mannefedov/compling_nlp_hse_course/master/data/lenta_40k.csv.zip [following]\n",
            "--2025-03-22 13:04:07--  https://raw.githubusercontent.com/mannefedov/compling_nlp_hse_course/master/data/lenta_40k.csv.zip\n",
            "Resolving raw.githubusercontent.com (raw.githubusercontent.com)... 185.199.108.133, 185.199.109.133, 185.199.110.133, ...\n",
            "Connecting to raw.githubusercontent.com (raw.githubusercontent.com)|185.199.108.133|:443... connected.\n",
            "HTTP request sent, awaiting response... 200 OK\n",
            "Length: 30658975 (29M) [application/zip]\n",
            "Saving to: ‘lenta_40k.csv.zip.3’\n",
            "\n",
            "lenta_40k.csv.zip.3 100%[===================>]  29.24M   112MB/s    in 0.3s    \n",
            "\n",
            "2025-03-22 13:04:08 (112 MB/s) - ‘lenta_40k.csv.zip.3’ saved [30658975/30658975]\n",
            "\n",
            "Archive:  lenta_40k.csv.zip\n",
            "  inflating: lenta_40k.csv           \n"
          ]
        }
      ]
    },
    {
      "cell_type": "code",
      "source": [
        "import pandas as pd"
      ],
      "metadata": {
        "id": "-PZcrGl0Y2hl"
      },
      "id": "-PZcrGl0Y2hl",
      "execution_count": null,
      "outputs": []
    },
    {
      "cell_type": "code",
      "source": [
        "df = pd.read_csv('lenta_40k.csv')\n",
        "df"
      ],
      "metadata": {
        "colab": {
          "base_uri": "https://localhost:8080/",
          "height": 424
        },
        "id": "5vtV8T6xY52j",
        "outputId": "118c8aa2-a220-475c-f0f3-b6b9f94b9e3f"
      },
      "id": "5vtV8T6xY52j",
      "execution_count": null,
      "outputs": [
        {
          "output_type": "execute_result",
          "data": {
            "text/plain": [
              "                                                    text              topic\n",
              "0      Россия должна сотрудничать с Всемирным антидоп...              Спорт\n",
              "1      Уголовный суд Кувейта 28 июня освободил под за...                Мир\n",
              "2      Французский журнал Charlie Hebdo опубликовал н...     Интернет и СМИ\n",
              "3      В Петербурге в доме № 53 по улице Лени Голиков...             Россия\n",
              "4      В московском аэропорту \"Домодедово\" задержан г...             Россия\n",
              "...                                                  ...                ...\n",
              "44351  Российский Минфин может пересмотреть минимальн...          Экономика\n",
              "44352  Сотрудники Службы безопасности Украины (СБУ) с...        Бывший СССР\n",
              "44353  Америке следует задуматься над поставками на У...  Силовые структуры\n",
              "44354  Опознаны тела 71 человека, погибшего в результ...                Мир\n",
              "44355  Украинский националист, лидер запрещенной в Ро...        Бывший СССР\n",
              "\n",
              "[44356 rows x 2 columns]"
            ],
            "text/html": [
              "\n",
              "  <div id=\"df-0482fcf3-57f2-4cf8-b944-8c09f9c3d193\" class=\"colab-df-container\">\n",
              "    <div>\n",
              "<style scoped>\n",
              "    .dataframe tbody tr th:only-of-type {\n",
              "        vertical-align: middle;\n",
              "    }\n",
              "\n",
              "    .dataframe tbody tr th {\n",
              "        vertical-align: top;\n",
              "    }\n",
              "\n",
              "    .dataframe thead th {\n",
              "        text-align: right;\n",
              "    }\n",
              "</style>\n",
              "<table border=\"1\" class=\"dataframe\">\n",
              "  <thead>\n",
              "    <tr style=\"text-align: right;\">\n",
              "      <th></th>\n",
              "      <th>text</th>\n",
              "      <th>topic</th>\n",
              "    </tr>\n",
              "  </thead>\n",
              "  <tbody>\n",
              "    <tr>\n",
              "      <th>0</th>\n",
              "      <td>Россия должна сотрудничать с Всемирным антидоп...</td>\n",
              "      <td>Спорт</td>\n",
              "    </tr>\n",
              "    <tr>\n",
              "      <th>1</th>\n",
              "      <td>Уголовный суд Кувейта 28 июня освободил под за...</td>\n",
              "      <td>Мир</td>\n",
              "    </tr>\n",
              "    <tr>\n",
              "      <th>2</th>\n",
              "      <td>Французский журнал Charlie Hebdo опубликовал н...</td>\n",
              "      <td>Интернет и СМИ</td>\n",
              "    </tr>\n",
              "    <tr>\n",
              "      <th>3</th>\n",
              "      <td>В Петербурге в доме № 53 по улице Лени Голиков...</td>\n",
              "      <td>Россия</td>\n",
              "    </tr>\n",
              "    <tr>\n",
              "      <th>4</th>\n",
              "      <td>В московском аэропорту \"Домодедово\" задержан г...</td>\n",
              "      <td>Россия</td>\n",
              "    </tr>\n",
              "    <tr>\n",
              "      <th>...</th>\n",
              "      <td>...</td>\n",
              "      <td>...</td>\n",
              "    </tr>\n",
              "    <tr>\n",
              "      <th>44351</th>\n",
              "      <td>Российский Минфин может пересмотреть минимальн...</td>\n",
              "      <td>Экономика</td>\n",
              "    </tr>\n",
              "    <tr>\n",
              "      <th>44352</th>\n",
              "      <td>Сотрудники Службы безопасности Украины (СБУ) с...</td>\n",
              "      <td>Бывший СССР</td>\n",
              "    </tr>\n",
              "    <tr>\n",
              "      <th>44353</th>\n",
              "      <td>Америке следует задуматься над поставками на У...</td>\n",
              "      <td>Силовые структуры</td>\n",
              "    </tr>\n",
              "    <tr>\n",
              "      <th>44354</th>\n",
              "      <td>Опознаны тела 71 человека, погибшего в результ...</td>\n",
              "      <td>Мир</td>\n",
              "    </tr>\n",
              "    <tr>\n",
              "      <th>44355</th>\n",
              "      <td>Украинский националист, лидер запрещенной в Ро...</td>\n",
              "      <td>Бывший СССР</td>\n",
              "    </tr>\n",
              "  </tbody>\n",
              "</table>\n",
              "<p>44356 rows × 2 columns</p>\n",
              "</div>\n",
              "    <div class=\"colab-df-buttons\">\n",
              "\n",
              "  <div class=\"colab-df-container\">\n",
              "    <button class=\"colab-df-convert\" onclick=\"convertToInteractive('df-0482fcf3-57f2-4cf8-b944-8c09f9c3d193')\"\n",
              "            title=\"Convert this dataframe to an interactive table.\"\n",
              "            style=\"display:none;\">\n",
              "\n",
              "  <svg xmlns=\"http://www.w3.org/2000/svg\" height=\"24px\" viewBox=\"0 -960 960 960\">\n",
              "    <path d=\"M120-120v-720h720v720H120Zm60-500h600v-160H180v160Zm220 220h160v-160H400v160Zm0 220h160v-160H400v160ZM180-400h160v-160H180v160Zm440 0h160v-160H620v160ZM180-180h160v-160H180v160Zm440 0h160v-160H620v160Z\"/>\n",
              "  </svg>\n",
              "    </button>\n",
              "\n",
              "  <style>\n",
              "    .colab-df-container {\n",
              "      display:flex;\n",
              "      gap: 12px;\n",
              "    }\n",
              "\n",
              "    .colab-df-convert {\n",
              "      background-color: #E8F0FE;\n",
              "      border: none;\n",
              "      border-radius: 50%;\n",
              "      cursor: pointer;\n",
              "      display: none;\n",
              "      fill: #1967D2;\n",
              "      height: 32px;\n",
              "      padding: 0 0 0 0;\n",
              "      width: 32px;\n",
              "    }\n",
              "\n",
              "    .colab-df-convert:hover {\n",
              "      background-color: #E2EBFA;\n",
              "      box-shadow: 0px 1px 2px rgba(60, 64, 67, 0.3), 0px 1px 3px 1px rgba(60, 64, 67, 0.15);\n",
              "      fill: #174EA6;\n",
              "    }\n",
              "\n",
              "    .colab-df-buttons div {\n",
              "      margin-bottom: 4px;\n",
              "    }\n",
              "\n",
              "    [theme=dark] .colab-df-convert {\n",
              "      background-color: #3B4455;\n",
              "      fill: #D2E3FC;\n",
              "    }\n",
              "\n",
              "    [theme=dark] .colab-df-convert:hover {\n",
              "      background-color: #434B5C;\n",
              "      box-shadow: 0px 1px 3px 1px rgba(0, 0, 0, 0.15);\n",
              "      filter: drop-shadow(0px 1px 2px rgba(0, 0, 0, 0.3));\n",
              "      fill: #FFFFFF;\n",
              "    }\n",
              "  </style>\n",
              "\n",
              "    <script>\n",
              "      const buttonEl =\n",
              "        document.querySelector('#df-0482fcf3-57f2-4cf8-b944-8c09f9c3d193 button.colab-df-convert');\n",
              "      buttonEl.style.display =\n",
              "        google.colab.kernel.accessAllowed ? 'block' : 'none';\n",
              "\n",
              "      async function convertToInteractive(key) {\n",
              "        const element = document.querySelector('#df-0482fcf3-57f2-4cf8-b944-8c09f9c3d193');\n",
              "        const dataTable =\n",
              "          await google.colab.kernel.invokeFunction('convertToInteractive',\n",
              "                                                    [key], {});\n",
              "        if (!dataTable) return;\n",
              "\n",
              "        const docLinkHtml = 'Like what you see? Visit the ' +\n",
              "          '<a target=\"_blank\" href=https://colab.research.google.com/notebooks/data_table.ipynb>data table notebook</a>'\n",
              "          + ' to learn more about interactive tables.';\n",
              "        element.innerHTML = '';\n",
              "        dataTable['output_type'] = 'display_data';\n",
              "        await google.colab.output.renderOutput(dataTable, element);\n",
              "        const docLink = document.createElement('div');\n",
              "        docLink.innerHTML = docLinkHtml;\n",
              "        element.appendChild(docLink);\n",
              "      }\n",
              "    </script>\n",
              "  </div>\n",
              "\n",
              "\n",
              "<div id=\"df-fd23ba73-ad26-41e2-9cdb-980bdc45ee0f\">\n",
              "  <button class=\"colab-df-quickchart\" onclick=\"quickchart('df-fd23ba73-ad26-41e2-9cdb-980bdc45ee0f')\"\n",
              "            title=\"Suggest charts\"\n",
              "            style=\"display:none;\">\n",
              "\n",
              "<svg xmlns=\"http://www.w3.org/2000/svg\" height=\"24px\"viewBox=\"0 0 24 24\"\n",
              "     width=\"24px\">\n",
              "    <g>\n",
              "        <path d=\"M19 3H5c-1.1 0-2 .9-2 2v14c0 1.1.9 2 2 2h14c1.1 0 2-.9 2-2V5c0-1.1-.9-2-2-2zM9 17H7v-7h2v7zm4 0h-2V7h2v10zm4 0h-2v-4h2v4z\"/>\n",
              "    </g>\n",
              "</svg>\n",
              "  </button>\n",
              "\n",
              "<style>\n",
              "  .colab-df-quickchart {\n",
              "      --bg-color: #E8F0FE;\n",
              "      --fill-color: #1967D2;\n",
              "      --hover-bg-color: #E2EBFA;\n",
              "      --hover-fill-color: #174EA6;\n",
              "      --disabled-fill-color: #AAA;\n",
              "      --disabled-bg-color: #DDD;\n",
              "  }\n",
              "\n",
              "  [theme=dark] .colab-df-quickchart {\n",
              "      --bg-color: #3B4455;\n",
              "      --fill-color: #D2E3FC;\n",
              "      --hover-bg-color: #434B5C;\n",
              "      --hover-fill-color: #FFFFFF;\n",
              "      --disabled-bg-color: #3B4455;\n",
              "      --disabled-fill-color: #666;\n",
              "  }\n",
              "\n",
              "  .colab-df-quickchart {\n",
              "    background-color: var(--bg-color);\n",
              "    border: none;\n",
              "    border-radius: 50%;\n",
              "    cursor: pointer;\n",
              "    display: none;\n",
              "    fill: var(--fill-color);\n",
              "    height: 32px;\n",
              "    padding: 0;\n",
              "    width: 32px;\n",
              "  }\n",
              "\n",
              "  .colab-df-quickchart:hover {\n",
              "    background-color: var(--hover-bg-color);\n",
              "    box-shadow: 0 1px 2px rgba(60, 64, 67, 0.3), 0 1px 3px 1px rgba(60, 64, 67, 0.15);\n",
              "    fill: var(--button-hover-fill-color);\n",
              "  }\n",
              "\n",
              "  .colab-df-quickchart-complete:disabled,\n",
              "  .colab-df-quickchart-complete:disabled:hover {\n",
              "    background-color: var(--disabled-bg-color);\n",
              "    fill: var(--disabled-fill-color);\n",
              "    box-shadow: none;\n",
              "  }\n",
              "\n",
              "  .colab-df-spinner {\n",
              "    border: 2px solid var(--fill-color);\n",
              "    border-color: transparent;\n",
              "    border-bottom-color: var(--fill-color);\n",
              "    animation:\n",
              "      spin 1s steps(1) infinite;\n",
              "  }\n",
              "\n",
              "  @keyframes spin {\n",
              "    0% {\n",
              "      border-color: transparent;\n",
              "      border-bottom-color: var(--fill-color);\n",
              "      border-left-color: var(--fill-color);\n",
              "    }\n",
              "    20% {\n",
              "      border-color: transparent;\n",
              "      border-left-color: var(--fill-color);\n",
              "      border-top-color: var(--fill-color);\n",
              "    }\n",
              "    30% {\n",
              "      border-color: transparent;\n",
              "      border-left-color: var(--fill-color);\n",
              "      border-top-color: var(--fill-color);\n",
              "      border-right-color: var(--fill-color);\n",
              "    }\n",
              "    40% {\n",
              "      border-color: transparent;\n",
              "      border-right-color: var(--fill-color);\n",
              "      border-top-color: var(--fill-color);\n",
              "    }\n",
              "    60% {\n",
              "      border-color: transparent;\n",
              "      border-right-color: var(--fill-color);\n",
              "    }\n",
              "    80% {\n",
              "      border-color: transparent;\n",
              "      border-right-color: var(--fill-color);\n",
              "      border-bottom-color: var(--fill-color);\n",
              "    }\n",
              "    90% {\n",
              "      border-color: transparent;\n",
              "      border-bottom-color: var(--fill-color);\n",
              "    }\n",
              "  }\n",
              "</style>\n",
              "\n",
              "  <script>\n",
              "    async function quickchart(key) {\n",
              "      const quickchartButtonEl =\n",
              "        document.querySelector('#' + key + ' button');\n",
              "      quickchartButtonEl.disabled = true;  // To prevent multiple clicks.\n",
              "      quickchartButtonEl.classList.add('colab-df-spinner');\n",
              "      try {\n",
              "        const charts = await google.colab.kernel.invokeFunction(\n",
              "            'suggestCharts', [key], {});\n",
              "      } catch (error) {\n",
              "        console.error('Error during call to suggestCharts:', error);\n",
              "      }\n",
              "      quickchartButtonEl.classList.remove('colab-df-spinner');\n",
              "      quickchartButtonEl.classList.add('colab-df-quickchart-complete');\n",
              "    }\n",
              "    (() => {\n",
              "      let quickchartButtonEl =\n",
              "        document.querySelector('#df-fd23ba73-ad26-41e2-9cdb-980bdc45ee0f button');\n",
              "      quickchartButtonEl.style.display =\n",
              "        google.colab.kernel.accessAllowed ? 'block' : 'none';\n",
              "    })();\n",
              "  </script>\n",
              "</div>\n",
              "    </div>\n",
              "  </div>\n"
            ],
            "application/vnd.google.colaboratory.intrinsic+json": {
              "type": "dataframe",
              "variable_name": "df",
              "summary": "{\n  \"name\": \"df\",\n  \"rows\": 44356,\n  \"fields\": [\n    {\n      \"column\": \"text\",\n      \"properties\": {\n        \"dtype\": \"string\",\n        \"num_unique_values\": 44319,\n        \"samples\": [\n          \"\\u0412 \\u041c\\u043e\\u0441\\u043a\\u0432\\u0435 \\u0432 \\u043f\\u044f\\u0442\\u043d\\u0438\\u0446\\u0443, 29 \\u0444\\u0435\\u0432\\u0440\\u0430\\u043b\\u044f, \\u0437\\u0430\\u0434\\u0435\\u0440\\u0436\\u0430\\u043d \\u043e\\u0434\\u0438\\u043d \\u0438\\u0437 \\u043b\\u0438\\u0434\\u0435\\u0440\\u043e\\u0432 \\u043d\\u0430\\u0446\\u0431\\u043e\\u043b\\u043e\\u0432 \\u0412\\u043b\\u0430\\u0434\\u0438\\u043c\\u0438\\u0440 \\u041b\\u0438\\u043d\\u0434\\u0435\\u0440\\u043c\\u0430\\u043d, \\u0438\\u0437\\u0432\\u0435\\u0441\\u0442\\u043d\\u044b\\u0439 \\u0442\\u0430\\u043a\\u0436\\u0435 \\u043a\\u0430\\u043a \\u0410\\u0431\\u0435\\u043b\\u044c. \\u041e\\u0431 \\u044d\\u0442\\u043e\\u043c \\u0441\\u043e\\u043e\\u0431\\u0449\\u0430\\u0435\\u0442 \\u0421\\u043e\\u0431\\u043a\\u043e\\u0440.Ru \\u0441\\u043e \\u0441\\u0441\\u044b\\u043b\\u043a\\u043e\\u0439 \\u043d\\u0430 \\u0441\\u0430\\u043c\\u043e\\u0433\\u043e \\u0410\\u0431\\u0435\\u043b\\u044f. \\u0410\\u0431\\u0435\\u043b\\u044c, \\u0440\\u0430\\u0437\\u044b\\u0441\\u043a\\u0438\\u0432\\u0430\\u0435\\u043c\\u044b\\u0439 \\u043f\\u0440\\u0430\\u0432\\u043e\\u043e\\u0445\\u0440\\u0430\\u043d\\u0438\\u0442\\u0435\\u043b\\u044c\\u043d\\u044b\\u043c\\u0438 \\u043e\\u0440\\u0433\\u0430\\u043d\\u0430\\u043c\\u0438 \\u041b\\u0430\\u0442\\u0432\\u0438\\u0438 \\u043f\\u043e \\u043e\\u0431\\u0432\\u0438\\u043d\\u0435\\u043d\\u0438\\u044e \\u0432 \\u043f\\u043e\\u0434\\u0433\\u043e\\u0442\\u043e\\u0432\\u043a\\u0435 \\u043f\\u043e\\u043a\\u0443\\u0448\\u0435\\u043d\\u0438\\u044f \\u043d\\u0430 \\u043f\\u0440\\u0435\\u0437\\u0438\\u0434\\u0435\\u043d\\u0442\\u0430 \\u0441\\u0442\\u0440\\u0430\\u043d\\u044b, \\u0441 2003 \\u0433\\u043e\\u0434\\u0430 \\u0436\\u0438\\u043b \\u0432 \\u0420\\u043e\\u0441\\u0441\\u0438\\u0438 \\u0438 \\u0434\\u0432\\u0430\\u0436\\u0434\\u044b \\u043f\\u0440\\u043e\\u0441\\u0438\\u043b \\u043f\\u0440\\u0435\\u0434\\u043e\\u0441\\u0442\\u0430\\u0432\\u0438\\u0442\\u044c \\u0435\\u043c\\u0443 \\u043f\\u043e\\u043b\\u0438\\u0442\\u0438\\u0447\\u0435\\u0441\\u043a\\u043e\\u0435 \\u0443\\u0431\\u0435\\u0436\\u0438\\u0449\\u0435, \\u0443\\u0442\\u0432\\u0435\\u0440\\u0436\\u0434\\u0430\\u044f, \\u0447\\u0442\\u043e \\u0435\\u0433\\u043e \\u043f\\u0440\\u0435\\u0441\\u043b\\u0435\\u0434\\u0443\\u044e\\u0442 \\u043f\\u043e \\u043f\\u043e\\u043b\\u0438\\u0442\\u0438\\u0447\\u0435\\u0441\\u043a\\u0438\\u043c \\u043c\\u043e\\u0442\\u0438\\u0432\\u0430\\u043c. \\u0412 \\u0442\\u043e \\u0436\\u0435 \\u0432\\u0440\\u0435\\u043c\\u044f \\u043e\\u043d \\u0430\\u043a\\u0442\\u0438\\u0432\\u043d\\u043e \\u0443\\u0447\\u0430\\u0441\\u0442\\u0432\\u043e\\u0432\\u0430\\u043b \\u0432 \\u0434\\u0435\\u044f\\u0442\\u0435\\u043b\\u044c\\u043d\\u043e\\u0441\\u0442\\u0438 \\u0437\\u0430\\u043f\\u0440\\u0435\\u0449\\u0435\\u043d\\u043d\\u043e\\u0439 \\u041d\\u0430\\u0446\\u0438\\u043e\\u043d\\u0430\\u043b-\\u0431\\u043e\\u043b\\u044c\\u0448\\u0435\\u0432\\u0438\\u0441\\u0442\\u0441\\u043a\\u043e\\u0439 \\u043f\\u0430\\u0440\\u0442\\u0438\\u0438 \\u0438 \\u043e\\u043f\\u043f\\u043e\\u0437\\u0438\\u0446\\u0438\\u043e\\u043d\\u043d\\u043e\\u0439 \\u043a\\u043e\\u0430\\u043b\\u0438\\u0446\\u0438\\u0438 \\\"\\u0414\\u0440\\u0443\\u0433\\u0430\\u044f \\u0420\\u043e\\u0441\\u0441\\u0438\\u044f\\\". \\u041b\\u0435\\u0442\\u043e\\u043c 2006 \\u0433\\u043e\\u0434\\u0430 \\u041a\\u0443\\u0437\\u044c\\u043c\\u0438\\u043d\\u0441\\u043a\\u0438\\u0439 \\u0440\\u0430\\u0439\\u043e\\u043d\\u043d\\u044b\\u0439 \\u0441\\u0443\\u0434 \\u043f\\u043e\\u0441\\u0442\\u0430\\u043d\\u043e\\u0432\\u0438\\u043b \\u0434\\u0435\\u043f\\u043e\\u0440\\u0442\\u0438\\u0440\\u043e\\u0432\\u0430\\u0442\\u044c \\u0410\\u0431\\u0435\\u043b\\u044f \\u0438\\u0437 \\u0420\\u043e\\u0441\\u0441\\u0438\\u0438 \\u0437\\u0430 \\u043d\\u0430\\u0440\\u0443\\u0448\\u0435\\u043d\\u0438\\u0435 \\u043f\\u0430\\u0441\\u043f\\u043e\\u0440\\u0442\\u043d\\u043e\\u0433\\u043e \\u0440\\u0435\\u0436\\u0438\\u043c\\u0430, \\u043d\\u043e \\u043f\\u043e \\u0434\\u043e\\u0440\\u043e\\u0433\\u0435 \\u0432 \\u041b\\u0430\\u0442\\u0432\\u0438\\u044e \\u043e\\u043d \\u043f\\u0440\\u043e\\u043f\\u0430\\u043b. \\u0410\\u0431\\u0435\\u043b\\u044c, \\u043f\\u043e \\u0434\\u0430\\u043d\\u043d\\u044b\\u043c \\u0421\\u043e\\u0431\\u043a\\u043e\\u0440.Ru, \\u0443\\u0436\\u0435 \\u0434\\u043e\\u0441\\u0442\\u0430\\u0432\\u043b\\u0435\\u043d \\u0432 \\u0418\\u0437\\u043c\\u0430\\u0439\\u043b\\u043e\\u0432\\u0441\\u043a\\u0438\\u0439 \\u0441\\u0443\\u0434, \\u043a\\u043e\\u0442\\u043e\\u0440\\u044b\\u0439 \\u0440\\u0435\\u0448\\u0438\\u0442, \\u0441\\u043b\\u0435\\u0434\\u0443\\u0435\\u0442 \\u043b\\u0438 \\u043f\\u043e\\u0432\\u0442\\u043e\\u0440\\u043d\\u043e \\u0434\\u0435\\u043f\\u043e\\u0440\\u0442\\u0438\\u0440\\u043e\\u0432\\u0430\\u0442\\u044c \\u0435\\u0433\\u043e \\u0432 \\u041b\\u0430\\u0442\\u0432\\u0438\\u044e.\",\n          \"\\u0420\\u043e\\u0441\\u0441\\u0438\\u044f \\u0441\\u043f\\u0435\\u0446\\u0438\\u0430\\u043b\\u044c\\u043d\\u043e \\u0437\\u0430\\u043c\\u0435\\u0434\\u043b\\u0438\\u043b\\u0430 \\u043f\\u0435\\u0440\\u0435\\u0433\\u043e\\u0432\\u043e\\u0440\\u044b \\u0441 \\u0421\\u0428\\u0410 \\u043f\\u043e \\u043f\\u0430\\u0440\\u0430\\u043c\\u0435\\u0442\\u0440\\u0430\\u043c \\u0432\\u0441\\u0442\\u0443\\u043f\\u043b\\u0435\\u043d\\u0438\\u044f \\u0432 \\u0412\\u0422\\u041e (World Trade Organisation, WTO). \\u041e\\u0431 \\u044d\\u0442\\u043e\\u043c \\u0437\\u0430\\u044f\\u0432\\u0438\\u043b \\u0433\\u043b\\u0430\\u0432\\u0430 \\u0440\\u043e\\u0441\\u0441\\u0438\\u0439\\u0441\\u043a\\u043e\\u0439 \\u0434\\u0435\\u043b\\u0435\\u0433\\u0430\\u0446\\u0438\\u0438 \\u043d\\u0430 \\u043f\\u0435\\u0440\\u0435\\u0433\\u043e\\u0432\\u043e\\u0440\\u0430\\u0445 \\u043f\\u043e \\u043f\\u0440\\u0438\\u0441\\u043e\\u0435\\u0434\\u0438\\u043d\\u0435\\u043d\\u0438\\u044e \\u043a \\u0412\\u0422\\u041e \\u041c\\u0430\\u043a\\u0441\\u0438\\u043c \\u041c\\u0435\\u0434\\u0432\\u0435\\u0434\\u043a\\u043e\\u0432, \\u043f\\u0438\\u0448\\u0435\\u0442 \\\"\\u0420\\u043e\\u0441\\u0441\\u0438\\u0439\\u0441\\u043a\\u0430\\u044f \\u0433\\u0430\\u0437\\u0435\\u0442\\u0430\\\". \\u0413\\u043b\\u0430\\u0432\\u043d\\u044b\\u0439 \\u043f\\u0435\\u0440\\u0435\\u0433\\u043e\\u0432\\u043e\\u0440\\u0449\\u0438\\u043a \\u043e\\u0442\\u043a\\u0430\\u0437\\u0430\\u043b\\u0441\\u044f \\u0443\\u0442\\u043e\\u0447\\u043d\\u0438\\u0442\\u044c \\u0434\\u0435\\u0442\\u0430\\u043b\\u0438 \\u0437\\u0430\\u043c\\u0435\\u0434\\u043b\\u0435\\u043d\\u0438\\u044f, \\u043d\\u043e \\u0441\\u043a\\u0430\\u0437\\u0430\\u043b, \\u0447\\u0442\\u043e \\u0420\\u043e\\u0441\\u0441\\u0438\\u044f \\u0432\\u0437\\u044f\\u043b\\u0430 \\u043f\\u0430\\u0443\\u0437\\u0443 \\u0438\\u0437-\\u0437\\u0430 \\u0442\\u043e\\u0433\\u043e, \\u0447\\u0442\\u043e \\u043d\\u0435 \\u043c\\u043e\\u0436\\u0435\\u0442 \\u043d\\u0430\\u0439\\u0442\\u0438 \\u0440\\u0435\\u0448\\u0435\\u043d\\u0438\\u044f \\u043d\\u0435\\u0441\\u043a\\u043e\\u043b\\u044c\\u043a\\u0438\\u0445 \\u043f\\u0440\\u043e\\u0431\\u043b\\u0435\\u043c \\u043f\\u043e \\u043f\\u0435\\u0440\\u0435\\u0433\\u043e\\u0432\\u043e\\u0440\\u0430\\u043c \\u043a\\u0430\\u043a \\u0441 \\u0421\\u0428\\u0410, \\u0442\\u0430\\u043a \\u0438 \\u0441 \\u0434\\u0440\\u0443\\u0433\\u0438\\u043c\\u0438 \\u0441\\u0442\\u0440\\u0430\\u043d\\u0430\\u043c\\u0438. \\u041c\\u0435\\u0434\\u0432\\u0435\\u0434\\u043a\\u043e\\u0432 \\u0437\\u0430\\u044f\\u0432\\u0438\\u043b, \\u0447\\u0442\\u043e, \\u0442\\u0435\\u043c \\u043d\\u0435 \\u043c\\u0435\\u043d\\u0435\\u0435, \\u043f\\u0435\\u0440\\u0435\\u0433\\u043e\\u0432\\u043e\\u0440\\u043d\\u044b\\u0439 \\u043f\\u0440\\u043e\\u0446\\u0435\\u0441\\u0441 \\u043d\\u0435 \\u043f\\u0440\\u0435\\u0440\\u0432\\u0430\\u043d \\u0438 \\u0443 \\u0420\\u043e\\u0441\\u0441\\u0438\\u0438 \\u043e\\u0441\\u0442\\u0430\\u0435\\u0442\\u0441\\u044f \\u0442\\u0435\\u0445\\u043d\\u0438\\u0447\\u0435\\u0441\\u043a\\u0430\\u044f \\u0432\\u043e\\u0437\\u043c\\u043e\\u0436\\u043d\\u043e\\u0441\\u0442\\u044c \\u0432\\u0441\\u0442\\u0443\\u043f\\u0438\\u0442\\u044c \\u0432 \\u0442\\u043e\\u0440\\u0433\\u043e\\u0432\\u044b\\u0439 \\u043a\\u043b\\u0443\\u0431 \\u043a \\u043a\\u043e\\u043d\\u0446\\u0443 2006 \\u0433\\u043e\\u0434\\u0430. \\u041c\\u0430\\u043a\\u0441\\u0438\\u043c \\u041c\\u0435\\u0434\\u0432\\u0435\\u0434\\u043a\\u043e\\u0432 \\u0432 \\u043e\\u0447\\u0435\\u0440\\u0435\\u0434\\u043d\\u043e\\u0439 \\u0440\\u0430\\u0437 \\u043f\\u043e\\u0432\\u0442\\u043e\\u0440\\u0438\\u043b, \\u0447\\u0442\\u043e \\u0420\\u043e\\u0441\\u0441\\u0438\\u044f \\u043d\\u0435 \\u0441\\u043e\\u0431\\u0438\\u0440\\u0430\\u0435\\u0442\\u0441\\u044f \\u0438\\u0434\\u0442\\u0438 \\u043d\\u0430 \\u0437\\u043d\\u0430\\u0447\\u0438\\u0442\\u0435\\u043b\\u044c\\u043d\\u044b\\u0435 \\u0443\\u0441\\u0442\\u0443\\u043f\\u043a\\u0438 \\u0421\\u0428\\u0410 \\u0438 \\u043d\\u0435 \\u0431\\u0443\\u0434\\u0435\\u0442 \\u0436\\u0435\\u0440\\u0442\\u0432\\u043e\\u0432\\u0430\\u0442\\u044c \\u0441\\u0432\\u043e\\u0438\\u043c\\u0438 \\u044d\\u043a\\u043e\\u043d\\u043e\\u043c\\u0438\\u0447\\u0435\\u0441\\u043a\\u0438\\u043c\\u0438 \\u0442\\u0440\\u0435\\u0431\\u043e\\u0432\\u0430\\u043d\\u0438\\u044f\\u043c\\u0438 \\u0440\\u0430\\u0434\\u0438 \\u0441\\u043a\\u043e\\u0440\\u0435\\u0439\\u0448\\u0435\\u0433\\u043e \\u0432\\u0441\\u0442\\u0443\\u043f\\u043b\\u0435\\u043d\\u0438\\u044f \\u0432 \\u0412\\u0422\\u041e. \\u0421\\u043b\\u043e\\u0432\\u0430 \\u0433\\u043b\\u0430\\u0432\\u043d\\u043e\\u0433\\u043e \\u043f\\u0435\\u0440\\u0435\\u0433\\u043e\\u0432\\u043e\\u0440\\u0449\\u0438\\u043a\\u0430 \\u0441\\u0442\\u0440\\u0430\\u043d\\u044b \\u043f\\u043e \\u0432\\u0441\\u0442\\u0443\\u043f\\u043b\\u0435\\u043d\\u0438\\u044e \\u0432 \\u0412\\u0422\\u041e \\u043f\\u0440\\u0430\\u043a\\u0442\\u0438\\u0447\\u0435\\u0441\\u043a\\u0438 \\u043f\\u043e\\u043b\\u043d\\u043e\\u0441\\u0442\\u044c\\u044e \\u0441\\u043e\\u0432\\u043f\\u0430\\u0434\\u0430\\u044e\\u0442 \\u0441 \\u043c\\u043d\\u0435\\u043d\\u0438\\u0435\\u043c \\u0441\\u043f\\u0438\\u043a\\u0435\\u0440\\u0430 \\u0413\\u043e\\u0441\\u0434\\u0443\\u043c\\u044b \\u0411\\u043e\\u0440\\u0438\\u0441\\u0430 \\u0413\\u0440\\u044b\\u0437\\u043b\\u043e\\u0432\\u0430. \\u041d\\u0430\\u043a\\u0430\\u043d\\u0443\\u043d\\u0435 \\u043e\\u043d \\u0437\\u0430\\u044f\\u0432\\u0438\\u043b, \\u0447\\u0442\\u043e \\u043f\\u0440\\u0438\\u0441\\u043e\\u0435\\u0434\\u0438\\u043d\\u0435\\u043d\\u0438\\u0435 \\u043a \\u0442\\u043e\\u0440\\u0433\\u043e\\u0432\\u043e\\u043c\\u0443 \\u043a\\u043b\\u0443\\u0431\\u0443 \\u043d\\u0435 \\u043c\\u043e\\u0436\\u0435\\u0442 \\u044f\\u0432\\u043b\\u044f\\u0442\\u044c\\u0441\\u044f \\u0434\\u043b\\u044f \\u0420\\u043e\\u0441\\u0441\\u0438\\u0438 \\u0441\\u0430\\u043c\\u043e\\u0446\\u0435\\u043b\\u044c\\u044e \\u0438 \\u043e\\u0442\\u0432\\u0435\\u0440\\u0433 \\u0432\\u043e\\u0437\\u043c\\u043e\\u0436\\u043d\\u044b\\u0435 \\u043a\\u043e\\u043c\\u043f\\u0440\\u043e\\u043c\\u0438\\u0441\\u0441\\u044b \\u0441 \\u0421\\u0428\\u0410. \\u041d\\u0435\\u0441\\u043a\\u043e\\u043b\\u044c\\u043a\\u043e \\u0434\\u043d\\u0435\\u0439 \\u043d\\u0430\\u0437\\u0430\\u0434 \\u0433\\u043b\\u0430\\u0432\\u0430 \\u0441\\u0435\\u043d\\u0430\\u0442\\u0441\\u043a\\u043e\\u0433\\u043e \\u0431\\u043e\\u043b\\u044c\\u0448\\u0438\\u043d\\u0441\\u0442\\u0432\\u0430 \\u0421\\u0428\\u0410 \\u0440\\u0435\\u0441\\u043f\\u0443\\u0431\\u043b\\u0438\\u043a\\u0430\\u043d\\u0435\\u0446 \\u0411\\u0438\\u043b\\u043b \\u0424\\u0440\\u0438\\u0441\\u0442 (Bill Frist) \\u0441\\u0432\\u044f\\u0437\\u0430\\u043b \\u0432\\u043e\\u0437\\u043c\\u043e\\u0436\\u043d\\u043e\\u0441\\u0442\\u044c \\u0432\\u0441\\u0442\\u0443\\u043f\\u043b\\u0435\\u043d\\u0438\\u044f \\u0420\\u043e\\u0441\\u0441\\u0438\\u0438 \\u0432 \\u0412\\u0422\\u041e \\u043d\\u0435 \\u0442\\u043e\\u043b\\u044c\\u043a\\u043e \\u0441 \\u044d\\u043a\\u043e\\u043d\\u043e\\u043c\\u0438\\u0447\\u0435\\u0441\\u043a\\u0438\\u043c\\u0438, \\u043d\\u043e \\u0438 \\u0441 \\u043f\\u043e\\u043b\\u0438\\u0442\\u0438\\u0447\\u0435\\u0441\\u043a\\u0438\\u043c\\u0438 \\u043f\\u0440\\u043e\\u0431\\u043b\\u0435\\u043c\\u0430\\u043c\\u0438, \\u0432 \\u0447\\u0430\\u0441\\u0442\\u043d\\u043e\\u0441\\u0442\\u0438, \\u043f\\u043e\\u0437\\u0438\\u0446\\u0438\\u0438 \\u0441\\u0442\\u0440\\u0430\\u043d\\u044b \\u043f\\u043e \\u044f\\u0434\\u0435\\u0440\\u043d\\u043e\\u0439 \\u043f\\u0440\\u043e\\u0433\\u0440\\u0430\\u043c\\u043c\\u0435 \\u0418\\u0440\\u0430\\u043d\\u0430 \\u0438 \\u0441\\u0432\\u043e\\u0431\\u043e\\u0434\\u0435 \\u0441\\u043b\\u043e\\u0432\\u0430. \\u0420\\u043e\\u0441\\u0441\\u0438\\u044f \\u043f\\u044b\\u0442\\u0430\\u0435\\u0442\\u0441\\u044f \\u0432\\u0441\\u0442\\u0443\\u043f\\u0438\\u0442\\u044c \\u0432 \\u0412\\u0422\\u041e \\u0441 1994 \\u0433\\u043e\\u0434\\u0430.\\u041d\\u0430 \\u0434\\u0430\\u043d\\u043d\\u044b\\u0439 \\u043c\\u043e\\u043c\\u0435\\u043d\\u0442 \\u043e\\u0441\\u043d\\u043e\\u0432\\u043d\\u044b\\u043c \\u043f\\u0440\\u0435\\u043f\\u044f\\u0442\\u0441\\u0442\\u0432\\u0438\\u0435\\u043c \\u043a \\u0447\\u043b\\u0435\\u043d\\u0441\\u0442\\u0432\\u0443 \\u0432 \\u0412\\u0422\\u041e \\u044f\\u0432\\u043b\\u044f\\u0435\\u0442\\u0441\\u044f \\u043f\\u043e\\u0437\\u0438\\u0446\\u0438\\u044f \\u0421\\u0428\\u0410.\",\n          \"\\u0412 \\u0430\\u043c\\u0435\\u0440\\u0438\\u043a\\u0430\\u043d\\u0441\\u043a\\u043e\\u043c \\u0448\\u0442\\u0430\\u0442\\u0435 \\u0424\\u043b\\u043e\\u0440\\u0438\\u0434\\u0430 \\u0434\\u0432\\u043e\\u0435 \\u0437\\u043b\\u043e\\u0443\\u043c\\u044b\\u0448\\u043b\\u0435\\u043d\\u043d\\u0438\\u043a\\u043e\\u0432 \\u043f\\u043e\\u0445\\u0438\\u0442\\u0438\\u043b\\u0438 \\u043c\\u0430\\u0448\\u0438\\u043d\\u0443 \\u0434\\u043b\\u044f \\u043f\\u0435\\u0440\\u0435\\u0441\\u0447\\u0435\\u0442\\u0430 \\u0431\\u044e\\u043b\\u043b\\u0435\\u0442\\u0435\\u043d\\u0438\\u0439 \\u0441 \\u043e\\u0434\\u043d\\u043e\\u0433\\u043e \\u0438\\u0437 \\u0438\\u0437\\u0431\\u0438\\u0440\\u0430\\u0442\\u0435\\u043b\\u044c\\u043d\\u044b\\u0445 \\u0443\\u0447\\u0430\\u0441\\u0442\\u043a\\u043e\\u0432 \\u0432 \\u0433\\u0440\\u0430\\u0444\\u0441\\u0442\\u0432\\u0435 \\u041f\\u0430\\u043b\\u043c \\u0411\\u0438\\u0447, \\u0441\\u043e\\u043e\\u0431\\u0449\\u0430\\u0435\\u0442 \\u0420\\u0418\\u0410 \\\"\\u041d\\u043e\\u0432\\u043e\\u0441\\u0442\\u0438\\\". \\u041f\\u0440\\u0435\\u0441\\u0442\\u0443\\u043f\\u043d\\u0438\\u043a\\u0438 \\u043f\\u043e\\u043f\\u044b\\u0442\\u0430\\u043b\\u0438\\u0441\\u044c \\u043f\\u0440\\u043e\\u0434\\u0430\\u0442\\u044c \\u043c\\u0430\\u0448\\u0438\\u043d\\u0443 \\u0437\\u0430 20 \\u0442\\u044b\\u0441\\u044f\\u0447 \\u0434\\u043e\\u043b\\u043b\\u0430\\u0440\\u043e\\u0432 \\u0447\\u0435\\u0440\\u0435\\u0437 \\u0430\\u043d\\u043e\\u043d\\u0438\\u043c\\u043d\\u044b\\u0439 \\u0430\\u0443\\u043a\\u0446\\u0438\\u043e\\u043d \\u043d\\u0430 \\u043e\\u0434\\u043d\\u043e\\u043c \\u0438\\u0437 \\u0441\\u0430\\u0439\\u0442\\u043e\\u0432 \\u0432 \\u0418\\u043d\\u0442\\u0435\\u0440\\u043d\\u0435\\u0442\\u0435. \\u041e\\u043d\\u0438 \\u0431\\u044b\\u043b\\u0438 \\u043f\\u043e\\u0439\\u043c\\u0430\\u043d\\u044b \\u0441 \\u043f\\u043e\\u043b\\u0438\\u0447\\u043d\\u044b\\u043c \\u0432 \\u043c\\u043e\\u043c\\u0435\\u043d\\u0442 \\u043f\\u0435\\u0440\\u0435\\u0434\\u0430\\u0447\\u0438 \\u0430\\u043f\\u043f\\u043f\\u0430\\u0440\\u0430\\u0442\\u0430 \\\"\\u043f\\u043e\\u043a\\u0443\\u043f\\u0430\\u0442\\u0435\\u043b\\u044f\\u043c\\\", \\u043a\\u043e\\u0442\\u043e\\u0440\\u044b\\u043c\\u0438 \\u0431\\u044b\\u043b\\u0438 \\u043f\\u0435\\u0440\\u0435\\u043e\\u0434\\u0435\\u0442\\u044b\\u0435 \\u043f\\u0440\\u0435\\u0434\\u0441\\u0442\\u0430\\u0432\\u0438\\u0442\\u0435\\u043b\\u0438 \\u043f\\u0440\\u0430\\u0432\\u043e\\u043e\\u0445\\u0440\\u0430\\u043d\\u0438\\u0442\\u0435\\u043b\\u044c\\u043d\\u044b\\u0445 \\u043e\\u0440\\u0433\\u0430\\u043d\\u043e\\u0432. \\u041f\\u043e \\u0437\\u0430\\u043a\\u043e\\u043d\\u0430\\u043c \\u0421\\u0428\\u0410 \\u043e\\u0431\\u043b\\u0430\\u0434\\u0430\\u043d\\u0438\\u0435 \\u0447\\u0430\\u0441\\u0442\\u043d\\u044b\\u043c \\u043b\\u0438\\u0446\\u043e\\u043c \\u0441\\u0447\\u0435\\u0442\\u043d\\u043e\\u0439 \\u043c\\u0430\\u0448\\u0438\\u043d\\u043e\\u0439 \\u0434\\u043b\\u044f \\u043e\\u0431\\u0440\\u0430\\u0431\\u043e\\u0442\\u043a\\u0438 \\u0438\\u0437\\u0431\\u0438\\u0440\\u0430\\u0442\\u0435\\u043b\\u044c\\u043d\\u044b\\u0445 \\u0431\\u044e\\u043b\\u043b\\u0435\\u0442\\u0435\\u043d\\u0438\\u0439 \\u044f\\u0432\\u043b\\u044f\\u0435\\u0442\\u0441\\u044f \\u043f\\u0440\\u0435\\u0441\\u0442\\u0443\\u043f\\u043b\\u0435\\u043d\\u0438\\u0435\\u043c, \\u043f\\u0435\\u0440\\u0435\\u0434\\u0430\\u0435\\u0442 \\u0430\\u0433\\u0435\\u043d\\u0442\\u0441\\u0442\\u0432\\u043e.\"\n        ],\n        \"semantic_type\": \"\",\n        \"description\": \"\"\n      }\n    },\n    {\n      \"column\": \"topic\",\n      \"properties\": {\n        \"dtype\": \"category\",\n        \"num_unique_values\": 19,\n        \"samples\": [\n          \"\\u0421\\u043f\\u043e\\u0440\\u0442\",\n          \"\\u0421\\u0438\\u043b\\u043e\\u0432\\u044b\\u0435 \\u0441\\u0442\\u0440\\u0443\\u043a\\u0442\\u0443\\u0440\\u044b\",\n          \"\\u0414\\u043e\\u043c\"\n        ],\n        \"semantic_type\": \"\",\n        \"description\": \"\"\n      }\n    }\n  ]\n}"
            }
          },
          "metadata": {},
          "execution_count": 4
        }
      ]
    },
    {
      "cell_type": "code",
      "source": [
        "df.describe(include='all')"
      ],
      "metadata": {
        "colab": {
          "base_uri": "https://localhost:8080/",
          "height": 175
        },
        "id": "h9vcjw_FbJsV",
        "outputId": "9e67478a-a5bf-4a50-ae9b-d4a322bfa180"
      },
      "id": "h9vcjw_FbJsV",
      "execution_count": null,
      "outputs": [
        {
          "output_type": "execute_result",
          "data": {
            "text/plain": [
              "                 text   topic\n",
              "count           44356   44356\n",
              "unique          44319      19\n",
              "top     РИА \"Новости\"  Россия\n",
              "freq               20    9622"
            ],
            "text/html": [
              "\n",
              "  <div id=\"df-4bb1b0c0-8f83-4bec-8981-a2f71492a379\" class=\"colab-df-container\">\n",
              "    <div>\n",
              "<style scoped>\n",
              "    .dataframe tbody tr th:only-of-type {\n",
              "        vertical-align: middle;\n",
              "    }\n",
              "\n",
              "    .dataframe tbody tr th {\n",
              "        vertical-align: top;\n",
              "    }\n",
              "\n",
              "    .dataframe thead th {\n",
              "        text-align: right;\n",
              "    }\n",
              "</style>\n",
              "<table border=\"1\" class=\"dataframe\">\n",
              "  <thead>\n",
              "    <tr style=\"text-align: right;\">\n",
              "      <th></th>\n",
              "      <th>text</th>\n",
              "      <th>topic</th>\n",
              "    </tr>\n",
              "  </thead>\n",
              "  <tbody>\n",
              "    <tr>\n",
              "      <th>count</th>\n",
              "      <td>44356</td>\n",
              "      <td>44356</td>\n",
              "    </tr>\n",
              "    <tr>\n",
              "      <th>unique</th>\n",
              "      <td>44319</td>\n",
              "      <td>19</td>\n",
              "    </tr>\n",
              "    <tr>\n",
              "      <th>top</th>\n",
              "      <td>РИА \"Новости\"</td>\n",
              "      <td>Россия</td>\n",
              "    </tr>\n",
              "    <tr>\n",
              "      <th>freq</th>\n",
              "      <td>20</td>\n",
              "      <td>9622</td>\n",
              "    </tr>\n",
              "  </tbody>\n",
              "</table>\n",
              "</div>\n",
              "    <div class=\"colab-df-buttons\">\n",
              "\n",
              "  <div class=\"colab-df-container\">\n",
              "    <button class=\"colab-df-convert\" onclick=\"convertToInteractive('df-4bb1b0c0-8f83-4bec-8981-a2f71492a379')\"\n",
              "            title=\"Convert this dataframe to an interactive table.\"\n",
              "            style=\"display:none;\">\n",
              "\n",
              "  <svg xmlns=\"http://www.w3.org/2000/svg\" height=\"24px\" viewBox=\"0 -960 960 960\">\n",
              "    <path d=\"M120-120v-720h720v720H120Zm60-500h600v-160H180v160Zm220 220h160v-160H400v160Zm0 220h160v-160H400v160ZM180-400h160v-160H180v160Zm440 0h160v-160H620v160ZM180-180h160v-160H180v160Zm440 0h160v-160H620v160Z\"/>\n",
              "  </svg>\n",
              "    </button>\n",
              "\n",
              "  <style>\n",
              "    .colab-df-container {\n",
              "      display:flex;\n",
              "      gap: 12px;\n",
              "    }\n",
              "\n",
              "    .colab-df-convert {\n",
              "      background-color: #E8F0FE;\n",
              "      border: none;\n",
              "      border-radius: 50%;\n",
              "      cursor: pointer;\n",
              "      display: none;\n",
              "      fill: #1967D2;\n",
              "      height: 32px;\n",
              "      padding: 0 0 0 0;\n",
              "      width: 32px;\n",
              "    }\n",
              "\n",
              "    .colab-df-convert:hover {\n",
              "      background-color: #E2EBFA;\n",
              "      box-shadow: 0px 1px 2px rgba(60, 64, 67, 0.3), 0px 1px 3px 1px rgba(60, 64, 67, 0.15);\n",
              "      fill: #174EA6;\n",
              "    }\n",
              "\n",
              "    .colab-df-buttons div {\n",
              "      margin-bottom: 4px;\n",
              "    }\n",
              "\n",
              "    [theme=dark] .colab-df-convert {\n",
              "      background-color: #3B4455;\n",
              "      fill: #D2E3FC;\n",
              "    }\n",
              "\n",
              "    [theme=dark] .colab-df-convert:hover {\n",
              "      background-color: #434B5C;\n",
              "      box-shadow: 0px 1px 3px 1px rgba(0, 0, 0, 0.15);\n",
              "      filter: drop-shadow(0px 1px 2px rgba(0, 0, 0, 0.3));\n",
              "      fill: #FFFFFF;\n",
              "    }\n",
              "  </style>\n",
              "\n",
              "    <script>\n",
              "      const buttonEl =\n",
              "        document.querySelector('#df-4bb1b0c0-8f83-4bec-8981-a2f71492a379 button.colab-df-convert');\n",
              "      buttonEl.style.display =\n",
              "        google.colab.kernel.accessAllowed ? 'block' : 'none';\n",
              "\n",
              "      async function convertToInteractive(key) {\n",
              "        const element = document.querySelector('#df-4bb1b0c0-8f83-4bec-8981-a2f71492a379');\n",
              "        const dataTable =\n",
              "          await google.colab.kernel.invokeFunction('convertToInteractive',\n",
              "                                                    [key], {});\n",
              "        if (!dataTable) return;\n",
              "\n",
              "        const docLinkHtml = 'Like what you see? Visit the ' +\n",
              "          '<a target=\"_blank\" href=https://colab.research.google.com/notebooks/data_table.ipynb>data table notebook</a>'\n",
              "          + ' to learn more about interactive tables.';\n",
              "        element.innerHTML = '';\n",
              "        dataTable['output_type'] = 'display_data';\n",
              "        await google.colab.output.renderOutput(dataTable, element);\n",
              "        const docLink = document.createElement('div');\n",
              "        docLink.innerHTML = docLinkHtml;\n",
              "        element.appendChild(docLink);\n",
              "      }\n",
              "    </script>\n",
              "  </div>\n",
              "\n",
              "\n",
              "<div id=\"df-7b9f8e67-8f30-49c0-a5ca-7d24ff7ddab6\">\n",
              "  <button class=\"colab-df-quickchart\" onclick=\"quickchart('df-7b9f8e67-8f30-49c0-a5ca-7d24ff7ddab6')\"\n",
              "            title=\"Suggest charts\"\n",
              "            style=\"display:none;\">\n",
              "\n",
              "<svg xmlns=\"http://www.w3.org/2000/svg\" height=\"24px\"viewBox=\"0 0 24 24\"\n",
              "     width=\"24px\">\n",
              "    <g>\n",
              "        <path d=\"M19 3H5c-1.1 0-2 .9-2 2v14c0 1.1.9 2 2 2h14c1.1 0 2-.9 2-2V5c0-1.1-.9-2-2-2zM9 17H7v-7h2v7zm4 0h-2V7h2v10zm4 0h-2v-4h2v4z\"/>\n",
              "    </g>\n",
              "</svg>\n",
              "  </button>\n",
              "\n",
              "<style>\n",
              "  .colab-df-quickchart {\n",
              "      --bg-color: #E8F0FE;\n",
              "      --fill-color: #1967D2;\n",
              "      --hover-bg-color: #E2EBFA;\n",
              "      --hover-fill-color: #174EA6;\n",
              "      --disabled-fill-color: #AAA;\n",
              "      --disabled-bg-color: #DDD;\n",
              "  }\n",
              "\n",
              "  [theme=dark] .colab-df-quickchart {\n",
              "      --bg-color: #3B4455;\n",
              "      --fill-color: #D2E3FC;\n",
              "      --hover-bg-color: #434B5C;\n",
              "      --hover-fill-color: #FFFFFF;\n",
              "      --disabled-bg-color: #3B4455;\n",
              "      --disabled-fill-color: #666;\n",
              "  }\n",
              "\n",
              "  .colab-df-quickchart {\n",
              "    background-color: var(--bg-color);\n",
              "    border: none;\n",
              "    border-radius: 50%;\n",
              "    cursor: pointer;\n",
              "    display: none;\n",
              "    fill: var(--fill-color);\n",
              "    height: 32px;\n",
              "    padding: 0;\n",
              "    width: 32px;\n",
              "  }\n",
              "\n",
              "  .colab-df-quickchart:hover {\n",
              "    background-color: var(--hover-bg-color);\n",
              "    box-shadow: 0 1px 2px rgba(60, 64, 67, 0.3), 0 1px 3px 1px rgba(60, 64, 67, 0.15);\n",
              "    fill: var(--button-hover-fill-color);\n",
              "  }\n",
              "\n",
              "  .colab-df-quickchart-complete:disabled,\n",
              "  .colab-df-quickchart-complete:disabled:hover {\n",
              "    background-color: var(--disabled-bg-color);\n",
              "    fill: var(--disabled-fill-color);\n",
              "    box-shadow: none;\n",
              "  }\n",
              "\n",
              "  .colab-df-spinner {\n",
              "    border: 2px solid var(--fill-color);\n",
              "    border-color: transparent;\n",
              "    border-bottom-color: var(--fill-color);\n",
              "    animation:\n",
              "      spin 1s steps(1) infinite;\n",
              "  }\n",
              "\n",
              "  @keyframes spin {\n",
              "    0% {\n",
              "      border-color: transparent;\n",
              "      border-bottom-color: var(--fill-color);\n",
              "      border-left-color: var(--fill-color);\n",
              "    }\n",
              "    20% {\n",
              "      border-color: transparent;\n",
              "      border-left-color: var(--fill-color);\n",
              "      border-top-color: var(--fill-color);\n",
              "    }\n",
              "    30% {\n",
              "      border-color: transparent;\n",
              "      border-left-color: var(--fill-color);\n",
              "      border-top-color: var(--fill-color);\n",
              "      border-right-color: var(--fill-color);\n",
              "    }\n",
              "    40% {\n",
              "      border-color: transparent;\n",
              "      border-right-color: var(--fill-color);\n",
              "      border-top-color: var(--fill-color);\n",
              "    }\n",
              "    60% {\n",
              "      border-color: transparent;\n",
              "      border-right-color: var(--fill-color);\n",
              "    }\n",
              "    80% {\n",
              "      border-color: transparent;\n",
              "      border-right-color: var(--fill-color);\n",
              "      border-bottom-color: var(--fill-color);\n",
              "    }\n",
              "    90% {\n",
              "      border-color: transparent;\n",
              "      border-bottom-color: var(--fill-color);\n",
              "    }\n",
              "  }\n",
              "</style>\n",
              "\n",
              "  <script>\n",
              "    async function quickchart(key) {\n",
              "      const quickchartButtonEl =\n",
              "        document.querySelector('#' + key + ' button');\n",
              "      quickchartButtonEl.disabled = true;  // To prevent multiple clicks.\n",
              "      quickchartButtonEl.classList.add('colab-df-spinner');\n",
              "      try {\n",
              "        const charts = await google.colab.kernel.invokeFunction(\n",
              "            'suggestCharts', [key], {});\n",
              "      } catch (error) {\n",
              "        console.error('Error during call to suggestCharts:', error);\n",
              "      }\n",
              "      quickchartButtonEl.classList.remove('colab-df-spinner');\n",
              "      quickchartButtonEl.classList.add('colab-df-quickchart-complete');\n",
              "    }\n",
              "    (() => {\n",
              "      let quickchartButtonEl =\n",
              "        document.querySelector('#df-7b9f8e67-8f30-49c0-a5ca-7d24ff7ddab6 button');\n",
              "      quickchartButtonEl.style.display =\n",
              "        google.colab.kernel.accessAllowed ? 'block' : 'none';\n",
              "    })();\n",
              "  </script>\n",
              "</div>\n",
              "    </div>\n",
              "  </div>\n"
            ],
            "application/vnd.google.colaboratory.intrinsic+json": {
              "type": "dataframe",
              "summary": "{\n  \"name\": \"df\",\n  \"rows\": 4,\n  \"fields\": [\n    {\n      \"column\": \"text\",\n      \"properties\": {\n        \"dtype\": \"string\",\n        \"num_unique_values\": 4,\n        \"samples\": [\n          44319,\n          \"20\",\n          \"44356\"\n        ],\n        \"semantic_type\": \"\",\n        \"description\": \"\"\n      }\n    },\n    {\n      \"column\": \"topic\",\n      \"properties\": {\n        \"dtype\": \"string\",\n        \"num_unique_values\": 4,\n        \"samples\": [\n          19,\n          \"9622\",\n          \"44356\"\n        ],\n        \"semantic_type\": \"\",\n        \"description\": \"\"\n      }\n    }\n  ]\n}"
            }
          },
          "metadata": {},
          "execution_count": 5
        }
      ]
    },
    {
      "cell_type": "code",
      "source": [
        "from collections import Counter\n",
        "from string import punctuation"
      ],
      "metadata": {
        "id": "rd9JcZYHbsKx"
      },
      "id": "rd9JcZYHbsKx",
      "execution_count": null,
      "outputs": []
    },
    {
      "cell_type": "code",
      "source": [
        "def preprocess(text):\n",
        "    tokens = text.lower().split()\n",
        "    tokens = [token.strip(punctuation) for token in tokens]\n",
        "    return tokens\n",
        "\n",
        "# словарь\n",
        "vocab = Counter()\n",
        "\n",
        "for text in df.text:\n",
        "    vocab.update(preprocess(text))\n",
        "print('vocab:', len(vocab))\n",
        "\n",
        "# отфильтрованный словарь\n",
        "filtered_vocab = set()\n",
        "\n",
        "for word in vocab:\n",
        "    if vocab[word] > 30:\n",
        "        filtered_vocab.add(word)\n",
        "print('filtered:', len(filtered_vocab))"
      ],
      "metadata": {
        "colab": {
          "base_uri": "https://localhost:8080/"
        },
        "id": "pgF0_m-5bYc4",
        "outputId": "a7b588d8-fccd-4c62-dc8c-18ea92914bca"
      },
      "id": "pgF0_m-5bYc4",
      "execution_count": null,
      "outputs": [
        {
          "output_type": "stream",
          "name": "stdout",
          "text": [
            "vocab: 354611\n",
            "filtered: 24091\n"
          ]
        }
      ]
    },
    {
      "cell_type": "code",
      "source": [
        "# индексируем слова\n",
        "word2id = {'PAD':0}\n",
        "\n",
        "for word in filtered_vocab:\n",
        "    word2id[word] = len(word2id)\n",
        "\n",
        "\n",
        "id2word = {i:word for word, i in word2id.items()}\n"
      ],
      "metadata": {
        "id": "VFgFo-qdb_ZA"
      },
      "id": "VFgFo-qdb_ZA",
      "execution_count": null,
      "outputs": []
    },
    {
      "cell_type": "code",
      "source": [
        "import torch\n",
        "import torch.nn as nn\n",
        "import torch.nn.functional as F\n",
        "import torch.optim as optim\n",
        "import torch.utils.data"
      ],
      "metadata": {
        "id": "tn_c8zWZcLI3"
      },
      "id": "tn_c8zWZcLI3",
      "execution_count": null,
      "outputs": []
    },
    {
      "cell_type": "code",
      "source": [
        "class Dataset(torch.utils.data.Dataset):\n",
        "\n",
        "    def __init__(self, word2id, MAX_LEN, texts, targets):\n",
        "\n",
        "        # храним сырой датасет\n",
        "        # еще лучше можно сделать, если считывать из файла при генерации\n",
        "        self.texts = [torch.LongTensor([word2id[w] for w in self.preprocess(t) if w in word2id][:MAX_LEN]) for t in texts]\n",
        "        self.texts = torch.nn.utils.rnn.pad_sequence(self.texts, batch_first=True)\n",
        "\n",
        "        # мы не считаем словарь прямо тут, т.к. нам нужно шерить словарь между трейном и валидацией\n",
        "        self.word2id = word2id\n",
        "        self.MAX_LEN = MAX_LEN\n",
        "        self.length = len(texts)\n",
        "        # таргеты можно сразу целиком выделить\n",
        "\n",
        "        self.target = torch.LongTensor(targets)\n",
        "\n",
        "    def __len__(self):\n",
        "        # нужно уметь возвращать длину датасета, в нашем случае это просто сделать\n",
        "        # если не загружать данные целиком, а читать из файла - это может быть сложнее\n",
        "        return self.length\n",
        "\n",
        "    def __getitem__(self, index):\n",
        "\n",
        "        # в index будут индексы от 0 до self.length\n",
        "        # по ним мы достанем тексты, предобработаем,переведем в векторы, западим и вернем\n",
        "\n",
        "        ids = self.texts[index]\n",
        "        y = self.target[index]\n",
        "\n",
        "        return ids, y\n",
        "\n",
        "    def preprocess(self, text):\n",
        "        tokens = text.lower().split()\n",
        "        tokens = [token.strip(punctuation) for token in tokens]\n",
        "        tokens = [token for token in tokens if token]\n",
        "        return tokens"
      ],
      "metadata": {
        "id": "brwfYhPccHl_"
      },
      "id": "brwfYhPccHl_",
      "execution_count": null,
      "outputs": []
    },
    {
      "cell_type": "code",
      "source": [
        "MAX_LEN = 200"
      ],
      "metadata": {
        "id": "Wo5k9OQtcO7N"
      },
      "id": "Wo5k9OQtcO7N",
      "execution_count": null,
      "outputs": []
    },
    {
      "cell_type": "code",
      "source": [
        "texts = df.text.values\n",
        "id2label = {i:l for i,l in enumerate(set(df.topic))}\n",
        "label2id = {l:i for i,l in id2label.items()}\n",
        "targets = [label2id[l] for l in df.topic]"
      ],
      "metadata": {
        "id": "2c9Sh_8RcRCo"
      },
      "id": "2c9Sh_8RcRCo",
      "execution_count": null,
      "outputs": []
    },
    {
      "cell_type": "code",
      "source": [
        "from sklearn.model_selection import train_test_split"
      ],
      "metadata": {
        "id": "0ozZdSIwcWTG"
      },
      "id": "0ozZdSIwcWTG",
      "execution_count": null,
      "outputs": []
    },
    {
      "cell_type": "code",
      "source": [
        "train_texts, valid_texts, train_targets, valid_targets = train_test_split(texts, targets, test_size=0.05)"
      ],
      "metadata": {
        "id": "jkKrB3uLcWej"
      },
      "id": "jkKrB3uLcWej",
      "execution_count": null,
      "outputs": []
    },
    {
      "cell_type": "code",
      "source": [
        "training_set = Dataset(word2id, MAX_LEN, train_texts, train_targets)\n",
        "training_generator = torch.utils.data.DataLoader(training_set, batch_size=256, shuffle=True, )"
      ],
      "metadata": {
        "id": "snA8ufqwcihX"
      },
      "id": "snA8ufqwcihX",
      "execution_count": null,
      "outputs": []
    },
    {
      "cell_type": "code",
      "source": [
        "valid_set = Dataset(word2id, MAX_LEN, valid_texts, valid_targets)\n",
        "valid_generator = torch.utils.data.DataLoader(valid_set, batch_size=256, shuffle=True)"
      ],
      "metadata": {
        "id": "ytKYC-cvck7N"
      },
      "id": "ytKYC-cvck7N",
      "execution_count": null,
      "outputs": []
    },
    {
      "cell_type": "code",
      "source": [
        "from sklearn.metrics import f1_score\n",
        "import numpy as np\n",
        "\n",
        "def train(model, iterator, optimizer, criterion, print_every=1000):\n",
        "\n",
        "    epoch_loss = []\n",
        "    epoch_f1 = []\n",
        "\n",
        "    model.train()\n",
        "\n",
        "    for i, (texts, ys) in enumerate(iterator):\n",
        "\n",
        "        optimizer.zero_grad()\n",
        "        predictions = model(texts.to(device)).squeeze()\n",
        "        loss = criterion(predictions, ys.to(device))\n",
        "\n",
        "\n",
        "\n",
        "        loss.backward()\n",
        "        optimizer.step()\n",
        "        preds = predictions.detach().to('cpu').numpy().argmax(1).tolist()\n",
        "        y_true = ys.tolist()\n",
        "\n",
        "        epoch_loss.append(loss.item())\n",
        "        epoch_f1.append(f1_score(y_true, preds, average=\"micro\"))\n",
        "\n",
        "        if not (i+1) % print_every:\n",
        "            print(f'Loss: {np.mean(epoch_loss)}; F1 measure: {np.mean(epoch_f1)}')\n",
        "\n",
        "    return np.mean(epoch_f1)\n",
        "\n",
        "\n",
        "def evaluate(model, iterator, criterion):\n",
        "\n",
        "    epoch_loss = []\n",
        "    epoch_f1 = []\n",
        "\n",
        "    model.eval()\n",
        "    with torch.no_grad():\n",
        "        for texts, ys in iterator:\n",
        "\n",
        "            preds_ = model(texts.to(device))\n",
        "            predictions = preds_.squeeze()\n",
        "            loss = criterion(predictions, ys.to(device))\n",
        "            preds = predictions.detach().to('cpu').numpy().argmax(1).tolist()\n",
        "            y_true = ys.tolist()\n",
        "\n",
        "\n",
        "            epoch_loss.append(loss.item())\n",
        "            epoch_f1.append(f1_score(y_true, preds, average=\"micro\"))\n",
        "\n",
        "    return np.mean(epoch_f1) # np.mean(epoch_f1) / len(iterator)"
      ],
      "metadata": {
        "id": "GmNc_lW5cr5W"
      },
      "id": "GmNc_lW5cr5W",
      "execution_count": null,
      "outputs": []
    },
    {
      "cell_type": "code",
      "source": [
        "import matplotlib.pyplot as plt\n",
        "%matplotlib inline"
      ],
      "metadata": {
        "id": "3P8Q-RoPresg"
      },
      "id": "3P8Q-RoPresg",
      "execution_count": null,
      "outputs": []
    },
    {
      "cell_type": "code",
      "source": [
        "from sklearn.metrics import classification_report"
      ],
      "metadata": {
        "id": "8S4btV1l1TO1"
      },
      "id": "8S4btV1l1TO1",
      "execution_count": null,
      "outputs": []
    },
    {
      "cell_type": "markdown",
      "source": [
        "### Модель 1"
      ],
      "metadata": {
        "id": "KnvGDY1Sw9BR"
      },
      "id": "KnvGDY1Sw9BR"
    },
    {
      "cell_type": "code",
      "source": [
        "# Модель с тремя рекуррентными слоями. Финальный вектор для классификации состоит из последнего состояния RNN,\n",
        "# а также AveragePooling и MaxPooling из всех векторов последовательности.\n",
        "\n",
        "class Clf(nn.Module):\n",
        "\n",
        "    def __init__(self, output_dim):\n",
        "\n",
        "        super().__init__()\n",
        "        self.VOCAB_SIZE = len(word2id)\n",
        "        self.EMB_DIM = 50\n",
        "        self.RNN_UNITS = 128\n",
        "\n",
        "\n",
        "        self.embedding = nn.Embedding(self.VOCAB_SIZE, self.EMB_DIM)\n",
        "        self.rnn = nn.LSTM(self.EMB_DIM, self.RNN_UNITS, num_layers=3,\n",
        "                           batch_first=True)\n",
        "        self.avg_pool = nn.AvgPool1d(self.RNN_UNITS, output_dim)\n",
        "        self.max_pool = nn.MaxPool1d(self.RNN_UNITS, output_dim)\n",
        "        self.fc = nn.Linear(self.RNN_UNITS, output_dim)\n",
        "        self.act = nn.LogSoftmax(1)\n",
        "\n",
        "\n",
        "    def forward(self, text):\n",
        "\n",
        "        embedded = self.embedding(text)\n",
        "\n",
        "        rnn_output, (h, *_) = self.rnn(embedded) # применяем rnn слой\n",
        "\n",
        "        pool_avg_output = self.avg_pool(h[-1]) # применяем AveragePooling\n",
        "        pool_max_output = self.max_pool(h[-1]) # применяем MaxPooling\n",
        "\n",
        "        # тут тоже будет трехмерный h\n",
        "        # но первый будет не 1 а равный num_layers\n",
        "        # мы возьмем последний с помощью индекса -1\n",
        "        # squeeze(0) тут не нужен и его и не получится применить\n",
        "        # output = torch.cat((self.fc(h[-1]),self.fc(pool_avg_output)), dim=1)\n",
        "        output = torch.cat((self.fc(h[-1]),pool_avg_output,pool_max_output), dim=1)\n",
        "        return self.act(output)\n",
        "\n",
        "\n",
        "device = torch.device('cuda' if torch.cuda.is_available() else 'cpu')\n",
        "model = Clf(len(label2id))\n",
        "optimizer = optim.Adam(model.parameters(), lr=0.001)\n",
        "criterion = nn.NLLLoss()\n",
        "model = model.to(device)\n",
        "criterion = criterion.to(device)"
      ],
      "metadata": {
        "id": "E867KgL1ijhe"
      },
      "id": "E867KgL1ijhe",
      "execution_count": null,
      "outputs": []
    },
    {
      "cell_type": "code",
      "source": [
        "f1s = []\n",
        "f1s_eval = []\n",
        "\n",
        "for i in range(10):\n",
        "    print(i)\n",
        "    f1s.append(train(model, training_generator, optimizer, criterion, 100))\n",
        "    evl = evaluate(model, valid_generator, criterion)\n",
        "    print('Eval - ', evl)\n",
        "    f1s_eval.append(evl)"
      ],
      "metadata": {
        "colab": {
          "base_uri": "https://localhost:8080/"
        },
        "id": "BqW_FxI3dj13",
        "outputId": "03335b5f-9276-4e70-80c7-4ae192eecd08"
      },
      "id": "BqW_FxI3dj13",
      "execution_count": null,
      "outputs": [
        {
          "output_type": "stream",
          "name": "stdout",
          "text": [
            "0\n",
            "Loss: 2.350881090164185; F1 measure: 0.2112890625\n",
            "Eval -  0.21079452614379085\n",
            "1\n",
            "Loss: 2.291395490169525; F1 measure: 0.2146875\n",
            "Eval -  0.26097324346405226\n",
            "2\n",
            "Loss: 2.1170758056640624; F1 measure: 0.2678125\n",
            "Eval -  0.29374489379084967\n",
            "3\n",
            "Loss: 1.9760443878173828; F1 measure: 0.2971484375\n",
            "Eval -  0.3389093137254902\n",
            "4\n",
            "Loss: 1.8723946011066437; F1 measure: 0.341953125\n",
            "Eval -  0.39815665849673204\n",
            "5\n",
            "Loss: 1.6932156085968018; F1 measure: 0.41390625\n",
            "Eval -  0.44203431372549024\n",
            "6\n",
            "Loss: 1.5502253007888793; F1 measure: 0.485390625\n",
            "Eval -  0.4904258578431373\n",
            "7\n",
            "Loss: 1.4453224194049836; F1 measure: 0.5351171875\n",
            "Eval -  0.5447099673202614\n",
            "8\n",
            "Loss: 1.3379434382915496; F1 measure: 0.5746875\n",
            "Eval -  0.5781658496732026\n",
            "9\n",
            "Loss: 1.2324805426597596; F1 measure: 0.622265625\n",
            "Eval -  0.5946435866013071\n"
          ]
        }
      ]
    },
    {
      "cell_type": "code",
      "source": [
        "plt.plot(f1s)\n",
        "plt.plot(f1s_eval)\n",
        "plt.title('model f1 micro')\n",
        "plt.ylabel('f1')\n",
        "plt.xlabel('epoch')\n",
        "plt.legend(['train', 'val'], loc='upper left')\n",
        "plt.show()"
      ],
      "metadata": {
        "colab": {
          "base_uri": "https://localhost:8080/",
          "height": 472
        },
        "id": "HcTQLlzCdnXR",
        "outputId": "6b79f502-244a-4106-ea18-99630c25f017"
      },
      "id": "HcTQLlzCdnXR",
      "execution_count": null,
      "outputs": [
        {
          "output_type": "display_data",
          "data": {
            "text/plain": [
              "<Figure size 640x480 with 1 Axes>"
            ],
            "image/png": "[encoded data removed]"
          },
          "metadata": {}
        }
      ]
    },
    {
      "cell_type": "code",
      "source": [
        "# сплющиваем последовательности классов в 1 последовательность и\n",
        "# считаем метрики как будто это обычная классификация\n",
        "pred = model(valid_set.texts.to(device)).argmax(1).detach().cpu()\n",
        "print(classification_report(valid_set.target.reshape(-1), pred.reshape(-1), labels=list(id2label.keys()),\n",
        "                                                                             target_names=id2label.values(),\n",
        "                                                                             zero_division=0))"
      ],
      "metadata": {
        "colab": {
          "base_uri": "https://localhost:8080/"
        },
        "id": "wMTlRUCd7SZ7",
        "outputId": "db887324-2ae2-482a-de0b-672ecf1db0d9"
      },
      "id": "wMTlRUCd7SZ7",
      "execution_count": null,
      "outputs": [
        {
          "output_type": "stream",
          "name": "stdout",
          "text": [
            "                   precision    recall  f1-score   support\n",
            "\n",
            "       Библиотека       0.00      0.00      0.00         0\n",
            "          Легпром       0.00      0.00      0.00         0\n",
            "           Бизнес       0.00      0.00      0.00        20\n",
            "         Культура       0.61      0.71      0.66       160\n",
            "      Бывший СССР       0.63      0.49      0.55       142\n",
            "         Из жизни       0.20      0.04      0.07        91\n",
            "              Мир       0.55      0.75      0.63       410\n",
            "Силовые структуры       0.00      0.00      0.00        51\n",
            "           Россия       0.59      0.68      0.63       471\n",
            "      Путешествия       0.00      0.00      0.00        26\n",
            "   69-я параллель       0.00      0.00      0.00         1\n",
            "            Спорт       0.92      0.94      0.93       208\n",
            "        Экономика       0.64      0.83      0.72       242\n",
            "              Дом       0.00      0.00      0.00        60\n",
            "             Крым       0.00      0.00      0.00         0\n",
            "  Наука и техника       0.42      0.66      0.51       163\n",
            "    Культпросвет        0.00      0.00      0.00         1\n",
            "   Интернет и СМИ       0.22      0.03      0.05       142\n",
            "         Ценности       0.00      0.00      0.00        30\n",
            "\n",
            "         accuracy                           0.60      2218\n",
            "        macro avg       0.25      0.27      0.25      2218\n",
            "     weighted avg       0.52      0.60      0.54      2218\n",
            "\n"
          ]
        }
      ]
    },
    {
      "cell_type": "markdown",
      "source": [
        "### Модель 2"
      ],
      "metadata": {
        "id": "LZKoUHeVxDS8"
      },
      "id": "LZKoUHeVxDS8"
    },
    {
      "cell_type": "code",
      "source": [
        "# Двунаправленная модель с тремя рекуррентными слоями. Финальный вектор для классификации состоит из последнего состояния RNN,\n",
        "# а также AveragePooling и MaxPooling из всех векторов последовательности.\n",
        "class ClfBidirectional(nn.Module):\n",
        "\n",
        "    def __init__(self, output_dim):\n",
        "\n",
        "        super().__init__()\n",
        "        self.VOCAB_SIZE = len(word2id)\n",
        "        self.EMB_DIM = 50\n",
        "        self.RNN_UNITS = 128\n",
        "\n",
        "\n",
        "        self.embedding = nn.Embedding(self.VOCAB_SIZE, self.EMB_DIM)\n",
        "\n",
        "        self.avg_pool = nn.AvgPool1d(self.RNN_UNITS, output_dim)\n",
        "        self.max_pool = nn.MaxPool1d(self.RNN_UNITS, output_dim)\n",
        "\n",
        "        # через параметр делается вот так, а в forward будет точно также как в сетке выше\n",
        "        self.rnn = nn.LSTM(self.EMB_DIM, self.RNN_UNITS, num_layers=3,\n",
        "                           batch_first=True, bidirectional=True)\n",
        "\n",
        "        # bidirectional создает 2 вектора размерности unit, соответственно на следующем слое умножаем размерность на 2\n",
        "        self.fc = nn.Linear(self.RNN_UNITS, output_dim)\n",
        "\n",
        "        self.act = nn.LogSoftmax(1)\n",
        "\n",
        "\n",
        "    def forward(self, text):\n",
        "\n",
        "        embedded = self.embedding(text)\n",
        "\n",
        "        rnn_output, (h, *_) = self.rnn(embedded) # применяем rnn слой\n",
        "\n",
        "        pool_avg_output = self.avg_pool(h[-1]) # применяем AveragePooling\n",
        "        pool_max_output = self.max_pool(h[-1]) # применяем MaxPooling\n",
        "\n",
        "        # тут тоже будет трехмерный h\n",
        "        # но первый будет не 1 а равный num_layers\n",
        "        # мы возьмем последний с помощью индекса -1\n",
        "        # squeeze(0) тут не нужен и его и не получится применить\n",
        "        # output = torch.cat((self.fc(h[-1]),self.fc(pool_avg_output)), dim=1)\n",
        "        output = torch.cat((self.fc(h[-1]),pool_avg_output,pool_max_output), dim=1)\n",
        "        return self.act(output)\n",
        "\n",
        "\n",
        "device = torch.device('cuda' if torch.cuda.is_available() else 'cpu')\n",
        "model = ClfBidirectional(len(label2id))\n",
        "optimizer = optim.Adam(model.parameters(), lr=0.001)\n",
        "criterion = nn.NLLLoss()\n",
        "model = model.to(device)\n",
        "criterion = criterion.to(device)"
      ],
      "metadata": {
        "id": "U-pP_RQfuzVe"
      },
      "id": "U-pP_RQfuzVe",
      "execution_count": null,
      "outputs": []
    },
    {
      "cell_type": "code",
      "source": [
        "f1s = []\n",
        "f1s_eval = []\n",
        "\n",
        "for i in range(10):\n",
        "    print(i)\n",
        "    f1s.append(train(model, training_generator, optimizer, criterion, 100))\n",
        "    evl = evaluate(model, valid_generator, criterion)\n",
        "    print('Eval - ', evl)\n",
        "    f1s_eval.append(evl)"
      ],
      "metadata": {
        "colab": {
          "base_uri": "https://localhost:8080/"
        },
        "id": "i2RFU7QWtN9X",
        "outputId": "38647ecc-628b-4aa2-d005-d2fa3eadaa17"
      },
      "id": "i2RFU7QWtN9X",
      "execution_count": null,
      "outputs": [
        {
          "output_type": "stream",
          "name": "stdout",
          "text": [
            "0\n",
            "Loss: 2.3983746004104614; F1 measure: 0.21109375\n",
            "Eval -  0.31241830065359477\n",
            "1\n",
            "Loss: 1.9177881932258607; F1 measure: 0.3514453125\n",
            "Eval -  0.40293096405228757\n",
            "2\n",
            "Loss: 1.670401303768158; F1 measure: 0.4334765625\n",
            "Eval -  0.49676776960784313\n",
            "3\n",
            "Loss: 1.4652382397651673; F1 measure: 0.530078125\n",
            "Eval -  0.5829452614379085\n",
            "4\n",
            "Loss: 1.2687836110591888; F1 measure: 0.6090625\n",
            "Eval -  0.630453431372549\n",
            "5\n",
            "Loss: 1.1291658037900925; F1 measure: 0.656953125\n",
            "Eval -  0.6552083333333333\n",
            "6\n",
            "Loss: 1.038425115942955; F1 measure: 0.6887109375\n",
            "Eval -  0.6932240604575164\n",
            "7\n",
            "Loss: 0.9284522169828415; F1 measure: 0.7244140625\n",
            "Eval -  0.6960529003267975\n",
            "8\n",
            "Loss: 0.8597545737028122; F1 measure: 0.7468359375\n",
            "Eval -  0.7116830065359477\n",
            "9\n",
            "Loss: 0.8032353502511979; F1 measure: 0.7600390625\n",
            "Eval -  0.7116676879084968\n"
          ]
        }
      ]
    },
    {
      "cell_type": "code",
      "source": [
        "plt.plot(f1s)\n",
        "plt.plot(f1s_eval)\n",
        "plt.title('model f1 micro')\n",
        "plt.ylabel('f1')\n",
        "plt.xlabel('epoch')\n",
        "plt.legend(['train', 'val'], loc='upper left')\n",
        "plt.show()"
      ],
      "metadata": {
        "colab": {
          "base_uri": "https://localhost:8080/",
          "height": 472
        },
        "id": "2IrfIdCnxk75",
        "outputId": "dca436ce-1d83-42dc-ce88-ea632e19ed3c"
      },
      "id": "2IrfIdCnxk75",
      "execution_count": null,
      "outputs": [
        {
          "output_type": "display_data",
          "data": {
            "text/plain": [
              "<Figure size 640x480 with 1 Axes>"
            ],
            "image/png": "[encoded data removed]"
          },
          "metadata": {}
        }
      ]
    },
    {
      "cell_type": "code",
      "source": [
        "# сплющиваем последовательности классов в 1 последовательность и\n",
        "# считаем метрики как будто это обычная классификация\n",
        "pred = model(valid_set.texts.to(device)).argmax(1).detach().cpu()\n",
        "print(classification_report(valid_set.target.reshape(-1), pred.reshape(-1), labels=list(id2label.keys()),\n",
        "                                                                             target_names=id2label.values(),\n",
        "                                                                             zero_division=0))"
      ],
      "metadata": {
        "colab": {
          "base_uri": "https://localhost:8080/"
        },
        "id": "Zp9XD7_Z9rB7",
        "outputId": "79ac4057-97ff-467d-c131-2593ba67a22c"
      },
      "id": "Zp9XD7_Z9rB7",
      "execution_count": null,
      "outputs": [
        {
          "output_type": "stream",
          "name": "stdout",
          "text": [
            "                   precision    recall  f1-score   support\n",
            "\n",
            "       Библиотека       0.00      0.00      0.00         0\n",
            "          Легпром       0.00      0.00      0.00         0\n",
            "           Бизнес       0.00      0.00      0.00        20\n",
            "         Культура       0.82      0.61      0.70       160\n",
            "      Бывший СССР       0.75      0.73      0.74       142\n",
            "         Из жизни       0.35      0.31      0.33        91\n",
            "              Мир       0.72      0.83      0.77       410\n",
            "Силовые структуры       0.25      0.02      0.04        51\n",
            "           Россия       0.70      0.83      0.76       471\n",
            "      Путешествия       0.00      0.00      0.00        26\n",
            "   69-я параллель       0.00      0.00      0.00         1\n",
            "            Спорт       0.91      0.94      0.93       208\n",
            "        Экономика       0.74      0.81      0.77       242\n",
            "              Дом       0.90      0.62      0.73        60\n",
            "             Крым       0.00      0.00      0.00         0\n",
            "  Наука и техника       0.77      0.69      0.73       163\n",
            "    Культпросвет        0.00      0.00      0.00         1\n",
            "   Интернет и СМИ       0.39      0.43      0.41       142\n",
            "         Ценности       0.83      0.50      0.62        30\n",
            "\n",
            "         accuracy                           0.71      2218\n",
            "        macro avg       0.43      0.39      0.40      2218\n",
            "     weighted avg       0.69      0.71      0.70      2218\n",
            "\n"
          ]
        }
      ]
    },
    {
      "cell_type": "markdown",
      "id": "ed5d6eea",
      "metadata": {
        "id": "ed5d6eea"
      },
      "source": [
        "## Задание 2 (6 баллов)\n"
      ]
    },
    {
      "cell_type": "markdown",
      "id": "5c2c07cf",
      "metadata": {
        "id": "5c2c07cf"
      },
      "source": [
        "На данных википедии (wikiann) обучите и сравните 3 модели:  \n",
        "\n",
        "1) модель в которой как минимум два рекуррентных слоя, причем один из них GRU, а другой LSTM\n",
        "\n",
        "2) модель в которой как минимум 3 рекуррентных слоя идут друг за другом и при этом 2-ой и 3-й слои еще имеют residual connection к изначальным эмбедингам. Для того, чтобы сделать residual connection вам нужно будет использовать одинаковую размерность эмбедингов и количество unit'ов в RNN слоях, чтобы их можно было просуммировать\n",
        "\n",
        "3) модель в которой будут и рекуррентные и сверточные слои (как минимум 2 rnn и как минимум 2 cnn слоя). В cnn слоях будьте аккуратны с укорачиванием последовательности и используйте паддинг\n",
        "\n",
        "\n",
        "\n",
        "Сравните качество по метрикам (точность/полнота/f-мера). Также придумайте несколько сложных примеров и проверьте, какие сущности определяет каждая из моделей."
      ]
    },
    {
      "cell_type": "code",
      "source": [
        "!pip install datasets"
      ],
      "metadata": {
        "colab": {
          "base_uri": "https://localhost:8080/"
        },
        "collapsed": true,
        "id": "F5EF4sJIzEf5",
        "outputId": "c4bd9221-7ddd-4c52-cae0-cf78aa0a2858"
      },
      "id": "F5EF4sJIzEf5",
      "execution_count": null,
      "outputs": [
        {
          "output_type": "stream",
          "name": "stdout",
          "text": [
            "Requirement already satisfied: datasets in /usr/local/lib/python3.11/dist-packages (3.4.1)\n",
            "Requirement already satisfied: filelock in /usr/local/lib/python3.11/dist-packages (from datasets) (3.18.0)\n",
            "Requirement already satisfied: numpy>=1.17 in /usr/local/lib/python3.11/dist-packages (from datasets) (2.0.2)\n",
            "Requirement already satisfied: pyarrow>=15.0.0 in /usr/local/lib/python3.11/dist-packages (from datasets) (18.1.0)\n",
            "Requirement already satisfied: dill<0.3.9,>=0.3.0 in /usr/local/lib/python3.11/dist-packages (from datasets) (0.3.8)\n",
            "Requirement already satisfied: pandas in /usr/local/lib/python3.11/dist-packages (from datasets) (2.2.2)\n",
            "Requirement already satisfied: requests>=2.32.2 in /usr/local/lib/python3.11/dist-packages (from datasets) (2.32.3)\n",
            "Requirement already satisfied: tqdm>=4.66.3 in /usr/local/lib/python3.11/dist-packages (from datasets) (4.67.1)\n",
            "Requirement already satisfied: xxhash in /usr/local/lib/python3.11/dist-packages (from datasets) (3.5.0)\n",
            "Requirement already satisfied: multiprocess<0.70.17 in /usr/local/lib/python3.11/dist-packages (from datasets) (0.70.16)\n",
            "Requirement already satisfied: fsspec<=2024.12.0,>=2023.1.0 in /usr/local/lib/python3.11/dist-packages (from fsspec[http]<=2024.12.0,>=2023.1.0->datasets) (2024.12.0)\n",
            "Requirement already satisfied: aiohttp in /usr/local/lib/python3.11/dist-packages (from datasets) (3.11.14)\n",
            "Requirement already satisfied: huggingface-hub>=0.24.0 in /usr/local/lib/python3.11/dist-packages (from datasets) (0.29.3)\n",
            "Requirement already satisfied: packaging in /usr/local/lib/python3.11/dist-packages (from datasets) (24.2)\n",
            "Requirement already satisfied: pyyaml>=5.1 in /usr/local/lib/python3.11/dist-packages (from datasets) (6.0.2)\n",
            "Requirement already satisfied: aiohappyeyeballs>=2.3.0 in /usr/local/lib/python3.11/dist-packages (from aiohttp->datasets) (2.6.1)\n",
            "Requirement already satisfied: aiosignal>=1.1.2 in /usr/local/lib/python3.11/dist-packages (from aiohttp->datasets) (1.3.2)\n",
            "Requirement already satisfied: attrs>=17.3.0 in /usr/local/lib/python3.11/dist-packages (from aiohttp->datasets) (25.3.0)\n",
            "Requirement already satisfied: frozenlist>=1.1.1 in /usr/local/lib/python3.11/dist-packages (from aiohttp->datasets) (1.5.0)\n",
            "Requirement already satisfied: multidict<7.0,>=4.5 in /usr/local/lib/python3.11/dist-packages (from aiohttp->datasets) (6.2.0)\n",
            "Requirement already satisfied: propcache>=0.2.0 in /usr/local/lib/python3.11/dist-packages (from aiohttp->datasets) (0.3.0)\n",
            "Requirement already satisfied: yarl<2.0,>=1.17.0 in /usr/local/lib/python3.11/dist-packages (from aiohttp->datasets) (1.18.3)\n",
            "Requirement already satisfied: typing-extensions>=3.7.4.3 in /usr/local/lib/python3.11/dist-packages (from huggingface-hub>=0.24.0->datasets) (4.12.2)\n",
            "Requirement already satisfied: charset-normalizer<4,>=2 in /usr/local/lib/python3.11/dist-packages (from requests>=2.32.2->datasets) (3.4.1)\n",
            "Requirement already satisfied: idna<4,>=2.5 in /usr/local/lib/python3.11/dist-packages (from requests>=2.32.2->datasets) (3.10)\n",
            "Requirement already satisfied: urllib3<3,>=1.21.1 in /usr/local/lib/python3.11/dist-packages (from requests>=2.32.2->datasets) (2.3.0)\n",
            "Requirement already satisfied: certifi>=2017.4.17 in /usr/local/lib/python3.11/dist-packages (from requests>=2.32.2->datasets) (2025.1.31)\n",
            "Requirement already satisfied: python-dateutil>=2.8.2 in /usr/local/lib/python3.11/dist-packages (from pandas->datasets) (2.8.2)\n",
            "Requirement already satisfied: pytz>=2020.1 in /usr/local/lib/python3.11/dist-packages (from pandas->datasets) (2025.1)\n",
            "Requirement already satisfied: tzdata>=2022.7 in /usr/local/lib/python3.11/dist-packages (from pandas->datasets) (2025.1)\n",
            "Requirement already satisfied: six>=1.5 in /usr/local/lib/python3.11/dist-packages (from python-dateutil>=2.8.2->pandas->datasets) (1.17.0)\n"
          ]
        }
      ]
    },
    {
      "cell_type": "code",
      "source": [
        "from datasets import load_dataset"
      ],
      "metadata": {
        "id": "-T672Ly7yjd0"
      },
      "id": "-T672Ly7yjd0",
      "execution_count": null,
      "outputs": []
    },
    {
      "cell_type": "code",
      "execution_count": null,
      "id": "fb704b1b",
      "metadata": {
        "id": "fb704b1b"
      },
      "outputs": [],
      "source": [
        "dataset = load_dataset(\"tner/wikiann\", 'ru')"
      ]
    },
    {
      "cell_type": "code",
      "execution_count": null,
      "id": "24b4e4aa",
      "metadata": {
        "colab": {
          "base_uri": "https://localhost:8080/"
        },
        "id": "24b4e4aa",
        "outputId": "d329d2f0-fbf9-4cce-b860-71623327483e"
      },
      "outputs": [
        {
          "output_type": "execute_result",
          "data": {
            "text/plain": [
              "DatasetDict({\n",
              "    train: Dataset({\n",
              "        features: ['tokens', 'tags'],\n",
              "        num_rows: 20000\n",
              "    })\n",
              "    validation: Dataset({\n",
              "        features: ['tokens', 'tags'],\n",
              "        num_rows: 10000\n",
              "    })\n",
              "    test: Dataset({\n",
              "        features: ['tokens', 'tags'],\n",
              "        num_rows: 10000\n",
              "    })\n",
              "})"
            ]
          },
          "metadata": {},
          "execution_count": 20
        }
      ],
      "source": [
        "dataset"
      ]
    },
    {
      "cell_type": "code",
      "source": [
        "from collections import Counter"
      ],
      "metadata": {
        "id": "QURXyHIABnvx"
      },
      "id": "QURXyHIABnvx",
      "execution_count": null,
      "outputs": []
    },
    {
      "cell_type": "code",
      "source": [
        "# словарь\n",
        "vocab = Counter()\n",
        "\n",
        "for sent in dataset['train']['tokens']:\n",
        "    vocab.update([x.lower() for x in sent])"
      ],
      "metadata": {
        "id": "kgNVzLf6Blfu"
      },
      "id": "kgNVzLf6Blfu",
      "execution_count": null,
      "outputs": []
    },
    {
      "cell_type": "code",
      "source": [
        "# индексируем слова\n",
        "word2id = {'PAD':0, 'UNK':1}\n",
        "\n",
        "for word in vocab:\n",
        "    word2id[word] = len(word2id)"
      ],
      "metadata": {
        "id": "5EjIB3X3BwOk"
      },
      "id": "5EjIB3X3BwOk",
      "execution_count": null,
      "outputs": []
    },
    {
      "cell_type": "code",
      "source": [
        "id2word = {i:word for word, i in word2id.items()}"
      ],
      "metadata": {
        "id": "r9XISUY6BzS4"
      },
      "id": "r9XISUY6BzS4",
      "execution_count": null,
      "outputs": []
    },
    {
      "cell_type": "code",
      "source": [
        "# переводим тексты в последовательности индексов\n",
        "X = []\n",
        "\n",
        "for sent in dataset['train']['tokens']:\n",
        "    tokens = [w.lower() for w in sent]\n",
        "    ids = [word2id.get(token, 1) for token in tokens]\n",
        "    X.append(ids)"
      ],
      "metadata": {
        "id": "dZ-vjWKvB22C"
      },
      "id": "dZ-vjWKvB22C",
      "execution_count": null,
      "outputs": []
    },
    {
      "cell_type": "code",
      "source": [
        "# переводим тексты в последовательности индексов\n",
        "X_test = []\n",
        "\n",
        "for sent in dataset['test']['tokens']:\n",
        "    tokens = [w.lower() for w in sent]\n",
        "    ids = [word2id.get(token, 1) for token in tokens]\n",
        "    X_test.append(ids)"
      ],
      "metadata": {
        "id": "kc2PML96B4jm"
      },
      "id": "kc2PML96B4jm",
      "execution_count": null,
      "outputs": []
    },
    {
      "cell_type": "code",
      "source": [
        "import os\n",
        "os.environ[\"KERAS_BACKEND\"] = \"torch\"\n",
        "\n",
        "import keras\n",
        "print(keras.__version__)"
      ],
      "metadata": {
        "colab": {
          "base_uri": "https://localhost:8080/"
        },
        "id": "hY5CwDrAB9qT",
        "outputId": "7785d279-3cc2-4707-d6eb-a48d372c7b91"
      },
      "id": "hY5CwDrAB9qT",
      "execution_count": null,
      "outputs": [
        {
          "output_type": "stream",
          "name": "stdout",
          "text": [
            "3.8.0\n"
          ]
        }
      ]
    },
    {
      "cell_type": "code",
      "source": [
        "MAX_LEN = max(len(x) for x in X)\n",
        "\n",
        "# паддинг\n",
        "X = keras.preprocessing.sequence.pad_sequences(X, maxlen=MAX_LEN, padding='post')\n",
        "X_test = keras.preprocessing.sequence.pad_sequences(X_test, maxlen=MAX_LEN, padding='post')"
      ],
      "metadata": {
        "id": "crTGNMzSB7Bq"
      },
      "id": "crTGNMzSB7Bq",
      "execution_count": null,
      "outputs": []
    },
    {
      "cell_type": "code",
      "source": [
        "label2id = {\n",
        "    \"B-LOC\": 0,\n",
        "    \"B-ORG\": 1,\n",
        "    \"B-PER\": 2,\n",
        "    \"I-LOC\": 3,\n",
        "    \"I-ORG\": 4,\n",
        "    \"I-PER\": 5,\n",
        "    \"O\": 6,\n",
        "    \"PAD\": 7\n",
        "}\n",
        "id2labels = {v:k for k,v in label2id.items()}"
      ],
      "metadata": {
        "id": "vw3WjNapCYCe"
      },
      "id": "vw3WjNapCYCe",
      "execution_count": null,
      "outputs": []
    },
    {
      "cell_type": "code",
      "source": [
        "y = keras.preprocessing.sequence.pad_sequences(dataset['train']['tags'], value=7,\n",
        "                                                  maxlen=MAX_LEN,  padding='post')\n",
        "y_test = keras.preprocessing.sequence.pad_sequences(dataset['test']['tags'], value=7,\n",
        "                                                       maxlen=MAX_LEN,  padding='post')"
      ],
      "metadata": {
        "id": "tUR0BdiOCaVv"
      },
      "id": "tUR0BdiOCaVv",
      "execution_count": null,
      "outputs": []
    },
    {
      "cell_type": "code",
      "source": [
        "import matplotlib.pyplot as plt\n",
        "%matplotlib inline"
      ],
      "metadata": {
        "id": "dAVPhVCFE2fA"
      },
      "id": "dAVPhVCFE2fA",
      "execution_count": null,
      "outputs": []
    },
    {
      "cell_type": "code",
      "source": [
        "def get_plot(f1s, f1s_eval):\n",
        "  plt.plot(f1s)\n",
        "  plt.plot(f1s_eval)\n",
        "  plt.title('model accuracy')\n",
        "  plt.ylabel('accuracy')\n",
        "  plt.xlabel('epoch')\n",
        "  plt.legend(['train', 'val'], loc='upper left')\n",
        "  plt.show()"
      ],
      "metadata": {
        "id": "FAxNJdKmDYKs"
      },
      "id": "FAxNJdKmDYKs",
      "execution_count": null,
      "outputs": []
    },
    {
      "cell_type": "code",
      "source": [
        "from sklearn.metrics import classification_report"
      ],
      "metadata": {
        "id": "JxJLhIqpFXSE"
      },
      "id": "JxJLhIqpFXSE",
      "execution_count": null,
      "outputs": []
    },
    {
      "cell_type": "code",
      "source": [
        "import re\n",
        "\n",
        "def tokenize(text, word2id):\n",
        "    # токенизирует и переводит в индексы\n",
        "    tokens = re.findall('\\w+|[^\\w\\s]+', text)\n",
        "    ids = [word2id.get(token.lower(), 1) for token in tokens]\n",
        "    return tokens, ids\n",
        "\n",
        "def pred2tags(pred, id2label, length):\n",
        "    # декодирует индексы в части речи\n",
        "    # length нужно чтобы откидывать паддинги или некорректные предсказания\n",
        "    pred = pred.argmax(2)[0, :length]\n",
        "    labels = [id2label[l] for l in pred]\n",
        "    return labels\n",
        "\n",
        "def label_seq(text, word2id, id2label, max_len, model):\n",
        "    tokens, ids = tokenize(text, word2id)\n",
        "    pred = model.predict(keras.preprocessing.sequence.pad_sequences([ids], maxlen=max_len, padding='post'))\n",
        "    labels = pred2tags(pred, id2label, len(ids))\n",
        "\n",
        "    return list(zip(tokens, labels))"
      ],
      "metadata": {
        "id": "2TFPTqYLIBY4"
      },
      "id": "2TFPTqYLIBY4",
      "execution_count": null,
      "outputs": []
    },
    {
      "cell_type": "code",
      "source": [
        "additional_sents = [\n",
        "    'томский журналист Игорь Кузнецов, приговорённый Бутырским судом Москвы к шести годам лишения свободы за организацию массовых беспорядков (которых не было), покинул СИЗО-4 г. Москвы и был отправлен на этап в исправительную колонию'\n",
        "]"
      ],
      "metadata": {
        "id": "9QUxG3xodafJ"
      },
      "id": "9QUxG3xodafJ",
      "execution_count": null,
      "outputs": []
    },
    {
      "cell_type": "markdown",
      "source": [
        "### 1) модель в которой как минимум два рекуррентных слоя, причем один из них GRU, а другой LSTM"
      ],
      "metadata": {
        "id": "PSpMHwU5E8o1"
      },
      "id": "PSpMHwU5E8o1"
    },
    {
      "cell_type": "code",
      "source": [
        "inputs = keras.layers.Input(shape=(MAX_LEN,))\n",
        "embeddings = keras.layers.Embedding(input_dim=len(word2id), output_dim=100)(inputs)\n",
        "\n",
        "gru = keras.layers.GRU(128, return_sequences=True)(embeddings)\n",
        "lstm = keras.layers.LSTM(128, return_sequences=True)(gru)\n",
        "\n",
        "outputs = keras.layers.Dense(len(label2id), activation='softmax')(lstm)\n",
        "\n",
        "model = keras.Model(inputs=inputs, outputs=outputs)\n",
        "model.compile(optimizer='adam',\n",
        "              loss='sparse_categorical_crossentropy',\n",
        "             metrics=['accuracy'])\n",
        "\n",
        "model.fit(X, y,\n",
        "          validation_data=(X_test, y_test),\n",
        "          batch_size=128,\n",
        "         epochs=5)"
      ],
      "metadata": {
        "colab": {
          "base_uri": "https://localhost:8080/"
        },
        "id": "HYzssqpMCgP3",
        "outputId": "45b7d129-64c8-4c69-b521-64f652aebe82"
      },
      "id": "HYzssqpMCgP3",
      "execution_count": null,
      "outputs": [
        {
          "output_type": "stream",
          "name": "stdout",
          "text": [
            "Epoch 1/5\n",
            "\u001b[1m157/157\u001b[0m \u001b[32m━━━━━━━━━━━━━━━━━━━━\u001b[0m\u001b[37m\u001b[0m \u001b[1m32s\u001b[0m 204ms/step - accuracy: 0.8547 - loss: 0.5836 - val_accuracy: 0.9433 - val_loss: 0.1909\n",
            "Epoch 2/5\n",
            "\u001b[1m157/157\u001b[0m \u001b[32m━━━━━━━━━━━━━━━━━━━━\u001b[0m\u001b[37m\u001b[0m \u001b[1m32s\u001b[0m 202ms/step - accuracy: 0.9467 - loss: 0.1645 - val_accuracy: 0.9660 - val_loss: 0.0998\n",
            "Epoch 3/5\n",
            "\u001b[1m157/157\u001b[0m \u001b[32m━━━━━━━━━━━━━━━━━━━━\u001b[0m\u001b[37m\u001b[0m \u001b[1m32s\u001b[0m 204ms/step - accuracy: 0.9755 - loss: 0.0717 - val_accuracy: 0.9718 - val_loss: 0.0816\n",
            "Epoch 4/5\n",
            "\u001b[1m157/157\u001b[0m \u001b[32m━━━━━━━━━━━━━━━━━━━━\u001b[0m\u001b[37m\u001b[0m \u001b[1m31s\u001b[0m 199ms/step - accuracy: 0.9867 - loss: 0.0396 - val_accuracy: 0.9689 - val_loss: 0.0878\n",
            "Epoch 5/5\n",
            "\u001b[1m157/157\u001b[0m \u001b[32m━━━━━━━━━━━━━━━━━━━━\u001b[0m\u001b[37m\u001b[0m \u001b[1m32s\u001b[0m 204ms/step - accuracy: 0.9943 - loss: 0.0226 - val_accuracy: 0.9718 - val_loss: 0.0896\n"
          ]
        },
        {
          "output_type": "execute_result",
          "data": {
            "text/plain": [
              "<keras.src.callbacks.history.History at 0x79c03bacffd0>"
            ]
          },
          "metadata": {},
          "execution_count": 58
        }
      ]
    },
    {
      "cell_type": "code",
      "source": [
        "f1s = model.history.history['accuracy']\n",
        "f1s_eval = model.history.history['val_accuracy']\n",
        "\n",
        "get_plot(f1s, f1s_eval)"
      ],
      "metadata": {
        "colab": {
          "base_uri": "https://localhost:8080/",
          "height": 472
        },
        "id": "A3WNyNJGDlWY",
        "outputId": "effc973f-1c65-4af3-a381-0df1dccb6838"
      },
      "id": "A3WNyNJGDlWY",
      "execution_count": null,
      "outputs": [
        {
          "output_type": "display_data",
          "data": {
            "text/plain": [
              "<Figure size 640x480 with 1 Axes>"
            ],
            "image/png": "[encoded data removed]"
          },
          "metadata": {}
        }
      ]
    },
    {
      "cell_type": "code",
      "source": [
        "pred = model.predict(X_test).argmax(2)"
      ],
      "metadata": {
        "colab": {
          "base_uri": "https://localhost:8080/"
        },
        "id": "ZUE2AGofFaVj",
        "outputId": "888f8cb9-b8ca-417e-a47f-64cc747f637a"
      },
      "id": "ZUE2AGofFaVj",
      "execution_count": null,
      "outputs": [
        {
          "output_type": "stream",
          "name": "stdout",
          "text": [
            "\u001b[1m313/313\u001b[0m \u001b[32m━━━━━━━━━━━━━━━━━━━━\u001b[0m\u001b[37m\u001b[0m \u001b[1m34s\u001b[0m 107ms/step\n"
          ]
        }
      ]
    },
    {
      "cell_type": "code",
      "source": [
        "print(classification_report(y_test.reshape(-1), pred.reshape(-1), labels=list(id2labels.keys()),\n",
        "                                                                     target_names=list(id2labels.values()),\n",
        "                                                                     zero_division=0))"
      ],
      "metadata": {
        "colab": {
          "base_uri": "https://localhost:8080/"
        },
        "id": "eiitIkOfFdxy",
        "outputId": "cf02316f-937f-4f80-d045-331447095f3d"
      },
      "id": "eiitIkOfFdxy",
      "execution_count": null,
      "outputs": [
        {
          "output_type": "stream",
          "name": "stdout",
          "text": [
            "              precision    recall  f1-score   support\n",
            "\n",
            "       B-LOC       0.59      0.64      0.61      4560\n",
            "       B-ORG       0.48      0.62      0.54      4074\n",
            "       B-PER       0.69      0.31      0.42      3542\n",
            "       I-LOC       0.84      0.57      0.67      3060\n",
            "       I-ORG       0.51      0.80      0.62      8008\n",
            "       I-PER       0.90      0.71      0.80      7544\n",
            "           O       0.92      0.88      0.90     40480\n",
            "         PAD       1.00      1.00      1.00    468732\n",
            "\n",
            "    accuracy                           0.97    540000\n",
            "   macro avg       0.74      0.69      0.70    540000\n",
            "weighted avg       0.97      0.97      0.97    540000\n",
            "\n"
          ]
        }
      ]
    },
    {
      "cell_type": "code",
      "source": [
        "for s in additional_sents:\n",
        "  print(*label_seq(s, word2id, id2labels, MAX_LEN, model), sep='\\n')"
      ],
      "metadata": {
        "colab": {
          "base_uri": "https://localhost:8080/"
        },
        "id": "vxkia6rjFk39",
        "outputId": "4af6f488-fe92-4f66-e133-72ba3f5f380e"
      },
      "id": "vxkia6rjFk39",
      "execution_count": null,
      "outputs": [
        {
          "output_type": "stream",
          "name": "stdout",
          "text": [
            "\u001b[1m1/1\u001b[0m \u001b[32m━━━━━━━━━━━━━━━━━━━━\u001b[0m\u001b[37m\u001b[0m \u001b[1m0s\u001b[0m 80ms/step\n"
          ]
        },
        {
          "output_type": "execute_result",
          "data": {
            "text/plain": [
              "[('томский', 'B-ORG'),\n",
              " ('журналист', 'O'),\n",
              " ('Игорь', 'I-ORG'),\n",
              " ('Кузнецов', 'I-PER'),\n",
              " (',', 'I-PER'),\n",
              " ('приговорённый', 'I-PER'),\n",
              " ('Бутырским', 'I-ORG'),\n",
              " ('судом', 'I-ORG'),\n",
              " ('Москвы', 'I-ORG'),\n",
              " ('к', 'O'),\n",
              " ('шести', 'O'),\n",
              " ('годам', 'O'),\n",
              " ('лишения', 'O'),\n",
              " ('свободы', 'I-ORG'),\n",
              " ('за', 'O'),\n",
              " ('организацию', 'O'),\n",
              " ('массовых', 'O'),\n",
              " ('беспорядков', 'O'),\n",
              " ('(', 'O'),\n",
              " ('которых', 'O'),\n",
              " ('не', 'O'),\n",
              " ('было', 'O'),\n",
              " ('),', 'O'),\n",
              " ('покинул', 'O'),\n",
              " ('СИЗО', 'B-ORG'),\n",
              " ('-', 'O'),\n",
              " ('4', 'O'),\n",
              " ('г', 'O'),\n",
              " ('.', 'O'),\n",
              " ('Москвы', 'B-LOC'),\n",
              " ('и', 'O'),\n",
              " ('был', 'O'),\n",
              " ('отправлен', 'O'),\n",
              " ('на', 'O'),\n",
              " ('этап', 'O'),\n",
              " ('в', 'O'),\n",
              " ('исправительную', 'B-LOC'),\n",
              " ('колонию', 'I-ORG')]"
            ]
          },
          "metadata": {},
          "execution_count": 67
        }
      ]
    },
    {
      "cell_type": "markdown",
      "source": [
        "### 2) модель в которой как минимум 3 рекуррентных слоя идут друг за другом и при этом 2-ой и 3-й слои еще имеют residual connection к изначальным эмбедингам. Для того, чтобы сделать residual connection вам нужно будет использовать одинаковую размерность эмбедингов и количество unit'ов в RNN слоях, чтобы их можно было просуммировать"
      ],
      "metadata": {
        "id": "MzfQAZcKE-xD"
      },
      "id": "MzfQAZcKE-xD"
    },
    {
      "cell_type": "code",
      "source": [
        "inputs = keras.layers.Input(shape=(MAX_LEN,))\n",
        "embeddings = keras.layers.Embedding(input_dim=len(word2id), output_dim=100)(inputs)\n",
        "\n",
        "gru = keras.layers.GRU(128, return_sequences=True)(embeddings)\n",
        "lstm_1 = keras.layers.LSTM(128, return_sequences=True)(gru)\n",
        "resid_1 = keras.layers.concatenate((lstm_1, embeddings))\n",
        "lstm_2 = keras.layers.LSTM(128, return_sequences=True)(lstm_1)\n",
        "resid_2 = keras.layers.concatenate((lstm_2, embeddings))\n",
        "\n",
        "outputs = keras.layers.Dense(len(label2id), activation='softmax')(resid_2)\n",
        "\n",
        "model = keras.Model(inputs=inputs, outputs=outputs)\n",
        "model.compile(optimizer='adam',\n",
        "              loss='sparse_categorical_crossentropy',\n",
        "             metrics=['accuracy'])\n",
        "\n",
        "model.fit(X, y,\n",
        "          validation_data=(X_test, y_test),\n",
        "          batch_size=128,\n",
        "         epochs=5)\n",
        "f1s = model.history.history['accuracy']\n",
        "f1s_eval = model.history.history['val_accuracy']\n",
        "\n",
        "get_plot(f1s, f1s_eval)\n",
        "pred = model.predict(X_test).argmax(2)\n",
        "print(classification_report(y_test.reshape(-1), pred.reshape(-1), labels=list(id2labels.keys()),\n",
        "                                                                     target_names=list(id2labels.values()),\n",
        "                                                                     zero_division=0))"
      ],
      "metadata": {
        "colab": {
          "base_uri": "https://localhost:8080/",
          "height": 924
        },
        "outputId": "9553d5d3-8a4f-40b8-8efc-c67c35fd4490",
        "id": "y-8vRfn7bswG"
      },
      "execution_count": null,
      "outputs": [
        {
          "output_type": "stream",
          "name": "stdout",
          "text": [
            "Epoch 1/5\n",
            "\u001b[1m157/157\u001b[0m \u001b[32m━━━━━━━━━━━━━━━━━━━━\u001b[0m\u001b[37m\u001b[0m \u001b[1m155s\u001b[0m 979ms/step - accuracy: 0.8618 - loss: 0.5766 - val_accuracy: 0.9448 - val_loss: 0.1845\n",
            "Epoch 2/5\n",
            "\u001b[1m157/157\u001b[0m \u001b[32m━━━━━━━━━━━━━━━━━━━━\u001b[0m\u001b[37m\u001b[0m \u001b[1m142s\u001b[0m 909ms/step - accuracy: 0.9498 - loss: 0.1590 - val_accuracy: 0.9666 - val_loss: 0.0983\n",
            "Epoch 3/5\n",
            "\u001b[1m157/157\u001b[0m \u001b[32m━━━━━━━━━━━━━━━━━━━━\u001b[0m\u001b[37m\u001b[0m \u001b[1m147s\u001b[0m 935ms/step - accuracy: 0.9753 - loss: 0.0734 - val_accuracy: 0.9710 - val_loss: 0.0823\n",
            "Epoch 4/5\n",
            "\u001b[1m157/157\u001b[0m \u001b[32m━━━━━━━━━━━━━━━━━━━━\u001b[0m\u001b[37m\u001b[0m \u001b[1m143s\u001b[0m 911ms/step - accuracy: 0.9868 - loss: 0.0428 - val_accuracy: 0.9736 - val_loss: 0.0781\n",
            "Epoch 5/5\n",
            "\u001b[1m157/157\u001b[0m \u001b[32m━━━━━━━━━━━━━━━━━━━━\u001b[0m\u001b[37m\u001b[0m \u001b[1m190s\u001b[0m 1s/step - accuracy: 0.9935 - loss: 0.0257 - val_accuracy: 0.9730 - val_loss: 0.0824\n"
          ]
        },
        {
          "output_type": "display_data",
          "data": {
            "text/plain": [
              "<Figure size 640x480 with 1 Axes>"
            ],
            "image/png": "[encoded data removed]"
          },
          "metadata": {}
        },
        {
          "output_type": "stream",
          "name": "stdout",
          "text": [
            "\u001b[1m313/313\u001b[0m \u001b[32m━━━━━━━━━━━━━━━━━━━━\u001b[0m\u001b[37m\u001b[0m \u001b[1m57s\u001b[0m 184ms/step\n",
            "              precision    recall  f1-score   support\n",
            "\n",
            "       B-LOC       0.66      0.58      0.61      4560\n",
            "       B-ORG       0.47      0.58      0.52      4074\n",
            "       B-PER       0.72      0.44      0.55      3542\n",
            "       I-LOC       0.86      0.55      0.67      3060\n",
            "       I-ORG       0.48      0.85      0.62      8008\n",
            "       I-PER       0.91      0.85      0.88      7544\n",
            "           O       0.95      0.87      0.91     40480\n",
            "         PAD       1.00      1.00      1.00    468732\n",
            "\n",
            "    accuracy                           0.97    540000\n",
            "   macro avg       0.76      0.72      0.72    540000\n",
            "weighted avg       0.98      0.97      0.97    540000\n",
            "\n"
          ]
        }
      ],
      "id": "y-8vRfn7bswG"
    },
    {
      "cell_type": "code",
      "source": [
        "for s in additional_sents:\n",
        "  print(*label_seq(s, word2id, id2labels, MAX_LEN, model), sep='\\n')"
      ],
      "metadata": {
        "colab": {
          "base_uri": "https://localhost:8080/"
        },
        "id": "JuXAdEO9hrrK",
        "outputId": "1dbfe404-5c6f-4fb0-e7a6-6ae1eada0bc7"
      },
      "id": "JuXAdEO9hrrK",
      "execution_count": null,
      "outputs": [
        {
          "output_type": "stream",
          "name": "stdout",
          "text": [
            "\u001b[1m1/1\u001b[0m \u001b[32m━━━━━━━━━━━━━━━━━━━━\u001b[0m\u001b[37m\u001b[0m \u001b[1m0s\u001b[0m 124ms/step\n",
            "('томский', 'I-ORG')\n",
            "('журналист', 'O')\n",
            "('Игорь', 'B-PER')\n",
            "('Кузнецов', 'I-PER')\n",
            "(',', 'I-PER')\n",
            "('приговорённый', 'I-PER')\n",
            "('Бутырским', 'I-PER')\n",
            "('судом', 'I-ORG')\n",
            "('Москвы', 'I-ORG')\n",
            "('к', 'O')\n",
            "('шести', 'O')\n",
            "('годам', 'O')\n",
            "('лишения', 'B-ORG')\n",
            "('свободы', 'I-ORG')\n",
            "('за', 'I-ORG')\n",
            "('организацию', 'O')\n",
            "('массовых', 'I-ORG')\n",
            "('беспорядков', 'O')\n",
            "('(', 'O')\n",
            "('которых', 'O')\n",
            "('не', 'O')\n",
            "('было', 'O')\n",
            "('),', 'O')\n",
            "('покинул', 'O')\n",
            "('СИЗО', 'O')\n",
            "('-', 'O')\n",
            "('4', 'O')\n",
            "('г', 'O')\n",
            "('.', 'O')\n",
            "('Москвы', 'B-ORG')\n",
            "('и', 'O')\n",
            "('был', 'O')\n",
            "('отправлен', 'O')\n",
            "('на', 'O')\n",
            "('этап', 'O')\n",
            "('в', 'O')\n",
            "('исправительную', 'O')\n",
            "('колонию', 'I-ORG')\n"
          ]
        }
      ]
    },
    {
      "cell_type": "markdown",
      "source": [
        "### 3) модель в которой будут и рекуррентные и сверточные слои (как минимум 2 rnn и как минимум 2 cnn слоя). В cnn слоях будьте аккуратны с укорачиванием последовательности и используйте паддинг\n"
      ],
      "metadata": {
        "id": "dwi2IscOFM-O"
      },
      "id": "dwi2IscOFM-O"
    },
    {
      "cell_type": "code",
      "source": [
        "inputs = keras.layers.Input(shape=(MAX_LEN,))\n",
        "embeddings = keras.layers.Embedding(input_dim=len(word2id), output_dim=100)(inputs)\n",
        "\n",
        "conv_1 = keras.layers.Conv1D(kernel_size=3, filters=32, strides=1, padding='same')(embeddings)\n",
        "conv_2 = keras.layers.Conv1D(kernel_size=3, filters=32, strides=1, padding='same')(conv_1)\n",
        "gru = keras.layers.GRU(128, return_sequences=True)(conv_2)\n",
        "lstm = keras.layers.LSTM(128, return_sequences=True)(gru)\n",
        "\n",
        "\n",
        "outputs = keras.layers.Dense(len(label2id), activation='softmax')(lstm)\n",
        "\n",
        "model = keras.Model(inputs=inputs, outputs=outputs)\n",
        "model.compile(optimizer='adam',\n",
        "              loss='sparse_categorical_crossentropy',\n",
        "             metrics=['accuracy'])\n",
        "\n",
        "model.fit(X, y,\n",
        "          validation_data=(X_test, y_test),\n",
        "          batch_size=128,\n",
        "         epochs=5)\n",
        "f1s = model.history.history['accuracy']\n",
        "f1s_eval = model.history.history['val_accuracy']\n",
        "\n",
        "get_plot(f1s, f1s_eval)\n",
        "pred = model.predict(X_test).argmax(2)\n",
        "print(classification_report(y_test.reshape(-1), pred.reshape(-1), labels=list(id2labels.keys()),\n",
        "                                                                     target_names=list(id2labels.values()),\n",
        "                                                                     zero_division=0))"
      ],
      "metadata": {
        "colab": {
          "base_uri": "https://localhost:8080/",
          "height": 924
        },
        "outputId": "67e8d326-75f7-4ba8-b02e-aed247240018",
        "id": "_oqPrc6aiLMD"
      },
      "execution_count": null,
      "outputs": [
        {
          "output_type": "stream",
          "name": "stdout",
          "text": [
            "Epoch 1/5\n",
            "\u001b[1m157/157\u001b[0m \u001b[32m━━━━━━━━━━━━━━━━━━━━\u001b[0m\u001b[37m\u001b[0m \u001b[1m109s\u001b[0m 692ms/step - accuracy: 0.8597 - loss: 0.5411 - val_accuracy: 0.9471 - val_loss: 0.1671\n",
            "Epoch 2/5\n",
            "\u001b[1m157/157\u001b[0m \u001b[32m━━━━━━━━━━━━━━━━━━━━\u001b[0m\u001b[37m\u001b[0m \u001b[1m104s\u001b[0m 665ms/step - accuracy: 0.9566 - loss: 0.1329 - val_accuracy: 0.9750 - val_loss: 0.0759\n",
            "Epoch 3/5\n",
            "\u001b[1m157/157\u001b[0m \u001b[32m━━━━━━━━━━━━━━━━━━━━\u001b[0m\u001b[37m\u001b[0m \u001b[1m102s\u001b[0m 648ms/step - accuracy: 0.9844 - loss: 0.0474 - val_accuracy: 0.9793 - val_loss: 0.0648\n",
            "Epoch 4/5\n",
            "\u001b[1m157/157\u001b[0m \u001b[32m━━━━━━━━━━━━━━━━━━━━\u001b[0m\u001b[37m\u001b[0m \u001b[1m95s\u001b[0m 603ms/step - accuracy: 0.9939 - loss: 0.0209 - val_accuracy: 0.9805 - val_loss: 0.0689\n",
            "Epoch 5/5\n",
            "\u001b[1m157/157\u001b[0m \u001b[32m━━━━━━━━━━━━━━━━━━━━\u001b[0m\u001b[37m\u001b[0m \u001b[1m94s\u001b[0m 600ms/step - accuracy: 0.9972 - loss: 0.0106 - val_accuracy: 0.9809 - val_loss: 0.0721\n"
          ]
        },
        {
          "output_type": "display_data",
          "data": {
            "text/plain": [
              "<Figure size 640x480 with 1 Axes>"
            ],
            "image/png": "[encoded data removed]"
          },
          "metadata": {}
        },
        {
          "output_type": "stream",
          "name": "stdout",
          "text": [
            "\u001b[1m313/313\u001b[0m \u001b[32m━━━━━━━━━━━━━━━━━━━━\u001b[0m\u001b[37m\u001b[0m \u001b[1m38s\u001b[0m 123ms/step\n",
            "              precision    recall  f1-score   support\n",
            "\n",
            "       B-LOC       0.84      0.68      0.75      4560\n",
            "       B-ORG       0.45      0.76      0.57      4074\n",
            "       B-PER       0.77      0.80      0.79      3542\n",
            "       I-LOC       0.89      0.72      0.79      3060\n",
            "       I-ORG       0.73      0.81      0.76      8008\n",
            "       I-PER       0.93      0.87      0.90      7544\n",
            "           O       0.95      0.91      0.93     40480\n",
            "         PAD       1.00      1.00      1.00    468732\n",
            "\n",
            "    accuracy                           0.98    540000\n",
            "   macro avg       0.82      0.82      0.81    540000\n",
            "weighted avg       0.98      0.98      0.98    540000\n",
            "\n"
          ]
        }
      ],
      "id": "_oqPrc6aiLMD"
    },
    {
      "cell_type": "code",
      "source": [
        "for s in additional_sents:\n",
        "  print(*label_seq(s, word2id, id2labels, MAX_LEN, model), sep='\\n')"
      ],
      "metadata": {
        "outputId": "122a3c3e-520a-470d-e678-85d00e5e9b99",
        "colab": {
          "base_uri": "https://localhost:8080/"
        },
        "id": "89P9u8FNiLME"
      },
      "execution_count": null,
      "outputs": [
        {
          "output_type": "stream",
          "name": "stdout",
          "text": [
            "\u001b[1m1/1\u001b[0m \u001b[32m━━━━━━━━━━━━━━━━━━━━\u001b[0m\u001b[37m\u001b[0m \u001b[1m0s\u001b[0m 105ms/step\n",
            "('томский', 'B-ORG')\n",
            "('журналист', 'I-ORG')\n",
            "('Игорь', 'I-ORG')\n",
            "('Кузнецов', 'I-PER')\n",
            "(',', 'O')\n",
            "('приговорённый', 'B-ORG')\n",
            "('Бутырским', 'I-ORG')\n",
            "('судом', 'O')\n",
            "('Москвы', 'I-ORG')\n",
            "('к', 'O')\n",
            "('шести', 'O')\n",
            "('годам', 'O')\n",
            "('лишения', 'O')\n",
            "('свободы', 'O')\n",
            "('за', 'O')\n",
            "('организацию', 'O')\n",
            "('массовых', 'O')\n",
            "('беспорядков', 'O')\n",
            "('(', 'O')\n",
            "('которых', 'O')\n",
            "('не', 'O')\n",
            "('было', 'O')\n",
            "('),', 'O')\n",
            "('покинул', 'O')\n",
            "('СИЗО', 'O')\n",
            "('-', 'O')\n",
            "('4', 'O')\n",
            "('г', 'O')\n",
            "('.', 'O')\n",
            "('Москвы', 'B-ORG')\n",
            "('и', 'O')\n",
            "('был', 'O')\n",
            "('отправлен', 'O')\n",
            "('на', 'O')\n",
            "('этап', 'O')\n",
            "('в', 'O')\n",
            "('исправительную', 'B-ORG')\n",
            "('колонию', 'I-ORG')\n"
          ]
        }
      ],
      "id": "89P9u8FNiLME"
    }
  ],
  "metadata": {
    "kernelspec": {
      "display_name": "Python 3",
      "name": "python3"
    },
    "language_info": {
      "codemirror_mode": {
        "name": "ipython",
        "version": 3
      },
      "file_extension": ".py",
      "mimetype": "text/x-python",
      "name": "python",
      "nbconvert_exporter": "python",
      "pygments_lexer": "ipython3",
      "version": "3.9.14"
    },
    "colab": {
      "provenance": [],
      "gpuType": "T4",
      "include_colab_link": true
    },
    "accelerator": "GPU"
  },
  "nbformat": 4,
  "nbformat_minor": 5
}