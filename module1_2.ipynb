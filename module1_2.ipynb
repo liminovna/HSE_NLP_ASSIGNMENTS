{
  "cells": [
    {
      "cell_type": "markdown",
      "metadata": {
        "id": "view-in-github",
        "colab_type": "text"
      },
      "source": [
        "<a href=\"https://colab.research.google.com/github/liminovna/HSE_NLP/blob/main/02_homework.ipynb\" target=\"_parent\"><img src=\"https://colab.research.google.com/assets/colab-badge.svg\" alt=\"Open In Colab\"/></a>"
      ]
    },
    {
      "cell_type": "markdown",
      "id": "43fc8290",
      "metadata": {
        "id": "43fc8290"
      },
      "source": [
        "## Задание 1."
      ]
    },
    {
      "cell_type": "markdown",
      "id": "b06a5ace",
      "metadata": {
        "id": "b06a5ace"
      },
      "source": [
        "Посчитайте частоты для 5-грамм в корпусе lenta.txt. двумя способами:  \n",
        "1) lenta.txt -> sent_tokenize (russian) -> word_tokenize -> ngrammer  \n",
        "2) lenta.txt -> word_tokene(preserve_line=True) - ngrammer  \n",
        "    \n",
        "Проанализируйте топ-20 самых частотных нграмм и проверьте есть ли различия?"
      ]
    },
    {
      "cell_type": "code",
      "source": [
        "!mkdir data\n",
        "!wget https://github.com/mannefedov/compling_nlp_hse_course/raw/master/data/lenta.txt.zip -P data\n",
        "!unzip -o data/lenta.txt.zip -d data/"
      ],
      "metadata": {
        "colab": {
          "base_uri": "https://localhost:8080/"
        },
        "id": "Umx9WFDeeHit",
        "outputId": "a886a65a-6110-4b46-f6cd-786b45de6cd4"
      },
      "id": "Umx9WFDeeHit",
      "execution_count": 1,
      "outputs": [
        {
          "output_type": "stream",
          "name": "stdout",
          "text": [
            "mkdir: cannot create directory ‘data’: File exists\n",
            "--2024-09-26 17:42:38--  https://github.com/mannefedov/compling_nlp_hse_course/raw/master/data/lenta.txt.zip\n",
            "Resolving github.com (github.com)... 140.82.113.3\n",
            "Connecting to github.com (github.com)|140.82.113.3|:443... connected.\n",
            "HTTP request sent, awaiting response... 302 Found\n",
            "Location: https://raw.githubusercontent.com/mannefedov/compling_nlp_hse_course/master/data/lenta.txt.zip [following]\n",
            "--2024-09-26 17:42:39--  https://raw.githubusercontent.com/mannefedov/compling_nlp_hse_course/master/data/lenta.txt.zip\n",
            "Resolving raw.githubusercontent.com (raw.githubusercontent.com)... 185.199.110.133, 185.199.111.133, 185.199.109.133, ...\n",
            "Connecting to raw.githubusercontent.com (raw.githubusercontent.com)|185.199.110.133|:443... connected.\n",
            "HTTP request sent, awaiting response... 200 OK\n",
            "Length: 5723675 (5.5M) [application/zip]\n",
            "Saving to: ‘data/lenta.txt.zip.1’\n",
            "\n",
            "lenta.txt.zip.1     100%[===================>]   5.46M  --.-KB/s    in 0.09s   \n",
            "\n",
            "2024-09-26 17:42:39 (59.7 MB/s) - ‘data/lenta.txt.zip.1’ saved [5723675/5723675]\n",
            "\n",
            "Archive:  data/lenta.txt.zip\n",
            "  inflating: data/lenta.txt          \n",
            "  inflating: data/__MACOSX/._lenta.txt  \n"
          ]
        }
      ]
    },
    {
      "cell_type": "code",
      "execution_count": 2,
      "id": "957f5656",
      "metadata": {
        "colab": {
          "base_uri": "https://localhost:8080/",
          "height": 52
        },
        "id": "957f5656",
        "outputId": "0313767b-9ad0-42d2-c528-4c5bedd986a5"
      },
      "outputs": [
        {
          "output_type": "execute_result",
          "data": {
            "text/plain": [
              "'Бои у Сопоцкина и Друскеник закончились отступлением германцев. Неприятель, приблизившись с севера к Осовцу начал артиллерийскую борьбу с крепостью. В артиллерийском бою принимают участие тяжелые кали'"
            ],
            "application/vnd.google.colaboratory.intrinsic+json": {
              "type": "string"
            }
          },
          "metadata": {},
          "execution_count": 2
        }
      ],
      "source": [
        "# добавить разбиение не предложения чтобы не считать биграмы по границам предложений\n",
        "corpus = open('data/lenta.txt').read()\n",
        "corpus[:200]"
      ]
    },
    {
      "cell_type": "code",
      "source": [
        "# обновляем nltk, чтобы не выкидывал ошибку Lookup Error\n",
        "!pip install nltk -U"
      ],
      "metadata": {
        "colab": {
          "base_uri": "https://localhost:8080/",
          "height": 375
        },
        "id": "tJOx3J9qf0TM",
        "outputId": "93b5849b-5a5b-4b38-9e54-d30eb8e8c437"
      },
      "id": "tJOx3J9qf0TM",
      "execution_count": 8,
      "outputs": [
        {
          "output_type": "stream",
          "name": "stdout",
          "text": [
            "Requirement already satisfied: nltk in /usr/local/lib/python3.10/dist-packages (3.8.1)\n",
            "Collecting nltk\n",
            "  Downloading nltk-3.9.1-py3-none-any.whl.metadata (2.9 kB)\n",
            "Requirement already satisfied: click in /usr/local/lib/python3.10/dist-packages (from nltk) (8.1.7)\n",
            "Requirement already satisfied: joblib in /usr/local/lib/python3.10/dist-packages (from nltk) (1.4.2)\n",
            "Requirement already satisfied: regex>=2021.8.3 in /usr/local/lib/python3.10/dist-packages (from nltk) (2024.9.11)\n",
            "Requirement already satisfied: tqdm in /usr/local/lib/python3.10/dist-packages (from nltk) (4.66.5)\n",
            "Downloading nltk-3.9.1-py3-none-any.whl (1.5 MB)\n",
            "\u001b[2K   \u001b[90m━━━━━━━━━━━━━━━━━━━━━━━━━━━━━━━━━━━━━━━━\u001b[0m \u001b[32m1.5/1.5 MB\u001b[0m \u001b[31m15.2 MB/s\u001b[0m eta \u001b[36m0:00:00\u001b[0m\n",
            "\u001b[?25hInstalling collected packages: nltk\n",
            "  Attempting uninstall: nltk\n",
            "    Found existing installation: nltk 3.8.1\n",
            "    Uninstalling nltk-3.8.1:\n",
            "      Successfully uninstalled nltk-3.8.1\n",
            "Successfully installed nltk-3.9.1\n"
          ]
        },
        {
          "output_type": "display_data",
          "data": {
            "application/vnd.colab-display-data+json": {
              "pip_warning": {
                "packages": [
                  "nltk"
                ]
              },
              "id": "f9927dcadb424df7be43df7f07085105"
            }
          },
          "metadata": {}
        }
      ]
    },
    {
      "cell_type": "code",
      "source": [
        "import nltk\n",
        "nltk.download('punkt_tab')\n",
        "from nltk import sent_tokenize\n",
        "from nltk.tokenize import word_tokenize\n",
        "\n",
        "from collections import Counter\n",
        "\n",
        "import re"
      ],
      "metadata": {
        "colab": {
          "base_uri": "https://localhost:8080/"
        },
        "id": "5IDluOX3dBir",
        "outputId": "17e8ba2a-bf91-4063-a7cf-7e5e14e0bc59"
      },
      "id": "5IDluOX3dBir",
      "execution_count": 3,
      "outputs": [
        {
          "output_type": "stream",
          "name": "stderr",
          "text": [
            "[nltk_data] Downloading package punkt_tab to /root/nltk_data...\n",
            "[nltk_data]   Package punkt_tab is already up-to-date!\n"
          ]
        }
      ]
    },
    {
      "cell_type": "code",
      "source": [
        "# загружаем список стоп-слов, чтобы питон не ругался на Resource 'corpora/stopwords' not found\n",
        "!python -m nltk.downloader stopwords"
      ],
      "metadata": {
        "colab": {
          "base_uri": "https://localhost:8080/"
        },
        "id": "2pJPi4iPKVGN",
        "outputId": "e43aa631-e5c1-48a1-d376-485ff144b525"
      },
      "id": "2pJPi4iPKVGN",
      "execution_count": 7,
      "outputs": [
        {
          "output_type": "stream",
          "name": "stdout",
          "text": [
            "/usr/lib/python3.10/runpy.py:126: RuntimeWarning: 'nltk.downloader' found in sys.modules after import of package 'nltk', but prior to execution of 'nltk.downloader'; this may result in unpredictable behaviour\n",
            "  warn(RuntimeWarning(msg))\n",
            "[nltk_data] Downloading package stopwords to /root/nltk_data...\n",
            "[nltk_data]   Unzipping corpora/stopwords.zip.\n"
          ]
        }
      ]
    },
    {
      "cell_type": "code",
      "source": [
        "from nltk.corpus import stopwords\n",
        "\n",
        "# преобразуем в set чтобы быстрее проверять наличие в этом списке стоп слов\n",
        "russian_stopwords = set(stopwords.words('russian'))"
      ],
      "metadata": {
        "id": "OJkqpl80JvEC"
      },
      "id": "OJkqpl80JvEC",
      "execution_count": 4,
      "outputs": []
    },
    {
      "cell_type": "code",
      "source": [
        "def ngrammer(tokens, n=2):\n",
        "    ngrams = []\n",
        "    for i in range(len(tokens)-n+1):\n",
        "        ngrams.append(' '.join(tokens[i:i+n]))\n",
        "    return ngrams"
      ],
      "metadata": {
        "id": "qPZvG0KuLpf3"
      },
      "id": "qPZvG0KuLpf3",
      "execution_count": null,
      "outputs": []
    },
    {
      "cell_type": "markdown",
      "source": [
        "### 1 способ: lenta.txt -> sent_tokenize (russian) -> word_tokenize -> ngrammer"
      ],
      "metadata": {
        "id": "KbnsuOBWibZ3"
      },
      "id": "KbnsuOBWibZ3"
    },
    {
      "cell_type": "code",
      "source": [
        "sentences_1 = sent_tokenize(corpus, language='russian')\n",
        "tokenized_sentences_1 = [word_tokenize(sentence) for sentence in sentences_1]\n",
        "\n",
        "tokenized_sentences_1[:2]"
      ],
      "metadata": {
        "colab": {
          "base_uri": "https://localhost:8080/"
        },
        "id": "aIVGdLIgfQkn",
        "outputId": "01fcb41b-9942-43ce-a639-4678dca49e37"
      },
      "id": "aIVGdLIgfQkn",
      "execution_count": null,
      "outputs": [
        {
          "output_type": "execute_result",
          "data": {
            "text/plain": [
              "[['Бои',\n",
              "  'у',\n",
              "  'Сопоцкина',\n",
              "  'и',\n",
              "  'Друскеник',\n",
              "  'закончились',\n",
              "  'отступлением',\n",
              "  'германцев',\n",
              "  '.'],\n",
              " ['Неприятель',\n",
              "  ',',\n",
              "  'приблизившись',\n",
              "  'с',\n",
              "  'севера',\n",
              "  'к',\n",
              "  'Осовцу',\n",
              "  'начал',\n",
              "  'артиллерийскую',\n",
              "  'борьбу',\n",
              "  'с',\n",
              "  'крепостью',\n",
              "  '.']]"
            ]
          },
          "metadata": {},
          "execution_count": 7
        }
      ]
    },
    {
      "cell_type": "code",
      "source": [
        "tokenized_sentences_1 = [\n",
        "    [token.lower() for token in sentence if not re.match('\\W+', token)] for sentence in tokenized_sentences_1\n",
        "]\n",
        "tokenized_sentences_1[:2]"
      ],
      "metadata": {
        "colab": {
          "base_uri": "https://localhost:8080/"
        },
        "id": "xuZpcJ98gec2",
        "outputId": "53398c26-b22f-4513-cc93-b74c553e6405"
      },
      "id": "xuZpcJ98gec2",
      "execution_count": null,
      "outputs": [
        {
          "output_type": "execute_result",
          "data": {
            "text/plain": [
              "[['бои',\n",
              "  'у',\n",
              "  'сопоцкина',\n",
              "  'и',\n",
              "  'друскеник',\n",
              "  'закончились',\n",
              "  'отступлением',\n",
              "  'германцев'],\n",
              " ['неприятель',\n",
              "  'приблизившись',\n",
              "  'с',\n",
              "  'севера',\n",
              "  'к',\n",
              "  'осовцу',\n",
              "  'начал',\n",
              "  'артиллерийскую',\n",
              "  'борьбу',\n",
              "  'с',\n",
              "  'крепостью']]"
            ]
          },
          "metadata": {},
          "execution_count": 8
        }
      ]
    },
    {
      "cell_type": "code",
      "source": [
        "pentagram_counts_1 = Counter()\n",
        "for sentence in tokenized_sentences_1:\n",
        "    pentagram_counts_1.update(ngrammer(tokens=[token for token in sentence if token not in russian_stopwords],n=5))\n",
        "\n",
        "pentagram_counts_1.most_common(20)"
      ],
      "metadata": {
        "colab": {
          "base_uri": "https://localhost:8080/"
        },
        "id": "lQLhQsddTxuH",
        "outputId": "c33638a7-7ae7-4888-fef3-1556adf89ee3"
      },
      "id": "lQLhQsddTxuH",
      "execution_count": null,
      "outputs": [
        {
          "output_type": "execute_result",
          "data": {
            "text/plain": [
              "[('объединенной группировки войск северном кавказе', 83),\n",
              " ('сообщает риа новости ссылкой пресс-службу', 57),\n",
              " ('обязанности президента россии владимир путин', 47),\n",
              " ('группировки федеральных сил северном кавказе', 37),\n",
              " ('помощник президента россии сергей ястржембский', 35),\n",
              " ('делам печати телерадиовещания средств массовых', 31),\n",
              " ('объединенной группировки федеральных сил северном', 31),\n",
              " ('печати телерадиовещания средств массовых коммуникаций', 30),\n",
              " ('штабе объединенной группировки федеральных сил', 25),\n",
              " ('министр иностранных дел россии игорь', 24),\n",
              " ('первый заместитель начальника генерального штаба', 23),\n",
              " ('сообщает риа новости ссылкой источники', 23),\n",
              " ('объединенной группировкой войск северном кавказе', 23),\n",
              " ('иностранных дел россии игорь иванов', 23),\n",
              " ('прямом эфире радиостанции эхо москвы', 20),\n",
              " ('главного управления борьбе организованной преступностью', 20),\n",
              " ('начальника генерального штаба вооруженных сил', 20),\n",
              " ('заместитель начальника генштаба вооруженных сил', 20),\n",
              " ('сообщает федеральное агентство новостей ссылкой', 20),\n",
              " ('исполняющий обязанности президента россии владимир', 20)]"
            ]
          },
          "metadata": {},
          "execution_count": 9
        }
      ]
    },
    {
      "cell_type": "markdown",
      "source": [
        "### 2 способ: lenta.txt -> word_tokenize(preserve_line=True) -> ngrammer"
      ],
      "metadata": {
        "id": "BpIbS70Ii6aI"
      },
      "id": "BpIbS70Ii6aI"
    },
    {
      "cell_type": "code",
      "source": [
        "tokenized_text_2 = word_tokenize(corpus, language='russian', preserve_line=True)\n",
        "tokenized_text_2[:10]"
      ],
      "metadata": {
        "colab": {
          "base_uri": "https://localhost:8080/"
        },
        "id": "h390Iqv8i6Eq",
        "outputId": "e0767ab5-8cd5-4eea-ad79-077199286b5d"
      },
      "id": "h390Iqv8i6Eq",
      "execution_count": null,
      "outputs": [
        {
          "output_type": "execute_result",
          "data": {
            "text/plain": [
              "['Бои',\n",
              " 'у',\n",
              " 'Сопоцкина',\n",
              " 'и',\n",
              " 'Друскеник',\n",
              " 'закончились',\n",
              " 'отступлением',\n",
              " 'германцев.',\n",
              " 'Неприятель',\n",
              " ',']"
            ]
          },
          "metadata": {},
          "execution_count": 11
        }
      ]
    },
    {
      "cell_type": "code",
      "source": [
        "tokenized_text_2 = [\n",
        "    token.lower() for token in tokenized_text_2 if not re.match('\\W+', token)\n",
        "]\n",
        "tokenized_text_2[:10]"
      ],
      "metadata": {
        "colab": {
          "base_uri": "https://localhost:8080/"
        },
        "id": "RfQbmTbiNsFc",
        "outputId": "2d03904e-122f-4952-80f4-6f67269a9b23"
      },
      "id": "RfQbmTbiNsFc",
      "execution_count": null,
      "outputs": [
        {
          "output_type": "execute_result",
          "data": {
            "text/plain": [
              "['бои',\n",
              " 'у',\n",
              " 'сопоцкина',\n",
              " 'и',\n",
              " 'друскеник',\n",
              " 'закончились',\n",
              " 'отступлением',\n",
              " 'германцев.',\n",
              " 'неприятель',\n",
              " 'приблизившись']"
            ]
          },
          "metadata": {},
          "execution_count": 12
        }
      ]
    },
    {
      "cell_type": "code",
      "source": [
        "pentagram_counts_2 = Counter()\n",
        "pentagram_counts_2.update(ngrammer(tokens=list(filter(lambda t: t not in russian_stopwords, tokenized_text_2)), n=5))\n",
        "pentagram_counts_2.most_common(20)"
      ],
      "metadata": {
        "colab": {
          "base_uri": "https://localhost:8080/"
        },
        "id": "8mY8CE5iOdfN",
        "outputId": "b4099f1e-8917-4ae6-c880-7a453975289d"
      },
      "id": "8mY8CE5iOdfN",
      "execution_count": null,
      "outputs": [
        {
          "output_type": "execute_result",
          "data": {
            "text/plain": [
              "[('сообщает риа новости ссылкой пресс-службу', 57),\n",
              " ('объединенной группировки войск северном кавказе', 56),\n",
              " ('обязанности президента россии владимир путин', 46),\n",
              " ('делам печати телерадиовещания средств массовых', 31),\n",
              " ('объединенной группировки федеральных сил северном', 31),\n",
              " ('печати телерадиовещания средств массовых коммуникаций', 29),\n",
              " ('объединенной группировки войск северном кавказе.', 27),\n",
              " ('министр иностранных дел россии игорь', 24),\n",
              " ('штабе объединенной группировки федеральных сил', 24),\n",
              " ('первый заместитель начальника генерального штаба', 23),\n",
              " ('сообщает риа новости ссылкой источники', 23),\n",
              " ('объединенной группировкой войск северном кавказе', 23),\n",
              " ('помощник президента россии сергей ястржембский', 21),\n",
              " ('прямом эфире радиостанции эхо москвы', 20),\n",
              " ('начальника генерального штаба вооруженных сил', 20),\n",
              " ('группировки федеральных сил северном кавказе', 20),\n",
              " ('заместитель начальника генштаба вооруженных сил', 20),\n",
              " ('сообщает федеральное агентство новостей ссылкой', 20),\n",
              " ('исполняющий обязанности президента россии владимир', 20),\n",
              " ('главного управления борьбе организованной преступностью', 19)]"
            ]
          },
          "metadata": {},
          "execution_count": 13
        }
      ]
    },
    {
      "cell_type": "markdown",
      "source": [
        "### Вывод\n",
        "\n",
        "Топ-20 пентаграмм, полученные обоими способами, отличаются предположительно потому, что в первом способе при делении корпуса сначала на предложения, а потом -- на токены, знаки пунктуации в конце предложения удалялись, и словоформа, стоящая в конце предложения была равна словоформе, стоящей, например, в середине. Во втором способе знаки препинания, наоборот, сохранялись на конце последнего токена в предложении, делая этот токен отличным о той же словоформы, которая стояла в середине предложения."
      ],
      "metadata": {
        "id": "JHa3KCd_a1ZP"
      },
      "id": "JHa3KCd_a1ZP"
    },
    {
      "cell_type": "markdown",
      "id": "b5781f34",
      "metadata": {
        "id": "b5781f34"
      },
      "source": [
        "## Задание 2."
      ]
    },
    {
      "cell_type": "markdown",
      "id": "4292716e",
      "metadata": {
        "id": "4292716e"
      },
      "source": [
        "Найдите какую-то инетересную (по вашему мнению) закономерность на https://books.google.com/ngrams/ для русского языка (с 1990 по 2022)\n",
        "\n",
        "Вставьте сюда скриншот"
      ]
    },
    {
      "cell_type": "markdown",
      "source": [
        "![ngram.png](data:image/png;base64,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)"
      ],
      "metadata": {
        "id": "yL8D45PMzyxY"
      },
      "id": "yL8D45PMzyxY"
    },
    {
      "cell_type": "markdown",
      "id": "8a0a89ec",
      "metadata": {
        "id": "8a0a89ec"
      },
      "source": [
        "## Заданиe 3"
      ]
    },
    {
      "cell_type": "markdown",
      "id": "b40c35e9",
      "metadata": {
        "id": "b40c35e9"
      },
      "source": [
        "Когда мы разбирали PMI мы использовали такую функцию:"
      ]
    },
    {
      "cell_type": "code",
      "execution_count": null,
      "id": "221f1bc0",
      "metadata": {
        "id": "221f1bc0"
      },
      "outputs": [],
      "source": [
        "def scorer_simple(word_count_a, word_count_b, bigram_count, *args):\n",
        "    try:\n",
        "        score = bigram_count/((word_count_a+word_count_b))\n",
        "    except ZeroDivisionError:\n",
        "        return 0\n",
        "    return score"
      ]
    },
    {
      "cell_type": "markdown",
      "id": "53fd2def",
      "metadata": {
        "id": "53fd2def"
      },
      "source": [
        "Но если вы посмотрите на определение в википедии, то увидите, что формула немного другая ![](https://wikimedia.org/api/rest_v1/media/math/render/svg/094243d23c19d2d032f6bb26c4dc4f47d98d32f8)"
      ]
    },
    {
      "cell_type": "markdown",
      "id": "b1905862",
      "metadata": {
        "id": "b1905862"
      },
      "source": [
        "Перепишите функцию, чтобы она точно соответствовала этому определению. Расчитайте PMI для всех биграммов также как мы делали в семинаре с помощью функции score_bigrams используя изначальный scorer и обновленный. Посмотрите есть ли разница в топ-10 биграммов. Подумайте почему результаты совпадают/отличаются?\n",
        "\n",
        "*Подсказка: для вероятностей можно поделить на количество слов в корпусе"
      ]
    },
    {
      "cell_type": "code",
      "source": [
        "def ngrammer(tokens, n=2, stops=set()):\n",
        "    ngrams = []\n",
        "    tokens = [token for token in tokens if token not in stops]\n",
        "    for i in range(0,len(tokens)-n+1):\n",
        "        ngrams.append(' '.join(tokens[i:i+n]))\n",
        "    return ngrams"
      ],
      "metadata": {
        "id": "z1cJeI_5evik"
      },
      "id": "z1cJeI_5evik",
      "execution_count": null,
      "outputs": []
    },
    {
      "cell_type": "code",
      "source": [
        "def collect_stats(corpus, stops):\n",
        "    ## соберем статистики для отдельных слов\n",
        "    ## и биграммов\n",
        "\n",
        "    unigrams = Counter()\n",
        "    bigrams = Counter()\n",
        "\n",
        "    for sent in corpus:\n",
        "        unigrams.update(sent)\n",
        "        bigrams.update(ngrammer(sent, 2, stops))\n",
        "\n",
        "    return unigrams, bigrams"
      ],
      "metadata": {
        "id": "JrQB3Db0e0am"
      },
      "id": "JrQB3Db0e0am",
      "execution_count": null,
      "outputs": []
    },
    {
      "cell_type": "code",
      "source": [
        "def score_bigrams(unigrams, bigrams, scorer, threshold=-100000):\n",
        "    # суммпрное число токенов\n",
        "    tokens_total=sum(unigrams.values())\n",
        "\n",
        "    ## посчитаем метрику для каждого нграмма\n",
        "    bigram2score = Counter()\n",
        "\n",
        "    for bigram in bigrams:\n",
        "        word_a, word_b = bigram.split()\n",
        "        score = scorer(\n",
        "            unigrams[word_a],\n",
        "            unigrams[word_b],\n",
        "            bigrams[bigram],\n",
        "            tokens_total\n",
        "        )\n",
        "\n",
        "        ## если метрика выше порога, добавляем в словарик\n",
        "        if score > threshold:\n",
        "            bigram2score[bigram] = score\n",
        "\n",
        "    return bigram2score"
      ],
      "metadata": {
        "id": "z2CUu4cge8u6"
      },
      "id": "z2CUu4cge8u6",
      "execution_count": null,
      "outputs": []
    },
    {
      "cell_type": "code",
      "source": [
        "unigrams, bigrams = collect_stats(tokenized_sentences_1, russian_stopwords)\n",
        "bigram2score_simple = score_bigrams(unigrams, bigrams, scorer_simple)\n",
        "\n",
        "bigram2score_simple.most_common(10)"
      ],
      "metadata": {
        "colab": {
          "base_uri": "https://localhost:8080/"
        },
        "id": "3_SPzCDtCOd4",
        "outputId": "6d55edf1-1b57-4496-b262-8ba8f80a3906"
      },
      "id": "3_SPzCDtCOd4",
      "execution_count": null,
      "outputs": [
        {
          "output_type": "execute_result",
          "data": {
            "text/plain": [
              "[('сопоцкина друскеник', 0.5),\n",
              " ('неприятель приблизившись', 0.5),\n",
              " ('саноку обстреливалась', 0.5),\n",
              " ('м.ю лермонтова', 0.5),\n",
              " ('австрийский аэроплан', 0.5),\n",
              " ('показывался аэроплан-птица', 0.5),\n",
              " ('das ist', 0.5),\n",
              " ('ist nesteroff', 0.5),\n",
              " ('песнь нестерове', 0.5),\n",
              " ('могучий унесся', 0.5)]"
            ]
          },
          "metadata": {},
          "execution_count": 52
        }
      ]
    },
    {
      "cell_type": "code",
      "execution_count": null,
      "id": "1431f618",
      "metadata": {
        "id": "1431f618"
      },
      "outputs": [],
      "source": [
        "from math import log\n",
        "\n",
        "# обновленная функция\n",
        "def scorer_proper(word_count_a, word_count_b, bigram_count, tokens_total=0, min_count=0):\n",
        "  if bigram_count > min_count:\n",
        "    try:\n",
        "        jointproba_a_b = bigram_count/tokens_total # как часто два слова встречаются вместе / количество токенов в тексте\n",
        "        proba_a = word_count_a/tokens_total\n",
        "        proba_b = word_count_b/tokens_total\n",
        "        score = log(\n",
        "            jointproba_a_b / (proba_a * proba_b),\n",
        "            2\n",
        "        )\n",
        "    except ZeroDivisionError:\n",
        "        return 0\n",
        "    return score\n",
        "  return 0"
      ]
    },
    {
      "cell_type": "code",
      "source": [
        "# unigrams, bigrams = collect_stats(tokenized_sentences_1, russian_stopwords)\n",
        "bigram2score_proper = score_bigrams(unigrams, bigrams, scorer_proper)\n",
        "bigram2score_proper.most_common(10)"
      ],
      "metadata": {
        "colab": {
          "base_uri": "https://localhost:8080/"
        },
        "id": "qOdARKhJeLbJ",
        "outputId": "387ad0b6-c4c6-4f20-cb84-6355850abe84"
      },
      "id": "qOdARKhJeLbJ",
      "execution_count": null,
      "outputs": [
        {
          "output_type": "execute_result",
          "data": {
            "text/plain": [
              "[('сопоцкина друскеник', 20.510568127854185),\n",
              " ('неприятель приблизившись', 20.510568127854185),\n",
              " ('саноку обстреливалась', 20.510568127854185),\n",
              " ('м.ю лермонтова', 20.510568127854185),\n",
              " ('австрийский аэроплан', 20.510568127854185),\n",
              " ('показывался аэроплан-птица', 20.510568127854185),\n",
              " ('das ist', 20.510568127854185),\n",
              " ('ist nesteroff', 20.510568127854185),\n",
              " ('песнь нестерове', 20.510568127854185),\n",
              " ('могучий унесся', 20.510568127854185)]"
            ]
          },
          "metadata": {},
          "execution_count": 60
        }
      ]
    },
    {
      "cell_type": "markdown",
      "id": "0a6e1c99",
      "metadata": {
        "id": "0a6e1c99"
      },
      "source": [
        "## Задание 4*\n",
        "\n",
        "Обновите функцию, получившуюся в предыдущем задании так, чтобы вместо произведения/деления вероятностей использовались сложение и вычитание логирифмов."
      ]
    },
    {
      "cell_type": "code",
      "execution_count": null,
      "id": "3f55a362",
      "metadata": {
        "id": "3f55a362"
      },
      "outputs": [],
      "source": [
        "# обновленная обновленная функция\n",
        "def scorer_proper_v2(word_count_a, word_count_b, bigram_count, tokens_total=0, min_count=0):\n",
        "  if bigram_count > min_count:\n",
        "    try:\n",
        "        jointproba_a_b = bigram_count/tokens_total # как часто два слова встречаются вместе / количество токенов в тексте\n",
        "        proba_a = word_count_a/tokens_total\n",
        "        proba_b = word_count_b/tokens_total\n",
        "        # score = log(\n",
        "        #     jointproba_a_b / (proba_a * proba_b),\n",
        "        #     2\n",
        "        # )\n",
        "        score = log(jointproba_a_b,2) - (log(proba_a,2) + log(proba_b,2))\n",
        "    except ZeroDivisionError:\n",
        "        return 0\n",
        "    return score\n",
        "  return 0"
      ]
    },
    {
      "cell_type": "markdown",
      "id": "b22785f4",
      "metadata": {
        "id": "b22785f4"
      },
      "source": [
        "## Задание 5"
      ]
    },
    {
      "cell_type": "markdown",
      "id": "a1121e53",
      "metadata": {
        "id": "a1121e53"
      },
      "source": [
        "Исследуйте gensim.models.Phrases. Проверьте сколько дефолтных scoring функций есть в этом классе. Попробуйте все доступные по умолчанию scoring функции и попробуйте настраивать для них значение threshold и min_count. Попробуйте сделать так, чтобы собиралось как можно больше нграммов. Попробуйте строить последовательность gensim.models.Phrases, чтобы строить более длинные нграммы"
      ]
    },
    {
      "cell_type": "code",
      "execution_count": 5,
      "id": "716fba84",
      "metadata": {
        "id": "716fba84"
      },
      "outputs": [],
      "source": [
        "import gensim"
      ]
    },
    {
      "cell_type": "code",
      "source": [
        "# согласно документации, в gensim.models.Phrases есть две scoring-функции:\n",
        "#     ”default” - original_scorer().\n",
        "#     ”npmi” - npmi_scorer()."
      ],
      "metadata": {
        "id": "3EhEJHasPW9j"
      },
      "id": "3EhEJHasPW9j",
      "execution_count": 6,
      "outputs": []
    },
    {
      "cell_type": "code",
      "source": [
        "sents = sent_tokenize(corpus, language='russian')"
      ],
      "metadata": {
        "id": "IqrEYwvw1qgQ"
      },
      "id": "IqrEYwvw1qgQ",
      "execution_count": 7,
      "outputs": []
    },
    {
      "cell_type": "code",
      "source": [
        "tokenized_sentences = [word_tokenize(sentence) for sentence in sents]\n",
        "tokenized_sentences = [[token.lower() for token in sentence if not re.match('\\W+', token)]\n",
        "                       for sentence in tokenized_sentences]\n",
        "\n",
        "tokenized_sentences[:2]"
      ],
      "metadata": {
        "colab": {
          "base_uri": "https://localhost:8080/"
        },
        "id": "XZ9Hani0g14X",
        "outputId": "b341065a-6ac7-417e-a5dd-583e703109f3"
      },
      "id": "XZ9Hani0g14X",
      "execution_count": 18,
      "outputs": [
        {
          "output_type": "execute_result",
          "data": {
            "text/plain": [
              "[['бои',\n",
              "  'у',\n",
              "  'сопоцкина',\n",
              "  'и',\n",
              "  'друскеник',\n",
              "  'закончились',\n",
              "  'отступлением',\n",
              "  'германцев'],\n",
              " ['неприятель',\n",
              "  'приблизившись',\n",
              "  'с',\n",
              "  'севера',\n",
              "  'к',\n",
              "  'осовцу',\n",
              "  'начал',\n",
              "  'артиллерийскую',\n",
              "  'борьбу',\n",
              "  'с',\n",
              "  'крепостью']]"
            ]
          },
          "metadata": {},
          "execution_count": 18
        }
      ]
    },
    {
      "cell_type": "code",
      "source": [
        "# Случайно выбираем три предложения, на котором будем проверять результат\n",
        "\n",
        "from random import randrange\n",
        "\n",
        "random.seed(42)\n",
        "\n",
        "sample_3 = []\n",
        "for i in range(3):\n",
        "  sample_3.append(randrange(len(tokenized_sentences)))\n",
        "sample_3"
      ],
      "metadata": {
        "colab": {
          "base_uri": "https://localhost:8080/"
        },
        "id": "T186QrOPqQZJ",
        "outputId": "c613b9b7-cdc7-4c3c-bb54-bd0aa476689c"
      },
      "id": "T186QrOPqQZJ",
      "execution_count": 47,
      "outputs": [
        {
          "output_type": "execute_result",
          "data": {
            "text/plain": [
              "[14592, 3278, 36048]"
            ]
          },
          "metadata": {},
          "execution_count": 47
        }
      ]
    },
    {
      "cell_type": "markdown",
      "source": [
        "### Пробуем scoring функцию npmi"
      ],
      "metadata": {
        "id": "8Fk9AfjMldhu"
      },
      "id": "8Fk9AfjMldhu"
    },
    {
      "cell_type": "code",
      "source": [
        "# сначала запускаем с параметрами по умолчанию\n",
        "colloc_npmi = gensim.models.phrases.Phrases(sentences=tokenized_sentences, min_count=5, threshold=-1, scoring='npmi')\n",
        "colloc_npmi_another = gensim.models.phrases.Phraser(colloc_npmi)\n",
        "\n",
        "colloc_npmi_2 = gensim.models.Phrases(colloc_npmi_another[tokenized_sentences],  min_count=5, threshold=-1, scoring='npmi')\n",
        "colloc_npmi_another_2 = gensim.models.phrases.Phraser(colloc_npmi_2)\n",
        "\n",
        "for i in sample_3:\n",
        "  current = colloc_npmi_another_2[colloc_npmi_another[tokenized_sentences[i]]]\n",
        "  filtered_current = list(filter(lambda j: '_' in j, current))\n",
        "  print(tokenized_sentences[i])\n",
        "  print(*filtered_current, sep='\\n')\n",
        "  print('-'*50)"
      ],
      "metadata": {
        "colab": {
          "base_uri": "https://localhost:8080/"
        },
        "id": "xcSvZc1wh2AY",
        "outputId": "de6e17ea-94eb-4996-ca6b-ce2b37fe61bc"
      },
      "id": "xcSvZc1wh2AY",
      "execution_count": 51,
      "outputs": [
        {
          "output_type": "stream",
          "name": "stdout",
          "text": [
            "['после', 'оглашения', 'решения', 'суда', 'шутов', 'успел', 'крикнуть', 'встречающим', 'его', 'сторонникам', 'что', 'правда', 'восторжествовала', 'и', 'он', 'наконец-то', 'сможет', 'рассказать', 'об', 'этом', 'народу']\n",
            "после_оглашения\n",
            "решения_суда\n",
            "и_он\n",
            "об_этом\n",
            "--------------------------------------------------\n",
            "['об', 'этом', 'заявил', 'сегодня', 'на', 'хi', 'съезде', 'кро', 'его', 'лидер', 'дмитрий', 'рогозин']\n",
            "об_этом_заявил_сегодня\n",
            "дмитрий_рогозин\n",
            "--------------------------------------------------\n",
            "['ликвидность', 'кредитного', 'портфеля', 'елена', 'ребгун', 'оценила', 'как', 'крайне', 'низкую', 'из', 'выданных', 'банком', 'ссуд', 'в', '1', 'миллиард', '871', 'миллион', 'рублей', 'удастся', 'вернуть', 'не', 'более', '33', 'миллионов', 'рублей.пакистан', 'ответил', 'отказом', 'на', 'просьбу', 'британского', 'правительства', 'принять', 'у', 'себя', 'пассажиров', 'афганского', 'авиалайнера', 'просивших', 'политического', 'убежища', 'в', 'великобритании', 'сообщает', 'информационная', 'служба', 'ввс']\n",
            "как_крайне\n",
            "в_1\n",
            "миллион_рублей\n",
            "не_более\n",
            "на_просьбу\n",
            "британского_правительства\n",
            "у_себя\n",
            "политического_убежища\n",
            "в_великобритании\n",
            "сообщает_информационная_служба_ввс\n",
            "--------------------------------------------------\n"
          ]
        }
      ]
    },
    {
      "cell_type": "code",
      "source": [
        "# кажется, что можно уменьшить параметр min_count\n",
        "\n",
        "colloc_npmi = gensim.models.phrases.Phrases(sentences=tokenized_sentences, min_count=2, threshold=-1, scoring='npmi')\n",
        "colloc_npmi_another = gensim.models.phrases.Phraser(colloc_npmi)\n",
        "\n",
        "colloc_npmi_2 = gensim.models.Phrases(colloc_npmi_another[tokenized_sentences],  min_count=2, threshold=-1, scoring='npmi')\n",
        "colloc_npmi_another_2 = gensim.models.phrases.Phraser(colloc_npmi_2)\n",
        "\n",
        "for i in sample_3:\n",
        "  current = colloc_npmi_another_2[colloc_npmi_another[tokenized_sentences[i]]]\n",
        "  filtered_current = list(filter(lambda j: '_' in j, current))\n",
        "  print(tokenized_sentences[i])\n",
        "  print(*filtered_current, sep='\\n')\n",
        "  print('-'*50)"
      ],
      "metadata": {
        "colab": {
          "base_uri": "https://localhost:8080/"
        },
        "id": "wgvhHfKRlssd",
        "outputId": "634bf7ed-0420-4558-c041-ff64204ab5fa"
      },
      "id": "wgvhHfKRlssd",
      "execution_count": 52,
      "outputs": [
        {
          "output_type": "stream",
          "name": "stdout",
          "text": [
            "['после', 'оглашения', 'решения', 'суда', 'шутов', 'успел', 'крикнуть', 'встречающим', 'его', 'сторонникам', 'что', 'правда', 'восторжествовала', 'и', 'он', 'наконец-то', 'сможет', 'рассказать', 'об', 'этом', 'народу']\n",
            "после_оглашения_решения_суда\n",
            "и_он\n",
            "рассказать_об\n",
            "--------------------------------------------------\n",
            "['об', 'этом', 'заявил', 'сегодня', 'на', 'хi', 'съезде', 'кро', 'его', 'лидер', 'дмитрий', 'рогозин']\n",
            "об_этом_заявил_сегодня\n",
            "его_лидер\n",
            "дмитрий_рогозин\n",
            "--------------------------------------------------\n",
            "['ликвидность', 'кредитного', 'портфеля', 'елена', 'ребгун', 'оценила', 'как', 'крайне', 'низкую', 'из', 'выданных', 'банком', 'ссуд', 'в', '1', 'миллиард', '871', 'миллион', 'рублей', 'удастся', 'вернуть', 'не', 'более', '33', 'миллионов', 'рублей.пакистан', 'ответил', 'отказом', 'на', 'просьбу', 'британского', 'правительства', 'принять', 'у', 'себя', 'пассажиров', 'афганского', 'авиалайнера', 'просивших', 'политического', 'убежища', 'в', 'великобритании', 'сообщает', 'информационная', 'служба', 'ввс']\n",
            "елена_ребгун\n",
            "как_крайне\n",
            "в_1\n",
            "миллион_рублей\n",
            "удастся_вернуть\n",
            "не_более\n",
            "33_миллионов\n",
            "ответил_отказом\n",
            "на_просьбу\n",
            "британского_правительства\n",
            "принять_у\n",
            "афганского_авиалайнера\n",
            "политического_убежища\n",
            "в_великобритании\n",
            "сообщает_информационная_служба_ввс\n",
            "--------------------------------------------------\n"
          ]
        }
      ]
    },
    {
      "cell_type": "code",
      "source": [
        "# что будет если увеличить threshold?\n",
        "\n",
        "colloc_npmi = gensim.models.phrases.Phrases(sentences=tokenized_sentences, min_count=2, threshold=0.8, scoring='npmi')\n",
        "colloc_npmi_another = gensim.models.phrases.Phraser(colloc_npmi)\n",
        "\n",
        "colloc_npmi_2 = gensim.models.Phrases(colloc_npmi_another[tokenized_sentences],  min_count=2, threshold=0.8, scoring='npmi')\n",
        "colloc_npmi_another_2 = gensim.models.phrases.Phraser(colloc_npmi_2)\n",
        "\n",
        "for i in sample_3:\n",
        "  current = colloc_npmi_another_2[colloc_npmi_another[tokenized_sentences[i]]]\n",
        "  filtered_current = list(filter(lambda j: '_' in j, current))\n",
        "  print(tokenized_sentences[i])\n",
        "  print(*filtered_current, sep='\\n')\n",
        "  print('-'*50)"
      ],
      "metadata": {
        "colab": {
          "base_uri": "https://localhost:8080/"
        },
        "id": "G0FY_P2smKDX",
        "outputId": "aefa7e2a-9094-4449-b9b2-a2e623239f50"
      },
      "id": "G0FY_P2smKDX",
      "execution_count": 53,
      "outputs": [
        {
          "output_type": "stream",
          "name": "stdout",
          "text": [
            "['после', 'оглашения', 'решения', 'суда', 'шутов', 'успел', 'крикнуть', 'встречающим', 'его', 'сторонникам', 'что', 'правда', 'восторжествовала', 'и', 'он', 'наконец-то', 'сможет', 'рассказать', 'об', 'этом', 'народу']\n",
            "об_этом\n",
            "--------------------------------------------------\n",
            "['об', 'этом', 'заявил', 'сегодня', 'на', 'хi', 'съезде', 'кро', 'его', 'лидер', 'дмитрий', 'рогозин']\n",
            "об_этом\n",
            "--------------------------------------------------\n",
            "['ликвидность', 'кредитного', 'портфеля', 'елена', 'ребгун', 'оценила', 'как', 'крайне', 'низкую', 'из', 'выданных', 'банком', 'ссуд', 'в', '1', 'миллиард', '871', 'миллион', 'рублей', 'удастся', 'вернуть', 'не', 'более', '33', 'миллионов', 'рублей.пакистан', 'ответил', 'отказом', 'на', 'просьбу', 'британского', 'правительства', 'принять', 'у', 'себя', 'пассажиров', 'афганского', 'авиалайнера', 'просивших', 'политического', 'убежища', 'в', 'великобритании', 'сообщает', 'информационная', 'служба', 'ввс']\n",
            "информационная_служба_ввс\n",
            "--------------------------------------------------\n"
          ]
        }
      ]
    },
    {
      "cell_type": "markdown",
      "source": [
        "Вывод: наиболее длинные последовательности для scoring функции npmi получились при min_count=2 и threshold=-1 -- то есть при минимальных значениях"
      ],
      "metadata": {
        "id": "tVkKVzSPmbBU"
      },
      "id": "tVkKVzSPmbBU"
    },
    {
      "cell_type": "markdown",
      "source": [
        "### Пробуем scoring функцию default"
      ],
      "metadata": {
        "id": "fU0OvlkhtGwK"
      },
      "id": "fU0OvlkhtGwK"
    },
    {
      "cell_type": "code",
      "source": [
        "# пробуем другую scoring функцию -- default с параметрами по умолчанию\n",
        "\n",
        "colloc_default = gensim.models.phrases.Phrases(sentences=tokenized_sentences, min_count=5, threshold=10.0, scoring='default')\n",
        "colloc_default_another = gensim.models.phrases.Phraser(colloc_default)\n",
        "\n",
        "colloc_default_2 = gensim.models.Phrases(colloc_default_another[tokenized_sentences], min_count=5, threshold=10.0, scoring='default')\n",
        "colloc_default_another_2 = gensim.models.phrases.Phraser(colloc_default_2)\n",
        "\n",
        "for i in sample_3:\n",
        "  current = colloc_default_another_2[colloc_default_another[tokenized_sentences[i]]]\n",
        "  filtered_current = list(filter(lambda j: '_' in j, current))\n",
        "  print(tokenized_sentences[i])\n",
        "  print(*filtered_current, sep='\\n')\n",
        "  print('-'*50)"
      ],
      "metadata": {
        "colab": {
          "base_uri": "https://localhost:8080/"
        },
        "id": "q1WrGMejnDwE",
        "outputId": "d1e9ca36-6d02-4ebd-b5cb-0f6b3c72c74d"
      },
      "id": "q1WrGMejnDwE",
      "execution_count": 54,
      "outputs": [
        {
          "output_type": "stream",
          "name": "stdout",
          "text": [
            "['после', 'оглашения', 'решения', 'суда', 'шутов', 'успел', 'крикнуть', 'встречающим', 'его', 'сторонникам', 'что', 'правда', 'восторжествовала', 'и', 'он', 'наконец-то', 'сможет', 'рассказать', 'об', 'этом', 'народу']\n",
            "после_оглашения\n",
            "решения_суда\n",
            "об_этом\n",
            "--------------------------------------------------\n",
            "['об', 'этом', 'заявил', 'сегодня', 'на', 'хi', 'съезде', 'кро', 'его', 'лидер', 'дмитрий', 'рогозин']\n",
            "об_этом_заявил_сегодня\n",
            "дмитрий_рогозин\n",
            "--------------------------------------------------\n",
            "['ликвидность', 'кредитного', 'портфеля', 'елена', 'ребгун', 'оценила', 'как', 'крайне', 'низкую', 'из', 'выданных', 'банком', 'ссуд', 'в', '1', 'миллиард', '871', 'миллион', 'рублей', 'удастся', 'вернуть', 'не', 'более', '33', 'миллионов', 'рублей.пакистан', 'ответил', 'отказом', 'на', 'просьбу', 'британского', 'правительства', 'принять', 'у', 'себя', 'пассажиров', 'афганского', 'авиалайнера', 'просивших', 'политического', 'убежища', 'в', 'великобритании', 'сообщает', 'информационная', 'служба', 'ввс']\n",
            "1_миллиард\n",
            "миллион_рублей\n",
            "британского_правительства\n",
            "у_себя\n",
            "политического_убежища\n",
            "сообщает_информационная_служба_ввс\n",
            "--------------------------------------------------\n"
          ]
        }
      ]
    },
    {
      "cell_type": "code",
      "source": [
        "# результаты нравятся меньше, чем с предыдущей функцией. Снижаем threshold\n",
        "\n",
        "colloc_default = gensim.models.phrases.Phrases(sentences=tokenized_sentences, min_count=5, threshold=5.0, scoring='default')\n",
        "colloc_default_another = gensim.models.phrases.Phraser(colloc_default)\n",
        "\n",
        "colloc_default_2 = gensim.models.Phrases(colloc_default_another[tokenized_sentences], min_count=5, threshold=5.0, scoring='default')\n",
        "colloc_default_another_2 = gensim.models.phrases.Phraser(colloc_default_2)\n",
        "\n",
        "for i in sample_3:\n",
        "  current = colloc_default_another_2[colloc_default_another[tokenized_sentences[i]]]\n",
        "  filtered_current = list(filter(lambda j: '_' in j, current))\n",
        "  print(tokenized_sentences[i])\n",
        "  print(*filtered_current, sep='\\n')\n",
        "  print('-'*50)"
      ],
      "metadata": {
        "colab": {
          "base_uri": "https://localhost:8080/"
        },
        "id": "eM68cAoE3zc-",
        "outputId": "8c4ce3e8-b5f6-4640-cb72-7c4fcfdec2d4"
      },
      "id": "eM68cAoE3zc-",
      "execution_count": 55,
      "outputs": [
        {
          "output_type": "stream",
          "name": "stdout",
          "text": [
            "['после', 'оглашения', 'решения', 'суда', 'шутов', 'успел', 'крикнуть', 'встречающим', 'его', 'сторонникам', 'что', 'правда', 'восторжествовала', 'и', 'он', 'наконец-то', 'сможет', 'рассказать', 'об', 'этом', 'народу']\n",
            "после_оглашения\n",
            "решения_суда\n",
            "об_этом\n",
            "--------------------------------------------------\n",
            "['об', 'этом', 'заявил', 'сегодня', 'на', 'хi', 'съезде', 'кро', 'его', 'лидер', 'дмитрий', 'рогозин']\n",
            "об_этом_заявил_сегодня\n",
            "дмитрий_рогозин\n",
            "--------------------------------------------------\n",
            "['ликвидность', 'кредитного', 'портфеля', 'елена', 'ребгун', 'оценила', 'как', 'крайне', 'низкую', 'из', 'выданных', 'банком', 'ссуд', 'в', '1', 'миллиард', '871', 'миллион', 'рублей', 'удастся', 'вернуть', 'не', 'более', '33', 'миллионов', 'рублей.пакистан', 'ответил', 'отказом', 'на', 'просьбу', 'британского', 'правительства', 'принять', 'у', 'себя', 'пассажиров', 'афганского', 'авиалайнера', 'просивших', 'политического', 'убежища', 'в', 'великобритании', 'сообщает', 'информационная', 'служба', 'ввс']\n",
            "1_миллиард\n",
            "миллион_рублей\n",
            "не_более\n",
            "на_просьбу\n",
            "британского_правительства\n",
            "у_себя\n",
            "политического_убежища\n",
            "в_великобритании\n",
            "сообщает_информационная_служба_ввс\n",
            "--------------------------------------------------\n"
          ]
        }
      ]
    },
    {
      "cell_type": "code",
      "source": [
        "# лучше не стало, снижаем еще до минимума\n",
        "\n",
        "colloc_default = gensim.models.phrases.Phrases(sentences=tokenized_sentences, min_count=5, threshold=0.01, scoring='default')\n",
        "colloc_default_another = gensim.models.phrases.Phraser(colloc_default)\n",
        "\n",
        "colloc_default_2 = gensim.models.Phrases(colloc_default_another[tokenized_sentences], min_count=5, threshold=0.01, scoring='default')\n",
        "colloc_default_another_2 = gensim.models.phrases.Phraser(colloc_default_2)\n",
        "\n",
        "for i in sample_3:\n",
        "  current = colloc_default_another_2[colloc_default_another[tokenized_sentences[i]]]\n",
        "  filtered_current = list(filter(lambda j: '_' in j, current))\n",
        "  print(tokenized_sentences[i])\n",
        "  print(*filtered_current, sep='\\n')\n",
        "  print('-'*50)"
      ],
      "metadata": {
        "colab": {
          "base_uri": "https://localhost:8080/"
        },
        "id": "ECOtLDVupFOm",
        "outputId": "71a05d08-017c-44cc-d54a-325e5563ce1e"
      },
      "id": "ECOtLDVupFOm",
      "execution_count": 56,
      "outputs": [
        {
          "output_type": "stream",
          "name": "stdout",
          "text": [
            "['после', 'оглашения', 'решения', 'суда', 'шутов', 'успел', 'крикнуть', 'встречающим', 'его', 'сторонникам', 'что', 'правда', 'восторжествовала', 'и', 'он', 'наконец-то', 'сможет', 'рассказать', 'об', 'этом', 'народу']\n",
            "после_оглашения\n",
            "решения_суда\n",
            "и_он\n",
            "об_этом\n",
            "--------------------------------------------------\n",
            "['об', 'этом', 'заявил', 'сегодня', 'на', 'хi', 'съезде', 'кро', 'его', 'лидер', 'дмитрий', 'рогозин']\n",
            "об_этом_заявил_сегодня\n",
            "дмитрий_рогозин\n",
            "--------------------------------------------------\n",
            "['ликвидность', 'кредитного', 'портфеля', 'елена', 'ребгун', 'оценила', 'как', 'крайне', 'низкую', 'из', 'выданных', 'банком', 'ссуд', 'в', '1', 'миллиард', '871', 'миллион', 'рублей', 'удастся', 'вернуть', 'не', 'более', '33', 'миллионов', 'рублей.пакистан', 'ответил', 'отказом', 'на', 'просьбу', 'британского', 'правительства', 'принять', 'у', 'себя', 'пассажиров', 'афганского', 'авиалайнера', 'просивших', 'политического', 'убежища', 'в', 'великобритании', 'сообщает', 'информационная', 'служба', 'ввс']\n",
            "как_крайне\n",
            "в_1\n",
            "миллион_рублей\n",
            "не_более\n",
            "на_просьбу\n",
            "британского_правительства\n",
            "у_себя\n",
            "политического_убежища\n",
            "в_великобритании\n",
            "сообщает_информационная_служба_ввс\n",
            "--------------------------------------------------\n"
          ]
        }
      ]
    },
    {
      "cell_type": "code",
      "source": [
        "# снижаем еще и минимальное количество вхождений тоже\n",
        "\n",
        "colloc_default = gensim.models.phrases.Phrases(sentences=tokenized_sentences, min_count=2, threshold=0.01, scoring='default')\n",
        "colloc_default_another = gensim.models.phrases.Phraser(colloc_default)\n",
        "\n",
        "colloc_default_2 = gensim.models.Phrases(colloc_default_another[tokenized_sentences], min_count=2, threshold=0.01, scoring='default')\n",
        "colloc_default_another_2 = gensim.models.phrases.Phraser(colloc_default_2)\n",
        "\n",
        "for i in sample_3:\n",
        "  current = colloc_default_another_2[colloc_default_another[tokenized_sentences[i]]]\n",
        "  filtered_current = list(filter(lambda j: '_' in j, current))\n",
        "  print(tokenized_sentences[i])\n",
        "  print(*filtered_current, sep='\\n')\n",
        "  print('-'*50)"
      ],
      "metadata": {
        "colab": {
          "base_uri": "https://localhost:8080/"
        },
        "id": "GP12N2lhpiWP",
        "outputId": "9c263f89-8506-4e53-a2ba-e13fd522464a"
      },
      "id": "GP12N2lhpiWP",
      "execution_count": 57,
      "outputs": [
        {
          "output_type": "stream",
          "name": "stdout",
          "text": [
            "['после', 'оглашения', 'решения', 'суда', 'шутов', 'успел', 'крикнуть', 'встречающим', 'его', 'сторонникам', 'что', 'правда', 'восторжествовала', 'и', 'он', 'наконец-то', 'сможет', 'рассказать', 'об', 'этом', 'народу']\n",
            "после_оглашения\n",
            "решения_суда\n",
            "и_он\n",
            "об_этом\n",
            "--------------------------------------------------\n",
            "['об', 'этом', 'заявил', 'сегодня', 'на', 'хi', 'съезде', 'кро', 'его', 'лидер', 'дмитрий', 'рогозин']\n",
            "об_этом_заявил_сегодня\n",
            "его_лидер\n",
            "дмитрий_рогозин\n",
            "--------------------------------------------------\n",
            "['ликвидность', 'кредитного', 'портфеля', 'елена', 'ребгун', 'оценила', 'как', 'крайне', 'низкую', 'из', 'выданных', 'банком', 'ссуд', 'в', '1', 'миллиард', '871', 'миллион', 'рублей', 'удастся', 'вернуть', 'не', 'более', '33', 'миллионов', 'рублей.пакистан', 'ответил', 'отказом', 'на', 'просьбу', 'британского', 'правительства', 'принять', 'у', 'себя', 'пассажиров', 'афганского', 'авиалайнера', 'просивших', 'политического', 'убежища', 'в', 'великобритании', 'сообщает', 'информационная', 'служба', 'ввс']\n",
            "как_крайне\n",
            "в_1\n",
            "миллион_рублей\n",
            "не_более\n",
            "33_миллионов\n",
            "ответил_отказом\n",
            "на_просьбу\n",
            "британского_правительства\n",
            "принять_у_себя\n",
            "афганского_авиалайнера\n",
            "политического_убежища\n",
            "в_великобритании\n",
            "сообщает_информационная_служба_ввс\n",
            "--------------------------------------------------\n"
          ]
        }
      ]
    }
  ],
  "metadata": {
    "kernelspec": {
      "display_name": "Python 3 (ipykernel)",
      "language": "python",
      "name": "python3"
    },
    "language_info": {
      "codemirror_mode": {
        "name": "ipython",
        "version": 3
      },
      "file_extension": ".py",
      "mimetype": "text/x-python",
      "name": "python",
      "nbconvert_exporter": "python",
      "pygments_lexer": "ipython3",
      "version": "3.9.14"
    },
    "colab": {
      "provenance": [],
      "collapsed_sections": [
        "KbnsuOBWibZ3"
      ],
      "toc_visible": true,
      "include_colab_link": true
    }
  },
  "nbformat": 4,
  "nbformat_minor": 5
}
