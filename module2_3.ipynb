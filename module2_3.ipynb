{
  "cells": [
    {
      "cell_type": "markdown",
      "metadata": {
        "id": "view-in-github",
        "colab_type": "text"
      },
      "source": [
        "<a href=\"https://colab.research.google.com/github/liminovna/HSE_NLP_ASSIGNMENTS/blob/main/module2_3.ipynb\" target=\"_parent\"><img src=\"https://colab.research.google.com/assets/colab-badge.svg\" alt=\"Open In Colab\"/></a>"
      ]
    },
    {
      "cell_type": "markdown",
      "id": "371970ff",
      "metadata": {
        "id": "371970ff"
      },
      "source": [
        "# Домашнее задание № 3. Исправление опечаток"
      ]
    },
    {
      "cell_type": "markdown",
      "id": "b35cf8bd",
      "metadata": {
        "id": "b35cf8bd"
      },
      "source": [
        "## 1. Доп. ранжирование по вероятности (3 балла)"
      ]
    },
    {
      "cell_type": "markdown",
      "id": "0c6be25c",
      "metadata": {
        "id": "0c6be25c"
      },
      "source": [
        "Дополните get_closest_hybrid_match в семинаре так, чтобы из кандадатов с одинаковым расстоянием редактирования выбиралось наиболее вероятное."
      ]
    },
    {
      "cell_type": "code",
      "source": [
        "! wget https://github.com/mannefedov/compling_nlp_hse_course/raw/master/data/wiki_data.txt.zip\n",
        "!unzip -o wiki_data.txt.zip"
      ],
      "metadata": {
        "colab": {
          "base_uri": "https://localhost:8080/"
        },
        "id": "BoUMOajSaVEO",
        "outputId": "fd1548d3-183f-481a-95f5-df959e5f6c45"
      },
      "id": "BoUMOajSaVEO",
      "execution_count": null,
      "outputs": [
        {
          "output_type": "stream",
          "name": "stdout",
          "text": [
            "--2024-11-24 18:23:11--  https://github.com/mannefedov/compling_nlp_hse_course/raw/master/data/wiki_data.txt.zip\n",
            "Resolving github.com (github.com)... 140.82.113.4\n",
            "Connecting to github.com (github.com)|140.82.113.4|:443... connected.\n",
            "HTTP request sent, awaiting response... 302 Found\n",
            "Location: https://raw.githubusercontent.com/mannefedov/compling_nlp_hse_course/master/data/wiki_data.txt.zip [following]\n",
            "--2024-11-24 18:23:11--  https://raw.githubusercontent.com/mannefedov/compling_nlp_hse_course/master/data/wiki_data.txt.zip\n",
            "Resolving raw.githubusercontent.com (raw.githubusercontent.com)... 185.199.108.133, 185.199.110.133, 185.199.111.133, ...\n",
            "Connecting to raw.githubusercontent.com (raw.githubusercontent.com)|185.199.108.133|:443... connected.\n",
            "HTTP request sent, awaiting response... 200 OK\n",
            "Length: 18709143 (18M) [application/zip]\n",
            "Saving to: ‘wiki_data.txt.zip’\n",
            "\n",
            "wiki_data.txt.zip   100%[===================>]  17.84M  --.-KB/s    in 0.1s    \n",
            "\n",
            "2024-11-24 18:23:11 (148 MB/s) - ‘wiki_data.txt.zip’ saved [18709143/18709143]\n",
            "\n",
            "Archive:  wiki_data.txt.zip\n",
            "  inflating: wiki_data.txt           \n",
            "  inflating: __MACOSX/._wiki_data.txt  \n"
          ]
        }
      ]
    },
    {
      "cell_type": "code",
      "source": [
        "corpus = open('wiki_data.txt', encoding='utf8').read()"
      ],
      "metadata": {
        "id": "LKEOQilNaHhd"
      },
      "id": "LKEOQilNaHhd",
      "execution_count": null,
      "outputs": []
    },
    {
      "cell_type": "code",
      "source": [
        "!pip install textdistance"
      ],
      "metadata": {
        "colab": {
          "base_uri": "https://localhost:8080/"
        },
        "id": "JnOMuST-nAyl",
        "outputId": "daa8b264-a42f-4897-c1e4-da3f47d30589"
      },
      "id": "JnOMuST-nAyl",
      "execution_count": null,
      "outputs": [
        {
          "output_type": "stream",
          "name": "stdout",
          "text": [
            "Collecting textdistance\n",
            "  Downloading textdistance-4.6.3-py3-none-any.whl.metadata (18 kB)\n",
            "Downloading textdistance-4.6.3-py3-none-any.whl (31 kB)\n",
            "Installing collected packages: textdistance\n",
            "Successfully installed textdistance-4.6.3\n"
          ]
        }
      ]
    },
    {
      "cell_type": "code",
      "source": [
        "from collections import Counter\n",
        "import re\n",
        "from sklearn.metrics.pairwise import cosine_similarity, cosine_distances\n",
        "import textdistance\n",
        "import numpy as np\n",
        "from sklearn.feature_extraction.text import CountVectorizer, TfidfVectorizer\n",
        "from sklearn.metrics.pairwise import cosine_similarity, cosine_distances"
      ],
      "metadata": {
        "id": "zTcCDrZxhO6s"
      },
      "id": "zTcCDrZxhO6s",
      "execution_count": null,
      "outputs": []
    },
    {
      "cell_type": "code",
      "source": [
        "vocab = Counter(re.findall('\\w+', corpus.lower()))\n",
        "\n",
        "word2id = list(vocab.keys())\n",
        "id2word = {i:word for i, word in enumerate(vocab)}\n",
        "\n",
        "\n",
        "vec = CountVectorizer(analyzer='char', max_features=10000, ngram_range=(1,3))\n",
        "X = vec.fit_transform(vocab)"
      ],
      "metadata": {
        "id": "t5T7GjyXhWvE"
      },
      "id": "t5T7GjyXhWvE",
      "execution_count": null,
      "outputs": []
    },
    {
      "cell_type": "code",
      "execution_count": null,
      "id": "f8e8814a",
      "metadata": {
        "id": "f8e8814a"
      },
      "outputs": [],
      "source": [
        "def get_closest_match_vec(text, X, vec, topn=20):\n",
        "    v = vec.transform([text])\n",
        "\n",
        "    # вся эффективноть берется из того, что мы сразу считаем близость\n",
        "    # 1 вектора ко всей матрице (словам в словаре)\n",
        "    # считать по отдельности циклом было бы дольше\n",
        "    # вместо одного вектора может даже целая матрица\n",
        "    # тогда считаться в итоге будет ещё быстрее\n",
        "\n",
        "    similarities = cosine_distances(v, X)[0]\n",
        "    topn = similarities.argsort()[:topn]\n",
        "\n",
        "    return [(id2word[top], similarities[top]) for top in topn]\n",
        "\n",
        "def get_closest_match_with_metric(text, lookup,topn=20, metric=textdistance.levenshtein):\n",
        "    # Counter можно использовать и с не целыми числами\n",
        "    similarities = Counter()\n",
        "\n",
        "    for word in lookup:\n",
        "        similarities[word] = metric.normalized_similarity(text, word)\n",
        "\n",
        "    return similarities.most_common(topn)\n",
        "\n",
        "def get_closest_hybrid_match(text, X, vec, topn=3, metric=textdistance.damerau_levenshtein):\n",
        "    candidates = get_closest_match_vec(text, X, vec, topn*4)\n",
        "    lookup = [cand[0] for cand in candidates]\n",
        "    closest = get_closest_match_with_metric(text, lookup, topn, metric=metric)\n",
        "\n",
        "    # <добавленный код>\n",
        "    best = []\n",
        "\n",
        "    max_metric = closest[0][1]\n",
        "\n",
        "    for pair in closest:\n",
        "      if pair[1] == max_metric:\n",
        "        best.append(pair)\n",
        "      else:\n",
        "        break\n",
        "\n",
        "    res = []\n",
        "    max_p = 0\n",
        "\n",
        "    for pair in best:\n",
        "      prob = P(pair[0])\n",
        "      if prob > max_p:\n",
        "        res=((pair + (prob,)))\n",
        "        max_p = prob\n",
        "\n",
        "    # возвращаем только 1 вариант с наибольшей вероятностью в нашем корпусе.\n",
        "    # Помимо самого кандидата и similarity также возвращается вероятность\n",
        "    return res\n",
        "    # </добавленный код>\n",
        "\n",
        "N = sum(vocab.values())\n",
        "\n",
        "def P(word, N=N):\n",
        "    return vocab[word] / N\n",
        "\n",
        "def predict_mistaken(word, vocab):\n",
        "    return 0 if word in vocab else 1\n"
      ]
    },
    {
      "cell_type": "markdown",
      "id": "f9cf9985",
      "metadata": {
        "id": "f9cf9985"
      },
      "source": [
        "## 2.  Symspell (7 баллов)"
      ]
    },
    {
      "cell_type": "markdown",
      "id": "9392cc23",
      "metadata": {
        "id": "9392cc23"
      },
      "source": [
        "Реализуйте алгоритм Symspell. Он похож на алгоритм Норвига, но проще и быстрее. Он основан только на одной операции - удалении символа. Описание алгоритма по шагам:\n",
        "\n",
        "1) Составляется словарь правильных слов  \n",
        "2) На основе словаря правильных слов составляется словарь удалений - для каждого правильного слова создаются все варианты удалений и создается словарь, где ключ - слово с удалением, а значение - правильное слово  (!)\n",
        "\n",
        "3) Для выбора исправления для слова с опечаткой генерируются все варианты удаления, из них выбираются те, что есть в словаре удалений, построенного на шаге 2. Слово с опечаткой заменяется на правильное слово, соответствующее варианту удаления  \n",
        "4) Если в словаре удалений есть несколько вариантов, то выбирается удаление, которому соответствует наиболее вероятное правильное слово  \n",
        "\n",
        "\n",
        "Оцените качество полученного алгоритма теми же тремя метриками."
      ]
    },
    {
      "cell_type": "code",
      "source": [
        "! wget https://github.com/mannefedov/compling_nlp_hse_course/raw/master/data/wiki_data.txt.zip\n",
        "!unzip -o wiki_data.txt.zip"
      ],
      "metadata": {
        "colab": {
          "base_uri": "https://localhost:8080/"
        },
        "outputId": "73383a2e-1b81-449f-e480-dd3a09bc7dde",
        "id": "frYTKnejrtNI"
      },
      "execution_count": 1,
      "outputs": [
        {
          "output_type": "stream",
          "name": "stdout",
          "text": [
            "--2024-11-29 17:01:16--  https://github.com/mannefedov/compling_nlp_hse_course/raw/master/data/wiki_data.txt.zip\n",
            "Resolving github.com (github.com)... 140.82.112.4\n",
            "Connecting to github.com (github.com)|140.82.112.4|:443... connected.\n",
            "HTTP request sent, awaiting response... 302 Found\n",
            "Location: https://raw.githubusercontent.com/mannefedov/compling_nlp_hse_course/master/data/wiki_data.txt.zip [following]\n",
            "--2024-11-29 17:01:16--  https://raw.githubusercontent.com/mannefedov/compling_nlp_hse_course/master/data/wiki_data.txt.zip\n",
            "Resolving raw.githubusercontent.com (raw.githubusercontent.com)... 185.199.108.133, 185.199.109.133, 185.199.110.133, ...\n",
            "Connecting to raw.githubusercontent.com (raw.githubusercontent.com)|185.199.108.133|:443... connected.\n",
            "HTTP request sent, awaiting response... 200 OK\n",
            "Length: 18709143 (18M) [application/zip]\n",
            "Saving to: ‘wiki_data.txt.zip’\n",
            "\n",
            "wiki_data.txt.zip   100%[===================>]  17.84M  80.8MB/s    in 0.2s    \n",
            "\n",
            "2024-11-29 17:01:17 (80.8 MB/s) - ‘wiki_data.txt.zip’ saved [18709143/18709143]\n",
            "\n",
            "Archive:  wiki_data.txt.zip\n",
            "  inflating: wiki_data.txt           \n",
            "  inflating: __MACOSX/._wiki_data.txt  \n"
          ]
        }
      ],
      "id": "frYTKnejrtNI"
    },
    {
      "cell_type": "code",
      "source": [
        "corpus = open('wiki_data.txt', encoding='utf8').read()"
      ],
      "metadata": {
        "id": "DOxp6u0wrtNK"
      },
      "execution_count": 2,
      "outputs": [],
      "id": "DOxp6u0wrtNK"
    },
    {
      "cell_type": "code",
      "source": [
        "!pip install textdistance"
      ],
      "metadata": {
        "colab": {
          "base_uri": "https://localhost:8080/"
        },
        "id": "81HeZV9fX-LB",
        "outputId": "b5dc7cf9-efcd-452c-89b7-19d89c380d68"
      },
      "id": "81HeZV9fX-LB",
      "execution_count": 3,
      "outputs": [
        {
          "output_type": "stream",
          "name": "stdout",
          "text": [
            "Collecting textdistance\n",
            "  Downloading textdistance-4.6.3-py3-none-any.whl.metadata (18 kB)\n",
            "Downloading textdistance-4.6.3-py3-none-any.whl (31 kB)\n",
            "Installing collected packages: textdistance\n",
            "Successfully installed textdistance-4.6.3\n"
          ]
        }
      ]
    },
    {
      "cell_type": "code",
      "source": [
        "from collections import Counter\n",
        "import re\n",
        "from sklearn.metrics.pairwise import cosine_similarity, cosine_distances\n",
        "import textdistance\n",
        "import numpy as np\n",
        "from sklearn.feature_extraction.text import CountVectorizer, TfidfVectorizer\n",
        "from sklearn.metrics.pairwise import cosine_similarity, cosine_distances"
      ],
      "metadata": {
        "id": "ABPCwm6wrwjL"
      },
      "execution_count": 4,
      "outputs": [],
      "id": "ABPCwm6wrwjL"
    },
    {
      "cell_type": "code",
      "source": [
        "vocab = Counter(re.findall('\\w+', corpus.lower()))\n",
        "\n",
        "word2id = list(vocab.keys())\n",
        "id2word = {i:word for i, word in enumerate(vocab)}\n",
        "\n",
        "\n",
        "vec = CountVectorizer(analyzer='char', max_features=10000, ngram_range=(1,3))\n",
        "X = vec.fit_transform(vocab)"
      ],
      "metadata": {
        "id": "bpKfddqTrwjL"
      },
      "execution_count": 5,
      "outputs": [],
      "id": "bpKfddqTrwjL"
    },
    {
      "cell_type": "code",
      "source": [
        "N = sum(vocab.values())\n",
        "\n",
        "def P(word, N=N):\n",
        "    return vocab[word] / N"
      ],
      "metadata": {
        "id": "-dc9Le4GXyx1"
      },
      "id": "-dc9Le4GXyx1",
      "execution_count": 6,
      "outputs": []
    },
    {
      "cell_type": "code",
      "source": [
        "def deletions1(word):\n",
        "    assert len(word) > 1\n",
        "    splits     = [(word[:i], word[i:])    for i in range(len(word) + 1)]\n",
        "    deletes    = [L + R[1:]               for L, R in splits if R]\n",
        "    return set(deletes)"
      ],
      "metadata": {
        "id": "zeebBqPyX3AB"
      },
      "id": "zeebBqPyX3AB",
      "execution_count": 7,
      "outputs": []
    },
    {
      "cell_type": "code",
      "source": [
        "correct_dict = dict()\n",
        "\n",
        "for word, freq in vocab.most_common():\n",
        "  # print(word, freq)\n",
        "  if len(word) > 1:\n",
        "    delit = deletions1(word)\n",
        "    # print(delit)\n",
        "    for s in delit:\n",
        "      curr = correct_dict.get(s)\n",
        "      # print(s, curr)\n",
        "      if not curr:\n",
        "        # записываем с словарь кандидатов варианты только для того, слова, которое встретилось чаще\n",
        "        correct_dict.update({s: (word, freq)})\n",
        "        # print('added', {s: (word, freq)})\n",
        "  # else:\n",
        "  #   correct_dict[word] = (word, freq)"
      ],
      "metadata": {
        "id": "xo0zEtQlqnG1"
      },
      "id": "xo0zEtQlqnG1",
      "execution_count": 92,
      "outputs": []
    },
    {
      "cell_type": "code",
      "source": [
        "for word, freq in vocab.most_common():\n",
        "  if 'з' in word and len(word)<4:\n",
        "    print(word, freq)"
      ],
      "metadata": {
        "colab": {
          "base_uri": "https://localhost:8080/"
        },
        "id": "7n7OjKsePqim",
        "outputId": "e807844d-db19-4ff7-fd73-2bb7a3365691"
      },
      "id": "7n7OjKsePqim",
      "execution_count": 91,
      "outputs": [
        {
          "output_type": "stream",
          "name": "stdout",
          "text": [
            "из 29150\n",
            "за 17971\n",
            "раз 3388\n",
            "без 1992\n",
            "зал 211\n",
            "з 175\n",
            "газ 105\n",
            "зао 81\n",
            "фз 77\n",
            "миз 75\n",
            "зон 53\n",
            "оз 53\n",
            "баз 51\n",
            "зс 51\n",
            "каз 43\n",
            "зла 42\n",
            "вуз 41\n",
            "виз 40\n",
            "паз 38\n",
            "зис 38\n",
            "изд 37\n",
            "зоя 35\n",
            "роз 35\n",
            "зуб 33\n",
            "зои 32\n",
            "зд 29\n",
            "зло 26\n",
            "зуд 26\n",
            "коз 26\n",
            "зак 25\n",
            "маз 25\n",
            "фаз 24\n",
            "сзм 24\n",
            "зо 21\n",
            "муз 21\n",
            "зов 20\n",
            "зав 20\n",
            "цзе 20\n",
            "изо 20\n",
            "зпу 19\n",
            "воз 19\n",
            "ваз 17\n",
            "зам 17\n",
            "цзы 17\n",
            "озу 17\n",
            "аз 17\n",
            "низ 16\n",
            "зил 16\n",
            "зко 16\n",
            "цзи 15\n",
            "ямз 15\n",
            "азс 14\n",
            "зе 14\n",
            "экз 13\n",
            "зее 13\n",
            "сза 12\n",
            "фзу 12\n",
            "киз 12\n",
            "доз 11\n",
            "лиз 11\n",
            "зиф 11\n",
            "зол 9\n",
            "уз 9\n",
            "аза 9\n",
            "зря 9\n",
            "дзе 9\n",
            "зи 9\n",
            "ссз 9\n",
            "зум 8\n",
            "зад 8\n",
            "зрк 8\n",
            "исз 8\n",
            "звп 8\n",
            "дмз 8\n",
            "пиз 8\n",
            "зна 7\n",
            "зм 7\n",
            "кшз 7\n",
            "тюз 7\n",
            "зою 7\n",
            "яз 7\n",
            "язы 7\n",
            "кэз 7\n",
            "рза 6\n",
            "узи 6\n",
            "вяз 6\n",
            "язв 6\n",
            "злу 6\n",
            "зу 6\n",
            "зан 6\n",
            "дез 6\n",
            "овз 6\n",
            "кмз 6\n",
            "знб 6\n",
            "цзо 6\n",
            "кыз 6\n",
            "кз 5\n",
            "мтз 5\n",
            "зим 5\n",
            "юз 5\n",
            "вёз 5\n",
            "язь 5\n",
            "нпз 5\n",
            "риз 5\n",
            "хкз 5\n",
            "срз 5\n",
            "таз 5\n",
            "изб 5\n",
            "тэз 5\n",
            "зпо 5\n",
            "мзв 5\n",
            "дзё 4\n",
            "мз 4\n",
            "зиу 4\n",
            "заз 4\n",
            "зап 4\n",
            "пзу 4\n",
            "змс 4\n",
            "азо 4\n",
            "дзи 4\n",
            "цвз 4\n",
            "хоз 4\n",
            "зия 4\n",
            "зпт 4\n",
            "зии 3\n",
            "хтз 3\n",
            "пкз 3\n",
            "цзю 3\n",
            "зя 3\n",
            "уаз 3\n",
            "луз 3\n",
            "зы 3\n",
            "изз 3\n",
            "уза 3\n",
            "фзо 3\n",
            "дэз 3\n",
            "двз 3\n",
            "туз 3\n",
            "азы 3\n",
            "лез 3\n",
            "цзу 3\n",
            "нмз 3\n",
            "зец 3\n",
            "зур 3\n",
            "шпз 3\n",
            "дуз 3\n",
            "цзя 3\n",
            "рхз 3\n",
            "зос 2\n",
            "гмз 2\n",
            "нез 2\n",
            "тоз 2\n",
            "гиз 2\n",
            "изъ 2\n",
            "заб 2\n",
            "зья 2\n",
            "зем 2\n",
            "руз 2\n",
            "юзи 2\n",
            "дзу 2\n",
            "зэ 2\n",
            "орз 2\n",
            "мсз 2\n",
            "зиз 2\n",
            "гпз 2\n",
            "шез 2\n",
            "взя 2\n",
            "зда 2\n",
            "зхл 2\n",
            "лаз 2\n",
            "лмз 2\n",
            "зин 2\n",
            "ази 2\n",
            "бкз 2\n",
            "фуз 2\n",
            "смз 2\n",
            "гоз 2\n",
            "изе 2\n",
            "офз 2\n",
            "зве 2\n",
            "агз 2\n",
            "азь 2\n",
            "рез 2\n",
            "наз 2\n",
            "язи 2\n",
            "атз 2\n",
            "змз 2\n",
            "зое 2\n",
            "нзи 2\n",
            "боз 2\n",
            "зэр 1\n",
            "зуа 1\n",
            "хэз 1\n",
            "зюд 1\n",
            "люз 1\n",
            "физ 1\n",
            "зсо 1\n",
            "мза 1\n",
            "цз 1\n",
            "диз 1\n",
            "зюз 1\n",
            "зян 1\n",
            "сз 1\n",
            "зоэ 1\n",
            "зле 1\n",
            "зтш 1\n",
            "анз 1\n",
            "пзс 1\n",
            "зга 1\n",
            "эз 1\n",
            "зб 1\n",
            "рмз 1\n",
            "гуз 1\n",
            "зел 1\n",
            "зяу 1\n",
            "мёз 1\n",
            "зго 1\n",
            "зоо 1\n",
            "моз 1\n",
            "зид 1\n",
            "злы 1\n",
            "зеф 1\n",
            "зрв 1\n",
            "дзз 1\n",
            "сbз 1\n",
            "фзд 1\n",
            "зау 1\n",
            "зно 1\n",
            "езд 1\n",
            "эзв 1\n",
            "зка 1\n",
            "зер 1\n",
            "зф 1\n",
            "зто 1\n",
            "қаз 1\n",
            "иез 1\n",
            "дза 1\n",
            "узб 1\n",
            "за7 1\n",
            "спз 1\n",
            "юзо 1\n",
            "оюз 1\n",
            "шиз 1\n",
            "биз 1\n",
            "нзы 1\n",
            "бпз 1\n",
            "ттз 1\n",
            "зея 1\n",
            "зас 1\n",
            "жзл 1\n",
            "юза 1\n",
            "зь 1\n",
            "чез 1\n",
            "нз 1\n",
            "фкз 1\n",
            "умз 1\n",
            "зэд 1\n",
            "знь 1\n",
            "гз 1\n",
            "зфи 1\n",
            "тиз 1\n",
            "гзт 1\n",
            "заи 1\n",
            "зед 1\n",
            "жуз 1\n",
            "арз 1\n",
            "уæз 1\n",
            "збт 1\n",
            "цзл 1\n",
            "иаз 1\n",
            "азъ 1\n",
            "зиг 1\n",
            "нзф 1\n",
            "быз 1\n",
            "зби 1\n",
            "схз 1\n",
            "оза 1\n",
            "сиз 1\n"
          ]
        }
      ]
    },
    {
      "cell_type": "code",
      "source": [
        "def choose_best(misspelled_word):\n",
        "  assert len(misspelled_word) > 1, 'Слишком короткое слово'\n",
        "  options = deletions1(misspelled_word)\n",
        "  # print(options)\n",
        "  max_likelihood = 0\n",
        "  likely_word = misspelled_word\n",
        "  for o in options:\n",
        "    # print(o)\n",
        "    curr_pair = correct_dict.get(o)\n",
        "    print(curr_pair)\n",
        "    if correct_dict.get(o):\n",
        "      if curr_pair[1] > max_likelihood:\n",
        "        max_likelihood = curr_pair[1]\n",
        "        likely_word = curr_pair[0]\n",
        "  return likely_word"
      ],
      "metadata": {
        "id": "CLqBJA5gB8ob"
      },
      "id": "CLqBJA5gB8ob",
      "execution_count": 96,
      "outputs": []
    },
    {
      "cell_type": "code",
      "source": [
        "# Если слово только из одной буквы, выдается ошибка\n",
        "choose_best('а')"
      ],
      "metadata": {
        "colab": {
          "base_uri": "https://localhost:8080/",
          "height": 280
        },
        "id": "R171bUzUFJOq",
        "outputId": "279b65a9-290b-472e-8362-d004c20ae8c2"
      },
      "id": "R171bUzUFJOq",
      "execution_count": 69,
      "outputs": [
        {
          "output_type": "error",
          "ename": "AssertionError",
          "evalue": "Слишком короткое слово",
          "traceback": [
            "\u001b[0;31m---------------------------------------------------------------------------\u001b[0m",
            "\u001b[0;31mAssertionError\u001b[0m                            Traceback (most recent call last)",
            "\u001b[0;32m<ipython-input-69-ced9a35fe11a>\u001b[0m in \u001b[0;36m<cell line: 2>\u001b[0;34m()\u001b[0m\n\u001b[1;32m      1\u001b[0m \u001b[0;31m# Если слово только из одной буквы, выдается ошибка\u001b[0m\u001b[0;34m\u001b[0m\u001b[0;34m\u001b[0m\u001b[0m\n\u001b[0;32m----> 2\u001b[0;31m \u001b[0mchoose_best\u001b[0m\u001b[0;34m(\u001b[0m\u001b[0;34m'а'\u001b[0m\u001b[0;34m)\u001b[0m\u001b[0;34m\u001b[0m\u001b[0;34m\u001b[0m\u001b[0m\n\u001b[0m",
            "\u001b[0;32m<ipython-input-54-15fcca9e4ff4>\u001b[0m in \u001b[0;36mchoose_best\u001b[0;34m(misspelled_word)\u001b[0m\n\u001b[1;32m      1\u001b[0m \u001b[0;32mdef\u001b[0m \u001b[0mchoose_best\u001b[0m\u001b[0;34m(\u001b[0m\u001b[0mmisspelled_word\u001b[0m\u001b[0;34m)\u001b[0m\u001b[0;34m:\u001b[0m\u001b[0;34m\u001b[0m\u001b[0;34m\u001b[0m\u001b[0m\n\u001b[0;32m----> 2\u001b[0;31m   \u001b[0;32massert\u001b[0m \u001b[0mlen\u001b[0m\u001b[0;34m(\u001b[0m\u001b[0mmisspelled_word\u001b[0m\u001b[0;34m)\u001b[0m \u001b[0;34m>\u001b[0m \u001b[0;36m1\u001b[0m\u001b[0;34m,\u001b[0m \u001b[0;34m'Слишком короткое слово'\u001b[0m\u001b[0;34m\u001b[0m\u001b[0;34m\u001b[0m\u001b[0m\n\u001b[0m\u001b[1;32m      3\u001b[0m   \u001b[0moptions\u001b[0m \u001b[0;34m=\u001b[0m \u001b[0mdeletions1\u001b[0m\u001b[0;34m(\u001b[0m\u001b[0mmisspelled_word\u001b[0m\u001b[0;34m)\u001b[0m\u001b[0;34m\u001b[0m\u001b[0;34m\u001b[0m\u001b[0m\n\u001b[1;32m      4\u001b[0m   \u001b[0mprint\u001b[0m\u001b[0;34m(\u001b[0m\u001b[0moptions\u001b[0m\u001b[0;34m)\u001b[0m\u001b[0;34m\u001b[0m\u001b[0;34m\u001b[0m\u001b[0m\n\u001b[1;32m      5\u001b[0m   \u001b[0mmax_likelihood\u001b[0m \u001b[0;34m=\u001b[0m \u001b[0;36m0\u001b[0m\u001b[0;34m\u001b[0m\u001b[0;34m\u001b[0m\u001b[0m\n",
            "\u001b[0;31mAssertionError\u001b[0m: Слишком короткое слово"
          ]
        }
      ]
    },
    {
      "cell_type": "code",
      "source": [
        "choose_best('тз')"
      ],
      "metadata": {
        "colab": {
          "base_uri": "https://localhost:8080/",
          "height": 70
        },
        "id": "OcbAiulJGy5-",
        "outputId": "dcc179cf-dcd0-44cf-de52-060d130956ea"
      },
      "id": "OcbAiulJGy5-",
      "execution_count": 97,
      "outputs": [
        {
          "output_type": "stream",
          "name": "stdout",
          "text": [
            "('от', 18527)\n",
            "('из', 29150)\n"
          ]
        },
        {
          "output_type": "execute_result",
          "data": {
            "text/plain": [
              "'из'"
            ],
            "application/vnd.google.colaboratory.intrinsic+json": {
              "type": "string"
            }
          },
          "metadata": {},
          "execution_count": 97
        }
      ]
    },
    {
      "cell_type": "code",
      "source": [
        "choose_best('гдн')"
      ],
      "metadata": {
        "colab": {
          "base_uri": "https://localhost:8080/",
          "height": 87
        },
        "id": "LqgGzcOmQ694",
        "outputId": "a23dc579-8c01-491f-c3d2-0e7741db3c60"
      },
      "id": "LqgGzcOmQ694",
      "execution_count": 101,
      "outputs": [
        {
          "output_type": "stream",
          "name": "stdout",
          "text": [
            "('дня', 736)\n",
            "('ген', 28)\n",
            "('где', 5760)\n"
          ]
        },
        {
          "output_type": "execute_result",
          "data": {
            "text/plain": [
              "'где'"
            ],
            "application/vnd.google.colaboratory.intrinsic+json": {
              "type": "string"
            }
          },
          "metadata": {},
          "execution_count": 101
        }
      ]
    }
  ],
  "metadata": {
    "kernelspec": {
      "display_name": "Python 3 (ipykernel)",
      "language": "python",
      "name": "python3"
    },
    "language_info": {
      "codemirror_mode": {
        "name": "ipython",
        "version": 3
      },
      "file_extension": ".py",
      "mimetype": "text/x-python",
      "name": "python",
      "nbconvert_exporter": "python",
      "pygments_lexer": "ipython3",
      "version": "3.9.16"
    },
    "colab": {
      "provenance": [],
      "include_colab_link": true
    }
  },
  "nbformat": 4,
  "nbformat_minor": 5
}