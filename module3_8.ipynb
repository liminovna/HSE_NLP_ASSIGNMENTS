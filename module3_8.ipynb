{
  "cells": [
    {
      "cell_type": "markdown",
      "metadata": {
        "id": "view-in-github",
        "colab_type": "text"
      },
      "source": [
        "<a href=\"https://colab.research.google.com/github/liminovna/HSE_NLP_ASSIGNMENTS/blob/main/module3_8.ipynb\" target=\"_parent\"><img src=\"https://colab.research.google.com/assets/colab-badge.svg\" alt=\"Open In Colab\"/></a>"
      ]
    },
    {
      "cell_type": "markdown",
      "id": "1dba7c0d",
      "metadata": {
        "id": "1dba7c0d"
      },
      "source": [
        "# Домашнее задание № 9"
      ]
    },
    {
      "cell_type": "markdown",
      "id": "c0fb51a4",
      "metadata": {
        "id": "c0fb51a4"
      },
      "source": [
        "## Задание 1 (10 баллов).\n",
        "Это задание основано на этой тетрадке - https://github.com/mannefedov/compling_nlp_hse_course/blob/master/notebooks/transfer_learning_hg/Fine_tunining_pretrained_LMs_torch.ipynb\n",
        "\n",
        "На датасете lenta_sample.ru  дообучите две модели - modernbert-base (из семинара) и rumodernbert-base (https://huggingface.co/deepvk/RuModernBERT-base). Оцените разницу в качестве сравнив поклассовые метрики (classification_report)\n",
        "\n",
        "Для обоих моделей качество должно быть >0.10 по f-мере (прогоните несколько экспериментов если у вас получаются нули, изменяя параметры).\n",
        "Также для обоих моделей попробуйте дообучать модель и целиком и дообучать только последний слой.\n",
        "Для RuModernBERT дополнительно сравните модель, которая использует первый вектор (cls токен, как в семинаре), так и усредненный вектор по всем hidden_state, который выдает bert.\n",
        "\n",
        "\n"
      ]
    },
    {
      "cell_type": "code",
      "execution_count": 2,
      "id": "9deb7969",
      "metadata": {
        "colab": {
          "base_uri": "https://localhost:8080/"
        },
        "id": "9deb7969",
        "outputId": "fb4b0432-0601-4cc9-aec3-9f86c31f6b1c"
      },
      "outputs": [
        {
          "output_type": "stream",
          "name": "stdout",
          "text": [
            "--2025-03-23 15:39:34--  https://github.com/mannefedov/compling_nlp_hse_course/raw/master/notebooks/transfer_learning_hg/lenta_sample.csv\n",
            "Resolving github.com (github.com)... 140.82.114.3\n",
            "Connecting to github.com (github.com)|140.82.114.3|:443... connected.\n",
            "HTTP request sent, awaiting response... 302 Found\n",
            "Location: https://raw.githubusercontent.com/mannefedov/compling_nlp_hse_course/master/notebooks/transfer_learning_hg/lenta_sample.csv [following]\n",
            "--2025-03-23 15:39:35--  https://raw.githubusercontent.com/mannefedov/compling_nlp_hse_course/master/notebooks/transfer_learning_hg/lenta_sample.csv\n",
            "Resolving raw.githubusercontent.com (raw.githubusercontent.com)... 185.199.111.133, 185.199.109.133, 185.199.108.133, ...\n",
            "Connecting to raw.githubusercontent.com (raw.githubusercontent.com)|185.199.111.133|:443... connected.\n",
            "HTTP request sent, awaiting response... 200 OK\n",
            "Length: 1628490 (1.6M) [text/plain]\n",
            "Saving to: ‘lenta_sample.csv.2’\n",
            "\n",
            "lenta_sample.csv.2  100%[===================>]   1.55M  --.-KB/s    in 0.04s   \n",
            "\n",
            "2025-03-23 15:39:35 (36.3 MB/s) - ‘lenta_sample.csv.2’ saved [1628490/1628490]\n",
            "\n"
          ]
        }
      ],
      "source": [
        "! wget https://github.com/mannefedov/compling_nlp_hse_course/raw/master/notebooks/transfer_learning_hg/lenta_sample.csv"
      ]
    },
    {
      "cell_type": "code",
      "execution_count": 4,
      "id": "2444e3fe",
      "metadata": {
        "id": "2444e3fe"
      },
      "outputs": [],
      "source": [
        "import pandas as pd"
      ]
    },
    {
      "cell_type": "code",
      "source": [
        "df = pd.read_csv('lenta_sample.csv')\n",
        "df"
      ],
      "metadata": {
        "colab": {
          "base_uri": "https://localhost:8080/",
          "height": 424
        },
        "id": "THSVsI7eTVFi",
        "outputId": "45373582-dd11-496b-c628-087f0fc7cac9"
      },
      "id": "THSVsI7eTVFi",
      "execution_count": 5,
      "outputs": [
        {
          "output_type": "execute_result",
          "data": {
            "text/plain": [
              "                                              url  \\\n",
              "0     https://lenta.ru/news/2010/12/16/passports/   \n",
              "1       https://lenta.ru/news/2014/05/19/student/   \n",
              "2         https://lenta.ru/news/2008/09/27/catch/   \n",
              "3        https://lenta.ru/news/2009/07/23/refuse/   \n",
              "4       https://lenta.ru/news/2012/09/29/factory/   \n",
              "..                                            ...   \n",
              "602     https://lenta.ru/news/2014/09/14/pattern/   \n",
              "603   https://lenta.ru/news/2014/12/23/christmas/   \n",
              "604  https://lenta.ru/news/2014/10/21/dobrovolec/   \n",
              "605  https://lenta.ru/news/2014/09/18/postoffice/   \n",
              "606   https://lenta.ru/news/1914/09/16/lermontov/   \n",
              "\n",
              "                                                 title  \\\n",
              "0       Московская милиция ужесточила паспортный режим   \n",
              "1    Московского студента ограбили на 6 миллионов р...   \n",
              "2            В Ставропольском крае обезврежены боевики   \n",
              "3    Лужков отказался трудоустраивать китайцев с Че...   \n",
              "4       По факту пожара на заводе в Югре заведено дело   \n",
              "..                                                 ...   \n",
              "602                        1914. Выкройки для раненых    \n",
              "603  1914. Немецкие и британские солдаты отметили п...   \n",
              "604                    1914. Польский доброволец-герой   \n",
              "605  1914. Письма в действующую армию на деревню де...   \n",
              "606  1914. Празднование столетия М.Ю. Лермонтова от...   \n",
              "\n",
              "                                                  text       topic  \\\n",
              "0    В Москве после серии массовых беспорядков на н...      Россия   \n",
              "1    Неизвестные вынесли из квартиры московского ст...      Россия   \n",
              "2    В Ставропольском крае задержаны боевики, котор...      Россия   \n",
              "3    Мэр Москвы Юрий Лужков заявил, что не намерен ...      Россия   \n",
              "4    Следственный комитет России возбудил уголовное...      Россия   \n",
              "..                                                 ...         ...   \n",
              "602  В дополнение к выкройкам белья для раненых, ра...  Библиотека   \n",
              "603  24 декабря в Бельгии в районе Ипра произошло н...  Библиотека   \n",
              "604  В числе поступивших в нашу армию добровольцев ...  Библиотека   \n",
              "605  За последнее время на имя начальника штаба Вер...  Библиотека   \n",
              "606  Министерство народного просвещения, в виду про...  Библиотека   \n",
              "\n",
              "               tags        date  \n",
              "0               Все  2010/12/16  \n",
              "1               NaN  2014/05/19  \n",
              "2               Все  2008/09/27  \n",
              "3               Все  2009/07/23  \n",
              "4               Все  2012/09/29  \n",
              "..              ...         ...  \n",
              "602  Первая мировая  2014/09/14  \n",
              "603  Первая мировая  2014/12/23  \n",
              "604  Первая мировая  2014/10/21  \n",
              "605  Первая мировая  2014/09/18  \n",
              "606  Первая мировая  1914/09/16  \n",
              "\n",
              "[607 rows x 6 columns]"
            ],
            "text/html": [
              "\n",
              "  <div id=\"df-c9e99dce-5907-48d8-907a-670780227763\" class=\"colab-df-container\">\n",
              "    <div>\n",
              "<style scoped>\n",
              "    .dataframe tbody tr th:only-of-type {\n",
              "        vertical-align: middle;\n",
              "    }\n",
              "\n",
              "    .dataframe tbody tr th {\n",
              "        vertical-align: top;\n",
              "    }\n",
              "\n",
              "    .dataframe thead th {\n",
              "        text-align: right;\n",
              "    }\n",
              "</style>\n",
              "<table border=\"1\" class=\"dataframe\">\n",
              "  <thead>\n",
              "    <tr style=\"text-align: right;\">\n",
              "      <th></th>\n",
              "      <th>url</th>\n",
              "      <th>title</th>\n",
              "      <th>text</th>\n",
              "      <th>topic</th>\n",
              "      <th>tags</th>\n",
              "      <th>date</th>\n",
              "    </tr>\n",
              "  </thead>\n",
              "  <tbody>\n",
              "    <tr>\n",
              "      <th>0</th>\n",
              "      <td>https://lenta.ru/news/2010/12/16/passports/</td>\n",
              "      <td>Московская милиция ужесточила паспортный режим</td>\n",
              "      <td>В Москве после серии массовых беспорядков на н...</td>\n",
              "      <td>Россия</td>\n",
              "      <td>Все</td>\n",
              "      <td>2010/12/16</td>\n",
              "    </tr>\n",
              "    <tr>\n",
              "      <th>1</th>\n",
              "      <td>https://lenta.ru/news/2014/05/19/student/</td>\n",
              "      <td>Московского студента ограбили на 6 миллионов р...</td>\n",
              "      <td>Неизвестные вынесли из квартиры московского ст...</td>\n",
              "      <td>Россия</td>\n",
              "      <td>NaN</td>\n",
              "      <td>2014/05/19</td>\n",
              "    </tr>\n",
              "    <tr>\n",
              "      <th>2</th>\n",
              "      <td>https://lenta.ru/news/2008/09/27/catch/</td>\n",
              "      <td>В Ставропольском крае обезврежены боевики</td>\n",
              "      <td>В Ставропольском крае задержаны боевики, котор...</td>\n",
              "      <td>Россия</td>\n",
              "      <td>Все</td>\n",
              "      <td>2008/09/27</td>\n",
              "    </tr>\n",
              "    <tr>\n",
              "      <th>3</th>\n",
              "      <td>https://lenta.ru/news/2009/07/23/refuse/</td>\n",
              "      <td>Лужков отказался трудоустраивать китайцев с Че...</td>\n",
              "      <td>Мэр Москвы Юрий Лужков заявил, что не намерен ...</td>\n",
              "      <td>Россия</td>\n",
              "      <td>Все</td>\n",
              "      <td>2009/07/23</td>\n",
              "    </tr>\n",
              "    <tr>\n",
              "      <th>4</th>\n",
              "      <td>https://lenta.ru/news/2012/09/29/factory/</td>\n",
              "      <td>По факту пожара на заводе в Югре заведено дело</td>\n",
              "      <td>Следственный комитет России возбудил уголовное...</td>\n",
              "      <td>Россия</td>\n",
              "      <td>Все</td>\n",
              "      <td>2012/09/29</td>\n",
              "    </tr>\n",
              "    <tr>\n",
              "      <th>...</th>\n",
              "      <td>...</td>\n",
              "      <td>...</td>\n",
              "      <td>...</td>\n",
              "      <td>...</td>\n",
              "      <td>...</td>\n",
              "      <td>...</td>\n",
              "    </tr>\n",
              "    <tr>\n",
              "      <th>602</th>\n",
              "      <td>https://lenta.ru/news/2014/09/14/pattern/</td>\n",
              "      <td>1914. Выкройки для раненых</td>\n",
              "      <td>В дополнение к выкройкам белья для раненых, ра...</td>\n",
              "      <td>Библиотека</td>\n",
              "      <td>Первая мировая</td>\n",
              "      <td>2014/09/14</td>\n",
              "    </tr>\n",
              "    <tr>\n",
              "      <th>603</th>\n",
              "      <td>https://lenta.ru/news/2014/12/23/christmas/</td>\n",
              "      <td>1914. Немецкие и британские солдаты отметили п...</td>\n",
              "      <td>24 декабря в Бельгии в районе Ипра произошло н...</td>\n",
              "      <td>Библиотека</td>\n",
              "      <td>Первая мировая</td>\n",
              "      <td>2014/12/23</td>\n",
              "    </tr>\n",
              "    <tr>\n",
              "      <th>604</th>\n",
              "      <td>https://lenta.ru/news/2014/10/21/dobrovolec/</td>\n",
              "      <td>1914. Польский доброволец-герой</td>\n",
              "      <td>В числе поступивших в нашу армию добровольцев ...</td>\n",
              "      <td>Библиотека</td>\n",
              "      <td>Первая мировая</td>\n",
              "      <td>2014/10/21</td>\n",
              "    </tr>\n",
              "    <tr>\n",
              "      <th>605</th>\n",
              "      <td>https://lenta.ru/news/2014/09/18/postoffice/</td>\n",
              "      <td>1914. Письма в действующую армию на деревню де...</td>\n",
              "      <td>За последнее время на имя начальника штаба Вер...</td>\n",
              "      <td>Библиотека</td>\n",
              "      <td>Первая мировая</td>\n",
              "      <td>2014/09/18</td>\n",
              "    </tr>\n",
              "    <tr>\n",
              "      <th>606</th>\n",
              "      <td>https://lenta.ru/news/1914/09/16/lermontov/</td>\n",
              "      <td>1914. Празднование столетия М.Ю. Лермонтова от...</td>\n",
              "      <td>Министерство народного просвещения, в виду про...</td>\n",
              "      <td>Библиотека</td>\n",
              "      <td>Первая мировая</td>\n",
              "      <td>1914/09/16</td>\n",
              "    </tr>\n",
              "  </tbody>\n",
              "</table>\n",
              "<p>607 rows × 6 columns</p>\n",
              "</div>\n",
              "    <div class=\"colab-df-buttons\">\n",
              "\n",
              "  <div class=\"colab-df-container\">\n",
              "    <button class=\"colab-df-convert\" onclick=\"convertToInteractive('df-c9e99dce-5907-48d8-907a-670780227763')\"\n",
              "            title=\"Convert this dataframe to an interactive table.\"\n",
              "            style=\"display:none;\">\n",
              "\n",
              "  <svg xmlns=\"http://www.w3.org/2000/svg\" height=\"24px\" viewBox=\"0 -960 960 960\">\n",
              "    <path d=\"M120-120v-720h720v720H120Zm60-500h600v-160H180v160Zm220 220h160v-160H400v160Zm0 220h160v-160H400v160ZM180-400h160v-160H180v160Zm440 0h160v-160H620v160ZM180-180h160v-160H180v160Zm440 0h160v-160H620v160Z\"/>\n",
              "  </svg>\n",
              "    </button>\n",
              "\n",
              "  <style>\n",
              "    .colab-df-container {\n",
              "      display:flex;\n",
              "      gap: 12px;\n",
              "    }\n",
              "\n",
              "    .colab-df-convert {\n",
              "      background-color: #E8F0FE;\n",
              "      border: none;\n",
              "      border-radius: 50%;\n",
              "      cursor: pointer;\n",
              "      display: none;\n",
              "      fill: #1967D2;\n",
              "      height: 32px;\n",
              "      padding: 0 0 0 0;\n",
              "      width: 32px;\n",
              "    }\n",
              "\n",
              "    .colab-df-convert:hover {\n",
              "      background-color: #E2EBFA;\n",
              "      box-shadow: 0px 1px 2px rgba(60, 64, 67, 0.3), 0px 1px 3px 1px rgba(60, 64, 67, 0.15);\n",
              "      fill: #174EA6;\n",
              "    }\n",
              "\n",
              "    .colab-df-buttons div {\n",
              "      margin-bottom: 4px;\n",
              "    }\n",
              "\n",
              "    [theme=dark] .colab-df-convert {\n",
              "      background-color: #3B4455;\n",
              "      fill: #D2E3FC;\n",
              "    }\n",
              "\n",
              "    [theme=dark] .colab-df-convert:hover {\n",
              "      background-color: #434B5C;\n",
              "      box-shadow: 0px 1px 3px 1px rgba(0, 0, 0, 0.15);\n",
              "      filter: drop-shadow(0px 1px 2px rgba(0, 0, 0, 0.3));\n",
              "      fill: #FFFFFF;\n",
              "    }\n",
              "  </style>\n",
              "\n",
              "    <script>\n",
              "      const buttonEl =\n",
              "        document.querySelector('#df-c9e99dce-5907-48d8-907a-670780227763 button.colab-df-convert');\n",
              "      buttonEl.style.display =\n",
              "        google.colab.kernel.accessAllowed ? 'block' : 'none';\n",
              "\n",
              "      async function convertToInteractive(key) {\n",
              "        const element = document.querySelector('#df-c9e99dce-5907-48d8-907a-670780227763');\n",
              "        const dataTable =\n",
              "          await google.colab.kernel.invokeFunction('convertToInteractive',\n",
              "                                                    [key], {});\n",
              "        if (!dataTable) return;\n",
              "\n",
              "        const docLinkHtml = 'Like what you see? Visit the ' +\n",
              "          '<a target=\"_blank\" href=https://colab.research.google.com/notebooks/data_table.ipynb>data table notebook</a>'\n",
              "          + ' to learn more about interactive tables.';\n",
              "        element.innerHTML = '';\n",
              "        dataTable['output_type'] = 'display_data';\n",
              "        await google.colab.output.renderOutput(dataTable, element);\n",
              "        const docLink = document.createElement('div');\n",
              "        docLink.innerHTML = docLinkHtml;\n",
              "        element.appendChild(docLink);\n",
              "      }\n",
              "    </script>\n",
              "  </div>\n",
              "\n",
              "\n",
              "<div id=\"df-f046013c-be97-49c3-a990-8e8608eb08ac\">\n",
              "  <button class=\"colab-df-quickchart\" onclick=\"quickchart('df-f046013c-be97-49c3-a990-8e8608eb08ac')\"\n",
              "            title=\"Suggest charts\"\n",
              "            style=\"display:none;\">\n",
              "\n",
              "<svg xmlns=\"http://www.w3.org/2000/svg\" height=\"24px\"viewBox=\"0 0 24 24\"\n",
              "     width=\"24px\">\n",
              "    <g>\n",
              "        <path d=\"M19 3H5c-1.1 0-2 .9-2 2v14c0 1.1.9 2 2 2h14c1.1 0 2-.9 2-2V5c0-1.1-.9-2-2-2zM9 17H7v-7h2v7zm4 0h-2V7h2v10zm4 0h-2v-4h2v4z\"/>\n",
              "    </g>\n",
              "</svg>\n",
              "  </button>\n",
              "\n",
              "<style>\n",
              "  .colab-df-quickchart {\n",
              "      --bg-color: #E8F0FE;\n",
              "      --fill-color: #1967D2;\n",
              "      --hover-bg-color: #E2EBFA;\n",
              "      --hover-fill-color: #174EA6;\n",
              "      --disabled-fill-color: #AAA;\n",
              "      --disabled-bg-color: #DDD;\n",
              "  }\n",
              "\n",
              "  [theme=dark] .colab-df-quickchart {\n",
              "      --bg-color: #3B4455;\n",
              "      --fill-color: #D2E3FC;\n",
              "      --hover-bg-color: #434B5C;\n",
              "      --hover-fill-color: #FFFFFF;\n",
              "      --disabled-bg-color: #3B4455;\n",
              "      --disabled-fill-color: #666;\n",
              "  }\n",
              "\n",
              "  .colab-df-quickchart {\n",
              "    background-color: var(--bg-color);\n",
              "    border: none;\n",
              "    border-radius: 50%;\n",
              "    cursor: pointer;\n",
              "    display: none;\n",
              "    fill: var(--fill-color);\n",
              "    height: 32px;\n",
              "    padding: 0;\n",
              "    width: 32px;\n",
              "  }\n",
              "\n",
              "  .colab-df-quickchart:hover {\n",
              "    background-color: var(--hover-bg-color);\n",
              "    box-shadow: 0 1px 2px rgba(60, 64, 67, 0.3), 0 1px 3px 1px rgba(60, 64, 67, 0.15);\n",
              "    fill: var(--button-hover-fill-color);\n",
              "  }\n",
              "\n",
              "  .colab-df-quickchart-complete:disabled,\n",
              "  .colab-df-quickchart-complete:disabled:hover {\n",
              "    background-color: var(--disabled-bg-color);\n",
              "    fill: var(--disabled-fill-color);\n",
              "    box-shadow: none;\n",
              "  }\n",
              "\n",
              "  .colab-df-spinner {\n",
              "    border: 2px solid var(--fill-color);\n",
              "    border-color: transparent;\n",
              "    border-bottom-color: var(--fill-color);\n",
              "    animation:\n",
              "      spin 1s steps(1) infinite;\n",
              "  }\n",
              "\n",
              "  @keyframes spin {\n",
              "    0% {\n",
              "      border-color: transparent;\n",
              "      border-bottom-color: var(--fill-color);\n",
              "      border-left-color: var(--fill-color);\n",
              "    }\n",
              "    20% {\n",
              "      border-color: transparent;\n",
              "      border-left-color: var(--fill-color);\n",
              "      border-top-color: var(--fill-color);\n",
              "    }\n",
              "    30% {\n",
              "      border-color: transparent;\n",
              "      border-left-color: var(--fill-color);\n",
              "      border-top-color: var(--fill-color);\n",
              "      border-right-color: var(--fill-color);\n",
              "    }\n",
              "    40% {\n",
              "      border-color: transparent;\n",
              "      border-right-color: var(--fill-color);\n",
              "      border-top-color: var(--fill-color);\n",
              "    }\n",
              "    60% {\n",
              "      border-color: transparent;\n",
              "      border-right-color: var(--fill-color);\n",
              "    }\n",
              "    80% {\n",
              "      border-color: transparent;\n",
              "      border-right-color: var(--fill-color);\n",
              "      border-bottom-color: var(--fill-color);\n",
              "    }\n",
              "    90% {\n",
              "      border-color: transparent;\n",
              "      border-bottom-color: var(--fill-color);\n",
              "    }\n",
              "  }\n",
              "</style>\n",
              "\n",
              "  <script>\n",
              "    async function quickchart(key) {\n",
              "      const quickchartButtonEl =\n",
              "        document.querySelector('#' + key + ' button');\n",
              "      quickchartButtonEl.disabled = true;  // To prevent multiple clicks.\n",
              "      quickchartButtonEl.classList.add('colab-df-spinner');\n",
              "      try {\n",
              "        const charts = await google.colab.kernel.invokeFunction(\n",
              "            'suggestCharts', [key], {});\n",
              "      } catch (error) {\n",
              "        console.error('Error during call to suggestCharts:', error);\n",
              "      }\n",
              "      quickchartButtonEl.classList.remove('colab-df-spinner');\n",
              "      quickchartButtonEl.classList.add('colab-df-quickchart-complete');\n",
              "    }\n",
              "    (() => {\n",
              "      let quickchartButtonEl =\n",
              "        document.querySelector('#df-f046013c-be97-49c3-a990-8e8608eb08ac button');\n",
              "      quickchartButtonEl.style.display =\n",
              "        google.colab.kernel.accessAllowed ? 'block' : 'none';\n",
              "    })();\n",
              "  </script>\n",
              "</div>\n",
              "    </div>\n",
              "  </div>\n"
            ],
            "application/vnd.google.colaboratory.intrinsic+json": {
              "type": "dataframe",
              "variable_name": "df",
              "summary": "{\n  \"name\": \"df\",\n  \"rows\": 607,\n  \"fields\": [\n    {\n      \"column\": \"url\",\n      \"properties\": {\n        \"dtype\": \"string\",\n        \"num_unique_values\": 607,\n        \"samples\": [\n          \"https://lenta.ru/news/2015/11/03/meat/\",\n          \"https://lenta.ru/news/2010/01/25/machete/\",\n          \"https://lenta.ru/news/2016/03/10/salarytax/\"\n        ],\n        \"semantic_type\": \"\",\n        \"description\": \"\"\n      }\n    },\n    {\n      \"column\": \"title\",\n      \"properties\": {\n        \"dtype\": \"string\",\n        \"num_unique_values\": 607,\n        \"samples\": [\n          \"\\u0420\\u043e\\u0441\\u0441\\u0438\\u0439\\u0441\\u043a\\u0438\\u0435 \\u043f\\u0440\\u043e\\u0438\\u0437\\u0432\\u043e\\u0434\\u0438\\u0442\\u0435\\u043b\\u0438 \\u043e\\u043f\\u0440\\u043e\\u0432\\u0435\\u0440\\u0433\\u043b\\u0438 \\u0433\\u0440\\u044f\\u0434\\u0443\\u0449\\u0438\\u0439 \\u0434\\u0435\\u0444\\u0438\\u0446\\u0438\\u0442 \\u043c\\u044f\\u0441\\u0430\",\n          \"\\u0421\\u0442\\u0443\\u0434\\u0438\\u044f 20th Century Fox \\u0432\\u044b\\u0438\\u0433\\u0440\\u0430\\u043b\\u0430 \\u0441\\u0445\\u0432\\u0430\\u0442\\u043a\\u0443 \\u0437\\u0430 \\\"\\u041c\\u0430\\u0447\\u0435\\u0442\\u0435\\\"\",\n          \"\\u0417\\u0430\\u0440\\u043f\\u043b\\u0430\\u0442\\u044b \\u0440\\u043e\\u0441\\u0441\\u0438\\u044f\\u043d \\u043f\\u0440\\u0435\\u0434\\u043b\\u043e\\u0436\\u0438\\u043b\\u0438 \\u043e\\u0431\\u043b\\u043e\\u0436\\u0438\\u0442\\u044c \\u043d\\u043e\\u0432\\u044b\\u043c \\u0441\\u0431\\u043e\\u0440\\u043e\\u043c \"\n        ],\n        \"semantic_type\": \"\",\n        \"description\": \"\"\n      }\n    },\n    {\n      \"column\": \"text\",\n      \"properties\": {\n        \"dtype\": \"string\",\n        \"num_unique_values\": 607,\n        \"samples\": [\n          \"\\u0412 \\u041d\\u0430\\u0446\\u0438\\u043e\\u043d\\u0430\\u043b\\u044c\\u043d\\u043e\\u0439 \\u043c\\u044f\\u0441\\u043d\\u043e\\u0439 \\u0430\\u0441\\u0441\\u043e\\u0446\\u0438\\u0430\\u0446\\u0438\\u0438 (\\u041d\\u041c\\u0410) \\u0437\\u0430\\u0432\\u0435\\u0440\\u0438\\u043b\\u0438, \\u0447\\u0442\\u043e \\u0440\\u043e\\u0441\\u0441\\u0438\\u044f\\u043d\\u0430\\u043c \\u043d\\u0435 \\u043d\\u0443\\u0436\\u043d\\u043e \\u043e\\u043f\\u0430\\u0441\\u0430\\u0442\\u044c\\u0441\\u044f \\u0434\\u0435\\u0444\\u0438\\u0446\\u0438\\u0442\\u0430 \\u043c\\u044f\\u0441\\u0430 \\u0432 2016 \\u0433\\u043e\\u0434\\u0443. \\u041e\\u0431 \\u044d\\u0442\\u043e\\u043c \\u00ab\\u0420\\u0443\\u0441\\u0441\\u043a\\u043e\\u0439 \\u0441\\u043b\\u0443\\u0436\\u0431\\u0435 \\u043d\\u043e\\u0432\\u043e\\u0441\\u0442\\u0435\\u0439\\u00bb \\u0437\\u0430\\u044f\\u0432\\u0438\\u043b \\u0437\\u0430\\u043c\\u0435\\u0441\\u0442\\u0438\\u0442\\u0435\\u043b\\u044c \\u0440\\u0443\\u043a\\u043e\\u0432\\u043e\\u0434\\u0438\\u0442\\u0435\\u043b\\u044f \\u0438\\u0441\\u043f\\u043e\\u043b\\u043d\\u0438\\u0442\\u0435\\u043b\\u044c\\u043d\\u043e\\u0433\\u043e \\u043a\\u043e\\u043c\\u0438\\u0442\\u0435\\u0442\\u0430 \\u041d\\u041c\\u0410 \\u041c\\u0430\\u043a\\u0441\\u0438\\u043c \\u0421\\u0438\\u043d\\u0435\\u043b\\u044c\\u043d\\u0438\\u043a\\u043e\\u0432. \\u00ab\\u0421\\u0442\\u0440\\u0430\\u043d\\u043d\\u043e, \\u0447\\u0442\\u043e \\u0421\\u0447\\u0435\\u0442\\u043d\\u0430\\u044f \\u043f\\u0430\\u043b\\u0430\\u0442\\u0430 \\u043d\\u0435 \\u043e\\u0431\\u0440\\u0430\\u0442\\u0438\\u043b\\u0430\\u0441\\u044c \\u043a \\u0441\\u0442\\u0430\\u0442\\u0438\\u0441\\u0442\\u0438\\u0447\\u0435\\u0441\\u043a\\u0438\\u043c \\u0434\\u0430\\u043d\\u043d\\u044b\\u043c, \\u043a\\u043e\\u0442\\u043e\\u0440\\u044b\\u0435 \\u043f\\u043e\\u043a\\u0430\\u0437\\u0430\\u043b\\u0438 \\u0431\\u044b, \\u0447\\u0442\\u043e \\u0443 \\u043d\\u0430\\u0441 \\u0437\\u0430\\u0432\\u0438\\u0441\\u0438\\u043c\\u043e\\u0441\\u0442\\u044c \\u043e\\u0442 \\u0438\\u043c\\u043f\\u043e\\u0440\\u0442\\u0430 \\u0441\\u0443\\u0449\\u0435\\u0441\\u0442\\u0432\\u0435\\u043d\\u043d\\u043e \\u0441\\u043d\\u0438\\u0437\\u0438\\u043b\\u0430\\u0441\\u044c \\u043f\\u043e \\u0441\\u0440\\u0430\\u0432\\u043d\\u0435\\u043d\\u0438\\u044e \\u0441 2014 \\u0433\\u043e\\u0434\\u043e\\u043c\\u00bb, \\u2014 \\u043e\\u0442\\u043c\\u0435\\u0442\\u0438\\u043b \\u043e\\u043d, \\u0434\\u043e\\u0431\\u0430\\u0432\\u0438\\u0432, \\u0447\\u0442\\u043e \\u043f\\u043e \\u043f\\u0440\\u043e\\u0433\\u043d\\u043e\\u0437\\u0430\\u043c \\u0430\\u0441\\u0441\\u043e\\u0446\\u0438\\u0430\\u0446\\u0438\\u0438 \\u0432 \\u043a\\u043e\\u043d\\u0446\\u0435 \\u0433\\u043e\\u0434\\u0430 \\u043f\\u043e\\u043a\\u0430\\u0437\\u0430\\u0442\\u0435\\u043b\\u044c \\u0437\\u0430\\u0432\\u0438\\u0441\\u0438\\u043c\\u043e\\u0441\\u0442\\u0438 \\u043e\\u0442 \\u0438\\u043c\\u043f\\u043e\\u0440\\u0442\\u0430 \\u0441\\u043e\\u0441\\u0442\\u0430\\u0432\\u0438\\u0442 \\u0448\\u0435\\u0441\\u0442\\u044c \\u043f\\u0440\\u043e\\u0446\\u0435\\u043d\\u0442\\u043e\\u0432. \\u041a\\u0440\\u043e\\u043c\\u0435 \\u044d\\u0442\\u043e\\u0433\\u043e, \\u043f\\u043e \\u0441\\u043b\\u043e\\u0432\\u0430\\u043c \\u0421\\u0438\\u043d\\u0435\\u043b\\u044c\\u043d\\u0438\\u043a\\u043e\\u0432\\u0430, \\u0440\\u043e\\u0441\\u0441\\u0438\\u0439\\u0441\\u043a\\u0438\\u0435 \\u043f\\u0440\\u0435\\u0434\\u043f\\u0440\\u0438\\u044f\\u0442\\u0438\\u044f \\u043f\\u043b\\u0430\\u043d\\u0438\\u0440\\u0443\\u044e\\u0442 \\u043d\\u0430\\u0440\\u0430\\u0441\\u0442\\u0438\\u0442\\u044c \\u043e\\u0431\\u044a\\u0435\\u043c\\u044b \\u043f\\u0440\\u043e\\u0438\\u0437\\u0432\\u043e\\u0434\\u0441\\u0442\\u0432\\u0430: \\u0437\\u0430\\u043a\\u043b\\u0430\\u0434\\u044b\\u0432\\u0430\\u0435\\u0442\\u0441\\u044f \\u00ab\\u0443\\u0432\\u0435\\u043b\\u0438\\u0447\\u0435\\u043d\\u0438\\u0435, \\u043c\\u0435\\u0441\\u0442\\u0430\\u043c\\u0438 \\u0434\\u0430\\u0436\\u0435 \\u0443\\u0434\\u0432\\u043e\\u0435\\u043d\\u0438\\u0435 \\u043f\\u0440\\u043e\\u0435\\u043a\\u0442\\u043d\\u044b\\u0445 \\u043c\\u043e\\u0449\\u043d\\u043e\\u0441\\u0442\\u0435\\u0439\\u00bb. \\u041f\\u0440\\u0435\\u0434\\u0441\\u0442\\u0430\\u0432\\u0438\\u0442\\u0435\\u043b\\u044c \\u041d\\u041c\\u0410 \\u043f\\u043e\\u0434\\u0447\\u0435\\u0440\\u043a\\u043d\\u0443\\u043b, \\u0447\\u0442\\u043e \\u0432 \\u043d\\u0430\\u0441\\u0442\\u043e\\u044f\\u0449\\u0435\\u0435 \\u0432\\u0440\\u0435\\u043c\\u044f \\u0440\\u0430\\u0441\\u0442\\u0435\\u0442 \\u0432\\u044b\\u043f\\u0443\\u0441\\u043a \\u043e\\u0431\\u044a\\u0435\\u043c\\u043e\\u0432 \\u043c\\u044f\\u0441\\u0430 \\u043f\\u0442\\u0438\\u0446\\u044b, \\u043f\\u0440\\u043e\\u0438\\u0437\\u0432\\u043e\\u0434\\u0441\\u0442\\u0432\\u043e \\u0441\\u0432\\u0438\\u043d\\u0438\\u043d\\u044b. \\u00ab\\u0421 \\u0433\\u043e\\u0432\\u044f\\u0434\\u0438\\u043d\\u043e\\u0439 \\u0441\\u043b\\u043e\\u0436\\u043d\\u0435\\u0435, \\u043d\\u043e \\u043e\\u0431\\u044a\\u0435\\u043c\\u044b \\u0441\\u043a\\u043e\\u0442\\u0430 \\u043f\\u043e\\u0442\\u0438\\u0445\\u043e\\u043d\\u044c\\u043a\\u0443 \\u043d\\u0430\\u0440\\u0430\\u0449\\u0438\\u0432\\u0430\\u044e\\u0442\\u0441\\u044f\\u00bb, \\u2014 \\u0434\\u043e\\u0431\\u0430\\u0432\\u0438\\u043b \\u0421\\u0438\\u043d\\u0435\\u043b\\u044c\\u043d\\u0438\\u043a\\u043e\\u0432. \\u041f\\u0440\\u0438 \\u044d\\u0442\\u043e\\u043c \\u0434\\u0430\\u043d\\u043d\\u044b\\u0435 \\u041d\\u041c\\u0410 \\u0441\\u0432\\u0438\\u0434\\u0435\\u0442\\u0435\\u043b\\u044c\\u0441\\u0442\\u0432\\u0443\\u044e\\u0442 \\u043e \\u0441\\u043e\\u043a\\u0440\\u0430\\u0449\\u0435\\u043d\\u0438\\u0438 \\u043f\\u043e\\u0442\\u0440\\u0435\\u0431\\u043b\\u0435\\u043d\\u0438\\u044f \\u043c\\u044f\\u0441\\u0430 \\u0432 \\u0420\\u043e\\u0441\\u0441\\u0438\\u0438: \\u0432 2015-\\u043c \\u043d\\u0430 \\u0434\\u0443\\u0448\\u0443 \\u043d\\u0430\\u0441\\u0435\\u043b\\u0435\\u043d\\u0438\\u044f \\u043f\\u0440\\u0438\\u0445\\u043e\\u0434\\u0438\\u0442\\u0441\\u044f 67 \\u043a\\u0438\\u043b\\u043e\\u0433\\u0440\\u0430\\u043c\\u043c\\u043e\\u0432, \\u043f\\u0440\\u043e\\u0442\\u0438\\u0432 72 \\u0432 \\u043f\\u0440\\u043e\\u0448\\u043b\\u043e\\u043c \\u0433\\u043e\\u0434\\u0443. 3 \\u043d\\u043e\\u044f\\u0431\\u0440\\u044f \\u0432 \\u0421\\u0447\\u0435\\u0442\\u043d\\u043e\\u0439 \\u043f\\u0430\\u043b\\u0430\\u0442\\u0435 \\u0437\\u0430\\u044f\\u0432\\u0438\\u043b\\u0438, \\u0447\\u0442\\u043e \\u0420\\u043e\\u0441\\u0441\\u0438\\u044f \\u0432 2016 \\u0433\\u043e\\u0434\\u0443 \\u043c\\u043e\\u0436\\u0435\\u0442 \\u043d\\u0435\\u0434\\u043e\\u043f\\u043e\\u043b\\u0443\\u0447\\u0438\\u0442\\u044c \\u043e\\u0431\\u044a\\u0435\\u043c\\u044b \\u043c\\u044f\\u0441\\u043d\\u043e\\u0439, \\u043c\\u043e\\u043b\\u043e\\u0447\\u043d\\u043e\\u0439 \\u043f\\u0440\\u043e\\u0434\\u0443\\u043a\\u0446\\u0438\\u0438 \\u0438 \\u0441\\u044b\\u0440\\u043e\\u0432. \\u00ab\\u0421\\u0443\\u0449\\u0435\\u0441\\u0442\\u0432\\u0443\\u044e\\u0442 \\u0440\\u0438\\u0441\\u043a\\u0438 \\u043d\\u0435\\u043f\\u043e\\u043b\\u043d\\u043e\\u0439 \\u043a\\u043e\\u043c\\u043f\\u0435\\u043d\\u0441\\u0430\\u0446\\u0438\\u0438 \\u0432\\u044b\\u043f\\u0430\\u0434\\u0430\\u044e\\u0449\\u0438\\u0445 \\u043e\\u0431\\u044a\\u0435\\u043c\\u043e\\u0432 \\u0438\\u043c\\u043f\\u043e\\u0440\\u0442\\u0430 \\u043f\\u0440\\u043e\\u0434\\u043e\\u0432\\u043e\\u043b\\u044c\\u0441\\u0442\\u0432\\u0435\\u043d\\u043d\\u044b\\u0445 \\u0442\\u043e\\u0432\\u0430\\u0440\\u043e\\u0432, \\u0437\\u0430\\u043f\\u0440\\u0435\\u0449\\u0435\\u043d\\u043d\\u044b\\u0445 \\u043a \\u0432\\u0432\\u043e\\u0437\\u0443 \\u0438\\u0437 \\u0440\\u044f\\u0434\\u0430 \\u0441\\u0442\\u0440\\u0430\\u043d\\u00bb, \\u2014 \\u043e\\u0442\\u043c\\u0435\\u0442\\u0438\\u043b\\u0438 \\u0432 \\u0421\\u0447\\u0435\\u0442\\u043d\\u043e\\u0439 \\u043f\\u0430\\u043b\\u0430\\u0442\\u0435. \\u0412 \\u0432\\u0435\\u0434\\u043e\\u043c\\u0441\\u0442\\u0432\\u0435 \\u0442\\u0430\\u043a\\u0436\\u0435 \\u0441\\u043e\\u043e\\u0431\\u0449\\u0438\\u043b\\u0438, \\u0447\\u0442\\u043e \\u043e\\u043f\\u0430\\u0441\\u0430\\u044e\\u0442\\u0441\\u044f \\u0432 \\u0441\\u0440\\u0435\\u0434\\u043d\\u0435\\u0441\\u0440\\u043e\\u0447\\u043d\\u043e\\u043c \\u043f\\u0435\\u0440\\u0438\\u043e\\u0434\\u0435 \\u043f\\u0440\\u043e\\u0431\\u043b\\u0435\\u043c \\u0441 \\u043f\\u043e\\u0442\\u0440\\u0435\\u0431\\u0438\\u0442\\u0435\\u043b\\u044c\\u0441\\u043a\\u0438\\u043c \\u0441\\u043f\\u0440\\u043e\\u0441\\u043e\\u043c. \\u0412 \\u0430\\u0432\\u0433\\u0443\\u0441\\u0442\\u0435 2014 \\u0433\\u043e\\u0434\\u0430 \\u0420\\u043e\\u0441\\u0441\\u0438\\u044f \\u0432\\u0432\\u0435\\u043b\\u0430 \\u043f\\u0440\\u043e\\u0434\\u043e\\u0432\\u043e\\u043b\\u044c\\u0441\\u0442\\u0432\\u0435\\u043d\\u043d\\u043e\\u0435 \\u044d\\u043c\\u0431\\u0430\\u0440\\u0433\\u043e \\u0432 \\u043e\\u0442\\u043d\\u043e\\u0448\\u0435\\u043d\\u0438\\u0438 \\u0441\\u0442\\u0440\\u0430\\u043d-\\u0447\\u043b\\u0435\\u043d\\u043e\\u0432 \\u0415\\u0421, \\u0430 \\u0442\\u0430\\u043a\\u0436\\u0435 \\u0421\\u0428\\u0410, \\u0410\\u0432\\u0441\\u0442\\u0440\\u0430\\u043b\\u0438\\u0438, \\u041a\\u0430\\u043d\\u0430\\u0434\\u044b \\u0438 \\u041d\\u043e\\u0440\\u0432\\u0435\\u0433\\u0438\\u0438. \\u0412 \\u043a\\u043e\\u043d\\u0446\\u0435 \\u0438\\u044e\\u043d\\u044f 2015 \\u0433\\u043e\\u0434\\u0430 \\u041c\\u043e\\u0441\\u043a\\u0432\\u0430 \\u043f\\u0440\\u043e\\u0434\\u043b\\u0438\\u043b\\u0430 \\u044d\\u043c\\u0431\\u0430\\u0440\\u0433\\u043e \\u043d\\u0430 \\u0433\\u043e\\u0434. \\u041f\\u043e\\u0437\\u0436\\u0435 \\u043f\\u0440\\u0435\\u043c\\u044c\\u0435\\u0440-\\u043c\\u0438\\u043d\\u0438\\u0441\\u0442\\u0440 \\u0420\\u043e\\u0441\\u0441\\u0438\\u0438 \\u0414\\u043c\\u0438\\u0442\\u0440\\u0438\\u0439 \\u041c\\u0435\\u0434\\u0432\\u0435\\u0434\\u0435\\u0432 \\u043f\\u043e\\u0434\\u043f\\u0438\\u0441\\u0430\\u043b \\u043f\\u043e\\u0441\\u0442\\u0430\\u043d\\u043e\\u0432\\u043b\\u0435\\u043d\\u0438\\u0435 \\u043e \\u0440\\u0430\\u0441\\u0448\\u0438\\u0440\\u0435\\u043d\\u0438\\u0438 \\u043f\\u0440\\u043e\\u0434\\u0443\\u043a\\u0442\\u043e\\u0432\\u043e\\u0433\\u043e \\u044d\\u043c\\u0431\\u0430\\u0440\\u0433\\u043e \\u043d\\u0430 \\u0410\\u043b\\u0431\\u0430\\u043d\\u0438\\u044e, \\u0427\\u0435\\u0440\\u043d\\u043e\\u0433\\u043e\\u0440\\u0438\\u044e, \\u0418\\u0441\\u043b\\u0430\\u043d\\u0434\\u0438\\u044e, \\u041b\\u0438\\u0445\\u0442\\u0435\\u043d\\u0448\\u0442\\u0435\\u0439\\u043d \\u0438 \\u0423\\u043a\\u0440\\u0430\\u0438\\u043d\\u0443 (\\u0432 \\u043e\\u0442\\u043d\\u043e\\u0448\\u0435\\u043d\\u0438\\u0438 \\u043f\\u043e\\u0441\\u043b\\u0435\\u0434\\u043d\\u0435\\u0439 \\u043e\\u0433\\u0440\\u0430\\u043d\\u0438\\u0447\\u0435\\u043d\\u0438\\u044f \\u0432\\u0441\\u0442\\u0443\\u043f\\u044f\\u0442 \\u0432 \\u0441\\u0438\\u043b\\u0443 \\u043f\\u043e\\u0441\\u043b\\u0435 \\u0438\\u0441\\u043f\\u043e\\u043b\\u043d\\u0435\\u043d\\u0438\\u044f \\u041a\\u0438\\u0435\\u0432\\u043e\\u043c \\u044d\\u043a\\u043e\\u043d\\u043e\\u043c\\u0438\\u0447\\u0435\\u0441\\u043a\\u043e\\u0439 \\u0447\\u0430\\u0441\\u0442\\u0438 \\u0441\\u043e\\u0433\\u043b\\u0430\\u0448\\u0435\\u043d\\u0438\\u044f \\u043e\\u0431 \\u0430\\u0441\\u0441\\u043e\\u0446\\u0438\\u0430\\u0446\\u0438\\u0438 \\u0441 \\u0415\\u0421). \\u0412 \\u0441\\u043f\\u0438\\u0441\\u043e\\u043a \\u0437\\u0430\\u043f\\u0440\\u0435\\u0449\\u0435\\u043d\\u043d\\u044b\\u0445 \\u043a \\u0432\\u0432\\u043e\\u0437\\u0443 \\u043f\\u0440\\u043e\\u0434\\u0443\\u043a\\u0442\\u043e\\u0432, \\u0432 \\u0447\\u0430\\u0441\\u0442\\u043d\\u043e\\u0441\\u0442\\u0438, \\u0432\\u0445\\u043e\\u0434\\u044f\\u0442 \\u043c\\u044f\\u0441\\u043e \\u043a\\u0440\\u0443\\u043f\\u043d\\u043e\\u0433\\u043e \\u0440\\u043e\\u0433\\u0430\\u0442\\u043e\\u0433\\u043e \\u0441\\u043a\\u043e\\u0442\\u0430, \\u0441\\u0432\\u0438\\u043d\\u0438\\u043d\\u0430, \\u0440\\u044b\\u0431\\u0430 \\u0438 \\u043c\\u043e\\u043b\\u043e\\u043a\\u043e. \\u042d\\u0442\\u0438 \\u0442\\u043e\\u0432\\u0430\\u0440\\u044b, \\u0432\\u0432\\u0435\\u0437\\u0435\\u043d\\u043d\\u044b\\u0435 \\u043d\\u0430 \\u0442\\u0435\\u0440\\u0440\\u0438\\u0442\\u043e\\u0440\\u0438\\u044e \\u0420\\u043e\\u0441\\u0441\\u0438\\u0438, \\u043f\\u043e\\u0434\\u043b\\u0435\\u0436\\u0430\\u0442 \\u0443\\u043d\\u0438\\u0447\\u0442\\u043e\\u0436\\u0435\\u043d\\u0438\\u044e.\",\n          \"\\u041a\\u0438\\u043d\\u043e\\u043a\\u043e\\u043c\\u043f\\u0430\\u043d\\u0438\\u044f 20th Century Fox \\u0432 \\u0443\\u043f\\u043e\\u0440\\u043d\\u043e\\u0439 \\u043a\\u043e\\u043d\\u043a\\u0443\\u0440\\u0435\\u043d\\u0442\\u043d\\u043e\\u0439 \\u0431\\u043e\\u0440\\u044c\\u0431\\u0435 \\u0437\\u0430\\u0432\\u043e\\u0435\\u0432\\u0430\\u043b\\u0430 \\u043f\\u0440\\u0430\\u0432\\u043e \\u043d\\u0430 \\u0441\\u0435\\u0432\\u0435\\u0440\\u043e\\u0430\\u043c\\u0435\\u0440\\u0438\\u043a\\u0430\\u043d\\u0441\\u043a\\u0438\\u0439 \\u043f\\u0440\\u043e\\u043a\\u0430\\u0442 \\u043d\\u043e\\u0432\\u043e\\u0433\\u043e \\u0444\\u0438\\u043b\\u044c\\u043c\\u0430 \\u0420\\u043e\\u0431\\u0435\\u0440\\u0442\\u0430 \\u0420\\u043e\\u0434\\u0440\\u0438\\u0433\\u0435\\u0441\\u0430 \\\"\\u041c\\u0430\\u0447\\u0435\\u0442\\u0435\\\". \\u041e\\u0431 \\u044d\\u0442\\u043e\\u043c \\u0441\\u043e\\u043e\\u0431\\u0449\\u0430\\u0435\\u0442 \\u0438\\u0437\\u0434\\u0430\\u043d\\u0438\\u0435 Variety. \\u041e\\u0441\\u043d\\u043e\\u0432\\u043d\\u044b\\u043c\\u0438 \\u043f\\u0440\\u0435\\u0442\\u0435\\u043d\\u0434\\u0435\\u043d\\u0442\\u0430\\u043c\\u0438, \\u043f\\u043e\\u043c\\u0438\\u043c\\u043e 20th Century Fox, \\u0441\\u0447\\u0438\\u0442\\u0430\\u043b\\u0438\\u0441\\u044c \\u0441\\u0442\\u0443\\u0434\\u0438\\u0438 Paramount \\u0438 Lionsgate. \\u0417\\u0430 \\u043c\\u0435\\u0436\\u0434\\u0443\\u043d\\u0430\\u0440\\u043e\\u0434\\u043d\\u044b\\u0439 \\u043f\\u0440\\u043e\\u043a\\u0430\\u0442 \\u043a\\u0430\\u0440\\u0442\\u0438\\u043d\\u044b \\u0431\\u0443\\u0434\\u0435\\u0442 \\u043e\\u0442\\u0432\\u0435\\u0447\\u0430\\u0442\\u044c \\u043a\\u043e\\u043c\\u043f\\u0430\\u043d\\u0438\\u044f Sony. \\\"\\u041c\\u0430\\u0447\\u0435\\u0442\\u0435\\\" \\u0441\\u0442\\u0430\\u043d\\u0435\\u0442 \\u0432\\u0442\\u043e\\u0440\\u044b\\u043c \\u0441\\u043e\\u0432\\u043c\\u0435\\u0441\\u0442\\u043d\\u044b\\u043c \\u043f\\u0440\\u043e\\u0435\\u043a\\u0442\\u043e\\u043c \\u043a\\u0438\\u043d\\u043e\\u0441\\u0442\\u0443\\u0434\\u0438\\u0438 \\u0438 \\u0440\\u0435\\u0436\\u0438\\u0441\\u0441\\u0435\\u0440\\u0430. \\u041d\\u0430\\u043f\\u043e\\u043c\\u043d\\u0438\\u043c, \\u0447\\u0442\\u043e \\u0420\\u043e\\u0434\\u0440\\u0438\\u0433\\u0435\\u0441 \\u044f\\u0432\\u043b\\u044f\\u0435\\u0442\\u0441\\u044f \\u043f\\u0440\\u043e\\u0434\\u044e\\u0441\\u0435\\u0440\\u043e\\u043c \\u0444\\u0438\\u043b\\u044c\\u043c\\u0430 \\\"\\u0425\\u0438\\u0449\\u043d\\u0438\\u043a\\u0438\\\", \\u043a\\u043e\\u0442\\u043e\\u0440\\u044b\\u0439 \\u0441\\u043d\\u0438\\u043c\\u0430\\u0435\\u0442\\u0441\\u044f \\u043f\\u043e\\u0434 \\u043b\\u0435\\u0439\\u0431\\u043b\\u043e\\u043c 20th Century Fox. \\u0412 \\u043e\\u0441\\u043d\\u043e\\u0432\\u0435 \\u043a\\u0430\\u0440\\u0442\\u0438\\u043d\\u044b \\\"\\u041c\\u0430\\u0447\\u0435\\u0442\\u0435\\\" \\\"\\u0432\\u0438\\u0440\\u0443\\u0441\\u043d\\u044b\\u0439\\\" \\u0440\\u043e\\u043b\\u0438\\u043a, \\u0441\\u043d\\u044f\\u0442\\u044b\\u0439 \\u0440\\u0430\\u043d\\u0435\\u0435 \\u043a \\u0444\\u0438\\u043b\\u044c\\u043c\\u0443 \\\"\\u0413\\u0440\\u0430\\u0439\\u043d\\u0434\\u0445\\u0430\\u0443\\u0441\\\" \\u0438 \\u043f\\u0440\\u0435\\u0434\\u0441\\u0442\\u0430\\u0432\\u043b\\u0435\\u043d\\u043d\\u044b\\u0439 \\u043d\\u0430 YouTube. \\u0412 \\u043d\\u0435\\u043c \\u0448\\u043b\\u0430 \\u0440\\u0435\\u0447\\u044c \\u043e \\u043c\\u0435\\u043a\\u0441\\u0438\\u043a\\u0430\\u043d\\u0441\\u043a\\u043e\\u043c \\u043d\\u0430\\u0435\\u043c\\u043d\\u043e\\u043c \\u0443\\u0431\\u0438\\u0439\\u0446\\u0435 \\u0410\\u0439\\u0441\\u0435\\u0434\\u043e\\u0440\\u0435 \\u041a\\u043e\\u0440\\u0442\\u0435\\u0441\\u0435 \\u043f\\u043e \\u043f\\u0440\\u043e\\u0437\\u0432\\u0438\\u0449\\u0443 \\u041c\\u0430\\u0447\\u0435\\u0442\\u0435, \\u0440\\u0430\\u0431\\u043e\\u0442\\u0430\\u0432\\u0448\\u0435\\u043c \\u043d\\u0430 \\u043f\\u0440\\u0430\\u0432\\u0438\\u0442\\u0435\\u043b\\u044c\\u0441\\u0442\\u0432\\u0435\\u043d\\u043d\\u044b\\u0435 \\u0441\\u0442\\u0440\\u0443\\u043a\\u0442\\u0443\\u0440\\u044b. \\u041f\\u043e\\u0441\\u043b\\u0435 \\u0442\\u043e\\u0433\\u043e \\u043a\\u0430\\u043a \\u0440\\u0430\\u0431\\u043e\\u0442\\u043e\\u0434\\u0430\\u0442\\u0435\\u043b\\u0438 \\u043f\\u0440\\u0435\\u0434\\u0430\\u043b\\u0438 \\u0435\\u0433\\u043e, \\u041c\\u0430\\u0447\\u0435\\u0442\\u0435 \\u0432\\u044b\\u0445\\u043e\\u0434\\u0438\\u0442 \\u043d\\u0430 \\u0442\\u0440\\u043e\\u043f\\u0443 \\u043c\\u0435\\u0441\\u0442\\u0438. \\u0413\\u043b\\u0430\\u0432\\u043d\\u0443\\u044e \\u0440\\u043e\\u043b\\u044c \\u0432 \\u0442\\u0440\\u0435\\u0439\\u043b\\u0435\\u0440\\u0435 \\u0441\\u044b\\u0433\\u0440\\u0430\\u043b \\u0430\\u043a\\u0442\\u0435\\u0440 \\u0414\\u044d\\u043d\\u043d\\u0438 \\u0422\\u0440\\u0435\\u0445\\u043e. \\u041e\\u043d \\u0436\\u0435 \\u0438\\u0433\\u0440\\u0430\\u0435\\u0442 \\u041c\\u0430\\u0447\\u0435\\u0442\\u0435 \\u0438 \\u0432 \\u043f\\u043e\\u043b\\u043d\\u043e\\u043c\\u0435\\u0442\\u0440\\u0430\\u0436\\u043d\\u043e\\u0439 \\u0432\\u0435\\u0440\\u0441\\u0438\\u0438. \\u041a\\u0440\\u043e\\u043c\\u0435 \\u043d\\u0435\\u0433\\u043e \\u0432 \\u043a\\u0430\\u0440\\u0442\\u0438\\u043d\\u0435 \\u0441\\u043d\\u0438\\u043c\\u0430\\u044e\\u0442\\u0441\\u044f \\u0420\\u043e\\u0431\\u0435\\u0440\\u0442 \\u0434\\u0435 \\u041d\\u0438\\u0440\\u043e, \\u0414\\u0436\\u0435\\u0441\\u0441\\u0438\\u043a\\u0430 \\u0410\\u043b\\u044c\\u0431\\u0430, \\u041b\\u0438\\u043d\\u0434\\u0441\\u0438 \\u041b\\u043e\\u0445\\u0430\\u043d, \\u041c\\u0438\\u0448\\u0435\\u043b\\u044c \\u0420\\u043e\\u0434\\u0440\\u0438\\u0433\\u0435\\u0441 \\u0438 \\u0434\\u0440\\u0443\\u0433\\u0438\\u0435 \\u0430\\u043a\\u0442\\u0435\\u0440\\u044b.\",\n          \"\\u0413\\u043b\\u0430\\u0432\\u0430 \\u043a\\u043e\\u043d\\u0441\\u0442\\u0438\\u0442\\u0443\\u0446\\u0438\\u043e\\u043d\\u043d\\u043e\\u0433\\u043e \\u043a\\u043e\\u043c\\u0438\\u0442\\u0435\\u0442\\u0430 \\u0421\\u043e\\u0432\\u0435\\u0442\\u0430 \\u0424\\u0435\\u0434\\u0435\\u0440\\u0430\\u0446\\u0438\\u0438 \\u0410\\u043d\\u0434\\u0440\\u0435\\u0439 \\u041a\\u043b\\u0438\\u0448\\u0430\\u0441 \\u0432\\u043d\\u0435\\u0441 \\u0432 \\u0413\\u043e\\u0441\\u0434\\u0443\\u043c\\u0443 \\u0437\\u0430\\u043a\\u043e\\u043d\\u043e\\u043f\\u0440\\u043e\\u0435\\u043a\\u0442 \\u043e \\u0432\\u0432\\u0435\\u0434\\u0435\\u043d\\u0438\\u0438 \\u0432 \\u0420\\u043e\\u0441\\u0441\\u0438\\u0438 \\u043d\\u043e\\u0432\\u043e\\u0433\\u043e \\u0432\\u0438\\u0434\\u0430 \\u043e\\u0431\\u044f\\u0437\\u0430\\u0442\\u0435\\u043b\\u044c\\u043d\\u043e\\u0433\\u043e \\u0441\\u043e\\u0446\\u0438\\u0430\\u043b\\u044c\\u043d\\u043e\\u0433\\u043e \\u0441\\u0442\\u0440\\u0430\\u0445\\u043e\\u0432\\u0430\\u043d\\u0438\\u044f, \\u043f\\u0440\\u0438\\u0437\\u0432\\u0430\\u043d\\u043d\\u043e\\u0433\\u043e \\u0437\\u0430\\u0449\\u0438\\u0442\\u0438\\u0442\\u044c \\u0440\\u0430\\u0431\\u043e\\u0442\\u043d\\u0438\\u043a\\u0430 \\u043e\\u0442 \\u0431\\u0430\\u043d\\u043a\\u0440\\u043e\\u0442\\u0441\\u0442\\u0432\\u0430 \\u0440\\u0430\\u0431\\u043e\\u0442\\u043e\\u0434\\u0430\\u0442\\u0435\\u043b\\u044f. \\u0421\\u0442\\u0430\\u0432\\u043a\\u0430 \\u0441\\u0431\\u043e\\u0440\\u0430 \\u0441\\u043e\\u0441\\u0442\\u0430\\u0432\\u0438\\u0442 0,2 \\u043f\\u0440\\u043e\\u0446\\u0435\\u043d\\u0442\\u0430 \\u043e\\u0442 \\u0444\\u043e\\u043d\\u0434\\u0430 \\u043e\\u043f\\u043b\\u0430\\u0442\\u044b \\u0442\\u0440\\u0443\\u0434\\u0430. \\u041e\\u0431 \\u044d\\u0442\\u043e\\u043c \\u0432 \\u0447\\u0435\\u0442\\u0432\\u0435\\u0440\\u0433, 10 \\u043c\\u0430\\u0440\\u0442\\u0430, \\u043f\\u0438\\u0448\\u0435\\u0442 \\u00ab\\u041a\\u043e\\u043c\\u043c\\u0435\\u0440\\u0441\\u0430\\u043d\\u0442\\u044a\\u00bb. \\u0418\\u0437 \\u043f\\u043e\\u044f\\u0441\\u043d\\u0438\\u0442\\u0435\\u043b\\u044c\\u043d\\u043e\\u0439 \\u0437\\u0430\\u043f\\u0438\\u0441\\u043a\\u0438 \\u043a \\u0437\\u0430\\u043a\\u043e\\u043d\\u043e\\u043f\\u0440\\u043e\\u0435\\u043a\\u0442\\u0443 \\u0441\\u043b\\u0435\\u0434\\u0443\\u0435\\u0442, \\u0447\\u0442\\u043e \\u043e\\u043d \\u043d\\u0430\\u043f\\u0440\\u0430\\u0432\\u043b\\u0435\\u043d \\u043d\\u0430 \\u00ab\\u0432\\u0432\\u0435\\u0434\\u0435\\u043d\\u0438\\u0435 \\u0434\\u043e\\u043f\\u043e\\u043b\\u043d\\u0438\\u0442\\u0435\\u043b\\u044c\\u043d\\u044b\\u0445 \\u0433\\u0430\\u0440\\u0430\\u043d\\u0442\\u0438\\u0439 \\u0434\\u043b\\u044f \\u0440\\u0430\\u0431\\u043e\\u0442\\u043d\\u0438\\u043a\\u043e\\u0432 \\u0432 \\u0447\\u0430\\u0441\\u0442\\u0438 \\u043f\\u043e\\u043b\\u0443\\u0447\\u0435\\u043d\\u0438\\u044f \\u0437\\u0430\\u0434\\u043e\\u043b\\u0436\\u0435\\u043d\\u043d\\u043e\\u0441\\u0442\\u0438 \\u043f\\u043e \\u0437\\u0430\\u0440\\u0430\\u0431\\u043e\\u0442\\u043d\\u043e\\u0439 \\u043f\\u043b\\u0430\\u0442\\u0435 \\u0432 \\u0441\\u043b\\u0443\\u0447\\u0430\\u0435 \\u0431\\u0430\\u043d\\u043a\\u0440\\u043e\\u0442\\u0441\\u0442\\u0432\\u0430 \\u0440\\u0430\\u0431\\u043e\\u0442\\u043e\\u0434\\u0430\\u0442\\u0435\\u043b\\u044f\\u00bb. \\u041f\\u043e \\u043c\\u043d\\u0435\\u043d\\u0438\\u044e \\u0430\\u0432\\u0442\\u043e\\u0440\\u0430, \\u0432 \\u0431\\u043b\\u0438\\u0436\\u0430\\u0439\\u0448\\u0435\\u0435 \\u0432\\u0440\\u0435\\u043c\\u044f \\u0431\\u0430\\u043d\\u043a\\u0440\\u043e\\u0442\\u0441\\u0442\\u0432\\u0430 \\u0432 \\u0420\\u043e\\u0441\\u0441\\u0438\\u0438 \\u043f\\u0440\\u0438\\u043e\\u0431\\u0440\\u0435\\u0442\\u0443\\u0442 \\u043c\\u0430\\u0441\\u0441\\u043e\\u0432\\u044b\\u0439 \\u0445\\u0430\\u0440\\u0430\\u043a\\u0442\\u0435\\u0440. \\u00ab\\u041a\\u0440\\u043e\\u043c\\u0435 \\u0442\\u043e\\u0433\\u043e, \\u0437\\u0430\\u0447\\u0430\\u0441\\u0442\\u0443\\u044e \\u0443 \\u0431\\u0430\\u043d\\u043a\\u0440\\u043e\\u0442\\u044f\\u0449\\u0438\\u0445\\u0441\\u044f \\u0440\\u0430\\u0431\\u043e\\u0442\\u043e\\u0434\\u0430\\u0442\\u0435\\u043b\\u0435\\u0439 \\u043e\\u0442\\u0441\\u0443\\u0442\\u0441\\u0442\\u0432\\u0443\\u0435\\u0442 \\u043b\\u0438\\u043a\\u0432\\u0438\\u0434\\u043d\\u043e\\u0435 \\u0438\\u043c\\u0443\\u0449\\u0435\\u0441\\u0442\\u0432\\u043e, \\u0430 \\u043b\\u044e\\u0434\\u0438 \\u043f\\u0440\\u043e\\u0434\\u043e\\u043b\\u0436\\u0430\\u044e\\u0442 \\u0440\\u0430\\u0431\\u043e\\u0442\\u0430\\u0442\\u044c \\u043f\\u043e \\u043d\\u0435\\u0441\\u043a\\u043e\\u043b\\u044c\\u043a\\u043e \\u043c\\u0435\\u0441\\u044f\\u0446\\u0435\\u0432 \\u0432 \\u043e\\u0442\\u0441\\u0443\\u0442\\u0441\\u0442\\u0432\\u0438\\u0435 \\u0432\\u044b\\u043f\\u043b\\u0430\\u0442\\u044b \\u0437\\u0430\\u0440\\u0430\\u0431\\u043e\\u0442\\u043d\\u043e\\u0439 \\u043f\\u043b\\u0430\\u0442\\u044b \\u0441\\u043e \\u0441\\u0442\\u043e\\u0440\\u043e\\u043d\\u044b \\u0440\\u0430\\u0431\\u043e\\u0442\\u043e\\u0434\\u0430\\u0442\\u0435\\u043b\\u0435\\u0439\\u00bb, \\u2014 \\u0433\\u043e\\u0432\\u043e\\u0440\\u0438\\u0442\\u0441\\u044f \\u0432 \\u0434\\u043e\\u043a\\u0443\\u043c\\u0435\\u043d\\u0442\\u0435. \\u041d\\u043e\\u0432\\u044b\\u0439 \\u0432\\u0438\\u0434 \\u043e\\u0431\\u044f\\u0437\\u0430\\u0442\\u0435\\u043b\\u044c\\u043d\\u043e\\u0433\\u043e \\u0441\\u043e\\u0446\\u0438\\u0430\\u043b\\u044c\\u043d\\u043e\\u0433\\u043e \\u0441\\u0442\\u0440\\u0430\\u0445\\u043e\\u0432\\u0430\\u043d\\u0438\\u044f \\u043f\\u0440\\u0435\\u0434\\u043f\\u043e\\u043b\\u0430\\u0433\\u0430\\u0435\\u0442\\u0441\\u044f \\u043d\\u0430\\u0437\\u0432\\u0430\\u0442\\u044c \\u00ab\\u043d\\u0430 \\u0441\\u043b\\u0443\\u0447\\u0430\\u0439 \\u0443\\u0442\\u0440\\u0430\\u0442\\u044b \\u043f\\u0440\\u0438\\u0447\\u0438\\u0442\\u0430\\u044e\\u0449\\u0435\\u0439\\u0441\\u044f \\u0440\\u0430\\u0431\\u043e\\u0442\\u043d\\u0438\\u043a\\u0443 \\u0437\\u0430\\u0440\\u0430\\u0431\\u043e\\u0442\\u043d\\u043e\\u0439 \\u043f\\u043b\\u0430\\u0442\\u044b \\u0432\\u0441\\u043b\\u0435\\u0434\\u0441\\u0442\\u0432\\u0438\\u0435 \\u043d\\u0435\\u0441\\u043e\\u0441\\u0442\\u043e\\u044f\\u0442\\u0435\\u043b\\u044c\\u043d\\u043e\\u0441\\u0442\\u0438 (\\u0431\\u0430\\u043d\\u043a\\u0440\\u043e\\u0442\\u0441\\u0442\\u0432\\u0430) \\u0440\\u0430\\u0431\\u043e\\u0442\\u043e\\u0434\\u0430\\u0442\\u0435\\u043b\\u044f\\u00bb. \\u0424\\u0443\\u043d\\u043a\\u0446\\u0438\\u0438 \\u0441\\u0442\\u0440\\u0430\\u0445\\u043e\\u0432\\u0449\\u0438\\u043a\\u0430 \\u043f\\u0440\\u0435\\u0434\\u043b\\u0430\\u0433\\u0430\\u0435\\u0442\\u0441\\u044f \\u0432\\u043e\\u0437\\u043b\\u043e\\u0436\\u0438\\u0442\\u044c \\u043d\\u0430 \\u0424\\u043e\\u043d\\u0434 \\u0441\\u043e\\u0446\\u0438\\u0430\\u043b\\u044c\\u043d\\u043e\\u0433\\u043e \\u0441\\u0442\\u0440\\u0430\\u0445\\u043e\\u0432\\u0430\\u043d\\u0438\\u044f. \\u0412 \\u0441\\u043b\\u0443\\u0447\\u0430\\u0435 \\u0431\\u0430\\u043d\\u043a\\u0440\\u043e\\u0442\\u0441\\u0442\\u0432\\u0430 \\u043f\\u0440\\u0435\\u0434\\u043f\\u0440\\u0438\\u044f\\u0442\\u0438\\u044f \\u0435\\u0433\\u043e \\u0440\\u0430\\u0431\\u043e\\u0442\\u043d\\u0438\\u043a\\u0438 \\u0441\\u043c\\u043e\\u0433\\u0443\\u0442 \\u043f\\u043e\\u043b\\u0443\\u0447\\u0438\\u0442\\u044c \\u0438\\u0437 \\u0431\\u044e\\u0434\\u0436\\u0435\\u0442\\u0430 \\u0444\\u043e\\u043d\\u0434\\u0430 \\u0435\\u0434\\u0438\\u043d\\u043e\\u0432\\u0440\\u0435\\u043c\\u0435\\u043d\\u043d\\u0443\\u044e \\u043a\\u043e\\u043c\\u043f\\u0435\\u043d\\u0441\\u0430\\u0446\\u0438\\u044e \\u0437\\u0430\\u0434\\u043e\\u043b\\u0436\\u0435\\u043d\\u043d\\u043e\\u0441\\u0442\\u0438 \\u043f\\u043e \\u0437\\u0430\\u0440\\u043f\\u043b\\u0430\\u0442\\u0435 \\u0437\\u0430 \\u0442\\u0440\\u0438 \\u043c\\u0435\\u0441\\u044f\\u0446\\u0430, \\u043f\\u0440\\u0435\\u0434\\u0448\\u0435\\u0441\\u0442\\u0432\\u0443\\u044e\\u0449\\u0438\\u0445 \\u0434\\u0430\\u0442\\u0435 \\u0432\\u043e\\u0437\\u0431\\u0443\\u0436\\u0434\\u0435\\u043d\\u0438\\u044f \\u0434\\u0435\\u043b\\u0430 \\u043e \\u0431\\u0430\\u043d\\u043a\\u0440\\u043e\\u0442\\u0441\\u0442\\u0432\\u0435. \\u0412 2013 \\u0433\\u043e\\u0434\\u0443 \\u0430\\u043d\\u0430\\u043b\\u043e\\u0433\\u0438\\u0447\\u043d\\u044b\\u0439 \\u0437\\u0430\\u043a\\u043e\\u043d\\u043e\\u043f\\u0440\\u043e\\u0435\\u043a\\u0442 \\u0434\\u043b\\u044f \\u043f\\u0443\\u0431\\u043b\\u0438\\u0447\\u043d\\u043e\\u0433\\u043e \\u043e\\u0431\\u0441\\u0443\\u0436\\u0434\\u0435\\u043d\\u0438\\u044f \\u043f\\u0440\\u0435\\u0434\\u0441\\u0442\\u0430\\u0432\\u043b\\u044f\\u043b \\u041c\\u0438\\u043d\\u0442\\u0440\\u0443\\u0434. \\u041d\\u043e \\u0438\\u043d\\u0438\\u0446\\u0438\\u0430\\u0442\\u0438\\u0432\\u0430 \\u0432\\u0435\\u0434\\u043e\\u043c\\u0441\\u0442\\u0432\\u0430 \\u0434\\u0430\\u043b\\u044c\\u0448\\u0435 \\u043d\\u0435 \\u043f\\u0440\\u043e\\u0434\\u0432\\u0438\\u043d\\u0443\\u043b\\u0430\\u0441\\u044c. \\u041d\\u043e\\u0432\\u044b\\u0439 \\u0434\\u043e\\u043a\\u0443\\u043c\\u0435\\u043d\\u0442, \\u043a\\u0430\\u043a \\u0441\\u043e\\u043e\\u0431\\u0449\\u0438\\u043b\\u0438 \\u0432 \\u0430\\u043f\\u043f\\u0430\\u0440\\u0430\\u0442\\u0435 \\u041a\\u043b\\u0438\\u0448\\u0430\\u0441\\u0430, \\u0443\\u0436\\u0435 \\u043f\\u043e\\u043b\\u0443\\u0447\\u0438\\u043b \\u043e\\u0434\\u043e\\u0431\\u0440\\u0435\\u043d\\u0438\\u0435 \\u0433\\u043b\\u0430\\u0432\\u043d\\u043e\\u0433\\u043e \\u043f\\u0440\\u0430\\u0432\\u043e\\u0432\\u043e\\u0433\\u043e \\u0443\\u043f\\u0440\\u0430\\u0432\\u043b\\u0435\\u043d\\u0438\\u044f \\u043f\\u0440\\u0435\\u0437\\u0438\\u0434\\u0435\\u043d\\u0442\\u0430, \\u0435\\u0433\\u043e \\u043f\\u043e\\u043c\\u043e\\u0449\\u043d\\u0438\\u043a\\u0430 \\u0410\\u043d\\u0434\\u0440\\u0435\\u044f \\u0411\\u0435\\u043b\\u043e\\u0443\\u0441\\u043e\\u0432\\u0430 \\u0438 \\u0430\\u0434\\u043c\\u0438\\u043d\\u0438\\u0441\\u0442\\u0440\\u0430\\u0446\\u0438\\u0435\\u0439 \\u043f\\u0440\\u0435\\u0437\\u0438\\u0434\\u0435\\u043d\\u0442\\u0430 \\u0432 \\u0446\\u0435\\u043b\\u043e\\u043c. \\u0421\\u043e\\u0433\\u043b\\u0430\\u0441\\u043d\\u043e \\u0442\\u0435\\u043a\\u0443\\u0449\\u0435\\u043c\\u0443 \\u0437\\u0430\\u043a\\u043e\\u043d\\u043e\\u0434\\u0430\\u0442\\u0435\\u043b\\u044c\\u0441\\u0442\\u0432\\u0443 \\u043f\\u0440\\u0438 \\u0431\\u0430\\u043d\\u043a\\u0440\\u043e\\u0442\\u0441\\u0442\\u0432\\u0435 \\u043e\\u0440\\u0433\\u0430\\u043d\\u0438\\u0437\\u0430\\u0446\\u0438\\u0438 \\u0435\\u0435 \\u0440\\u0430\\u0431\\u043e\\u0442\\u043d\\u0438\\u043a\\u0438 \\u0438\\u043c\\u0435\\u044e\\u0442 \\u043f\\u0440\\u0430\\u0432\\u043e \\u043d\\u0430 \\u0443\\u0434\\u043e\\u0432\\u043b\\u0435\\u0442\\u0432\\u043e\\u0440\\u0435\\u043d\\u0438\\u0435 \\u0442\\u0440\\u0435\\u0431\\u043e\\u0432\\u0430\\u043d\\u0438\\u0439 \\u043f\\u043e \\u0437\\u0430\\u0440\\u043f\\u043b\\u0430\\u0442\\u0430\\u043c \\u0432\\u043e \\u0432\\u0442\\u043e\\u0440\\u0443\\u044e \\u043e\\u0447\\u0435\\u0440\\u0435\\u0434\\u044c. \\u0415\\u0441\\u043b\\u0438 \\u0443 \\u0440\\u0430\\u0437\\u043e\\u0440\\u0435\\u043d\\u043d\\u043e\\u0433\\u043e \\u043f\\u0440\\u0435\\u0434\\u043f\\u0440\\u0438\\u044f\\u0442\\u0438\\u044f \\u043d\\u0435\\u0442 \\u0438\\u043c\\u0443\\u0449\\u0435\\u0441\\u0442\\u0432\\u0430, \\u0437\\u0430 \\u0441\\u0447\\u0435\\u0442 \\u043a\\u043e\\u0442\\u043e\\u0440\\u043e\\u0433\\u043e \\u0440\\u0430\\u0431\\u043e\\u0442\\u043d\\u0438\\u043a\\u0438 \\u043c\\u043e\\u0433\\u043b\\u0438 \\u0431\\u044b \\u043f\\u043e\\u043b\\u0443\\u0447\\u0438\\u0442\\u044c \\u043a\\u043e\\u043c\\u043f\\u0435\\u043d\\u0441\\u0430\\u0446\\u0438\\u044e, \\u0438\\u0445 \\u0442\\u0440\\u0435\\u0431\\u043e\\u0432\\u0430\\u043d\\u0438\\u044f \\u0441\\u0447\\u0438\\u0442\\u0430\\u044e\\u0442\\u0441\\u044f \\u043f\\u043e\\u0433\\u0430\\u0448\\u0435\\u043d\\u043d\\u044b\\u043c\\u0438. \\u041f\\u043e \\u0434\\u0430\\u043d\\u043d\\u044b\\u043c \\u0435\\u0434\\u0438\\u043d\\u043e\\u0433\\u043e \\u0444\\u0435\\u0434\\u0435\\u0440\\u0430\\u043b\\u044c\\u043d\\u043e\\u0433\\u043e \\u0440\\u0435\\u0435\\u0441\\u0442\\u0440\\u0430 \\u0441\\u0432\\u0435\\u0434\\u0435\\u043d\\u0438\\u0439 \\u043e \\u0431\\u0430\\u043d\\u043a\\u0440\\u043e\\u0442\\u0441\\u0442\\u0432\\u0435, \\u0437\\u0430 \\u044f\\u043d\\u0432\\u0430\\u0440\\u044c-\\u0438\\u044e\\u043d\\u044c 2015 \\u0433\\u043e\\u0434\\u0430 \\u043e\\u043f\\u0443\\u0431\\u043b\\u0438\\u043a\\u043e\\u0432\\u0430\\u043d\\u043e 7 658 \\u0441\\u043e\\u043e\\u0431\\u0449\\u0435\\u043d\\u0438\\u0439 \\u043e \\u043f\\u0440\\u0438\\u0437\\u043d\\u0430\\u043d\\u0438\\u0438 \\u043e\\u0440\\u0433\\u0430\\u043d\\u0438\\u0437\\u0430\\u0446\\u0438\\u0439 \\u0431\\u0430\\u043d\\u043a\\u0440\\u043e\\u0442\\u0430\\u043c\\u0438.\"\n        ],\n        \"semantic_type\": \"\",\n        \"description\": \"\"\n      }\n    },\n    {\n      \"column\": \"topic\",\n      \"properties\": {\n        \"dtype\": \"category\",\n        \"num_unique_values\": 17,\n        \"samples\": [\n          \"\\u0420\\u043e\\u0441\\u0441\\u0438\\u044f\",\n          \"\\u041c\\u0438\\u0440\",\n          \"\\u0411\\u044b\\u0432\\u0448\\u0438\\u0439 \\u0421\\u0421\\u0421\\u0420\"\n        ],\n        \"semantic_type\": \"\",\n        \"description\": \"\"\n      }\n    },\n    {\n      \"column\": \"tags\",\n      \"properties\": {\n        \"dtype\": \"category\",\n        \"num_unique_values\": 57,\n        \"samples\": [\n          \"\\u0412\\u0441\\u0435\",\n          \"\\u041a\\u043e\\u043d\\u0444\\u043b\\u0438\\u043a\\u0442\\u044b\",\n          \"\\u0420\\u0435\\u043a\\u043b\\u0430\\u043c\\u0430\"\n        ],\n        \"semantic_type\": \"\",\n        \"description\": \"\"\n      }\n    },\n    {\n      \"column\": \"date\",\n      \"properties\": {\n        \"dtype\": \"object\",\n        \"num_unique_values\": 563,\n        \"samples\": [\n          \"2002/12/24\",\n          \"2016/08/01\",\n          \"2008/02/07\"\n        ],\n        \"semantic_type\": \"\",\n        \"description\": \"\"\n      }\n    }\n  ]\n}"
            }
          },
          "metadata": {},
          "execution_count": 5
        }
      ]
    },
    {
      "cell_type": "code",
      "source": [
        "import os\n",
        "os.environ[\"KERAS_BACKEND\"] = \"torch\"\n",
        "\n",
        "import keras\n",
        "print(keras.__version__)"
      ],
      "metadata": {
        "colab": {
          "base_uri": "https://localhost:8080/"
        },
        "id": "gLvvCTFjTW_M",
        "outputId": "da3c18fd-dfed-47a2-bab7-63ec3b930f94"
      },
      "id": "gLvvCTFjTW_M",
      "execution_count": 6,
      "outputs": [
        {
          "output_type": "stream",
          "name": "stdout",
          "text": [
            "3.8.0\n"
          ]
        }
      ]
    },
    {
      "cell_type": "code",
      "source": [
        "# стандартные библиотеки\n",
        "import os, re\n",
        "import numpy as np\n",
        "from time import time\n",
        "from sklearn.model_selection import train_test_split\n",
        "import pandas as pd\n",
        "from collections import Counter\n",
        "from string import punctuation\n",
        "import matplotlib.pyplot as plt\n",
        "%matplotlib inline\n",
        "\n",
        "\n",
        "import keras, torch\n",
        "from transformers import AutoModel\n",
        "from transformers import AutoTokenizer\n",
        "\n",
        "from tqdm.auto import tqdm\n",
        "import numpy as np\n",
        "from sklearn.neighbors import KNeighborsClassifier\n",
        "from sklearn.linear_model import SGDClassifier\n",
        "from sklearn.feature_extraction.text import TfidfVectorizer\n",
        "from sklearn.metrics import classification_report\n"
      ],
      "metadata": {
        "id": "aynnbSsz05wf"
      },
      "id": "aynnbSsz05wf",
      "execution_count": 7,
      "outputs": []
    },
    {
      "cell_type": "code",
      "source": [
        "import torch\n",
        "import torch.nn as nn\n",
        "import torch.nn.functional as F\n",
        "import torch.optim as optim\n",
        "import torch.utils.data"
      ],
      "metadata": {
        "id": "akihllNT3ji3"
      },
      "id": "akihllNT3ji3",
      "execution_count": 8,
      "outputs": []
    },
    {
      "cell_type": "code",
      "source": [
        "def predict(model, iterator):\n",
        "\n",
        "    preds = []\n",
        "\n",
        "    model.eval()\n",
        "    with torch.no_grad():\n",
        "        for texts, ys in iterator:\n",
        "            predictions = model(texts.to(device)).squeeze()\n",
        "            ys = predictions.detach().to('cpu').numpy().argmax(1).tolist()\n",
        "            preds.extend(ys)\n",
        "\n",
        "    return preds"
      ],
      "metadata": {
        "id": "jOdw9MzvAyNp"
      },
      "id": "jOdw9MzvAyNp",
      "execution_count": 9,
      "outputs": []
    },
    {
      "cell_type": "code",
      "source": [
        "class Dataset(torch.utils.data.Dataset):\n",
        "\n",
        "    def __init__(self, tokenizer, MAX_LEN, texts, targets):\n",
        "\n",
        "        self.tokenizer = tokenizer\n",
        "        self.texts = [torch.LongTensor(tokenizer.encode(t)[:MAX_LEN]) for t in texts]\n",
        "        self.texts = torch.nn.utils.rnn.pad_sequence(self.texts, batch_first=True,\n",
        "                                                     padding_value=self.tokenizer.pad_token_id)\n",
        "\n",
        "        self.MAX_LEN = MAX_LEN\n",
        "        self.length = len(texts)\n",
        "\n",
        "        self.target = torch.LongTensor(targets)\n",
        "\n",
        "    def __len__(self):\n",
        "        return self.length\n",
        "\n",
        "    def __getitem__(self, index):\n",
        "        ids = self.texts[index]\n",
        "        y = self.target[index]\n",
        "\n",
        "        return ids, y\n",
        "\n",
        "    def preprocess(self, text):\n",
        "        tokens = text.lower().split()\n",
        "        tokens = [token.strip(punctuation) for token in tokens]\n",
        "        tokens = [token for token in tokens if token]\n",
        "        return tokens"
      ],
      "metadata": {
        "id": "164OhqmKAz15"
      },
      "id": "164OhqmKAz15",
      "execution_count": 10,
      "outputs": []
    },
    {
      "cell_type": "code",
      "source": [
        "from sklearn.metrics import f1_score\n",
        "\n",
        "def train(model, iterator, optimizer, criterion, print_every=1000):\n",
        "\n",
        "    epoch_loss = []\n",
        "    epoch_f1 = []\n",
        "\n",
        "    model.train()\n",
        "\n",
        "    for i, (texts, ys) in enumerate(iterator):\n",
        "\n",
        "        optimizer.zero_grad()\n",
        "        predictions = model(texts.to(device)).squeeze()\n",
        "        loss = criterion(predictions, ys.to(device))\n",
        "\n",
        "\n",
        "\n",
        "        loss.backward()\n",
        "        optimizer.step()\n",
        "        preds = predictions.detach().to('cpu').numpy().argmax(1).tolist()\n",
        "        y_true = ys.tolist()\n",
        "\n",
        "        epoch_loss.append(loss.item())\n",
        "        epoch_f1.append(f1_score(y_true, preds, average=\"micro\"))\n",
        "\n",
        "        if not (i+1) % print_every:\n",
        "            print(f'Loss: {np.mean(epoch_loss)}; F1 measure: {np.mean(epoch_f1)}')\n",
        "\n",
        "    return np.mean(epoch_f1)\n",
        "\n",
        "\n",
        "def evaluate(model, iterator, criterion):\n",
        "\n",
        "    epoch_loss = []\n",
        "    epoch_f1 = []\n",
        "\n",
        "    model.eval()\n",
        "    with torch.no_grad():\n",
        "        for texts, ys in iterator:\n",
        "\n",
        "            predictions = model(texts.to(device)).squeeze()\n",
        "            loss = criterion(predictions, ys.to(device))\n",
        "            preds = predictions.detach().to('cpu').numpy().argmax(1).tolist()\n",
        "            y_true = ys.tolist()\n",
        "\n",
        "\n",
        "            epoch_loss.append(loss.item())\n",
        "            epoch_f1.append(f1_score(y_true, preds, average=\"micro\"))\n",
        "\n",
        "    return np.mean(epoch_f1)# / len(iterator)"
      ],
      "metadata": {
        "id": "RuC-tUWiCZD8"
      },
      "id": "RuC-tUWiCZD8",
      "execution_count": 11,
      "outputs": []
    },
    {
      "cell_type": "code",
      "source": [
        "MAX_LEN = 512"
      ],
      "metadata": {
        "id": "OmJafJ0CCdH7"
      },
      "id": "OmJafJ0CCdH7",
      "execution_count": 12,
      "outputs": []
    },
    {
      "cell_type": "code",
      "source": [
        "texts = df.text.values\n",
        "id2label = {i:l for i,l in enumerate(set(df.topic))}\n",
        "label2id = {l:i for i,l in id2label.items()}\n",
        "targets = [label2id[l] for l in df.topic]"
      ],
      "metadata": {
        "id": "RVPlgBGcCfOC"
      },
      "id": "RVPlgBGcCfOC",
      "execution_count": 13,
      "outputs": []
    },
    {
      "cell_type": "code",
      "source": [
        "train_texts, valid_texts, train_targets, valid_targets = train_test_split(texts, targets, test_size=0.05)"
      ],
      "metadata": {
        "id": "cnz8aZ8gCtfj"
      },
      "id": "cnz8aZ8gCtfj",
      "execution_count": 14,
      "outputs": []
    },
    {
      "cell_type": "code",
      "source": [
        "import torch.nn as nn\n",
        "\n",
        "class CLF(nn.Module):\n",
        "\n",
        "    def __init__(self, pretrained_model, num_classes):\n",
        "        super().__init__()\n",
        "        self.tokenizer = tokenizer # токенизатор\n",
        "        self.pretrained_model = pretrained_model # предобученная модель\n",
        "        #\n",
        "        self.drop = nn.Dropout(0.3) # добавим дропаут чтобы не переобучалось\n",
        "        self.fc = nn.Linear(768, num_classes)\n",
        "        self.act = nn.LogSoftmax(1)\n",
        "\n",
        "    def forward(self, texts):\n",
        "\n",
        "        mask = (texts != tokenizer.pad_token_id).long()\n",
        "\n",
        "        # прогоняем через BERT\n",
        "        hidden = self.pretrained_model(texts, attention_mask=mask)[0]\n",
        "\n",
        "        # берем самое первое состояние и применяем к нему линейный слой и активацию\n",
        "        dense_outputs=self.fc(self.drop(hidden[:,0] ))\n",
        "        outputs=self.act(dense_outputs)\n",
        "\n",
        "        return outputs"
      ],
      "metadata": {
        "id": "gQxnpa3zC5OX"
      },
      "id": "gQxnpa3zC5OX",
      "execution_count": 15,
      "outputs": []
    },
    {
      "cell_type": "markdown",
      "source": [
        "### modernbert-base"
      ],
      "metadata": {
        "id": "Squxt1nc2hmg"
      },
      "id": "Squxt1nc2hmg"
    },
    {
      "cell_type": "markdown",
      "source": [
        "#### Дообучение с заморозкой"
      ],
      "metadata": {
        "id": "4MqMoGucDAjJ"
      },
      "id": "4MqMoGucDAjJ"
    },
    {
      "cell_type": "code",
      "source": [
        "model_id = \"answerdotai/ModernBERT-base\"\n",
        "tokenizer = AutoTokenizer.from_pretrained(model_id)\n",
        "model_bert = AutoModel.from_pretrained(model_id)\n",
        "\n",
        "for param in model_bert.parameters():\n",
        "    param.requires_grad = False"
      ],
      "metadata": {
        "colab": {
          "base_uri": "https://localhost:8080/"
        },
        "id": "8luQ-hJNC89-",
        "outputId": "5734fa96-6003-4c1b-aafe-d3a8429ba805"
      },
      "id": "8luQ-hJNC89-",
      "execution_count": 15,
      "outputs": [
        {
          "output_type": "stream",
          "name": "stderr",
          "text": [
            "/usr/local/lib/python3.11/dist-packages/huggingface_hub/utils/_auth.py:94: UserWarning: \n",
            "The secret `HF_TOKEN` does not exist in your Colab secrets.\n",
            "To authenticate with the Hugging Face Hub, create a token in your settings tab (https://huggingface.co/settings/tokens), set it as secret in your Google Colab and restart your session.\n",
            "You will be able to reuse this secret in all of your notebooks.\n",
            "Please note that authentication is recommended but still optional to access public models or datasets.\n",
            "  warnings.warn(\n"
          ]
        }
      ]
    },
    {
      "cell_type": "code",
      "source": [
        "training_set = Dataset(tokenizer, MAX_LEN, train_texts, train_targets)\n",
        "training_generator = torch.utils.data.DataLoader(training_set, batch_size=16, shuffle=True, )\n",
        "valid_set = Dataset(tokenizer, MAX_LEN, valid_texts, valid_targets)\n",
        "valid_generator = torch.utils.data.DataLoader(valid_set, batch_size=16, shuffle=True)"
      ],
      "metadata": {
        "id": "avkXMfKPCv7N"
      },
      "id": "avkXMfKPCv7N",
      "execution_count": 16,
      "outputs": []
    },
    {
      "cell_type": "code",
      "source": [
        "device = torch.device('cuda' if torch.cuda.is_available() else 'cpu')\n",
        "model = CLF(model_bert, len(label2id))\n",
        "optimizer = optim.Adam(model.parameters(), lr=2e-4)\n",
        "criterion = nn.NLLLoss()\n",
        "model = model.to(device)\n",
        "criterion = criterion.to(device)"
      ],
      "metadata": {
        "id": "xUOXPok1D4G4"
      },
      "id": "xUOXPok1D4G4",
      "execution_count": 17,
      "outputs": []
    },
    {
      "cell_type": "code",
      "source": [
        "f1s = []\n",
        "f1s_eval = []\n",
        "\n",
        "for i in range(10):\n",
        "    print(i)\n",
        "    f1s.append(train(model, training_generator, optimizer, criterion, 2000))\n",
        "    evl = evaluate(model, valid_generator, criterion)\n",
        "    print('Eval - ', evl)\n",
        "    f1s_eval.append(evl)"
      ],
      "metadata": {
        "colab": {
          "base_uri": "https://localhost:8080/"
        },
        "id": "4zd1pUL1D_uy",
        "outputId": "ba970af3-db1b-4170-f157-993f2183626b"
      },
      "id": "4zd1pUL1D_uy",
      "execution_count": 19,
      "outputs": [
        {
          "output_type": "stream",
          "name": "stdout",
          "text": [
            "0\n",
            "Eval -  0.12916666666666665\n",
            "1\n",
            "Eval -  0.16458333333333333\n",
            "2\n",
            "Eval -  0.16041666666666665\n",
            "3\n",
            "Eval -  0.225\n",
            "4\n",
            "Eval -  0.15833333333333333\n",
            "5\n",
            "Eval -  0.19375\n",
            "6\n",
            "Eval -  0.15833333333333333\n",
            "7\n",
            "Eval -  0.19375\n",
            "8\n",
            "Eval -  0.19583333333333333\n",
            "9\n",
            "Eval -  0.16041666666666665\n"
          ]
        }
      ]
    },
    {
      "cell_type": "code",
      "source": [
        "plt.plot(f1s)\n",
        "plt.plot(f1s_eval)\n",
        "plt.title('model f1 micro')\n",
        "plt.ylabel('f1')\n",
        "plt.xlabel('epoch')\n",
        "plt.legend(['train', 'val'], loc='upper left')\n",
        "plt.show()"
      ],
      "metadata": {
        "colab": {
          "base_uri": "https://localhost:8080/",
          "height": 472
        },
        "id": "IHzc1CJkE5zW",
        "outputId": "f9d39d3e-f45f-4d88-f0c8-859f82c6c4e9"
      },
      "id": "IHzc1CJkE5zW",
      "execution_count": 20,
      "outputs": [
        {
          "output_type": "display_data",
          "data": {
            "text/plain": [
              "<Figure size 640x480 with 1 Axes>"
            ],
            "image/png": "[encoded data removed]"
          },
          "metadata": {}
        }
      ]
    },
    {
      "cell_type": "code",
      "source": [
        "valid_generator = torch.utils.data.DataLoader(valid_set, batch_size=32, shuffle=False)\n",
        "preds = predict(model, valid_generator)"
      ],
      "metadata": {
        "id": "m0Ecm6cSEBgX"
      },
      "id": "m0Ecm6cSEBgX",
      "execution_count": 21,
      "outputs": []
    },
    {
      "cell_type": "code",
      "source": [
        "print(classification_report(valid_targets, preds))"
      ],
      "metadata": {
        "colab": {
          "base_uri": "https://localhost:8080/"
        },
        "id": "P40MRSKMEDw5",
        "outputId": "7942a880-5d47-41f4-a017-7f71cb4aafdf"
      },
      "id": "P40MRSKMEDw5",
      "execution_count": 22,
      "outputs": [
        {
          "output_type": "stream",
          "name": "stdout",
          "text": [
            "              precision    recall  f1-score   support\n",
            "\n",
            "           0       0.00      0.00      0.00         3\n",
            "           1       0.00      0.00      0.00         0\n",
            "           2       0.00      0.00      0.00         2\n",
            "           4       0.00      0.00      0.00         1\n",
            "           5       0.00      0.00      0.00         2\n",
            "           6       0.00      0.00      0.00         3\n",
            "           7       0.00      0.00      0.00         2\n",
            "           8       0.33      1.00      0.50         1\n",
            "           9       0.50      0.25      0.33         4\n",
            "          10       0.00      0.00      0.00         1\n",
            "          12       0.00      0.00      0.00         3\n",
            "          13       0.00      0.00      0.00         2\n",
            "          14       0.33      0.50      0.40         2\n",
            "          16       0.50      0.40      0.44         5\n",
            "\n",
            "    accuracy                           0.16        31\n",
            "   macro avg       0.12      0.15      0.12        31\n",
            "weighted avg       0.18      0.16      0.16        31\n",
            "\n"
          ]
        },
        {
          "output_type": "stream",
          "name": "stderr",
          "text": [
            "/usr/local/lib/python3.11/dist-packages/sklearn/metrics/_classification.py:1565: UndefinedMetricWarning: Precision is ill-defined and being set to 0.0 in labels with no predicted samples. Use `zero_division` parameter to control this behavior.\n",
            "  _warn_prf(average, modifier, f\"{metric.capitalize()} is\", len(result))\n",
            "/usr/local/lib/python3.11/dist-packages/sklearn/metrics/_classification.py:1565: UndefinedMetricWarning: Recall is ill-defined and being set to 0.0 in labels with no true samples. Use `zero_division` parameter to control this behavior.\n",
            "  _warn_prf(average, modifier, f\"{metric.capitalize()} is\", len(result))\n",
            "/usr/local/lib/python3.11/dist-packages/sklearn/metrics/_classification.py:1565: UndefinedMetricWarning: Precision is ill-defined and being set to 0.0 in labels with no predicted samples. Use `zero_division` parameter to control this behavior.\n",
            "  _warn_prf(average, modifier, f\"{metric.capitalize()} is\", len(result))\n",
            "/usr/local/lib/python3.11/dist-packages/sklearn/metrics/_classification.py:1565: UndefinedMetricWarning: Recall is ill-defined and being set to 0.0 in labels with no true samples. Use `zero_division` parameter to control this behavior.\n",
            "  _warn_prf(average, modifier, f\"{metric.capitalize()} is\", len(result))\n",
            "/usr/local/lib/python3.11/dist-packages/sklearn/metrics/_classification.py:1565: UndefinedMetricWarning: Precision is ill-defined and being set to 0.0 in labels with no predicted samples. Use `zero_division` parameter to control this behavior.\n",
            "  _warn_prf(average, modifier, f\"{metric.capitalize()} is\", len(result))\n",
            "/usr/local/lib/python3.11/dist-packages/sklearn/metrics/_classification.py:1565: UndefinedMetricWarning: Recall is ill-defined and being set to 0.0 in labels with no true samples. Use `zero_division` parameter to control this behavior.\n",
            "  _warn_prf(average, modifier, f\"{metric.capitalize()} is\", len(result))\n"
          ]
        }
      ]
    },
    {
      "cell_type": "markdown",
      "source": [
        "#### Дообучение без заморозки"
      ],
      "metadata": {
        "id": "Rdp7FA2HKy8O"
      },
      "id": "Rdp7FA2HKy8O"
    },
    {
      "cell_type": "code",
      "source": [
        "model_id = \"answerdotai/ModernBERT-base\"\n",
        "tokenizer = AutoTokenizer.from_pretrained(model_id)\n",
        "model_bert = AutoModel.from_pretrained(model_id)"
      ],
      "metadata": {
        "id": "esyQRSVyLFTB"
      },
      "id": "esyQRSVyLFTB",
      "execution_count": 23,
      "outputs": []
    },
    {
      "cell_type": "code",
      "source": [
        "device = torch.device('cuda' if torch.cuda.is_available() else 'cpu')\n",
        "model = CLF(model_bert, len(label2id))\n",
        "optimizer = optim.Adam(model.parameters(), lr=2e-4)\n",
        "criterion = nn.NLLLoss()\n",
        "model = model.to(device)\n",
        "criterion = criterion.to(device)"
      ],
      "metadata": {
        "id": "3Qun5GmbLIMz"
      },
      "id": "3Qun5GmbLIMz",
      "execution_count": 24,
      "outputs": []
    },
    {
      "cell_type": "code",
      "source": [
        "f1s = []\n",
        "f1s_eval = []\n",
        "\n",
        "for i in range(10):\n",
        "    print(i)\n",
        "    f1s.append(train(model, training_generator, optimizer, criterion, 2000))\n",
        "    evl = evaluate(model, valid_generator, criterion)\n",
        "    print('Eval - ', evl)\n",
        "    f1s_eval.append(evl)"
      ],
      "metadata": {
        "colab": {
          "base_uri": "https://localhost:8080/"
        },
        "id": "13ffN6WCLIgR",
        "outputId": "3668769c-b3a1-432b-ad45-6cad57e550c6"
      },
      "id": "13ffN6WCLIgR",
      "execution_count": 25,
      "outputs": [
        {
          "output_type": "stream",
          "name": "stdout",
          "text": [
            "0\n",
            "Eval -  0.12903225806451613\n",
            "1\n",
            "Eval -  0.06451612903225806\n",
            "2\n",
            "Eval -  0.12903225806451613\n",
            "3\n",
            "Eval -  0.16129032258064516\n",
            "4\n",
            "Eval -  0.16129032258064516\n",
            "5\n",
            "Eval -  0.16129032258064516\n",
            "6\n",
            "Eval -  0.25806451612903225\n",
            "7\n",
            "Eval -  0.2903225806451613\n",
            "8\n",
            "Eval -  0.25806451612903225\n",
            "9\n",
            "Eval -  0.16129032258064516\n"
          ]
        }
      ]
    },
    {
      "cell_type": "code",
      "source": [
        "plt.plot(f1s)\n",
        "plt.plot(f1s_eval)\n",
        "plt.title('model f1 micro')\n",
        "plt.ylabel('f1')\n",
        "plt.xlabel('epoch')\n",
        "plt.legend(['train', 'val'], loc='upper left')\n",
        "plt.show()"
      ],
      "metadata": {
        "colab": {
          "base_uri": "https://localhost:8080/",
          "height": 472
        },
        "id": "12MMpxeDLPcm",
        "outputId": "e8cd8754-70cb-4feb-da20-cee03032cf98"
      },
      "id": "12MMpxeDLPcm",
      "execution_count": 26,
      "outputs": [
        {
          "output_type": "display_data",
          "data": {
            "text/plain": [
              "<Figure size 640x480 with 1 Axes>"
            ],
            "image/png": "[encoded data removed]"
          },
          "metadata": {}
        }
      ]
    },
    {
      "cell_type": "code",
      "source": [
        "valid_generator = torch.utils.data.DataLoader(valid_set, batch_size=32, shuffle=False)\n",
        "preds = predict(model, valid_generator)"
      ],
      "metadata": {
        "id": "4w3F2d_NLP4_"
      },
      "id": "4w3F2d_NLP4_",
      "execution_count": 27,
      "outputs": []
    },
    {
      "cell_type": "code",
      "source": [
        "print(classification_report(valid_targets, preds))"
      ],
      "metadata": {
        "colab": {
          "base_uri": "https://localhost:8080/"
        },
        "id": "hN3d_vyDLTxD",
        "outputId": "02e386bf-ca8a-43e1-816b-f74e40c63fc3"
      },
      "id": "hN3d_vyDLTxD",
      "execution_count": 28,
      "outputs": [
        {
          "output_type": "stream",
          "name": "stdout",
          "text": [
            "              precision    recall  f1-score   support\n",
            "\n",
            "           0       0.00      0.00      0.00         3\n",
            "           1       0.00      0.00      0.00         0\n",
            "           2       0.00      0.00      0.00         2\n",
            "           4       0.25      1.00      0.40         1\n",
            "           5       0.00      0.00      0.00         2\n",
            "           6       1.00      0.33      0.50         3\n",
            "           7       0.00      0.00      0.00         2\n",
            "           8       0.20      1.00      0.33         1\n",
            "           9       0.25      0.25      0.25         4\n",
            "          10       0.00      0.00      0.00         1\n",
            "          12       0.00      0.00      0.00         3\n",
            "          13       0.00      0.00      0.00         2\n",
            "          14       0.50      0.50      0.50         2\n",
            "          16       0.00      0.00      0.00         5\n",
            "\n",
            "    accuracy                           0.16        31\n",
            "   macro avg       0.16      0.22      0.14        31\n",
            "weighted avg       0.18      0.16      0.14        31\n",
            "\n"
          ]
        },
        {
          "output_type": "stream",
          "name": "stderr",
          "text": [
            "/usr/local/lib/python3.11/dist-packages/sklearn/metrics/_classification.py:1565: UndefinedMetricWarning: Precision is ill-defined and being set to 0.0 in labels with no predicted samples. Use `zero_division` parameter to control this behavior.\n",
            "  _warn_prf(average, modifier, f\"{metric.capitalize()} is\", len(result))\n",
            "/usr/local/lib/python3.11/dist-packages/sklearn/metrics/_classification.py:1565: UndefinedMetricWarning: Recall is ill-defined and being set to 0.0 in labels with no true samples. Use `zero_division` parameter to control this behavior.\n",
            "  _warn_prf(average, modifier, f\"{metric.capitalize()} is\", len(result))\n",
            "/usr/local/lib/python3.11/dist-packages/sklearn/metrics/_classification.py:1565: UndefinedMetricWarning: Precision is ill-defined and being set to 0.0 in labels with no predicted samples. Use `zero_division` parameter to control this behavior.\n",
            "  _warn_prf(average, modifier, f\"{metric.capitalize()} is\", len(result))\n",
            "/usr/local/lib/python3.11/dist-packages/sklearn/metrics/_classification.py:1565: UndefinedMetricWarning: Recall is ill-defined and being set to 0.0 in labels with no true samples. Use `zero_division` parameter to control this behavior.\n",
            "  _warn_prf(average, modifier, f\"{metric.capitalize()} is\", len(result))\n",
            "/usr/local/lib/python3.11/dist-packages/sklearn/metrics/_classification.py:1565: UndefinedMetricWarning: Precision is ill-defined and being set to 0.0 in labels with no predicted samples. Use `zero_division` parameter to control this behavior.\n",
            "  _warn_prf(average, modifier, f\"{metric.capitalize()} is\", len(result))\n",
            "/usr/local/lib/python3.11/dist-packages/sklearn/metrics/_classification.py:1565: UndefinedMetricWarning: Recall is ill-defined and being set to 0.0 in labels with no true samples. Use `zero_division` parameter to control this behavior.\n",
            "  _warn_prf(average, modifier, f\"{metric.capitalize()} is\", len(result))\n"
          ]
        }
      ]
    },
    {
      "cell_type": "markdown",
      "source": [
        "### rumodernbert-base"
      ],
      "metadata": {
        "id": "ODZ6rt-23Ctf"
      },
      "id": "ODZ6rt-23Ctf"
    },
    {
      "cell_type": "markdown",
      "source": [
        "#### Дообучение с заморозкой"
      ],
      "metadata": {
        "id": "jyWGo4hvLjUt"
      },
      "id": "jyWGo4hvLjUt"
    },
    {
      "cell_type": "code",
      "source": [
        "model_id = \"deepvk/RuModernBERT-base\"\n",
        "tokenizer = AutoTokenizer.from_pretrained(model_id)\n",
        "model_bert = AutoModel.from_pretrained(model_id)\n",
        "\n",
        "for param in model_bert.parameters():\n",
        "    param.requires_grad = False"
      ],
      "metadata": {
        "colab": {
          "base_uri": "https://localhost:8080/",
          "height": 177,
          "referenced_widgets": [
            "9efb4fad86a146dd96dc791c11edde23",
            "de9cf7cb6500440e8e7f1380bb165c6c",
            "9375d2331c394b1f995ea197a3e0ab5b",
            "633d793d9ff9455ea485dec9fc2fef0c",
            "2fee871ce17b405f9d05d46c304529b5",
            "efe1c3c18d10496ea6a8d455ccebcc92",
            "33fbb15d33cb447ca670b5363eca5aa1",
            "0bb0cb84649248f7a760721620b5fa0e",
            "a1c8dfbdcfc4435593172e4256f248ce",
            "5c4782d01ddb46bc85046f756f39a7f6",
            "f22c56b3be0c4e1488ec5df4fbc565ad",
            "097e347015274ce5b8cfdb63fceb9821",
            "eb24d5fd4e1a4af99a39b5b6b7d383bb",
            "98777de58dcb40b185a12e80b729a8fc",
            "91217a331ac34c729e01a3462496fd39",
            "ce46ce9f42e94c4eb4bfdd9f99c9903f",
            "c369ce5fdba241478693a1aaee9b4d96",
            "16dd5633d34f4aefb03219ef9af2fcc9",
            "216f9b8d98b44f2bb7e278f5f9b681dd",
            "7626c97c5d3f45e0bcddd46386c1a79e",
            "94e2fbcb4fc54dc6ad891532adeda790",
            "3b62283d52c74137b5bbeb904018bc47",
            "acf2dfeaf677442aac846a4d87101785",
            "4a599864054849a5bcbdd2cf2c73f200",
            "31a6a21cabd54f82bd2c749b6c74c38e",
            "70e781ecf4bf453fae4189520cdfd327",
            "aef9d21b618d4c699be05ba415c5cf68",
            "5027d4573eae4434954cdaeecacf082a",
            "584ea1ebaaab42278eb20187a3130cf1",
            "444c10c551b94cc3aa668dd3e3c3fc96",
            "e074528fb55a436e8bc398f09459766a",
            "c37ae46eacae493296cc19bb1cbab440",
            "6d19967b23d94e979fead6e4bde56de0",
            "69d29d08979d4331a69f8d15d6fe68e2",
            "14874d4cc240494dbf7eac63a4434bda",
            "0deaa199469a42729ccd637747d72a91",
            "ac0cfb87e0bc46a0a5729126b2e568be",
            "3edaff1cddbc45cdb14047e9123c5c23",
            "f1b678840cb04e64abe5c6cf56f30efa",
            "6c407f9c819d4cce8d2d73e6da78efdf",
            "3f4ad56ead5a4e0cb6988d409f3d1f94",
            "c450e78a0dd34c0885f7e4e1acf045ad",
            "73d2be0c5716456c96655e7a4c9204d1",
            "f924d105c9ae40f29f85a68befb2b9f3",
            "ed73adc1a5b5489298aa53bc0e8fa0aa",
            "1f003b8cc6d2412cbf502fc5bbcb0a4e",
            "3769cb2668c344a2b6bae7106ac871c4",
            "2b69e5bd7f324fcd92b0bafc1d587363",
            "47033273c58e4cb7ab9863500497fb39",
            "4d20a27a0b304f57a8b25658539dded1",
            "50068c22edc046278dfe2511ca05a826",
            "7db8817c75594fe882a3d2786e94db16",
            "43835957b5ab4b86a32a15f57224b7fb",
            "0f297433ab54419f97b9cb9ce2b5de71",
            "2e5dda219fa74b4aabc2797ce88f47fb"
          ]
        },
        "outputId": "6b56c7a2-fa88-4ec4-9318-bfe60f31f9d3",
        "id": "kKOd1kwDLjUw"
      },
      "execution_count": 29,
      "outputs": [
        {
          "output_type": "display_data",
          "data": {
            "text/plain": [
              "tokenizer_config.json:   0%|          | 0.00/21.0k [00:00<?, ?B/s]"
            ],
            "application/vnd.jupyter.widget-view+json": {
              "version_major": 2,
              "version_minor": 0,
              "model_id": "9efb4fad86a146dd96dc791c11edde23"
            }
          },
          "metadata": {}
        },
        {
          "output_type": "display_data",
          "data": {
            "text/plain": [
              "tokenizer.json:   0%|          | 0.00/4.75M [00:00<?, ?B/s]"
            ],
            "application/vnd.jupyter.widget-view+json": {
              "version_major": 2,
              "version_minor": 0,
              "model_id": "097e347015274ce5b8cfdb63fceb9821"
            }
          },
          "metadata": {}
        },
        {
          "output_type": "display_data",
          "data": {
            "text/plain": [
              "special_tokens_map.json:   0%|          | 0.00/837 [00:00<?, ?B/s]"
            ],
            "application/vnd.jupyter.widget-view+json": {
              "version_major": 2,
              "version_minor": 0,
              "model_id": "acf2dfeaf677442aac846a4d87101785"
            }
          },
          "metadata": {}
        },
        {
          "output_type": "display_data",
          "data": {
            "text/plain": [
              "config.json:   0%|          | 0.00/2.19k [00:00<?, ?B/s]"
            ],
            "application/vnd.jupyter.widget-view+json": {
              "version_major": 2,
              "version_minor": 0,
              "model_id": "69d29d08979d4331a69f8d15d6fe68e2"
            }
          },
          "metadata": {}
        },
        {
          "output_type": "display_data",
          "data": {
            "text/plain": [
              "model.safetensors:   0%|          | 0.00/599M [00:00<?, ?B/s]"
            ],
            "application/vnd.jupyter.widget-view+json": {
              "version_major": 2,
              "version_minor": 0,
              "model_id": "ed73adc1a5b5489298aa53bc0e8fa0aa"
            }
          },
          "metadata": {}
        }
      ],
      "id": "kKOd1kwDLjUw"
    },
    {
      "cell_type": "code",
      "source": [
        "training_set = Dataset(tokenizer, MAX_LEN, train_texts, train_targets)\n",
        "training_generator = torch.utils.data.DataLoader(training_set, batch_size=16, shuffle=True, )\n",
        "valid_set = Dataset(tokenizer, MAX_LEN, valid_texts, valid_targets)\n",
        "valid_generator = torch.utils.data.DataLoader(valid_set, batch_size=16, shuffle=True)"
      ],
      "metadata": {
        "id": "jIKmFTC3LjUy"
      },
      "execution_count": 30,
      "outputs": [],
      "id": "jIKmFTC3LjUy"
    },
    {
      "cell_type": "code",
      "source": [
        "device = torch.device('cuda' if torch.cuda.is_available() else 'cpu')\n",
        "model = CLF(model_bert, len(label2id))\n",
        "optimizer = optim.Adam(model.parameters(), lr=2e-4)\n",
        "criterion = nn.NLLLoss()\n",
        "model = model.to(device)\n",
        "criterion = criterion.to(device)"
      ],
      "metadata": {
        "id": "4EU3r3nwLjUz"
      },
      "execution_count": 31,
      "outputs": [],
      "id": "4EU3r3nwLjUz"
    },
    {
      "cell_type": "code",
      "source": [
        "f1s = []\n",
        "f1s_eval = []\n",
        "\n",
        "for i in range(30):\n",
        "    print(i)\n",
        "    f1s.append(train(model, training_generator, optimizer, criterion, 2000))\n",
        "    evl = evaluate(model, valid_generator, criterion)\n",
        "    print('Eval - ', evl)\n",
        "    f1s_eval.append(evl)"
      ],
      "metadata": {
        "colab": {
          "base_uri": "https://localhost:8080/"
        },
        "outputId": "974ef3be-3c96-4b58-c09e-b508eae61780",
        "id": "qVaIBNslLjU0"
      },
      "execution_count": 39,
      "outputs": [
        {
          "output_type": "stream",
          "name": "stdout",
          "text": [
            "0\n",
            "Eval -  0.06451612903225806\n",
            "1\n",
            "Eval -  0.12903225806451613\n",
            "2\n",
            "Eval -  0.06451612903225806\n",
            "3\n",
            "Eval -  0.1935483870967742\n",
            "4\n",
            "Eval -  0.16129032258064516\n",
            "5\n",
            "Eval -  0.22580645161290322\n",
            "6\n",
            "Eval -  0.3225806451612903\n",
            "7\n",
            "Eval -  0.1935483870967742\n",
            "8\n",
            "Eval -  0.3225806451612903\n",
            "9\n",
            "Eval -  0.3548387096774194\n",
            "10\n",
            "Eval -  0.3548387096774194\n",
            "11\n",
            "Eval -  0.3548387096774194\n",
            "12\n",
            "Eval -  0.3548387096774194\n",
            "13\n",
            "Eval -  0.3870967741935484\n",
            "14\n",
            "Eval -  0.25806451612903225\n",
            "15\n",
            "Eval -  0.3225806451612903\n",
            "16\n",
            "Eval -  0.3870967741935484\n",
            "17\n",
            "Eval -  0.41935483870967744\n",
            "18\n",
            "Eval -  0.3548387096774194\n",
            "19\n",
            "Eval -  0.3870967741935484\n",
            "20\n",
            "Eval -  0.4838709677419355\n",
            "21\n",
            "Eval -  0.41935483870967744\n",
            "22\n",
            "Eval -  0.4838709677419355\n",
            "23\n",
            "Eval -  0.2903225806451613\n",
            "24\n",
            "Eval -  0.3870967741935484\n",
            "25\n",
            "Eval -  0.41935483870967744\n",
            "26\n",
            "Eval -  0.45161290322580644\n",
            "27\n",
            "Eval -  0.45161290322580644\n",
            "28\n",
            "Eval -  0.3870967741935484\n",
            "29\n",
            "Eval -  0.3870967741935484\n"
          ]
        }
      ],
      "id": "qVaIBNslLjU0"
    },
    {
      "cell_type": "code",
      "source": [
        "plt.plot(f1s)\n",
        "plt.plot(f1s_eval)\n",
        "plt.title('model f1 micro')\n",
        "plt.ylabel('f1')\n",
        "plt.xlabel('epoch')\n",
        "plt.legend(['train', 'val'], loc='upper left')\n",
        "plt.show()"
      ],
      "metadata": {
        "colab": {
          "base_uri": "https://localhost:8080/",
          "height": 472
        },
        "outputId": "195b9c6a-0f86-49da-beb7-7308f7fe8824",
        "id": "wbxUNE92LjU1"
      },
      "execution_count": 43,
      "outputs": [
        {
          "output_type": "display_data",
          "data": {
            "text/plain": [
              "<Figure size 640x480 with 1 Axes>"
            ],
            "image/png": "[encoded data removed]"
          },
          "metadata": {}
        }
      ],
      "id": "wbxUNE92LjU1"
    },
    {
      "cell_type": "code",
      "source": [
        "valid_generator = torch.utils.data.DataLoader(valid_set, batch_size=32, shuffle=False)\n",
        "preds = predict(model, valid_generator)"
      ],
      "metadata": {
        "id": "JvgDAYRmLjU3"
      },
      "execution_count": 44,
      "outputs": [],
      "id": "JvgDAYRmLjU3"
    },
    {
      "cell_type": "code",
      "source": [
        "print(classification_report(valid_targets, preds))"
      ],
      "metadata": {
        "colab": {
          "base_uri": "https://localhost:8080/"
        },
        "outputId": "9db822c0-84c3-4c56-b3bc-77c98bca858b",
        "id": "Kdm8H7qiLjU4"
      },
      "execution_count": 45,
      "outputs": [
        {
          "output_type": "stream",
          "name": "stdout",
          "text": [
            "              precision    recall  f1-score   support\n",
            "\n",
            "           0       1.00      0.67      0.80         3\n",
            "           2       0.50      0.50      0.50         2\n",
            "           3       0.00      0.00      0.00         0\n",
            "           4       1.00      1.00      1.00         1\n",
            "           5       0.50      1.00      0.67         2\n",
            "           6       0.50      0.33      0.40         3\n",
            "           7       0.00      0.00      0.00         2\n",
            "           8       0.00      0.00      0.00         1\n",
            "           9       1.00      0.50      0.67         4\n",
            "          10       0.17      1.00      0.29         1\n",
            "          11       0.00      0.00      0.00         0\n",
            "          12       0.00      0.00      0.00         3\n",
            "          13       0.00      0.00      0.00         2\n",
            "          14       1.00      1.00      1.00         2\n",
            "          16       0.00      0.00      0.00         5\n",
            "\n",
            "    accuracy                           0.39        31\n",
            "   macro avg       0.38      0.40      0.35        31\n",
            "weighted avg       0.44      0.39      0.38        31\n",
            "\n"
          ]
        },
        {
          "output_type": "stream",
          "name": "stderr",
          "text": [
            "/usr/local/lib/python3.11/dist-packages/sklearn/metrics/_classification.py:1565: UndefinedMetricWarning: Precision is ill-defined and being set to 0.0 in labels with no predicted samples. Use `zero_division` parameter to control this behavior.\n",
            "  _warn_prf(average, modifier, f\"{metric.capitalize()} is\", len(result))\n",
            "/usr/local/lib/python3.11/dist-packages/sklearn/metrics/_classification.py:1565: UndefinedMetricWarning: Recall is ill-defined and being set to 0.0 in labels with no true samples. Use `zero_division` parameter to control this behavior.\n",
            "  _warn_prf(average, modifier, f\"{metric.capitalize()} is\", len(result))\n",
            "/usr/local/lib/python3.11/dist-packages/sklearn/metrics/_classification.py:1565: UndefinedMetricWarning: Precision is ill-defined and being set to 0.0 in labels with no predicted samples. Use `zero_division` parameter to control this behavior.\n",
            "  _warn_prf(average, modifier, f\"{metric.capitalize()} is\", len(result))\n",
            "/usr/local/lib/python3.11/dist-packages/sklearn/metrics/_classification.py:1565: UndefinedMetricWarning: Recall is ill-defined and being set to 0.0 in labels with no true samples. Use `zero_division` parameter to control this behavior.\n",
            "  _warn_prf(average, modifier, f\"{metric.capitalize()} is\", len(result))\n",
            "/usr/local/lib/python3.11/dist-packages/sklearn/metrics/_classification.py:1565: UndefinedMetricWarning: Precision is ill-defined and being set to 0.0 in labels with no predicted samples. Use `zero_division` parameter to control this behavior.\n",
            "  _warn_prf(average, modifier, f\"{metric.capitalize()} is\", len(result))\n",
            "/usr/local/lib/python3.11/dist-packages/sklearn/metrics/_classification.py:1565: UndefinedMetricWarning: Recall is ill-defined and being set to 0.0 in labels with no true samples. Use `zero_division` parameter to control this behavior.\n",
            "  _warn_prf(average, modifier, f\"{metric.capitalize()} is\", len(result))\n"
          ]
        }
      ],
      "id": "Kdm8H7qiLjU4"
    },
    {
      "cell_type": "markdown",
      "source": [
        "#### Дообучение без заморозки"
      ],
      "metadata": {
        "id": "Wb4FiSA-LjU5"
      },
      "id": "Wb4FiSA-LjU5"
    },
    {
      "cell_type": "code",
      "source": [
        "model_id = \"deepvk/RuModernBERT-base\"\n",
        "tokenizer = AutoTokenizer.from_pretrained(model_id)\n",
        "model_bert = AutoModel.from_pretrained(model_id)"
      ],
      "metadata": {
        "id": "31RV0BvGLjU6"
      },
      "execution_count": 46,
      "outputs": [],
      "id": "31RV0BvGLjU6"
    },
    {
      "cell_type": "code",
      "source": [
        "device = torch.device('cuda' if torch.cuda.is_available() else 'cpu')\n",
        "model = CLF(model_bert, len(label2id))\n",
        "optimizer = optim.Adam(model.parameters(), lr=2e-4)\n",
        "criterion = nn.NLLLoss()\n",
        "model = model.to(device)\n",
        "criterion = criterion.to(device)"
      ],
      "metadata": {
        "id": "n3zUI2QPLjU7"
      },
      "execution_count": 47,
      "outputs": [],
      "id": "n3zUI2QPLjU7"
    },
    {
      "cell_type": "code",
      "source": [
        "f1s = []\n",
        "f1s_eval = []\n",
        "\n",
        "for i in range(20):\n",
        "    print(i)\n",
        "    f1s.append(train(model, training_generator, optimizer, criterion, 2000))\n",
        "    evl = evaluate(model, valid_generator, criterion)\n",
        "    print('Eval - ', evl)\n",
        "    f1s_eval.append(evl)"
      ],
      "metadata": {
        "colab": {
          "base_uri": "https://localhost:8080/"
        },
        "outputId": "e250b505-0206-4986-b191-13e93f743ae4",
        "id": "nfZXYsiTLjU8"
      },
      "execution_count": 48,
      "outputs": [
        {
          "output_type": "stream",
          "name": "stdout",
          "text": [
            "0\n",
            "Eval -  0.3870967741935484\n",
            "1\n",
            "Eval -  0.5483870967741935\n",
            "2\n",
            "Eval -  0.5161290322580645\n",
            "3\n",
            "Eval -  0.5483870967741935\n",
            "4\n",
            "Eval -  0.6129032258064516\n",
            "5\n",
            "Eval -  0.4838709677419355\n",
            "6\n",
            "Eval -  0.5483870967741935\n",
            "7\n",
            "Eval -  0.5806451612903226\n",
            "8\n",
            "Eval -  0.5161290322580645\n",
            "9\n",
            "Eval -  0.5806451612903226\n",
            "10\n",
            "Eval -  0.5806451612903226\n",
            "11\n",
            "Eval -  0.5806451612903226\n",
            "12\n",
            "Eval -  0.5806451612903226\n",
            "13\n",
            "Eval -  0.5806451612903226\n",
            "14\n",
            "Eval -  0.5806451612903226\n",
            "15\n",
            "Eval -  0.5806451612903226\n",
            "16\n",
            "Eval -  0.5806451612903226\n",
            "17\n",
            "Eval -  0.5806451612903226\n",
            "18\n",
            "Eval -  0.5806451612903226\n",
            "19\n",
            "Eval -  0.5483870967741935\n"
          ]
        }
      ],
      "id": "nfZXYsiTLjU8"
    },
    {
      "cell_type": "code",
      "source": [
        "plt.plot(f1s)\n",
        "plt.plot(f1s_eval)\n",
        "plt.title('model f1 micro')\n",
        "plt.ylabel('f1')\n",
        "plt.xlabel('epoch')\n",
        "plt.legend(['train', 'val'], loc='upper left')\n",
        "plt.show()"
      ],
      "metadata": {
        "colab": {
          "base_uri": "https://localhost:8080/",
          "height": 472
        },
        "id": "R70fsTruLjU-",
        "outputId": "890b4089-77bc-4cd6-c926-00dc5dc111fc"
      },
      "execution_count": 49,
      "outputs": [
        {
          "output_type": "display_data",
          "data": {
            "text/plain": [
              "<Figure size 640x480 with 1 Axes>"
            ],
            "image/png": "[encoded data removed]"
          },
          "metadata": {}
        }
      ],
      "id": "R70fsTruLjU-"
    },
    {
      "cell_type": "code",
      "source": [
        "valid_generator = torch.utils.data.DataLoader(valid_set, batch_size=32, shuffle=False)\n",
        "preds = predict(model, valid_generator)"
      ],
      "metadata": {
        "id": "DMqqEfQHLjU_"
      },
      "execution_count": 50,
      "outputs": [],
      "id": "DMqqEfQHLjU_"
    },
    {
      "cell_type": "code",
      "source": [
        "print(classification_report(valid_targets, preds))"
      ],
      "metadata": {
        "colab": {
          "base_uri": "https://localhost:8080/"
        },
        "id": "tPaHsAriLjVA",
        "outputId": "f4d5fb37-7f1d-4562-bdad-efd5cc166707"
      },
      "execution_count": 51,
      "outputs": [
        {
          "output_type": "stream",
          "name": "stdout",
          "text": [
            "              precision    recall  f1-score   support\n",
            "\n",
            "           0       0.67      0.67      0.67         3\n",
            "           1       0.00      0.00      0.00         0\n",
            "           2       0.00      0.00      0.00         2\n",
            "           4       1.00      1.00      1.00         1\n",
            "           5       0.67      1.00      0.80         2\n",
            "           6       0.67      0.67      0.67         3\n",
            "           7       1.00      0.50      0.67         2\n",
            "           8       0.00      0.00      0.00         1\n",
            "           9       1.00      0.75      0.86         4\n",
            "          10       1.00      1.00      1.00         1\n",
            "          12       0.00      0.00      0.00         3\n",
            "          13       0.00      0.00      0.00         2\n",
            "          14       1.00      1.00      1.00         2\n",
            "          16       0.60      0.60      0.60         5\n",
            "\n",
            "    accuracy                           0.55        31\n",
            "   macro avg       0.54      0.51      0.52        31\n",
            "weighted avg       0.59      0.55      0.56        31\n",
            "\n"
          ]
        },
        {
          "output_type": "stream",
          "name": "stderr",
          "text": [
            "/usr/local/lib/python3.11/dist-packages/sklearn/metrics/_classification.py:1565: UndefinedMetricWarning: Precision is ill-defined and being set to 0.0 in labels with no predicted samples. Use `zero_division` parameter to control this behavior.\n",
            "  _warn_prf(average, modifier, f\"{metric.capitalize()} is\", len(result))\n",
            "/usr/local/lib/python3.11/dist-packages/sklearn/metrics/_classification.py:1565: UndefinedMetricWarning: Recall is ill-defined and being set to 0.0 in labels with no true samples. Use `zero_division` parameter to control this behavior.\n",
            "  _warn_prf(average, modifier, f\"{metric.capitalize()} is\", len(result))\n",
            "/usr/local/lib/python3.11/dist-packages/sklearn/metrics/_classification.py:1565: UndefinedMetricWarning: Precision is ill-defined and being set to 0.0 in labels with no predicted samples. Use `zero_division` parameter to control this behavior.\n",
            "  _warn_prf(average, modifier, f\"{metric.capitalize()} is\", len(result))\n",
            "/usr/local/lib/python3.11/dist-packages/sklearn/metrics/_classification.py:1565: UndefinedMetricWarning: Recall is ill-defined and being set to 0.0 in labels with no true samples. Use `zero_division` parameter to control this behavior.\n",
            "  _warn_prf(average, modifier, f\"{metric.capitalize()} is\", len(result))\n",
            "/usr/local/lib/python3.11/dist-packages/sklearn/metrics/_classification.py:1565: UndefinedMetricWarning: Precision is ill-defined and being set to 0.0 in labels with no predicted samples. Use `zero_division` parameter to control this behavior.\n",
            "  _warn_prf(average, modifier, f\"{metric.capitalize()} is\", len(result))\n",
            "/usr/local/lib/python3.11/dist-packages/sklearn/metrics/_classification.py:1565: UndefinedMetricWarning: Recall is ill-defined and being set to 0.0 in labels with no true samples. Use `zero_division` parameter to control this behavior.\n",
            "  _warn_prf(average, modifier, f\"{metric.capitalize()} is\", len(result))\n"
          ]
        }
      ],
      "id": "tPaHsAriLjVA"
    },
    {
      "cell_type": "markdown",
      "source": [
        "#### Усредненный вектор по всем hidden state"
      ],
      "metadata": {
        "id": "AS-4KSRcpPLQ"
      },
      "id": "AS-4KSRcpPLQ"
    },
    {
      "cell_type": "markdown",
      "source": [
        "Не получилось реализовать"
      ],
      "metadata": {
        "id": "NQ3OB1z3rc_4"
      },
      "id": "NQ3OB1z3rc_4"
    },
    {
      "cell_type": "code",
      "source": [
        "import torch.nn as nn\n",
        "\n",
        "class CLF_HSMean(nn.Module):\n",
        "\n",
        "    def __init__(self, pretrained_model, num_classes):\n",
        "        super().__init__()\n",
        "        self.tokenizer = tokenizer # токенизатор\n",
        "        self.pretrained_model = pretrained_model # предобученная модель\n",
        "        #\n",
        "        self.drop = nn.Dropout(0.3) # добавим дропаут чтобы не переобучалось\n",
        "        self.fc = nn.Linear(768, num_classes)\n",
        "        self.act = nn.LogSoftmax(1)\n",
        "\n",
        "    def forward(self, texts):\n",
        "\n",
        "        mask = (texts != tokenizer.pad_token_id).long()\n",
        "\n",
        "        # прогоняем через BERT\n",
        "        hidden = self.pretrained_model(texts, attention_mask=mask, output_hidden_states=True) # добавляем параметр output_hidden_states\n",
        "        hs = hidden.hidden_states[1:]\n",
        "\n",
        "        hs_mean = torch.mean(hs)\n",
        "\n",
        "        # берем самое первое состояние и применяем к нему линейный слой и активацию\n",
        "        dense_outputs=self.fc(self.drop(hs_mean))\n",
        "        outputs=self.act(dense_outputs)\n",
        "\n",
        "        return outputs"
      ],
      "metadata": {
        "id": "m-uWyW92cFo7"
      },
      "id": "m-uWyW92cFo7",
      "execution_count": 22,
      "outputs": []
    },
    {
      "cell_type": "code",
      "source": [
        "model_id = \"deepvk/RuModernBERT-base\"\n",
        "tokenizer = AutoTokenizer.from_pretrained(model_id)\n",
        "model_bert = AutoModel.from_pretrained(model_id)"
      ],
      "metadata": {
        "id": "bCuKv7Poqktv"
      },
      "execution_count": 23,
      "outputs": [],
      "id": "bCuKv7Poqktv"
    },
    {
      "cell_type": "code",
      "source": [
        "training_set = Dataset(tokenizer, MAX_LEN, train_texts, train_targets)\n",
        "training_generator = torch.utils.data.DataLoader(training_set, batch_size=16, shuffle=True, )\n",
        "valid_set = Dataset(tokenizer, MAX_LEN, valid_texts, valid_targets)\n",
        "valid_generator = torch.utils.data.DataLoader(valid_set, batch_size=16, shuffle=True)"
      ],
      "metadata": {
        "id": "GvL5Msdvq2YI"
      },
      "execution_count": 24,
      "outputs": [],
      "id": "GvL5Msdvq2YI"
    },
    {
      "cell_type": "code",
      "source": [
        "device = torch.device('cuda' if torch.cuda.is_available() else 'cpu')\n",
        "model = CLF_HSMean(model_bert, len(label2id))\n",
        "optimizer = optim.Adam(model.parameters(), lr=2e-4)\n",
        "criterion = nn.NLLLoss()\n",
        "model = model.to(device)\n",
        "criterion = criterion.to(device)"
      ],
      "metadata": {
        "id": "u4jfzRHNqktz"
      },
      "execution_count": 25,
      "outputs": [],
      "id": "u4jfzRHNqktz"
    },
    {
      "cell_type": "code",
      "source": [
        "f1s = []\n",
        "f1s_eval = []\n",
        "\n",
        "for i in range(20):\n",
        "    print(i)\n",
        "    f1s.append(train(model, training_generator, optimizer, criterion, 2000))\n",
        "    evl = evaluate(model, valid_generator, criterion)\n",
        "    print('Eval - ', evl)\n",
        "    f1s_eval.append(evl)"
      ],
      "metadata": {
        "colab": {
          "base_uri": "https://localhost:8080/",
          "height": 408
        },
        "outputId": "7f0e2011-9668-4857-932f-2383d6789e96",
        "id": "s0RhG1Ewqkt2"
      },
      "execution_count": 26,
      "outputs": [
        {
          "output_type": "stream",
          "name": "stdout",
          "text": [
            "0\n"
          ]
        },
        {
          "output_type": "error",
          "ename": "OutOfMemoryError",
          "evalue": "CUDA out of memory. Tried to allocate 24.00 MiB. GPU 0 has a total capacity of 14.74 GiB of which 22.12 MiB is free. Process 758373 has 14.72 GiB memory in use. Of the allocated memory 14.58 GiB is allocated by PyTorch, and 15.74 MiB is reserved by PyTorch but unallocated. If reserved but unallocated memory is large try setting PYTORCH_CUDA_ALLOC_CONF=expandable_segments:True to avoid fragmentation.  See documentation for Memory Management  (https://pytorch.org/docs/stable/notes/cuda.html#environment-variables)",
          "traceback": [
            "\u001b[0;31m---------------------------------------------------------------------------\u001b[0m",
            "\u001b[0;31mOutOfMemoryError\u001b[0m                          Traceback (most recent call last)",
            "\u001b[0;32m<ipython-input-26-779420b543a5>\u001b[0m in \u001b[0;36m<cell line: 0>\u001b[0;34m()\u001b[0m\n\u001b[1;32m      4\u001b[0m \u001b[0;32mfor\u001b[0m \u001b[0mi\u001b[0m \u001b[0;32min\u001b[0m \u001b[0mrange\u001b[0m\u001b[0;34m(\u001b[0m\u001b[0;36m20\u001b[0m\u001b[0;34m)\u001b[0m\u001b[0;34m:\u001b[0m\u001b[0;34m\u001b[0m\u001b[0;34m\u001b[0m\u001b[0m\n\u001b[1;32m      5\u001b[0m     \u001b[0mprint\u001b[0m\u001b[0;34m(\u001b[0m\u001b[0mi\u001b[0m\u001b[0;34m)\u001b[0m\u001b[0;34m\u001b[0m\u001b[0;34m\u001b[0m\u001b[0m\n\u001b[0;32m----> 6\u001b[0;31m     \u001b[0mf1s\u001b[0m\u001b[0;34m.\u001b[0m\u001b[0mappend\u001b[0m\u001b[0;34m(\u001b[0m\u001b[0mtrain\u001b[0m\u001b[0;34m(\u001b[0m\u001b[0mmodel\u001b[0m\u001b[0;34m,\u001b[0m \u001b[0mtraining_generator\u001b[0m\u001b[0;34m,\u001b[0m \u001b[0moptimizer\u001b[0m\u001b[0;34m,\u001b[0m \u001b[0mcriterion\u001b[0m\u001b[0;34m,\u001b[0m \u001b[0;36m2000\u001b[0m\u001b[0;34m)\u001b[0m\u001b[0;34m)\u001b[0m\u001b[0;34m\u001b[0m\u001b[0;34m\u001b[0m\u001b[0m\n\u001b[0m\u001b[1;32m      7\u001b[0m     \u001b[0mevl\u001b[0m \u001b[0;34m=\u001b[0m \u001b[0mevaluate\u001b[0m\u001b[0;34m(\u001b[0m\u001b[0mmodel\u001b[0m\u001b[0;34m,\u001b[0m \u001b[0mvalid_generator\u001b[0m\u001b[0;34m,\u001b[0m \u001b[0mcriterion\u001b[0m\u001b[0;34m)\u001b[0m\u001b[0;34m\u001b[0m\u001b[0;34m\u001b[0m\u001b[0m\n\u001b[1;32m      8\u001b[0m     \u001b[0mprint\u001b[0m\u001b[0;34m(\u001b[0m\u001b[0;34m'Eval - '\u001b[0m\u001b[0;34m,\u001b[0m \u001b[0mevl\u001b[0m\u001b[0;34m)\u001b[0m\u001b[0;34m\u001b[0m\u001b[0;34m\u001b[0m\u001b[0m\n",
            "\u001b[0;32m<ipython-input-11-d3e21d3cef22>\u001b[0m in \u001b[0;36mtrain\u001b[0;34m(model, iterator, optimizer, criterion, print_every)\u001b[0m\n\u001b[1;32m     11\u001b[0m \u001b[0;34m\u001b[0m\u001b[0m\n\u001b[1;32m     12\u001b[0m         \u001b[0moptimizer\u001b[0m\u001b[0;34m.\u001b[0m\u001b[0mzero_grad\u001b[0m\u001b[0;34m(\u001b[0m\u001b[0;34m)\u001b[0m\u001b[0;34m\u001b[0m\u001b[0;34m\u001b[0m\u001b[0m\n\u001b[0;32m---> 13\u001b[0;31m         \u001b[0mpredictions\u001b[0m \u001b[0;34m=\u001b[0m \u001b[0mmodel\u001b[0m\u001b[0;34m(\u001b[0m\u001b[0mtexts\u001b[0m\u001b[0;34m.\u001b[0m\u001b[0mto\u001b[0m\u001b[0;34m(\u001b[0m\u001b[0mdevice\u001b[0m\u001b[0;34m)\u001b[0m\u001b[0;34m)\u001b[0m\u001b[0;34m.\u001b[0m\u001b[0msqueeze\u001b[0m\u001b[0;34m(\u001b[0m\u001b[0;34m)\u001b[0m\u001b[0;34m\u001b[0m\u001b[0;34m\u001b[0m\u001b[0m\n\u001b[0m\u001b[1;32m     14\u001b[0m         \u001b[0mloss\u001b[0m \u001b[0;34m=\u001b[0m \u001b[0mcriterion\u001b[0m\u001b[0;34m(\u001b[0m\u001b[0mpredictions\u001b[0m\u001b[0;34m,\u001b[0m \u001b[0mys\u001b[0m\u001b[0;34m.\u001b[0m\u001b[0mto\u001b[0m\u001b[0;34m(\u001b[0m\u001b[0mdevice\u001b[0m\u001b[0;34m)\u001b[0m\u001b[0;34m)\u001b[0m\u001b[0;34m\u001b[0m\u001b[0;34m\u001b[0m\u001b[0m\n\u001b[1;32m     15\u001b[0m \u001b[0;34m\u001b[0m\u001b[0m\n",
            "\u001b[0;32m/usr/local/lib/python3.11/dist-packages/torch/nn/modules/module.py\u001b[0m in \u001b[0;36m_wrapped_call_impl\u001b[0;34m(self, *args, **kwargs)\u001b[0m\n\u001b[1;32m   1737\u001b[0m             \u001b[0;32mreturn\u001b[0m \u001b[0mself\u001b[0m\u001b[0;34m.\u001b[0m\u001b[0m_compiled_call_impl\u001b[0m\u001b[0;34m(\u001b[0m\u001b[0;34m*\u001b[0m\u001b[0margs\u001b[0m\u001b[0;34m,\u001b[0m \u001b[0;34m**\u001b[0m\u001b[0mkwargs\u001b[0m\u001b[0;34m)\u001b[0m  \u001b[0;31m# type: ignore[misc]\u001b[0m\u001b[0;34m\u001b[0m\u001b[0;34m\u001b[0m\u001b[0m\n\u001b[1;32m   1738\u001b[0m         \u001b[0;32melse\u001b[0m\u001b[0;34m:\u001b[0m\u001b[0;34m\u001b[0m\u001b[0;34m\u001b[0m\u001b[0m\n\u001b[0;32m-> 1739\u001b[0;31m             \u001b[0;32mreturn\u001b[0m \u001b[0mself\u001b[0m\u001b[0;34m.\u001b[0m\u001b[0m_call_impl\u001b[0m\u001b[0;34m(\u001b[0m\u001b[0;34m*\u001b[0m\u001b[0margs\u001b[0m\u001b[0;34m,\u001b[0m \u001b[0;34m**\u001b[0m\u001b[0mkwargs\u001b[0m\u001b[0;34m)\u001b[0m\u001b[0;34m\u001b[0m\u001b[0;34m\u001b[0m\u001b[0m\n\u001b[0m\u001b[1;32m   1740\u001b[0m \u001b[0;34m\u001b[0m\u001b[0m\n\u001b[1;32m   1741\u001b[0m     \u001b[0;31m# torchrec tests the code consistency with the following code\u001b[0m\u001b[0;34m\u001b[0m\u001b[0;34m\u001b[0m\u001b[0m\n",
            "\u001b[0;32m/usr/local/lib/python3.11/dist-packages/torch/nn/modules/module.py\u001b[0m in \u001b[0;36m_call_impl\u001b[0;34m(self, *args, **kwargs)\u001b[0m\n\u001b[1;32m   1748\u001b[0m                 \u001b[0;32mor\u001b[0m \u001b[0m_global_backward_pre_hooks\u001b[0m \u001b[0;32mor\u001b[0m \u001b[0m_global_backward_hooks\u001b[0m\u001b[0;34m\u001b[0m\u001b[0;34m\u001b[0m\u001b[0m\n\u001b[1;32m   1749\u001b[0m                 or _global_forward_hooks or _global_forward_pre_hooks):\n\u001b[0;32m-> 1750\u001b[0;31m             \u001b[0;32mreturn\u001b[0m \u001b[0mforward_call\u001b[0m\u001b[0;34m(\u001b[0m\u001b[0;34m*\u001b[0m\u001b[0margs\u001b[0m\u001b[0;34m,\u001b[0m \u001b[0;34m**\u001b[0m\u001b[0mkwargs\u001b[0m\u001b[0;34m)\u001b[0m\u001b[0;34m\u001b[0m\u001b[0;34m\u001b[0m\u001b[0m\n\u001b[0m\u001b[1;32m   1751\u001b[0m \u001b[0;34m\u001b[0m\u001b[0m\n\u001b[1;32m   1752\u001b[0m         \u001b[0mresult\u001b[0m \u001b[0;34m=\u001b[0m \u001b[0;32mNone\u001b[0m\u001b[0;34m\u001b[0m\u001b[0;34m\u001b[0m\u001b[0m\n",
            "\u001b[0;32m<ipython-input-22-1cfebd91e983>\u001b[0m in \u001b[0;36mforward\u001b[0;34m(self, texts)\u001b[0m\n\u001b[1;32m     17\u001b[0m \u001b[0;34m\u001b[0m\u001b[0m\n\u001b[1;32m     18\u001b[0m         \u001b[0;31m# прогоняем через BERT\u001b[0m\u001b[0;34m\u001b[0m\u001b[0;34m\u001b[0m\u001b[0m\n\u001b[0;32m---> 19\u001b[0;31m         \u001b[0mhidden\u001b[0m \u001b[0;34m=\u001b[0m \u001b[0mself\u001b[0m\u001b[0;34m.\u001b[0m\u001b[0mpretrained_model\u001b[0m\u001b[0;34m(\u001b[0m\u001b[0mtexts\u001b[0m\u001b[0;34m,\u001b[0m \u001b[0mattention_mask\u001b[0m\u001b[0;34m=\u001b[0m\u001b[0mmask\u001b[0m\u001b[0;34m,\u001b[0m \u001b[0moutput_hidden_states\u001b[0m\u001b[0;34m=\u001b[0m\u001b[0;32mTrue\u001b[0m\u001b[0;34m)\u001b[0m \u001b[0;31m# добавляем параметр output_hidden_states\u001b[0m\u001b[0;34m\u001b[0m\u001b[0;34m\u001b[0m\u001b[0m\n\u001b[0m\u001b[1;32m     20\u001b[0m         \u001b[0mhs\u001b[0m \u001b[0;34m=\u001b[0m \u001b[0mhidden\u001b[0m\u001b[0;34m.\u001b[0m\u001b[0mhidden_states\u001b[0m\u001b[0;34m[\u001b[0m\u001b[0;36m1\u001b[0m\u001b[0;34m:\u001b[0m\u001b[0;34m]\u001b[0m\u001b[0;34m\u001b[0m\u001b[0;34m\u001b[0m\u001b[0m\n\u001b[1;32m     21\u001b[0m \u001b[0;34m\u001b[0m\u001b[0m\n",
            "\u001b[0;32m/usr/local/lib/python3.11/dist-packages/torch/nn/modules/module.py\u001b[0m in \u001b[0;36m_wrapped_call_impl\u001b[0;34m(self, *args, **kwargs)\u001b[0m\n\u001b[1;32m   1737\u001b[0m             \u001b[0;32mreturn\u001b[0m \u001b[0mself\u001b[0m\u001b[0;34m.\u001b[0m\u001b[0m_compiled_call_impl\u001b[0m\u001b[0;34m(\u001b[0m\u001b[0;34m*\u001b[0m\u001b[0margs\u001b[0m\u001b[0;34m,\u001b[0m \u001b[0;34m**\u001b[0m\u001b[0mkwargs\u001b[0m\u001b[0;34m)\u001b[0m  \u001b[0;31m# type: ignore[misc]\u001b[0m\u001b[0;34m\u001b[0m\u001b[0;34m\u001b[0m\u001b[0m\n\u001b[1;32m   1738\u001b[0m         \u001b[0;32melse\u001b[0m\u001b[0;34m:\u001b[0m\u001b[0;34m\u001b[0m\u001b[0;34m\u001b[0m\u001b[0m\n\u001b[0;32m-> 1739\u001b[0;31m             \u001b[0;32mreturn\u001b[0m \u001b[0mself\u001b[0m\u001b[0;34m.\u001b[0m\u001b[0m_call_impl\u001b[0m\u001b[0;34m(\u001b[0m\u001b[0;34m*\u001b[0m\u001b[0margs\u001b[0m\u001b[0;34m,\u001b[0m \u001b[0;34m**\u001b[0m\u001b[0mkwargs\u001b[0m\u001b[0;34m)\u001b[0m\u001b[0;34m\u001b[0m\u001b[0;34m\u001b[0m\u001b[0m\n\u001b[0m\u001b[1;32m   1740\u001b[0m \u001b[0;34m\u001b[0m\u001b[0m\n\u001b[1;32m   1741\u001b[0m     \u001b[0;31m# torchrec tests the code consistency with the following code\u001b[0m\u001b[0;34m\u001b[0m\u001b[0;34m\u001b[0m\u001b[0m\n",
            "\u001b[0;32m/usr/local/lib/python3.11/dist-packages/torch/nn/modules/module.py\u001b[0m in \u001b[0;36m_call_impl\u001b[0;34m(self, *args, **kwargs)\u001b[0m\n\u001b[1;32m   1748\u001b[0m                 \u001b[0;32mor\u001b[0m \u001b[0m_global_backward_pre_hooks\u001b[0m \u001b[0;32mor\u001b[0m \u001b[0m_global_backward_hooks\u001b[0m\u001b[0;34m\u001b[0m\u001b[0;34m\u001b[0m\u001b[0m\n\u001b[1;32m   1749\u001b[0m                 or _global_forward_hooks or _global_forward_pre_hooks):\n\u001b[0;32m-> 1750\u001b[0;31m             \u001b[0;32mreturn\u001b[0m \u001b[0mforward_call\u001b[0m\u001b[0;34m(\u001b[0m\u001b[0;34m*\u001b[0m\u001b[0margs\u001b[0m\u001b[0;34m,\u001b[0m \u001b[0;34m**\u001b[0m\u001b[0mkwargs\u001b[0m\u001b[0;34m)\u001b[0m\u001b[0;34m\u001b[0m\u001b[0;34m\u001b[0m\u001b[0m\n\u001b[0m\u001b[1;32m   1751\u001b[0m \u001b[0;34m\u001b[0m\u001b[0m\n\u001b[1;32m   1752\u001b[0m         \u001b[0mresult\u001b[0m \u001b[0;34m=\u001b[0m \u001b[0;32mNone\u001b[0m\u001b[0;34m\u001b[0m\u001b[0;34m\u001b[0m\u001b[0m\n",
            "\u001b[0;32m/usr/local/lib/python3.11/dist-packages/transformers/models/modernbert/modeling_modernbert.py\u001b[0m in \u001b[0;36mforward\u001b[0;34m(self, input_ids, attention_mask, sliding_window_mask, position_ids, inputs_embeds, indices, cu_seqlens, max_seqlen, batch_size, seq_len, output_attentions, output_hidden_states, return_dict)\u001b[0m\n\u001b[1;32m    974\u001b[0m                 )\n\u001b[1;32m    975\u001b[0m             \u001b[0;32melse\u001b[0m\u001b[0;34m:\u001b[0m\u001b[0;34m\u001b[0m\u001b[0;34m\u001b[0m\u001b[0m\n\u001b[0;32m--> 976\u001b[0;31m                 layer_outputs = encoder_layer(\n\u001b[0m\u001b[1;32m    977\u001b[0m                     \u001b[0mhidden_states\u001b[0m\u001b[0;34m,\u001b[0m\u001b[0;34m\u001b[0m\u001b[0;34m\u001b[0m\u001b[0m\n\u001b[1;32m    978\u001b[0m                     \u001b[0mattention_mask\u001b[0m\u001b[0;34m=\u001b[0m\u001b[0mattention_mask\u001b[0m\u001b[0;34m,\u001b[0m\u001b[0;34m\u001b[0m\u001b[0;34m\u001b[0m\u001b[0m\n",
            "\u001b[0;32m/usr/local/lib/python3.11/dist-packages/torch/nn/modules/module.py\u001b[0m in \u001b[0;36m_wrapped_call_impl\u001b[0;34m(self, *args, **kwargs)\u001b[0m\n\u001b[1;32m   1737\u001b[0m             \u001b[0;32mreturn\u001b[0m \u001b[0mself\u001b[0m\u001b[0;34m.\u001b[0m\u001b[0m_compiled_call_impl\u001b[0m\u001b[0;34m(\u001b[0m\u001b[0;34m*\u001b[0m\u001b[0margs\u001b[0m\u001b[0;34m,\u001b[0m \u001b[0;34m**\u001b[0m\u001b[0mkwargs\u001b[0m\u001b[0;34m)\u001b[0m  \u001b[0;31m# type: ignore[misc]\u001b[0m\u001b[0;34m\u001b[0m\u001b[0;34m\u001b[0m\u001b[0m\n\u001b[1;32m   1738\u001b[0m         \u001b[0;32melse\u001b[0m\u001b[0;34m:\u001b[0m\u001b[0;34m\u001b[0m\u001b[0;34m\u001b[0m\u001b[0m\n\u001b[0;32m-> 1739\u001b[0;31m             \u001b[0;32mreturn\u001b[0m \u001b[0mself\u001b[0m\u001b[0;34m.\u001b[0m\u001b[0m_call_impl\u001b[0m\u001b[0;34m(\u001b[0m\u001b[0;34m*\u001b[0m\u001b[0margs\u001b[0m\u001b[0;34m,\u001b[0m \u001b[0;34m**\u001b[0m\u001b[0mkwargs\u001b[0m\u001b[0;34m)\u001b[0m\u001b[0;34m\u001b[0m\u001b[0;34m\u001b[0m\u001b[0m\n\u001b[0m\u001b[1;32m   1740\u001b[0m \u001b[0;34m\u001b[0m\u001b[0m\n\u001b[1;32m   1741\u001b[0m     \u001b[0;31m# torchrec tests the code consistency with the following code\u001b[0m\u001b[0;34m\u001b[0m\u001b[0;34m\u001b[0m\u001b[0m\n",
            "\u001b[0;32m/usr/local/lib/python3.11/dist-packages/torch/nn/modules/module.py\u001b[0m in \u001b[0;36m_call_impl\u001b[0;34m(self, *args, **kwargs)\u001b[0m\n\u001b[1;32m   1748\u001b[0m                 \u001b[0;32mor\u001b[0m \u001b[0m_global_backward_pre_hooks\u001b[0m \u001b[0;32mor\u001b[0m \u001b[0m_global_backward_hooks\u001b[0m\u001b[0;34m\u001b[0m\u001b[0;34m\u001b[0m\u001b[0m\n\u001b[1;32m   1749\u001b[0m                 or _global_forward_hooks or _global_forward_pre_hooks):\n\u001b[0;32m-> 1750\u001b[0;31m             \u001b[0;32mreturn\u001b[0m \u001b[0mforward_call\u001b[0m\u001b[0;34m(\u001b[0m\u001b[0;34m*\u001b[0m\u001b[0margs\u001b[0m\u001b[0;34m,\u001b[0m \u001b[0;34m**\u001b[0m\u001b[0mkwargs\u001b[0m\u001b[0;34m)\u001b[0m\u001b[0;34m\u001b[0m\u001b[0;34m\u001b[0m\u001b[0m\n\u001b[0m\u001b[1;32m   1751\u001b[0m \u001b[0;34m\u001b[0m\u001b[0m\n\u001b[1;32m   1752\u001b[0m         \u001b[0mresult\u001b[0m \u001b[0;34m=\u001b[0m \u001b[0;32mNone\u001b[0m\u001b[0;34m\u001b[0m\u001b[0;34m\u001b[0m\u001b[0m\n",
            "\u001b[0;32m/usr/local/lib/python3.11/dist-packages/transformers/models/modernbert/modeling_modernbert.py\u001b[0m in \u001b[0;36mforward\u001b[0;34m(self, hidden_states, attention_mask, sliding_window_mask, position_ids, cu_seqlens, max_seqlen, output_attentions)\u001b[0m\n\u001b[1;32m    564\u001b[0m         \u001b[0moutput_attentions\u001b[0m\u001b[0;34m:\u001b[0m \u001b[0mOptional\u001b[0m\u001b[0;34m[\u001b[0m\u001b[0mbool\u001b[0m\u001b[0;34m]\u001b[0m \u001b[0;34m=\u001b[0m \u001b[0;32mFalse\u001b[0m\u001b[0;34m,\u001b[0m\u001b[0;34m\u001b[0m\u001b[0;34m\u001b[0m\u001b[0m\n\u001b[1;32m    565\u001b[0m     ) -> torch.Tensor:\n\u001b[0;32m--> 566\u001b[0;31m         attn_outputs = self.attn(\n\u001b[0m\u001b[1;32m    567\u001b[0m             \u001b[0mself\u001b[0m\u001b[0;34m.\u001b[0m\u001b[0mattn_norm\u001b[0m\u001b[0;34m(\u001b[0m\u001b[0mhidden_states\u001b[0m\u001b[0;34m)\u001b[0m\u001b[0;34m,\u001b[0m\u001b[0;34m\u001b[0m\u001b[0;34m\u001b[0m\u001b[0m\n\u001b[1;32m    568\u001b[0m             \u001b[0mattention_mask\u001b[0m\u001b[0;34m=\u001b[0m\u001b[0mattention_mask\u001b[0m\u001b[0;34m,\u001b[0m\u001b[0;34m\u001b[0m\u001b[0;34m\u001b[0m\u001b[0m\n",
            "\u001b[0;32m/usr/local/lib/python3.11/dist-packages/torch/nn/modules/module.py\u001b[0m in \u001b[0;36m_wrapped_call_impl\u001b[0;34m(self, *args, **kwargs)\u001b[0m\n\u001b[1;32m   1737\u001b[0m             \u001b[0;32mreturn\u001b[0m \u001b[0mself\u001b[0m\u001b[0;34m.\u001b[0m\u001b[0m_compiled_call_impl\u001b[0m\u001b[0;34m(\u001b[0m\u001b[0;34m*\u001b[0m\u001b[0margs\u001b[0m\u001b[0;34m,\u001b[0m \u001b[0;34m**\u001b[0m\u001b[0mkwargs\u001b[0m\u001b[0;34m)\u001b[0m  \u001b[0;31m# type: ignore[misc]\u001b[0m\u001b[0;34m\u001b[0m\u001b[0;34m\u001b[0m\u001b[0m\n\u001b[1;32m   1738\u001b[0m         \u001b[0;32melse\u001b[0m\u001b[0;34m:\u001b[0m\u001b[0;34m\u001b[0m\u001b[0;34m\u001b[0m\u001b[0m\n\u001b[0;32m-> 1739\u001b[0;31m             \u001b[0;32mreturn\u001b[0m \u001b[0mself\u001b[0m\u001b[0;34m.\u001b[0m\u001b[0m_call_impl\u001b[0m\u001b[0;34m(\u001b[0m\u001b[0;34m*\u001b[0m\u001b[0margs\u001b[0m\u001b[0;34m,\u001b[0m \u001b[0;34m**\u001b[0m\u001b[0mkwargs\u001b[0m\u001b[0;34m)\u001b[0m\u001b[0;34m\u001b[0m\u001b[0;34m\u001b[0m\u001b[0m\n\u001b[0m\u001b[1;32m   1740\u001b[0m \u001b[0;34m\u001b[0m\u001b[0m\n\u001b[1;32m   1741\u001b[0m     \u001b[0;31m# torchrec tests the code consistency with the following code\u001b[0m\u001b[0;34m\u001b[0m\u001b[0;34m\u001b[0m\u001b[0m\n",
            "\u001b[0;32m/usr/local/lib/python3.11/dist-packages/torch/nn/modules/module.py\u001b[0m in \u001b[0;36m_call_impl\u001b[0;34m(self, *args, **kwargs)\u001b[0m\n\u001b[1;32m   1748\u001b[0m                 \u001b[0;32mor\u001b[0m \u001b[0m_global_backward_pre_hooks\u001b[0m \u001b[0;32mor\u001b[0m \u001b[0m_global_backward_hooks\u001b[0m\u001b[0;34m\u001b[0m\u001b[0;34m\u001b[0m\u001b[0m\n\u001b[1;32m   1749\u001b[0m                 or _global_forward_hooks or _global_forward_pre_hooks):\n\u001b[0;32m-> 1750\u001b[0;31m             \u001b[0;32mreturn\u001b[0m \u001b[0mforward_call\u001b[0m\u001b[0;34m(\u001b[0m\u001b[0;34m*\u001b[0m\u001b[0margs\u001b[0m\u001b[0;34m,\u001b[0m \u001b[0;34m**\u001b[0m\u001b[0mkwargs\u001b[0m\u001b[0;34m)\u001b[0m\u001b[0;34m\u001b[0m\u001b[0;34m\u001b[0m\u001b[0m\n\u001b[0m\u001b[1;32m   1751\u001b[0m \u001b[0;34m\u001b[0m\u001b[0m\n\u001b[1;32m   1752\u001b[0m         \u001b[0mresult\u001b[0m \u001b[0;34m=\u001b[0m \u001b[0;32mNone\u001b[0m\u001b[0;34m\u001b[0m\u001b[0;34m\u001b[0m\u001b[0m\n",
            "\u001b[0;32m/usr/local/lib/python3.11/dist-packages/transformers/models/modernbert/modeling_modernbert.py\u001b[0m in \u001b[0;36mforward\u001b[0;34m(self, hidden_states, output_attentions, **kwargs)\u001b[0m\n\u001b[1;32m    522\u001b[0m             \u001b[0mqkv\u001b[0m \u001b[0;34m=\u001b[0m \u001b[0mqkv\u001b[0m\u001b[0;34m.\u001b[0m\u001b[0mview\u001b[0m\u001b[0;34m(\u001b[0m\u001b[0mbs\u001b[0m\u001b[0;34m,\u001b[0m \u001b[0;34m-\u001b[0m\u001b[0;36m1\u001b[0m\u001b[0;34m,\u001b[0m \u001b[0;36m3\u001b[0m\u001b[0;34m,\u001b[0m \u001b[0mself\u001b[0m\u001b[0;34m.\u001b[0m\u001b[0mnum_heads\u001b[0m\u001b[0;34m,\u001b[0m \u001b[0mself\u001b[0m\u001b[0;34m.\u001b[0m\u001b[0mhead_dim\u001b[0m\u001b[0;34m)\u001b[0m\u001b[0;34m\u001b[0m\u001b[0;34m\u001b[0m\u001b[0m\n\u001b[1;32m    523\u001b[0m \u001b[0;34m\u001b[0m\u001b[0m\n\u001b[0;32m--> 524\u001b[0;31m         attn_outputs = MODERNBERT_ATTENTION_FUNCTION[self.config._attn_implementation](\n\u001b[0m\u001b[1;32m    525\u001b[0m             \u001b[0mself\u001b[0m\u001b[0;34m,\u001b[0m\u001b[0;34m\u001b[0m\u001b[0;34m\u001b[0m\u001b[0m\n\u001b[1;32m    526\u001b[0m             \u001b[0mqkv\u001b[0m\u001b[0;34m=\u001b[0m\u001b[0mqkv\u001b[0m\u001b[0;34m,\u001b[0m\u001b[0;34m\u001b[0m\u001b[0;34m\u001b[0m\u001b[0m\n",
            "\u001b[0;32m/usr/local/lib/python3.11/dist-packages/transformers/models/modernbert/modeling_modernbert.py\u001b[0m in \u001b[0;36msdpa_attention_forward\u001b[0;34m(module, qkv, attention_mask, sliding_window_mask, position_ids, local_attention, bs, dim, **_kwargs)\u001b[0m\n\u001b[1;32m    431\u001b[0m     \u001b[0mquery\u001b[0m\u001b[0;34m,\u001b[0m \u001b[0mkey\u001b[0m\u001b[0;34m,\u001b[0m \u001b[0mvalue\u001b[0m \u001b[0;34m=\u001b[0m \u001b[0mqkv\u001b[0m\u001b[0;34m.\u001b[0m\u001b[0mtranspose\u001b[0m\u001b[0;34m(\u001b[0m\u001b[0;36m3\u001b[0m\u001b[0;34m,\u001b[0m \u001b[0;36m1\u001b[0m\u001b[0;34m)\u001b[0m\u001b[0;34m.\u001b[0m\u001b[0munbind\u001b[0m\u001b[0;34m(\u001b[0m\u001b[0mdim\u001b[0m\u001b[0;34m=\u001b[0m\u001b[0;36m2\u001b[0m\u001b[0;34m)\u001b[0m\u001b[0;34m\u001b[0m\u001b[0;34m\u001b[0m\u001b[0m\n\u001b[1;32m    432\u001b[0m     \u001b[0;31m# query, key, value: [batch_size, heads, seq_len, head_dim]\u001b[0m\u001b[0;34m\u001b[0m\u001b[0;34m\u001b[0m\u001b[0m\n\u001b[0;32m--> 433\u001b[0;31m     \u001b[0mquery\u001b[0m\u001b[0;34m,\u001b[0m \u001b[0mkey\u001b[0m \u001b[0;34m=\u001b[0m \u001b[0mapply_rotary_pos_emb\u001b[0m\u001b[0;34m(\u001b[0m\u001b[0mquery\u001b[0m\u001b[0;34m,\u001b[0m \u001b[0mkey\u001b[0m\u001b[0;34m,\u001b[0m \u001b[0mcos\u001b[0m\u001b[0;34m,\u001b[0m \u001b[0msin\u001b[0m\u001b[0;34m)\u001b[0m\u001b[0;34m\u001b[0m\u001b[0;34m\u001b[0m\u001b[0m\n\u001b[0m\u001b[1;32m    434\u001b[0m \u001b[0;34m\u001b[0m\u001b[0m\n\u001b[1;32m    435\u001b[0m     \u001b[0;32mif\u001b[0m \u001b[0mlocal_attention\u001b[0m \u001b[0;34m!=\u001b[0m \u001b[0;34m(\u001b[0m\u001b[0;34m-\u001b[0m\u001b[0;36m1\u001b[0m\u001b[0;34m,\u001b[0m \u001b[0;34m-\u001b[0m\u001b[0;36m1\u001b[0m\u001b[0;34m)\u001b[0m\u001b[0;34m:\u001b[0m\u001b[0;34m\u001b[0m\u001b[0;34m\u001b[0m\u001b[0m\n",
            "\u001b[0;32m/usr/local/lib/python3.11/dist-packages/transformers/models/modernbert/modeling_modernbert.py\u001b[0m in \u001b[0;36mapply_rotary_pos_emb\u001b[0;34m(q, k, cos, sin, position_ids, unsqueeze_dim)\u001b[0m\n\u001b[1;32m    331\u001b[0m     \u001b[0mcos\u001b[0m \u001b[0;34m=\u001b[0m \u001b[0mcos\u001b[0m\u001b[0;34m.\u001b[0m\u001b[0munsqueeze\u001b[0m\u001b[0;34m(\u001b[0m\u001b[0munsqueeze_dim\u001b[0m\u001b[0;34m)\u001b[0m\u001b[0;34m\u001b[0m\u001b[0;34m\u001b[0m\u001b[0m\n\u001b[1;32m    332\u001b[0m     \u001b[0msin\u001b[0m \u001b[0;34m=\u001b[0m \u001b[0msin\u001b[0m\u001b[0;34m.\u001b[0m\u001b[0munsqueeze\u001b[0m\u001b[0;34m(\u001b[0m\u001b[0munsqueeze_dim\u001b[0m\u001b[0;34m)\u001b[0m\u001b[0;34m\u001b[0m\u001b[0;34m\u001b[0m\u001b[0m\n\u001b[0;32m--> 333\u001b[0;31m     \u001b[0mq_embed\u001b[0m \u001b[0;34m=\u001b[0m \u001b[0;34m(\u001b[0m\u001b[0mq\u001b[0m \u001b[0;34m*\u001b[0m \u001b[0mcos\u001b[0m\u001b[0;34m)\u001b[0m \u001b[0;34m+\u001b[0m \u001b[0;34m(\u001b[0m\u001b[0mrotate_half\u001b[0m\u001b[0;34m(\u001b[0m\u001b[0mq\u001b[0m\u001b[0;34m)\u001b[0m \u001b[0;34m*\u001b[0m \u001b[0msin\u001b[0m\u001b[0;34m)\u001b[0m\u001b[0;34m\u001b[0m\u001b[0;34m\u001b[0m\u001b[0m\n\u001b[0m\u001b[1;32m    334\u001b[0m     \u001b[0mk_embed\u001b[0m \u001b[0;34m=\u001b[0m \u001b[0;34m(\u001b[0m\u001b[0mk\u001b[0m \u001b[0;34m*\u001b[0m \u001b[0mcos\u001b[0m\u001b[0;34m)\u001b[0m \u001b[0;34m+\u001b[0m \u001b[0;34m(\u001b[0m\u001b[0mrotate_half\u001b[0m\u001b[0;34m(\u001b[0m\u001b[0mk\u001b[0m\u001b[0;34m)\u001b[0m \u001b[0;34m*\u001b[0m \u001b[0msin\u001b[0m\u001b[0;34m)\u001b[0m\u001b[0;34m\u001b[0m\u001b[0;34m\u001b[0m\u001b[0m\n\u001b[1;32m    335\u001b[0m     \u001b[0;32mreturn\u001b[0m \u001b[0mq_embed\u001b[0m\u001b[0;34m,\u001b[0m \u001b[0mk_embed\u001b[0m\u001b[0;34m\u001b[0m\u001b[0;34m\u001b[0m\u001b[0m\n",
            "\u001b[0;31mOutOfMemoryError\u001b[0m: CUDA out of memory. Tried to allocate 24.00 MiB. GPU 0 has a total capacity of 14.74 GiB of which 22.12 MiB is free. Process 758373 has 14.72 GiB memory in use. Of the allocated memory 14.58 GiB is allocated by PyTorch, and 15.74 MiB is reserved by PyTorch but unallocated. If reserved but unallocated memory is large try setting PYTORCH_CUDA_ALLOC_CONF=expandable_segments:True to avoid fragmentation.  See documentation for Memory Management  (https://pytorch.org/docs/stable/notes/cuda.html#environment-variables)"
          ]
        }
      ],
      "id": "s0RhG1Ewqkt2"
    },
    {
      "cell_type": "code",
      "source": [
        "plt.plot(f1s)\n",
        "plt.plot(f1s_eval)\n",
        "plt.title('model f1 micro')\n",
        "plt.ylabel('f1')\n",
        "plt.xlabel('epoch')\n",
        "plt.legend(['train', 'val'], loc='upper left')\n",
        "plt.show()"
      ],
      "metadata": {
        "id": "VXbS1cU4qkt5"
      },
      "execution_count": null,
      "outputs": [],
      "id": "VXbS1cU4qkt5"
    },
    {
      "cell_type": "code",
      "source": [
        "valid_generator = torch.utils.data.DataLoader(valid_set, batch_size=32, shuffle=False)\n",
        "preds = predict(model, valid_generator)"
      ],
      "metadata": {
        "id": "G3ZoIE_Gqkt6"
      },
      "execution_count": null,
      "outputs": [],
      "id": "G3ZoIE_Gqkt6"
    },
    {
      "cell_type": "code",
      "source": [
        "print(classification_report(valid_targets, preds))"
      ],
      "metadata": {
        "id": "0AwQmWNzqkt7"
      },
      "execution_count": null,
      "outputs": [],
      "id": "0AwQmWNzqkt7"
    }
  ],
  "metadata": {
    "kernelspec": {
      "display_name": "Python 3",
      "name": "python3"
    },
    "language_info": {
      "codemirror_mode": {
        "name": "ipython",
        "version": 3
      },
      "file_extension": ".py",
      "mimetype": "text/x-python",
      "name": "python",
      "nbconvert_exporter": "python",
      "pygments_lexer": "ipython3",
      "version": "3.9.16"
    },
    "colab": {
      "provenance": [],
      "gpuType": "T4",
      "include_colab_link": true
    },
    "accelerator": "GPU",
    "widgets": {
      "application/vnd.jupyter.widget-state+json": {
        "9efb4fad86a146dd96dc791c11edde23": {
          "model_module": "@jupyter-widgets/controls",
          "model_name": "HBoxModel",
          "model_module_version": "1.5.0",
          "state": {
            "_dom_classes": [],
            "_model_module": "@jupyter-widgets/controls",
            "_model_module_version": "1.5.0",
            "_model_name": "HBoxModel",
            "_view_count": null,
            "_view_module": "@jupyter-widgets/controls",
            "_view_module_version": "1.5.0",
            "_view_name": "HBoxView",
            "box_style": "",
            "children": [
              "IPY_MODEL_de9cf7cb6500440e8e7f1380bb165c6c",
              "IPY_MODEL_9375d2331c394b1f995ea197a3e0ab5b",
              "IPY_MODEL_633d793d9ff9455ea485dec9fc2fef0c"
            ],
            "layout": "IPY_MODEL_2fee871ce17b405f9d05d46c304529b5"
          }
        },
        "de9cf7cb6500440e8e7f1380bb165c6c": {
          "model_module": "@jupyter-widgets/controls",
          "model_name": "HTMLModel",
          "model_module_version": "1.5.0",
          "state": {
            "_dom_classes": [],
            "_model_module": "@jupyter-widgets/controls",
            "_model_module_version": "1.5.0",
            "_model_name": "HTMLModel",
            "_view_count": null,
            "_view_module": "@jupyter-widgets/controls",
            "_view_module_version": "1.5.0",
            "_view_name": "HTMLView",
            "description": "",
            "description_tooltip": null,
            "layout": "IPY_MODEL_efe1c3c18d10496ea6a8d455ccebcc92",
            "placeholder": "​",
            "style": "IPY_MODEL_33fbb15d33cb447ca670b5363eca5aa1",
            "value": "tokenizer_config.json: 100%"
          }
        },
        "9375d2331c394b1f995ea197a3e0ab5b": {
          "model_module": "@jupyter-widgets/controls",
          "model_name": "FloatProgressModel",
          "model_module_version": "1.5.0",
          "state": {
            "_dom_classes": [],
            "_model_module": "@jupyter-widgets/controls",
            "_model_module_version": "1.5.0",
            "_model_name": "FloatProgressModel",
            "_view_count": null,
            "_view_module": "@jupyter-widgets/controls",
            "_view_module_version": "1.5.0",
            "_view_name": "ProgressView",
            "bar_style": "success",
            "description": "",
            "description_tooltip": null,
            "layout": "IPY_MODEL_0bb0cb84649248f7a760721620b5fa0e",
            "max": 20990,
            "min": 0,
            "orientation": "horizontal",
            "style": "IPY_MODEL_a1c8dfbdcfc4435593172e4256f248ce",
            "value": 20990
          }
        },
        "633d793d9ff9455ea485dec9fc2fef0c": {
          "model_module": "@jupyter-widgets/controls",
          "model_name": "HTMLModel",
          "model_module_version": "1.5.0",
          "state": {
            "_dom_classes": [],
            "_model_module": "@jupyter-widgets/controls",
            "_model_module_version": "1.5.0",
            "_model_name": "HTMLModel",
            "_view_count": null,
            "_view_module": "@jupyter-widgets/controls",
            "_view_module_version": "1.5.0",
            "_view_name": "HTMLView",
            "description": "",
            "description_tooltip": null,
            "layout": "IPY_MODEL_5c4782d01ddb46bc85046f756f39a7f6",
            "placeholder": "​",
            "style": "IPY_MODEL_f22c56b3be0c4e1488ec5df4fbc565ad",
            "value": " 21.0k/21.0k [00:00&lt;00:00, 1.77MB/s]"
          }
        },
        "2fee871ce17b405f9d05d46c304529b5": {
          "model_module": "@jupyter-widgets/base",
          "model_name": "LayoutModel",
          "model_module_version": "1.2.0",
          "state": {
            "_model_module": "@jupyter-widgets/base",
            "_model_module_version": "1.2.0",
            "_model_name": "LayoutModel",
            "_view_count": null,
            "_view_module": "@jupyter-widgets/base",
            "_view_module_version": "1.2.0",
            "_view_name": "LayoutView",
            "align_content": null,
            "align_items": null,
            "align_self": null,
            "border": null,
            "bottom": null,
            "display": null,
            "flex": null,
            "flex_flow": null,
            "grid_area": null,
            "grid_auto_columns": null,
            "grid_auto_flow": null,
            "grid_auto_rows": null,
            "grid_column": null,
            "grid_gap": null,
            "grid_row": null,
            "grid_template_areas": null,
            "grid_template_columns": null,
            "grid_template_rows": null,
            "height": null,
            "justify_content": null,
            "justify_items": null,
            "left": null,
            "margin": null,
            "max_height": null,
            "max_width": null,
            "min_height": null,
            "min_width": null,
            "object_fit": null,
            "object_position": null,
            "order": null,
            "overflow": null,
            "overflow_x": null,
            "overflow_y": null,
            "padding": null,
            "right": null,
            "top": null,
            "visibility": null,
            "width": null
          }
        },
        "efe1c3c18d10496ea6a8d455ccebcc92": {
          "model_module": "@jupyter-widgets/base",
          "model_name": "LayoutModel",
          "model_module_version": "1.2.0",
          "state": {
            "_model_module": "@jupyter-widgets/base",
            "_model_module_version": "1.2.0",
            "_model_name": "LayoutModel",
            "_view_count": null,
            "_view_module": "@jupyter-widgets/base",
            "_view_module_version": "1.2.0",
            "_view_name": "LayoutView",
            "align_content": null,
            "align_items": null,
            "align_self": null,
            "border": null,
            "bottom": null,
            "display": null,
            "flex": null,
            "flex_flow": null,
            "grid_area": null,
            "grid_auto_columns": null,
            "grid_auto_flow": null,
            "grid_auto_rows": null,
            "grid_column": null,
            "grid_gap": null,
            "grid_row": null,
            "grid_template_areas": null,
            "grid_template_columns": null,
            "grid_template_rows": null,
            "height": null,
            "justify_content": null,
            "justify_items": null,
            "left": null,
            "margin": null,
            "max_height": null,
            "max_width": null,
            "min_height": null,
            "min_width": null,
            "object_fit": null,
            "object_position": null,
            "order": null,
            "overflow": null,
            "overflow_x": null,
            "overflow_y": null,
            "padding": null,
            "right": null,
            "top": null,
            "visibility": null,
            "width": null
          }
        },
        "33fbb15d33cb447ca670b5363eca5aa1": {
          "model_module": "@jupyter-widgets/controls",
          "model_name": "DescriptionStyleModel",
          "model_module_version": "1.5.0",
          "state": {
            "_model_module": "@jupyter-widgets/controls",
            "_model_module_version": "1.5.0",
            "_model_name": "DescriptionStyleModel",
            "_view_count": null,
            "_view_module": "@jupyter-widgets/base",
            "_view_module_version": "1.2.0",
            "_view_name": "StyleView",
            "description_width": ""
          }
        },
        "0bb0cb84649248f7a760721620b5fa0e": {
          "model_module": "@jupyter-widgets/base",
          "model_name": "LayoutModel",
          "model_module_version": "1.2.0",
          "state": {
            "_model_module": "@jupyter-widgets/base",
            "_model_module_version": "1.2.0",
            "_model_name": "LayoutModel",
            "_view_count": null,
            "_view_module": "@jupyter-widgets/base",
            "_view_module_version": "1.2.0",
            "_view_name": "LayoutView",
            "align_content": null,
            "align_items": null,
            "align_self": null,
            "border": null,
            "bottom": null,
            "display": null,
            "flex": null,
            "flex_flow": null,
            "grid_area": null,
            "grid_auto_columns": null,
            "grid_auto_flow": null,
            "grid_auto_rows": null,
            "grid_column": null,
            "grid_gap": null,
            "grid_row": null,
            "grid_template_areas": null,
            "grid_template_columns": null,
            "grid_template_rows": null,
            "height": null,
            "justify_content": null,
            "justify_items": null,
            "left": null,
            "margin": null,
            "max_height": null,
            "max_width": null,
            "min_height": null,
            "min_width": null,
            "object_fit": null,
            "object_position": null,
            "order": null,
            "overflow": null,
            "overflow_x": null,
            "overflow_y": null,
            "padding": null,
            "right": null,
            "top": null,
            "visibility": null,
            "width": null
          }
        },
        "a1c8dfbdcfc4435593172e4256f248ce": {
          "model_module": "@jupyter-widgets/controls",
          "model_name": "ProgressStyleModel",
          "model_module_version": "1.5.0",
          "state": {
            "_model_module": "@jupyter-widgets/controls",
            "_model_module_version": "1.5.0",
            "_model_name": "ProgressStyleModel",
            "_view_count": null,
            "_view_module": "@jupyter-widgets/base",
            "_view_module_version": "1.2.0",
            "_view_name": "StyleView",
            "bar_color": null,
            "description_width": ""
          }
        },
        "5c4782d01ddb46bc85046f756f39a7f6": {
          "model_module": "@jupyter-widgets/base",
          "model_name": "LayoutModel",
          "model_module_version": "1.2.0",
          "state": {
            "_model_module": "@jupyter-widgets/base",
            "_model_module_version": "1.2.0",
            "_model_name": "LayoutModel",
            "_view_count": null,
            "_view_module": "@jupyter-widgets/base",
            "_view_module_version": "1.2.0",
            "_view_name": "LayoutView",
            "align_content": null,
            "align_items": null,
            "align_self": null,
            "border": null,
            "bottom": null,
            "display": null,
            "flex": null,
            "flex_flow": null,
            "grid_area": null,
            "grid_auto_columns": null,
            "grid_auto_flow": null,
            "grid_auto_rows": null,
            "grid_column": null,
            "grid_gap": null,
            "grid_row": null,
            "grid_template_areas": null,
            "grid_template_columns": null,
            "grid_template_rows": null,
            "height": null,
            "justify_content": null,
            "justify_items": null,
            "left": null,
            "margin": null,
            "max_height": null,
            "max_width": null,
            "min_height": null,
            "min_width": null,
            "object_fit": null,
            "object_position": null,
            "order": null,
            "overflow": null,
            "overflow_x": null,
            "overflow_y": null,
            "padding": null,
            "right": null,
            "top": null,
            "visibility": null,
            "width": null
          }
        },
        "f22c56b3be0c4e1488ec5df4fbc565ad": {
          "model_module": "@jupyter-widgets/controls",
          "model_name": "DescriptionStyleModel",
          "model_module_version": "1.5.0",
          "state": {
            "_model_module": "@jupyter-widgets/controls",
            "_model_module_version": "1.5.0",
            "_model_name": "DescriptionStyleModel",
            "_view_count": null,
            "_view_module": "@jupyter-widgets/base",
            "_view_module_version": "1.2.0",
            "_view_name": "StyleView",
            "description_width": ""
          }
        },
        "097e347015274ce5b8cfdb63fceb9821": {
          "model_module": "@jupyter-widgets/controls",
          "model_name": "HBoxModel",
          "model_module_version": "1.5.0",
          "state": {
            "_dom_classes": [],
            "_model_module": "@jupyter-widgets/controls",
            "_model_module_version": "1.5.0",
            "_model_name": "HBoxModel",
            "_view_count": null,
            "_view_module": "@jupyter-widgets/controls",
            "_view_module_version": "1.5.0",
            "_view_name": "HBoxView",
            "box_style": "",
            "children": [
              "IPY_MODEL_eb24d5fd4e1a4af99a39b5b6b7d383bb",
              "IPY_MODEL_98777de58dcb40b185a12e80b729a8fc",
              "IPY_MODEL_91217a331ac34c729e01a3462496fd39"
            ],
            "layout": "IPY_MODEL_ce46ce9f42e94c4eb4bfdd9f99c9903f"
          }
        },
        "eb24d5fd4e1a4af99a39b5b6b7d383bb": {
          "model_module": "@jupyter-widgets/controls",
          "model_name": "HTMLModel",
          "model_module_version": "1.5.0",
          "state": {
            "_dom_classes": [],
            "_model_module": "@jupyter-widgets/controls",
            "_model_module_version": "1.5.0",
            "_model_name": "HTMLModel",
            "_view_count": null,
            "_view_module": "@jupyter-widgets/controls",
            "_view_module_version": "1.5.0",
            "_view_name": "HTMLView",
            "description": "",
            "description_tooltip": null,
            "layout": "IPY_MODEL_c369ce5fdba241478693a1aaee9b4d96",
            "placeholder": "​",
            "style": "IPY_MODEL_16dd5633d34f4aefb03219ef9af2fcc9",
            "value": "tokenizer.json: 100%"
          }
        },
        "98777de58dcb40b185a12e80b729a8fc": {
          "model_module": "@jupyter-widgets/controls",
          "model_name": "FloatProgressModel",
          "model_module_version": "1.5.0",
          "state": {
            "_dom_classes": [],
            "_model_module": "@jupyter-widgets/controls",
            "_model_module_version": "1.5.0",
            "_model_name": "FloatProgressModel",
            "_view_count": null,
            "_view_module": "@jupyter-widgets/controls",
            "_view_module_version": "1.5.0",
            "_view_name": "ProgressView",
            "bar_style": "success",
            "description": "",
            "description_tooltip": null,
            "layout": "IPY_MODEL_216f9b8d98b44f2bb7e278f5f9b681dd",
            "max": 4753266,
            "min": 0,
            "orientation": "horizontal",
            "style": "IPY_MODEL_7626c97c5d3f45e0bcddd46386c1a79e",
            "value": 4753266
          }
        },
        "91217a331ac34c729e01a3462496fd39": {
          "model_module": "@jupyter-widgets/controls",
          "model_name": "HTMLModel",
          "model_module_version": "1.5.0",
          "state": {
            "_dom_classes": [],
            "_model_module": "@jupyter-widgets/controls",
            "_model_module_version": "1.5.0",
            "_model_name": "HTMLModel",
            "_view_count": null,
            "_view_module": "@jupyter-widgets/controls",
            "_view_module_version": "1.5.0",
            "_view_name": "HTMLView",
            "description": "",
            "description_tooltip": null,
            "layout": "IPY_MODEL_94e2fbcb4fc54dc6ad891532adeda790",
            "placeholder": "​",
            "style": "IPY_MODEL_3b62283d52c74137b5bbeb904018bc47",
            "value": " 4.75M/4.75M [00:00&lt;00:00, 16.0MB/s]"
          }
        },
        "ce46ce9f42e94c4eb4bfdd9f99c9903f": {
          "model_module": "@jupyter-widgets/base",
          "model_name": "LayoutModel",
          "model_module_version": "1.2.0",
          "state": {
            "_model_module": "@jupyter-widgets/base",
            "_model_module_version": "1.2.0",
            "_model_name": "LayoutModel",
            "_view_count": null,
            "_view_module": "@jupyter-widgets/base",
            "_view_module_version": "1.2.0",
            "_view_name": "LayoutView",
            "align_content": null,
            "align_items": null,
            "align_self": null,
            "border": null,
            "bottom": null,
            "display": null,
            "flex": null,
            "flex_flow": null,
            "grid_area": null,
            "grid_auto_columns": null,
            "grid_auto_flow": null,
            "grid_auto_rows": null,
            "grid_column": null,
            "grid_gap": null,
            "grid_row": null,
            "grid_template_areas": null,
            "grid_template_columns": null,
            "grid_template_rows": null,
            "height": null,
            "justify_content": null,
            "justify_items": null,
            "left": null,
            "margin": null,
            "max_height": null,
            "max_width": null,
            "min_height": null,
            "min_width": null,
            "object_fit": null,
            "object_position": null,
            "order": null,
            "overflow": null,
            "overflow_x": null,
            "overflow_y": null,
            "padding": null,
            "right": null,
            "top": null,
            "visibility": null,
            "width": null
          }
        },
        "c369ce5fdba241478693a1aaee9b4d96": {
          "model_module": "@jupyter-widgets/base",
          "model_name": "LayoutModel",
          "model_module_version": "1.2.0",
          "state": {
            "_model_module": "@jupyter-widgets/base",
            "_model_module_version": "1.2.0",
            "_model_name": "LayoutModel",
            "_view_count": null,
            "_view_module": "@jupyter-widgets/base",
            "_view_module_version": "1.2.0",
            "_view_name": "LayoutView",
            "align_content": null,
            "align_items": null,
            "align_self": null,
            "border": null,
            "bottom": null,
            "display": null,
            "flex": null,
            "flex_flow": null,
            "grid_area": null,
            "grid_auto_columns": null,
            "grid_auto_flow": null,
            "grid_auto_rows": null,
            "grid_column": null,
            "grid_gap": null,
            "grid_row": null,
            "grid_template_areas": null,
            "grid_template_columns": null,
            "grid_template_rows": null,
            "height": null,
            "justify_content": null,
            "justify_items": null,
            "left": null,
            "margin": null,
            "max_height": null,
            "max_width": null,
            "min_height": null,
            "min_width": null,
            "object_fit": null,
            "object_position": null,
            "order": null,
            "overflow": null,
            "overflow_x": null,
            "overflow_y": null,
            "padding": null,
            "right": null,
            "top": null,
            "visibility": null,
            "width": null
          }
        },
        "16dd5633d34f4aefb03219ef9af2fcc9": {
          "model_module": "@jupyter-widgets/controls",
          "model_name": "DescriptionStyleModel",
          "model_module_version": "1.5.0",
          "state": {
            "_model_module": "@jupyter-widgets/controls",
            "_model_module_version": "1.5.0",
            "_model_name": "DescriptionStyleModel",
            "_view_count": null,
            "_view_module": "@jupyter-widgets/base",
            "_view_module_version": "1.2.0",
            "_view_name": "StyleView",
            "description_width": ""
          }
        },
        "216f9b8d98b44f2bb7e278f5f9b681dd": {
          "model_module": "@jupyter-widgets/base",
          "model_name": "LayoutModel",
          "model_module_version": "1.2.0",
          "state": {
            "_model_module": "@jupyter-widgets/base",
            "_model_module_version": "1.2.0",
            "_model_name": "LayoutModel",
            "_view_count": null,
            "_view_module": "@jupyter-widgets/base",
            "_view_module_version": "1.2.0",
            "_view_name": "LayoutView",
            "align_content": null,
            "align_items": null,
            "align_self": null,
            "border": null,
            "bottom": null,
            "display": null,
            "flex": null,
            "flex_flow": null,
            "grid_area": null,
            "grid_auto_columns": null,
            "grid_auto_flow": null,
            "grid_auto_rows": null,
            "grid_column": null,
            "grid_gap": null,
            "grid_row": null,
            "grid_template_areas": null,
            "grid_template_columns": null,
            "grid_template_rows": null,
            "height": null,
            "justify_content": null,
            "justify_items": null,
            "left": null,
            "margin": null,
            "max_height": null,
            "max_width": null,
            "min_height": null,
            "min_width": null,
            "object_fit": null,
            "object_position": null,
            "order": null,
            "overflow": null,
            "overflow_x": null,
            "overflow_y": null,
            "padding": null,
            "right": null,
            "top": null,
            "visibility": null,
            "width": null
          }
        },
        "7626c97c5d3f45e0bcddd46386c1a79e": {
          "model_module": "@jupyter-widgets/controls",
          "model_name": "ProgressStyleModel",
          "model_module_version": "1.5.0",
          "state": {
            "_model_module": "@jupyter-widgets/controls",
            "_model_module_version": "1.5.0",
            "_model_name": "ProgressStyleModel",
            "_view_count": null,
            "_view_module": "@jupyter-widgets/base",
            "_view_module_version": "1.2.0",
            "_view_name": "StyleView",
            "bar_color": null,
            "description_width": ""
          }
        },
        "94e2fbcb4fc54dc6ad891532adeda790": {
          "model_module": "@jupyter-widgets/base",
          "model_name": "LayoutModel",
          "model_module_version": "1.2.0",
          "state": {
            "_model_module": "@jupyter-widgets/base",
            "_model_module_version": "1.2.0",
            "_model_name": "LayoutModel",
            "_view_count": null,
            "_view_module": "@jupyter-widgets/base",
            "_view_module_version": "1.2.0",
            "_view_name": "LayoutView",
            "align_content": null,
            "align_items": null,
            "align_self": null,
            "border": null,
            "bottom": null,
            "display": null,
            "flex": null,
            "flex_flow": null,
            "grid_area": null,
            "grid_auto_columns": null,
            "grid_auto_flow": null,
            "grid_auto_rows": null,
            "grid_column": null,
            "grid_gap": null,
            "grid_row": null,
            "grid_template_areas": null,
            "grid_template_columns": null,
            "grid_template_rows": null,
            "height": null,
            "justify_content": null,
            "justify_items": null,
            "left": null,
            "margin": null,
            "max_height": null,
            "max_width": null,
            "min_height": null,
            "min_width": null,
            "object_fit": null,
            "object_position": null,
            "order": null,
            "overflow": null,
            "overflow_x": null,
            "overflow_y": null,
            "padding": null,
            "right": null,
            "top": null,
            "visibility": null,
            "width": null
          }
        },
        "3b62283d52c74137b5bbeb904018bc47": {
          "model_module": "@jupyter-widgets/controls",
          "model_name": "DescriptionStyleModel",
          "model_module_version": "1.5.0",
          "state": {
            "_model_module": "@jupyter-widgets/controls",
            "_model_module_version": "1.5.0",
            "_model_name": "DescriptionStyleModel",
            "_view_count": null,
            "_view_module": "@jupyter-widgets/base",
            "_view_module_version": "1.2.0",
            "_view_name": "StyleView",
            "description_width": ""
          }
        },
        "acf2dfeaf677442aac846a4d87101785": {
          "model_module": "@jupyter-widgets/controls",
          "model_name": "HBoxModel",
          "model_module_version": "1.5.0",
          "state": {
            "_dom_classes": [],
            "_model_module": "@jupyter-widgets/controls",
            "_model_module_version": "1.5.0",
            "_model_name": "HBoxModel",
            "_view_count": null,
            "_view_module": "@jupyter-widgets/controls",
            "_view_module_version": "1.5.0",
            "_view_name": "HBoxView",
            "box_style": "",
            "children": [
              "IPY_MODEL_4a599864054849a5bcbdd2cf2c73f200",
              "IPY_MODEL_31a6a21cabd54f82bd2c749b6c74c38e",
              "IPY_MODEL_70e781ecf4bf453fae4189520cdfd327"
            ],
            "layout": "IPY_MODEL_aef9d21b618d4c699be05ba415c5cf68"
          }
        },
        "4a599864054849a5bcbdd2cf2c73f200": {
          "model_module": "@jupyter-widgets/controls",
          "model_name": "HTMLModel",
          "model_module_version": "1.5.0",
          "state": {
            "_dom_classes": [],
            "_model_module": "@jupyter-widgets/controls",
            "_model_module_version": "1.5.0",
            "_model_name": "HTMLModel",
            "_view_count": null,
            "_view_module": "@jupyter-widgets/controls",
            "_view_module_version": "1.5.0",
            "_view_name": "HTMLView",
            "description": "",
            "description_tooltip": null,
            "layout": "IPY_MODEL_5027d4573eae4434954cdaeecacf082a",
            "placeholder": "​",
            "style": "IPY_MODEL_584ea1ebaaab42278eb20187a3130cf1",
            "value": "special_tokens_map.json: 100%"
          }
        },
        "31a6a21cabd54f82bd2c749b6c74c38e": {
          "model_module": "@jupyter-widgets/controls",
          "model_name": "FloatProgressModel",
          "model_module_version": "1.5.0",
          "state": {
            "_dom_classes": [],
            "_model_module": "@jupyter-widgets/controls",
            "_model_module_version": "1.5.0",
            "_model_name": "FloatProgressModel",
            "_view_count": null,
            "_view_module": "@jupyter-widgets/controls",
            "_view_module_version": "1.5.0",
            "_view_name": "ProgressView",
            "bar_style": "success",
            "description": "",
            "description_tooltip": null,
            "layout": "IPY_MODEL_444c10c551b94cc3aa668dd3e3c3fc96",
            "max": 837,
            "min": 0,
            "orientation": "horizontal",
            "style": "IPY_MODEL_e074528fb55a436e8bc398f09459766a",
            "value": 837
          }
        },
        "70e781ecf4bf453fae4189520cdfd327": {
          "model_module": "@jupyter-widgets/controls",
          "model_name": "HTMLModel",
          "model_module_version": "1.5.0",
          "state": {
            "_dom_classes": [],
            "_model_module": "@jupyter-widgets/controls",
            "_model_module_version": "1.5.0",
            "_model_name": "HTMLModel",
            "_view_count": null,
            "_view_module": "@jupyter-widgets/controls",
            "_view_module_version": "1.5.0",
            "_view_name": "HTMLView",
            "description": "",
            "description_tooltip": null,
            "layout": "IPY_MODEL_c37ae46eacae493296cc19bb1cbab440",
            "placeholder": "​",
            "style": "IPY_MODEL_6d19967b23d94e979fead6e4bde56de0",
            "value": " 837/837 [00:00&lt;00:00, 77.4kB/s]"
          }
        },
        "aef9d21b618d4c699be05ba415c5cf68": {
          "model_module": "@jupyter-widgets/base",
          "model_name": "LayoutModel",
          "model_module_version": "1.2.0",
          "state": {
            "_model_module": "@jupyter-widgets/base",
            "_model_module_version": "1.2.0",
            "_model_name": "LayoutModel",
            "_view_count": null,
            "_view_module": "@jupyter-widgets/base",
            "_view_module_version": "1.2.0",
            "_view_name": "LayoutView",
            "align_content": null,
            "align_items": null,
            "align_self": null,
            "border": null,
            "bottom": null,
            "display": null,
            "flex": null,
            "flex_flow": null,
            "grid_area": null,
            "grid_auto_columns": null,
            "grid_auto_flow": null,
            "grid_auto_rows": null,
            "grid_column": null,
            "grid_gap": null,
            "grid_row": null,
            "grid_template_areas": null,
            "grid_template_columns": null,
            "grid_template_rows": null,
            "height": null,
            "justify_content": null,
            "justify_items": null,
            "left": null,
            "margin": null,
            "max_height": null,
            "max_width": null,
            "min_height": null,
            "min_width": null,
            "object_fit": null,
            "object_position": null,
            "order": null,
            "overflow": null,
            "overflow_x": null,
            "overflow_y": null,
            "padding": null,
            "right": null,
            "top": null,
            "visibility": null,
            "width": null
          }
        },
        "5027d4573eae4434954cdaeecacf082a": {
          "model_module": "@jupyter-widgets/base",
          "model_name": "LayoutModel",
          "model_module_version": "1.2.0",
          "state": {
            "_model_module": "@jupyter-widgets/base",
            "_model_module_version": "1.2.0",
            "_model_name": "LayoutModel",
            "_view_count": null,
            "_view_module": "@jupyter-widgets/base",
            "_view_module_version": "1.2.0",
            "_view_name": "LayoutView",
            "align_content": null,
            "align_items": null,
            "align_self": null,
            "border": null,
            "bottom": null,
            "display": null,
            "flex": null,
            "flex_flow": null,
            "grid_area": null,
            "grid_auto_columns": null,
            "grid_auto_flow": null,
            "grid_auto_rows": null,
            "grid_column": null,
            "grid_gap": null,
            "grid_row": null,
            "grid_template_areas": null,
            "grid_template_columns": null,
            "grid_template_rows": null,
            "height": null,
            "justify_content": null,
            "justify_items": null,
            "left": null,
            "margin": null,
            "max_height": null,
            "max_width": null,
            "min_height": null,
            "min_width": null,
            "object_fit": null,
            "object_position": null,
            "order": null,
            "overflow": null,
            "overflow_x": null,
            "overflow_y": null,
            "padding": null,
            "right": null,
            "top": null,
            "visibility": null,
            "width": null
          }
        },
        "584ea1ebaaab42278eb20187a3130cf1": {
          "model_module": "@jupyter-widgets/controls",
          "model_name": "DescriptionStyleModel",
          "model_module_version": "1.5.0",
          "state": {
            "_model_module": "@jupyter-widgets/controls",
            "_model_module_version": "1.5.0",
            "_model_name": "DescriptionStyleModel",
            "_view_count": null,
            "_view_module": "@jupyter-widgets/base",
            "_view_module_version": "1.2.0",
            "_view_name": "StyleView",
            "description_width": ""
          }
        },
        "444c10c551b94cc3aa668dd3e3c3fc96": {
          "model_module": "@jupyter-widgets/base",
          "model_name": "LayoutModel",
          "model_module_version": "1.2.0",
          "state": {
            "_model_module": "@jupyter-widgets/base",
            "_model_module_version": "1.2.0",
            "_model_name": "LayoutModel",
            "_view_count": null,
            "_view_module": "@jupyter-widgets/base",
            "_view_module_version": "1.2.0",
            "_view_name": "LayoutView",
            "align_content": null,
            "align_items": null,
            "align_self": null,
            "border": null,
            "bottom": null,
            "display": null,
            "flex": null,
            "flex_flow": null,
            "grid_area": null,
            "grid_auto_columns": null,
            "grid_auto_flow": null,
            "grid_auto_rows": null,
            "grid_column": null,
            "grid_gap": null,
            "grid_row": null,
            "grid_template_areas": null,
            "grid_template_columns": null,
            "grid_template_rows": null,
            "height": null,
            "justify_content": null,
            "justify_items": null,
            "left": null,
            "margin": null,
            "max_height": null,
            "max_width": null,
            "min_height": null,
            "min_width": null,
            "object_fit": null,
            "object_position": null,
            "order": null,
            "overflow": null,
            "overflow_x": null,
            "overflow_y": null,
            "padding": null,
            "right": null,
            "top": null,
            "visibility": null,
            "width": null
          }
        },
        "e074528fb55a436e8bc398f09459766a": {
          "model_module": "@jupyter-widgets/controls",
          "model_name": "ProgressStyleModel",
          "model_module_version": "1.5.0",
          "state": {
            "_model_module": "@jupyter-widgets/controls",
            "_model_module_version": "1.5.0",
            "_model_name": "ProgressStyleModel",
            "_view_count": null,
            "_view_module": "@jupyter-widgets/base",
            "_view_module_version": "1.2.0",
            "_view_name": "StyleView",
            "bar_color": null,
            "description_width": ""
          }
        },
        "c37ae46eacae493296cc19bb1cbab440": {
          "model_module": "@jupyter-widgets/base",
          "model_name": "LayoutModel",
          "model_module_version": "1.2.0",
          "state": {
            "_model_module": "@jupyter-widgets/base",
            "_model_module_version": "1.2.0",
            "_model_name": "LayoutModel",
            "_view_count": null,
            "_view_module": "@jupyter-widgets/base",
            "_view_module_version": "1.2.0",
            "_view_name": "LayoutView",
            "align_content": null,
            "align_items": null,
            "align_self": null,
            "border": null,
            "bottom": null,
            "display": null,
            "flex": null,
            "flex_flow": null,
            "grid_area": null,
            "grid_auto_columns": null,
            "grid_auto_flow": null,
            "grid_auto_rows": null,
            "grid_column": null,
            "grid_gap": null,
            "grid_row": null,
            "grid_template_areas": null,
            "grid_template_columns": null,
            "grid_template_rows": null,
            "height": null,
            "justify_content": null,
            "justify_items": null,
            "left": null,
            "margin": null,
            "max_height": null,
            "max_width": null,
            "min_height": null,
            "min_width": null,
            "object_fit": null,
            "object_position": null,
            "order": null,
            "overflow": null,
            "overflow_x": null,
            "overflow_y": null,
            "padding": null,
            "right": null,
            "top": null,
            "visibility": null,
            "width": null
          }
        },
        "6d19967b23d94e979fead6e4bde56de0": {
          "model_module": "@jupyter-widgets/controls",
          "model_name": "DescriptionStyleModel",
          "model_module_version": "1.5.0",
          "state": {
            "_model_module": "@jupyter-widgets/controls",
            "_model_module_version": "1.5.0",
            "_model_name": "DescriptionStyleModel",
            "_view_count": null,
            "_view_module": "@jupyter-widgets/base",
            "_view_module_version": "1.2.0",
            "_view_name": "StyleView",
            "description_width": ""
          }
        },
        "69d29d08979d4331a69f8d15d6fe68e2": {
          "model_module": "@jupyter-widgets/controls",
          "model_name": "HBoxModel",
          "model_module_version": "1.5.0",
          "state": {
            "_dom_classes": [],
            "_model_module": "@jupyter-widgets/controls",
            "_model_module_version": "1.5.0",
            "_model_name": "HBoxModel",
            "_view_count": null,
            "_view_module": "@jupyter-widgets/controls",
            "_view_module_version": "1.5.0",
            "_view_name": "HBoxView",
            "box_style": "",
            "children": [
              "IPY_MODEL_14874d4cc240494dbf7eac63a4434bda",
              "IPY_MODEL_0deaa199469a42729ccd637747d72a91",
              "IPY_MODEL_ac0cfb87e0bc46a0a5729126b2e568be"
            ],
            "layout": "IPY_MODEL_3edaff1cddbc45cdb14047e9123c5c23"
          }
        },
        "14874d4cc240494dbf7eac63a4434bda": {
          "model_module": "@jupyter-widgets/controls",
          "model_name": "HTMLModel",
          "model_module_version": "1.5.0",
          "state": {
            "_dom_classes": [],
            "_model_module": "@jupyter-widgets/controls",
            "_model_module_version": "1.5.0",
            "_model_name": "HTMLModel",
            "_view_count": null,
            "_view_module": "@jupyter-widgets/controls",
            "_view_module_version": "1.5.0",
            "_view_name": "HTMLView",
            "description": "",
            "description_tooltip": null,
            "layout": "IPY_MODEL_f1b678840cb04e64abe5c6cf56f30efa",
            "placeholder": "​",
            "style": "IPY_MODEL_6c407f9c819d4cce8d2d73e6da78efdf",
            "value": "config.json: 100%"
          }
        },
        "0deaa199469a42729ccd637747d72a91": {
          "model_module": "@jupyter-widgets/controls",
          "model_name": "FloatProgressModel",
          "model_module_version": "1.5.0",
          "state": {
            "_dom_classes": [],
            "_model_module": "@jupyter-widgets/controls",
            "_model_module_version": "1.5.0",
            "_model_name": "FloatProgressModel",
            "_view_count": null,
            "_view_module": "@jupyter-widgets/controls",
            "_view_module_version": "1.5.0",
            "_view_name": "ProgressView",
            "bar_style": "success",
            "description": "",
            "description_tooltip": null,
            "layout": "IPY_MODEL_3f4ad56ead5a4e0cb6988d409f3d1f94",
            "max": 2190,
            "min": 0,
            "orientation": "horizontal",
            "style": "IPY_MODEL_c450e78a0dd34c0885f7e4e1acf045ad",
            "value": 2190
          }
        },
        "ac0cfb87e0bc46a0a5729126b2e568be": {
          "model_module": "@jupyter-widgets/controls",
          "model_name": "HTMLModel",
          "model_module_version": "1.5.0",
          "state": {
            "_dom_classes": [],
            "_model_module": "@jupyter-widgets/controls",
            "_model_module_version": "1.5.0",
            "_model_name": "HTMLModel",
            "_view_count": null,
            "_view_module": "@jupyter-widgets/controls",
            "_view_module_version": "1.5.0",
            "_view_name": "HTMLView",
            "description": "",
            "description_tooltip": null,
            "layout": "IPY_MODEL_73d2be0c5716456c96655e7a4c9204d1",
            "placeholder": "​",
            "style": "IPY_MODEL_f924d105c9ae40f29f85a68befb2b9f3",
            "value": " 2.19k/2.19k [00:00&lt;00:00, 109kB/s]"
          }
        },
        "3edaff1cddbc45cdb14047e9123c5c23": {
          "model_module": "@jupyter-widgets/base",
          "model_name": "LayoutModel",
          "model_module_version": "1.2.0",
          "state": {
            "_model_module": "@jupyter-widgets/base",
            "_model_module_version": "1.2.0",
            "_model_name": "LayoutModel",
            "_view_count": null,
            "_view_module": "@jupyter-widgets/base",
            "_view_module_version": "1.2.0",
            "_view_name": "LayoutView",
            "align_content": null,
            "align_items": null,
            "align_self": null,
            "border": null,
            "bottom": null,
            "display": null,
            "flex": null,
            "flex_flow": null,
            "grid_area": null,
            "grid_auto_columns": null,
            "grid_auto_flow": null,
            "grid_auto_rows": null,
            "grid_column": null,
            "grid_gap": null,
            "grid_row": null,
            "grid_template_areas": null,
            "grid_template_columns": null,
            "grid_template_rows": null,
            "height": null,
            "justify_content": null,
            "justify_items": null,
            "left": null,
            "margin": null,
            "max_height": null,
            "max_width": null,
            "min_height": null,
            "min_width": null,
            "object_fit": null,
            "object_position": null,
            "order": null,
            "overflow": null,
            "overflow_x": null,
            "overflow_y": null,
            "padding": null,
            "right": null,
            "top": null,
            "visibility": null,
            "width": null
          }
        },
        "f1b678840cb04e64abe5c6cf56f30efa": {
          "model_module": "@jupyter-widgets/base",
          "model_name": "LayoutModel",
          "model_module_version": "1.2.0",
          "state": {
            "_model_module": "@jupyter-widgets/base",
            "_model_module_version": "1.2.0",
            "_model_name": "LayoutModel",
            "_view_count": null,
            "_view_module": "@jupyter-widgets/base",
            "_view_module_version": "1.2.0",
            "_view_name": "LayoutView",
            "align_content": null,
            "align_items": null,
            "align_self": null,
            "border": null,
            "bottom": null,
            "display": null,
            "flex": null,
            "flex_flow": null,
            "grid_area": null,
            "grid_auto_columns": null,
            "grid_auto_flow": null,
            "grid_auto_rows": null,
            "grid_column": null,
            "grid_gap": null,
            "grid_row": null,
            "grid_template_areas": null,
            "grid_template_columns": null,
            "grid_template_rows": null,
            "height": null,
            "justify_content": null,
            "justify_items": null,
            "left": null,
            "margin": null,
            "max_height": null,
            "max_width": null,
            "min_height": null,
            "min_width": null,
            "object_fit": null,
            "object_position": null,
            "order": null,
            "overflow": null,
            "overflow_x": null,
            "overflow_y": null,
            "padding": null,
            "right": null,
            "top": null,
            "visibility": null,
            "width": null
          }
        },
        "6c407f9c819d4cce8d2d73e6da78efdf": {
          "model_module": "@jupyter-widgets/controls",
          "model_name": "DescriptionStyleModel",
          "model_module_version": "1.5.0",
          "state": {
            "_model_module": "@jupyter-widgets/controls",
            "_model_module_version": "1.5.0",
            "_model_name": "DescriptionStyleModel",
            "_view_count": null,
            "_view_module": "@jupyter-widgets/base",
            "_view_module_version": "1.2.0",
            "_view_name": "StyleView",
            "description_width": ""
          }
        },
        "3f4ad56ead5a4e0cb6988d409f3d1f94": {
          "model_module": "@jupyter-widgets/base",
          "model_name": "LayoutModel",
          "model_module_version": "1.2.0",
          "state": {
            "_model_module": "@jupyter-widgets/base",
            "_model_module_version": "1.2.0",
            "_model_name": "LayoutModel",
            "_view_count": null,
            "_view_module": "@jupyter-widgets/base",
            "_view_module_version": "1.2.0",
            "_view_name": "LayoutView",
            "align_content": null,
            "align_items": null,
            "align_self": null,
            "border": null,
            "bottom": null,
            "display": null,
            "flex": null,
            "flex_flow": null,
            "grid_area": null,
            "grid_auto_columns": null,
            "grid_auto_flow": null,
            "grid_auto_rows": null,
            "grid_column": null,
            "grid_gap": null,
            "grid_row": null,
            "grid_template_areas": null,
            "grid_template_columns": null,
            "grid_template_rows": null,
            "height": null,
            "justify_content": null,
            "justify_items": null,
            "left": null,
            "margin": null,
            "max_height": null,
            "max_width": null,
            "min_height": null,
            "min_width": null,
            "object_fit": null,
            "object_position": null,
            "order": null,
            "overflow": null,
            "overflow_x": null,
            "overflow_y": null,
            "padding": null,
            "right": null,
            "top": null,
            "visibility": null,
            "width": null
          }
        },
        "c450e78a0dd34c0885f7e4e1acf045ad": {
          "model_module": "@jupyter-widgets/controls",
          "model_name": "ProgressStyleModel",
          "model_module_version": "1.5.0",
          "state": {
            "_model_module": "@jupyter-widgets/controls",
            "_model_module_version": "1.5.0",
            "_model_name": "ProgressStyleModel",
            "_view_count": null,
            "_view_module": "@jupyter-widgets/base",
            "_view_module_version": "1.2.0",
            "_view_name": "StyleView",
            "bar_color": null,
            "description_width": ""
          }
        },
        "73d2be0c5716456c96655e7a4c9204d1": {
          "model_module": "@jupyter-widgets/base",
          "model_name": "LayoutModel",
          "model_module_version": "1.2.0",
          "state": {
            "_model_module": "@jupyter-widgets/base",
            "_model_module_version": "1.2.0",
            "_model_name": "LayoutModel",
            "_view_count": null,
            "_view_module": "@jupyter-widgets/base",
            "_view_module_version": "1.2.0",
            "_view_name": "LayoutView",
            "align_content": null,
            "align_items": null,
            "align_self": null,
            "border": null,
            "bottom": null,
            "display": null,
            "flex": null,
            "flex_flow": null,
            "grid_area": null,
            "grid_auto_columns": null,
            "grid_auto_flow": null,
            "grid_auto_rows": null,
            "grid_column": null,
            "grid_gap": null,
            "grid_row": null,
            "grid_template_areas": null,
            "grid_template_columns": null,
            "grid_template_rows": null,
            "height": null,
            "justify_content": null,
            "justify_items": null,
            "left": null,
            "margin": null,
            "max_height": null,
            "max_width": null,
            "min_height": null,
            "min_width": null,
            "object_fit": null,
            "object_position": null,
            "order": null,
            "overflow": null,
            "overflow_x": null,
            "overflow_y": null,
            "padding": null,
            "right": null,
            "top": null,
            "visibility": null,
            "width": null
          }
        },
        "f924d105c9ae40f29f85a68befb2b9f3": {
          "model_module": "@jupyter-widgets/controls",
          "model_name": "DescriptionStyleModel",
          "model_module_version": "1.5.0",
          "state": {
            "_model_module": "@jupyter-widgets/controls",
            "_model_module_version": "1.5.0",
            "_model_name": "DescriptionStyleModel",
            "_view_count": null,
            "_view_module": "@jupyter-widgets/base",
            "_view_module_version": "1.2.0",
            "_view_name": "StyleView",
            "description_width": ""
          }
        },
        "ed73adc1a5b5489298aa53bc0e8fa0aa": {
          "model_module": "@jupyter-widgets/controls",
          "model_name": "HBoxModel",
          "model_module_version": "1.5.0",
          "state": {
            "_dom_classes": [],
            "_model_module": "@jupyter-widgets/controls",
            "_model_module_version": "1.5.0",
            "_model_name": "HBoxModel",
            "_view_count": null,
            "_view_module": "@jupyter-widgets/controls",
            "_view_module_version": "1.5.0",
            "_view_name": "HBoxView",
            "box_style": "",
            "children": [
              "IPY_MODEL_1f003b8cc6d2412cbf502fc5bbcb0a4e",
              "IPY_MODEL_3769cb2668c344a2b6bae7106ac871c4",
              "IPY_MODEL_2b69e5bd7f324fcd92b0bafc1d587363"
            ],
            "layout": "IPY_MODEL_47033273c58e4cb7ab9863500497fb39"
          }
        },
        "1f003b8cc6d2412cbf502fc5bbcb0a4e": {
          "model_module": "@jupyter-widgets/controls",
          "model_name": "HTMLModel",
          "model_module_version": "1.5.0",
          "state": {
            "_dom_classes": [],
            "_model_module": "@jupyter-widgets/controls",
            "_model_module_version": "1.5.0",
            "_model_name": "HTMLModel",
            "_view_count": null,
            "_view_module": "@jupyter-widgets/controls",
            "_view_module_version": "1.5.0",
            "_view_name": "HTMLView",
            "description": "",
            "description_tooltip": null,
            "layout": "IPY_MODEL_4d20a27a0b304f57a8b25658539dded1",
            "placeholder": "​",
            "style": "IPY_MODEL_50068c22edc046278dfe2511ca05a826",
            "value": "model.safetensors: 100%"
          }
        },
        "3769cb2668c344a2b6bae7106ac871c4": {
          "model_module": "@jupyter-widgets/controls",
          "model_name": "FloatProgressModel",
          "model_module_version": "1.5.0",
          "state": {
            "_dom_classes": [],
            "_model_module": "@jupyter-widgets/controls",
            "_model_module_version": "1.5.0",
            "_model_name": "FloatProgressModel",
            "_view_count": null,
            "_view_module": "@jupyter-widgets/controls",
            "_view_module_version": "1.5.0",
            "_view_name": "ProgressView",
            "bar_style": "success",
            "description": "",
            "description_tooltip": null,
            "layout": "IPY_MODEL_7db8817c75594fe882a3d2786e94db16",
            "max": 598635032,
            "min": 0,
            "orientation": "horizontal",
            "style": "IPY_MODEL_43835957b5ab4b86a32a15f57224b7fb",
            "value": 598635032
          }
        },
        "2b69e5bd7f324fcd92b0bafc1d587363": {
          "model_module": "@jupyter-widgets/controls",
          "model_name": "HTMLModel",
          "model_module_version": "1.5.0",
          "state": {
            "_dom_classes": [],
            "_model_module": "@jupyter-widgets/controls",
            "_model_module_version": "1.5.0",
            "_model_name": "HTMLModel",
            "_view_count": null,
            "_view_module": "@jupyter-widgets/controls",
            "_view_module_version": "1.5.0",
            "_view_name": "HTMLView",
            "description": "",
            "description_tooltip": null,
            "layout": "IPY_MODEL_0f297433ab54419f97b9cb9ce2b5de71",
            "placeholder": "​",
            "style": "IPY_MODEL_2e5dda219fa74b4aabc2797ce88f47fb",
            "value": " 599M/599M [00:03&lt;00:00, 180MB/s]"
          }
        },
        "47033273c58e4cb7ab9863500497fb39": {
          "model_module": "@jupyter-widgets/base",
          "model_name": "LayoutModel",
          "model_module_version": "1.2.0",
          "state": {
            "_model_module": "@jupyter-widgets/base",
            "_model_module_version": "1.2.0",
            "_model_name": "LayoutModel",
            "_view_count": null,
            "_view_module": "@jupyter-widgets/base",
            "_view_module_version": "1.2.0",
            "_view_name": "LayoutView",
            "align_content": null,
            "align_items": null,
            "align_self": null,
            "border": null,
            "bottom": null,
            "display": null,
            "flex": null,
            "flex_flow": null,
            "grid_area": null,
            "grid_auto_columns": null,
            "grid_auto_flow": null,
            "grid_auto_rows": null,
            "grid_column": null,
            "grid_gap": null,
            "grid_row": null,
            "grid_template_areas": null,
            "grid_template_columns": null,
            "grid_template_rows": null,
            "height": null,
            "justify_content": null,
            "justify_items": null,
            "left": null,
            "margin": null,
            "max_height": null,
            "max_width": null,
            "min_height": null,
            "min_width": null,
            "object_fit": null,
            "object_position": null,
            "order": null,
            "overflow": null,
            "overflow_x": null,
            "overflow_y": null,
            "padding": null,
            "right": null,
            "top": null,
            "visibility": null,
            "width": null
          }
        },
        "4d20a27a0b304f57a8b25658539dded1": {
          "model_module": "@jupyter-widgets/base",
          "model_name": "LayoutModel",
          "model_module_version": "1.2.0",
          "state": {
            "_model_module": "@jupyter-widgets/base",
            "_model_module_version": "1.2.0",
            "_model_name": "LayoutModel",
            "_view_count": null,
            "_view_module": "@jupyter-widgets/base",
            "_view_module_version": "1.2.0",
            "_view_name": "LayoutView",
            "align_content": null,
            "align_items": null,
            "align_self": null,
            "border": null,
            "bottom": null,
            "display": null,
            "flex": null,
            "flex_flow": null,
            "grid_area": null,
            "grid_auto_columns": null,
            "grid_auto_flow": null,
            "grid_auto_rows": null,
            "grid_column": null,
            "grid_gap": null,
            "grid_row": null,
            "grid_template_areas": null,
            "grid_template_columns": null,
            "grid_template_rows": null,
            "height": null,
            "justify_content": null,
            "justify_items": null,
            "left": null,
            "margin": null,
            "max_height": null,
            "max_width": null,
            "min_height": null,
            "min_width": null,
            "object_fit": null,
            "object_position": null,
            "order": null,
            "overflow": null,
            "overflow_x": null,
            "overflow_y": null,
            "padding": null,
            "right": null,
            "top": null,
            "visibility": null,
            "width": null
          }
        },
        "50068c22edc046278dfe2511ca05a826": {
          "model_module": "@jupyter-widgets/controls",
          "model_name": "DescriptionStyleModel",
          "model_module_version": "1.5.0",
          "state": {
            "_model_module": "@jupyter-widgets/controls",
            "_model_module_version": "1.5.0",
            "_model_name": "DescriptionStyleModel",
            "_view_count": null,
            "_view_module": "@jupyter-widgets/base",
            "_view_module_version": "1.2.0",
            "_view_name": "StyleView",
            "description_width": ""
          }
        },
        "7db8817c75594fe882a3d2786e94db16": {
          "model_module": "@jupyter-widgets/base",
          "model_name": "LayoutModel",
          "model_module_version": "1.2.0",
          "state": {
            "_model_module": "@jupyter-widgets/base",
            "_model_module_version": "1.2.0",
            "_model_name": "LayoutModel",
            "_view_count": null,
            "_view_module": "@jupyter-widgets/base",
            "_view_module_version": "1.2.0",
            "_view_name": "LayoutView",
            "align_content": null,
            "align_items": null,
            "align_self": null,
            "border": null,
            "bottom": null,
            "display": null,
            "flex": null,
            "flex_flow": null,
            "grid_area": null,
            "grid_auto_columns": null,
            "grid_auto_flow": null,
            "grid_auto_rows": null,
            "grid_column": null,
            "grid_gap": null,
            "grid_row": null,
            "grid_template_areas": null,
            "grid_template_columns": null,
            "grid_template_rows": null,
            "height": null,
            "justify_content": null,
            "justify_items": null,
            "left": null,
            "margin": null,
            "max_height": null,
            "max_width": null,
            "min_height": null,
            "min_width": null,
            "object_fit": null,
            "object_position": null,
            "order": null,
            "overflow": null,
            "overflow_x": null,
            "overflow_y": null,
            "padding": null,
            "right": null,
            "top": null,
            "visibility": null,
            "width": null
          }
        },
        "43835957b5ab4b86a32a15f57224b7fb": {
          "model_module": "@jupyter-widgets/controls",
          "model_name": "ProgressStyleModel",
          "model_module_version": "1.5.0",
          "state": {
            "_model_module": "@jupyter-widgets/controls",
            "_model_module_version": "1.5.0",
            "_model_name": "ProgressStyleModel",
            "_view_count": null,
            "_view_module": "@jupyter-widgets/base",
            "_view_module_version": "1.2.0",
            "_view_name": "StyleView",
            "bar_color": null,
            "description_width": ""
          }
        },
        "0f297433ab54419f97b9cb9ce2b5de71": {
          "model_module": "@jupyter-widgets/base",
          "model_name": "LayoutModel",
          "model_module_version": "1.2.0",
          "state": {
            "_model_module": "@jupyter-widgets/base",
            "_model_module_version": "1.2.0",
            "_model_name": "LayoutModel",
            "_view_count": null,
            "_view_module": "@jupyter-widgets/base",
            "_view_module_version": "1.2.0",
            "_view_name": "LayoutView",
            "align_content": null,
            "align_items": null,
            "align_self": null,
            "border": null,
            "bottom": null,
            "display": null,
            "flex": null,
            "flex_flow": null,
            "grid_area": null,
            "grid_auto_columns": null,
            "grid_auto_flow": null,
            "grid_auto_rows": null,
            "grid_column": null,
            "grid_gap": null,
            "grid_row": null,
            "grid_template_areas": null,
            "grid_template_columns": null,
            "grid_template_rows": null,
            "height": null,
            "justify_content": null,
            "justify_items": null,
            "left": null,
            "margin": null,
            "max_height": null,
            "max_width": null,
            "min_height": null,
            "min_width": null,
            "object_fit": null,
            "object_position": null,
            "order": null,
            "overflow": null,
            "overflow_x": null,
            "overflow_y": null,
            "padding": null,
            "right": null,
            "top": null,
            "visibility": null,
            "width": null
          }
        },
        "2e5dda219fa74b4aabc2797ce88f47fb": {
          "model_module": "@jupyter-widgets/controls",
          "model_name": "DescriptionStyleModel",
          "model_module_version": "1.5.0",
          "state": {
            "_model_module": "@jupyter-widgets/controls",
            "_model_module_version": "1.5.0",
            "_model_name": "DescriptionStyleModel",
            "_view_count": null,
            "_view_module": "@jupyter-widgets/base",
            "_view_module_version": "1.2.0",
            "_view_name": "StyleView",
            "description_width": ""
          }
        }
      }
    }
  },
  "nbformat": 4,
  "nbformat_minor": 5
}